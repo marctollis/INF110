{
 "cells": [
  {
   "cell_type": "code",
   "execution_count": 2,
   "metadata": {},
   "outputs": [
    {
     "name": "stdout",
     "output_type": "stream",
     "text": [
      "!dlroW olleH\n",
      ".noitisop yb retemarap a gnissap fo elpmaxe na si sihT\n",
      ".eman yb retemarap a gnissap fo elpmaxe na si sihT\n",
      "[5, 4, 3, 2, 1]\n"
     ]
    }
   ],
   "source": [
    "# This is an example of how to set up a function.  It includes the \"def\" keyword, a name, and a \n",
    "#  parameter with a default value.  This function simply prints the parameter in reverse.\n",
    "def example_function(input_value='Hello World!'):\n",
    "    # Syntax for reversing a list\n",
    "    print(input_value[::-1])\n",
    "    \n",
    "# Note that if we don't supply a value for the parameter, the function uses the default value.\n",
    "example_function()\n",
    "\n",
    "# By default, parameters are assigned in the same order that they are specified.\n",
    "example_function(\"This is an example of passing a parameter by position.\")\n",
    "\n",
    "# We can also specify the name of the variable to which we want to assign a value.\n",
    "example_function(input_value=\"This is an example of passing a parameter by name.\")\n",
    "\n",
    "# Note that we don't have to stick with any particular data type here, but the success of our function depends\n",
    "#  on passing an iterable / subscriptable type like a list or a string.\n",
    "example_function([1,2,3,4,5])"
   ]
  },
  {
   "cell_type": "code",
   "execution_count": 3,
   "metadata": {},
   "outputs": [],
   "source": [
    "# Unlike the function above, this function uses the \"return\" keyword.  The return keyword\n",
    "#  ends the function by returning a value, and nothing within the same conditional branch can occur\n",
    "#  after a return statement.\n",
    "\n",
    "def function_with_output():\n",
    "    return 42"
   ]
  },
  {
   "cell_type": "code",
   "execution_count": 4,
   "metadata": {},
   "outputs": [
    {
     "name": "stdout",
     "output_type": "stream",
     "text": [
      "!dlroW olleH\n",
      "42\n",
      "None\n"
     ]
    }
   ],
   "source": [
    "#  Calling two functions and assigning the output to variables a and b.\n",
    "a = function_with_output()\n",
    "b = example_function()\n",
    "\n",
    "#  Printing the output of the two functions.  Since the first function has output (has a return statement),\n",
    "#   it is stored in the variable.  The second function doesn't have a return statement, so its return value / output\n",
    "#   is simply \"None.\"\n",
    "print(a)\n",
    "print(b)"
   ]
  },
  {
   "cell_type": "code",
   "execution_count": 5,
   "metadata": {},
   "outputs": [
    {
     "ename": "TypeError",
     "evalue": "'int' object is not subscriptable",
     "output_type": "error",
     "traceback": [
      "\u001b[0;31m---------------------------------------------------------------------------\u001b[0m",
      "\u001b[0;31mTypeError\u001b[0m                                 Traceback (most recent call last)",
      "\u001b[0;32m<ipython-input-5-4be72dda2a9f>\u001b[0m in \u001b[0;36m<module>\u001b[0;34m\u001b[0m\n\u001b[1;32m      1\u001b[0m \u001b[0;31m#  We get an error here!  Explain what's going wrong by editing the text cell below.\u001b[0m\u001b[0;34m\u001b[0m\u001b[0;34m\u001b[0m\u001b[0;34m\u001b[0m\u001b[0m\n\u001b[0;32m----> 2\u001b[0;31m \u001b[0mexample_function\u001b[0m\u001b[0;34m(\u001b[0m\u001b[0;36m2\u001b[0m\u001b[0;34m)\u001b[0m\u001b[0;34m\u001b[0m\u001b[0;34m\u001b[0m\u001b[0m\n\u001b[0m",
      "\u001b[0;32m<ipython-input-2-afdd145ef7a1>\u001b[0m in \u001b[0;36mexample_function\u001b[0;34m(input_value)\u001b[0m\n\u001b[1;32m      3\u001b[0m \u001b[0;32mdef\u001b[0m \u001b[0mexample_function\u001b[0m\u001b[0;34m(\u001b[0m\u001b[0minput_value\u001b[0m\u001b[0;34m=\u001b[0m\u001b[0;34m'Hello World!'\u001b[0m\u001b[0;34m)\u001b[0m\u001b[0;34m:\u001b[0m\u001b[0;34m\u001b[0m\u001b[0;34m\u001b[0m\u001b[0m\n\u001b[1;32m      4\u001b[0m     \u001b[0;31m# Syntax for reversing a list\u001b[0m\u001b[0;34m\u001b[0m\u001b[0;34m\u001b[0m\u001b[0;34m\u001b[0m\u001b[0m\n\u001b[0;32m----> 5\u001b[0;31m     \u001b[0mprint\u001b[0m\u001b[0;34m(\u001b[0m\u001b[0minput_value\u001b[0m\u001b[0;34m[\u001b[0m\u001b[0;34m:\u001b[0m\u001b[0;34m:\u001b[0m\u001b[0;34m-\u001b[0m\u001b[0;36m1\u001b[0m\u001b[0;34m]\u001b[0m\u001b[0;34m)\u001b[0m\u001b[0;34m\u001b[0m\u001b[0;34m\u001b[0m\u001b[0m\n\u001b[0m\u001b[1;32m      6\u001b[0m \u001b[0;34m\u001b[0m\u001b[0m\n\u001b[1;32m      7\u001b[0m \u001b[0;31m# Note that if we don't supply a value for the parameter, the function uses the default value.\u001b[0m\u001b[0;34m\u001b[0m\u001b[0;34m\u001b[0m\u001b[0;34m\u001b[0m\u001b[0m\n",
      "\u001b[0;31mTypeError\u001b[0m: 'int' object is not subscriptable"
     ]
    }
   ],
   "source": [
    "#  We get an error here!  Explain what's going wrong by editing the text cell below.\n",
    "example_function(2)"
   ]
  },
  {
   "cell_type": "markdown",
   "metadata": {},
   "source": [
    "**Question \\#1**\n",
    "\n",
    "Explain why we get an error in the cell above.\n",
    "\n",
    "we get an error because we are trying to pass an integer to the function. A function is required to have a data type like a string or list.\n"
   ]
  },
  {
   "cell_type": "markdown",
   "metadata": {},
   "source": [
    "**Question \\#2**\n",
    "\n",
    "Defining a function and calling a function are very different actions.  Explain the difference.\n",
    "\n",
    "When you define a function you put it in a def(), and that becomes the header of your code, \n",
    "unlike calling a function you would use for instance x= to call a function"
   ]
  },
  {
   "cell_type": "markdown",
   "metadata": {},
   "source": [
    "**Question \\#3**\n",
    "\n",
    "Complete the function definition below."
   ]
  },
  {
   "cell_type": "code",
   "execution_count": 6,
   "metadata": {},
   "outputs": [
    {
     "name": "stdout",
     "output_type": "stream",
     "text": [
      "45\n"
     ]
    }
   ],
   "source": [
    "def sum_of_two_numbers(num1, num2):\n",
    "\n",
    "    return num1 + num2\n",
    "\n",
    "output = sum_of_two_numbers(15,30)\n",
    "\n",
    "print(output)"
   ]
  },
  {
   "cell_type": "markdown",
   "metadata": {},
   "source": [
    "**Question \\#4**\n",
    "\n",
    "Call the sum_of_two_numbers function that you defined."
   ]
  },
  {
   "cell_type": "code",
   "execution_count": 7,
   "metadata": {},
   "outputs": [
    {
     "name": "stdout",
     "output_type": "stream",
     "text": [
      "45\n"
     ]
    }
   ],
   "source": [
    "x = sum_of_two_numbers\n",
    "print(output)"
   ]
  },
  {
   "cell_type": "markdown",
   "metadata": {},
   "source": [
    "**Question \\#5**\n",
    "\n",
    "I'm trying to calculate the product of a list, but I can't seem to get any output from the function!\n",
    "What am I doing wrong?"
   ]
  },
  {
   "cell_type": "code",
   "execution_count": 8,
   "metadata": {},
   "outputs": [],
   "source": [
    "def prod(input_list):\n",
    "    output = 1\n",
    "    # This is a loop! It walks through an iterable data type like a list such that \"item\" takes on each value\n",
    "    #  in whatever iterable is provided.  This is shorthand for saying item = input_list[0], performing a calculation,\n",
    "    #  then item = input_list[1], performing a calculation, etc.  Keep in mind that any operation within the indented\n",
    "    #  block will be repeated every time we iterate through the for loop.\n",
    "    for item in input_list:\n",
    "        output = output * item\n",
    "    \n",
    "    return(prod([1,2,3,4,5]))\n"
   ]
  },
  {
   "cell_type": "raw",
   "metadata": {},
   "source": [
    "You are this error because instead of saying return at at the end of the code, the print statement was used."
   ]
  },
  {
   "cell_type": "code",
   "execution_count": null,
   "metadata": {},
   "outputs": [],
   "source": []
  }
 ],
 "metadata": {
  "kernelspec": {
   "display_name": "Python 3",
   "language": "python",
   "name": "python3"
  },
  "language_info": {
   "codemirror_mode": {
    "name": "ipython",
    "version": 3
   },
   "file_extension": ".py",
   "mimetype": "text/x-python",
   "name": "python",
   "nbconvert_exporter": "python",
   "pygments_lexer": "ipython3",
   "version": "3.8.8"
  }
 },
 "nbformat": 4,
 "nbformat_minor": 2
}
