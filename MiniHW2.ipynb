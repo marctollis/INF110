{
 "cells": [
  {
   "cell_type": "code",
   "execution_count": 17,
   "metadata": {},
   "outputs": [],
   "source": [
    "# Remember to import any libraries that you need!\n",
    "from datascience import *\n",
    "import numpy as np"
   ]
  },
  {
   "cell_type": "code",
   "execution_count": 11,
   "metadata": {},
   "outputs": [
    {
     "name": "stdout",
     "output_type": "stream",
     "text": [
      "The condition is true!\n",
      "Math still works\n"
     ]
    }
   ],
   "source": [
    "# This is an \"if statement,\" or \"conditional statement,\" and the logic is only evaluated if the condition is true\n",
    "some_condition = True\n",
    "if some_condition:\n",
    "    print(\"The condition is true!\")\n",
    "    \n",
    "# You can also test the inverse of the condition using the \"not\" keyword\n",
    "if not some_condition:\n",
    "    print(\"The condition is false!\")\n",
    "    \n",
    "# There's no need to assign the condition to a variable! Python will evaluate your expressions for you\n",
    "#  Remember how '==' returns a boolean value?\n",
    "if 1 == 1:\n",
    "    print(\"Math still works\")\n",
    "if 1 == 2:\n",
    "    print(\"Math is broken\")"
   ]
  },
  {
   "cell_type": "code",
   "execution_count": 4,
   "metadata": {},
   "outputs": [
    {
     "name": "stdout",
     "output_type": "stream",
     "text": [
      "Neither condition is true!\n"
     ]
    }
   ],
   "source": [
    "# You can chain conditions together in an if statement with \"and\" and \"or\"\n",
    "some_condition = True\n",
    "some_other_condition = False\n",
    "\n",
    "# This tests that 'both' conditions are true\n",
    "if some_condition and some_other_condition:\n",
    "    print(\"Both conditions are true!\")\n",
    "\n",
    "# This tests that 'at least' one condition is true, but also succeeds if 'both' values are true\n",
    "if some_condition or some_other_condition:\n",
    "    print(\"One condition is true!\")\n",
    "\n",
    "\n",
    "    \n",
    "    \n",
    "# Instead of writing a brand new \"if statement\" every time we have a new condition, we can\n",
    "#  chain them together using \"if, elif, else\".  The rules are that for each \"conditional\" statement:\n",
    "#  You must have exactly 1 \"if\" case\n",
    "#  You may have 0 to infinite \"elif\" case\n",
    "#  You may have 0 or one \"else\" cases\n",
    "\n",
    "# An \"if\" is your basic use case.  If the condition is true, the logic will be evaluated.\n",
    "# An \"elif\" (short for else if) will only be tested if the base \"if\" case was false and if each of the preceeding\n",
    "#   \"elif\"s were false\n",
    "# An \"else\" statement contains logic for \"if all other cases fail.\"\n",
    "if some_condition and some_other_condition:\n",
    "    print(\"Both conditions are true!\")\n",
    "elif some_condition or some_other_condition:\n",
    "    print(\"One condition is true!\")\n",
    "else:\n",
    "    print(\"Neither condition is true!\")"
   ]
  },
  {
   "cell_type": "code",
   "execution_count": 15,
   "metadata": {},
   "outputs": [
    {
     "name": "stdout",
     "output_type": "stream",
     "text": [
      "[1, 2, 3, 4] evaluates to True!\n",
      "[] evaluates to False!\n",
      "0 evaluates to False!\n",
      "1 evaluates to True!\n",
      "Some string value evaluates to True!\n",
      "  evaluates to True!\n",
      "[0] evaluates to True!\n"
     ]
    }
   ],
   "source": [
    "# Python is a little bit weird, and everything has either a True or False value assigned to it.\n",
    "#  These refer to the \"truthiness\" or \"falsiness\" of the value.  Test a few of them out!\n",
    "\n",
    "truthiness_test_vals = [[1,2,3,4],[],0,1, \"Some string value\", \"\", [0]]\n",
    "\n",
    "for value in truthiness_test_vals:\n",
    "    if value:\n",
    "        print(f'{str(value)} evaluates to True!')\n",
    "    else:\n",
    "        print(f'{str(value)} evaluates to False!')\n",
    "        \n",
    "# As a general rule, if a variable contains a non-zero or non-empty value, it is true."
   ]
  },
  {
   "cell_type": "code",
   "execution_count": 90,
   "metadata": {},
   "outputs": [
    {
     "data": {
      "text/plain": [
       "array([8, 1, 1, 6, 7, 5, 8, 8, 0, 6])"
      ]
     },
     "execution_count": 90,
     "metadata": {},
     "output_type": "execute_result"
    }
   ],
   "source": [
    "# From your reading, you'll see that this generates 10 random integers between 0 (inclusive) and 10 (exclusive)\n",
    "random_ints = np.random.choice(10,10)\n",
    "random_ints"
   ]
  },
  {
   "cell_type": "code",
   "execution_count": 51,
   "metadata": {},
   "outputs": [
    {
     "data": {
      "text/plain": [
       "array([0.63106524, 0.71424123, 0.76686923, 0.69956814, 0.12234414,\n",
       "       0.09163432, 0.48562136, 0.92960279, 0.57369018, 0.99323854])"
      ]
     },
     "execution_count": 51,
     "metadata": {},
     "output_type": "execute_result"
    }
   ],
   "source": [
    "# Similarly, this generates random floats between 0 and 1. \n",
    "#  The parameter dictates the number of random floats you get back\n",
    "random_floats = np.random.random(10)\n",
    "random_floats"
   ]
  },
  {
   "cell_type": "code",
   "execution_count": 91,
   "metadata": {},
   "outputs": [
    {
     "name": "stdout",
     "output_type": "stream",
     "text": [
      "50\n",
      "Some high, some low\n"
     ]
    }
   ],
   "source": [
    "print(sum(random_ints))\n",
    "if sum(random_ints) < 30:\n",
    "    print(\"Mostly low numbers\")\n",
    "elif sum(random_ints) >= 30 and sum(random_ints) <60:\n",
    "    print(\"Some high, some low\")\n",
    "else:\n",
    "    print(\"Mostly high numbers\")"
   ]
  },
  {
   "cell_type": "markdown",
   "metadata": {},
   "source": [
    "# Question 1:\n",
    "Create two variables, (first_num and second_num), and assign them random values (ints or floats -- it doesn't matter).  Use if statements to compare the values and output a message that indicates the largest value.\n",
    "\n",
    "I.e. if first_num == 10 and second_num = 1, you should get a message like \"first number is greater!\""
   ]
  },
  {
   "cell_type": "code",
   "execution_count": null,
   "metadata": {},
   "outputs": [],
   "source": [
    "# Your code here"
   ]
  },
  {
   "cell_type": "markdown",
   "metadata": {},
   "source": [
    "# Question 2:\n",
    "Consider the following code.  Even though \"num\" is less than 2, we're still getting the message \"less than 10\" every time.  Explain why."
   ]
  },
  {
   "cell_type": "code",
   "execution_count": 94,
   "metadata": {},
   "outputs": [
    {
     "name": "stdout",
     "output_type": "stream",
     "text": [
      "Less than 10\n"
     ]
    }
   ],
   "source": [
    "num = 1\n",
    "if num < 10:\n",
    "    print(\"Less than 10\")\n",
    "elif num < 5:\n",
    "    print(\"Less than 5\")\n",
    "elif num < 2:\n",
    "    print(\"Less than 2\")"
   ]
  },
  {
   "cell_type": "markdown",
   "metadata": {},
   "source": [
    "Your text here (double click to edit the markdown)"
   ]
  },
  {
   "cell_type": "markdown",
   "metadata": {},
   "source": [
    "# Question 3:\n",
    "In your last mini homework (and in this week's reading) we saw a \"for loop,\" which is used to iterate through any iterable item (like a list, string, etc.).  Create a list of random floats, then use a for loop to print each value individually"
   ]
  },
  {
   "cell_type": "code",
   "execution_count": null,
   "metadata": {},
   "outputs": [],
   "source": []
  },
  {
   "cell_type": "markdown",
   "metadata": {},
   "source": [
    "# Question 4:\n",
    "Perform a simulation in which you roll a die 10 times.  Store the output in an array called \"rolls\""
   ]
  },
  {
   "cell_type": "code",
   "execution_count": 104,
   "metadata": {},
   "outputs": [],
   "source": [
    "# Replace the ellipses with your code\n",
    "rolls = ..."
   ]
  },
  {
   "cell_type": "code",
   "execution_count": null,
   "metadata": {},
   "outputs": [],
   "source": []
  }
 ],
 "metadata": {
  "kernelspec": {
   "display_name": "Python 3",
   "language": "python",
   "name": "python3"
  },
  "language_info": {
   "codemirror_mode": {
    "name": "ipython",
    "version": 3
   },
   "file_extension": ".py",
   "mimetype": "text/x-python",
   "name": "python",
   "nbconvert_exporter": "python",
   "pygments_lexer": "ipython3",
   "version": "3.6.7"
  }
 },
 "nbformat": 4,
 "nbformat_minor": 2
}
