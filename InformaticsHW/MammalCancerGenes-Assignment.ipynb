{
 "cells": [
  {
   "cell_type": "code",
   "execution_count": 191,
   "id": "fafafbad",
   "metadata": {},
   "outputs": [],
   "source": [
    "from datascience import *\n",
    "%matplotlib inline\n",
    "import matplotlib.pyplot as plots\n",
    "plots.style.use('fivethirtyeight')\n",
    "import numpy as np"
   ]
  },
  {
   "cell_type": "markdown",
   "id": "5faea292",
   "metadata": {},
   "source": [
    "# Life History Traits and Cancer Resistance in Mammals\n",
    "\n",
    "The data is adapted from Tollis et al. (2020) <i> The Evolution of Human Cancer Gene Duplications Across Mammals</i>. Please note \"adapted\" means that the underlying data and the analyses here are slightly different that what was used in the study, so we don't expect the exact same answers."
   ]
  },
  {
   "cell_type": "markdown",
   "id": "53dcaa6c",
   "metadata": {},
   "source": [
    "Let's load the table with life history data and cancer gene copy numbers for 62 mamamls."
   ]
  },
  {
   "cell_type": "code",
   "execution_count": 192,
   "id": "e861f72c",
   "metadata": {},
   "outputs": [
    {
     "data": {
      "text/html": [
       "<table border=\"1\" class=\"dataframe\">\n",
       "    <thead>\n",
       "        <tr>\n",
       "            <th>Common_Name</th> <th>Genus_Species</th> <th>Superorder</th> <th>Order</th> <th>Body_Mass_g</th> <th>Log_Body_Mass</th> <th>Longevity_y</th> <th>Log_Longevity</th> <th>Longevity_Quotient</th> <th>Total_TSGs</th> <th>Total_TSGs_Normalized</th> <th>Total_Oncogenes</th> <th>Total_Oncogenes_Normalized</th> <th>GS_TSG_Numbers</th> <th>GS_TSG_normalized</th> <th>Somatic_normalized</th> <th>Germline_normalized</th> <th>Oncogene_copies</th> <th>Oncogene_normalized</th>\n",
       "        </tr>\n",
       "    </thead>\n",
       "    <tbody>\n",
       "        <tr>\n",
       "            <td>African Savanna Elephant</td> <td>Loxodonta_africana      </td> <td>Afrotheria    </td> <td>Proboscidea </td> <td>4.5e+06    </td> <td>6.65321      </td> <td>80         </td> <td>1.90309      </td> <td>0.976974          </td> <td>387       </td> <td>1.65385              </td> <td>465            </td> <td>2.03947                   </td> <td>55            </td> <td>1.27907          </td> <td>1.83333           </td> <td>1.2069             </td> <td>228            </td> <td>2.03947            </td>\n",
       "        </tr>\n",
       "        <tr>\n",
       "            <td>Alpaca                  </td> <td>Vicugna_pacos           </td> <td>Laurasiatheria</td> <td>Artiodactyla</td> <td>62000      </td> <td>4.79239      </td> <td>25.8       </td> <td>1.41162      </td> <td>0.978815          </td> <td>366       </td> <td>1.5641               </td> <td>480            </td> <td>2.11454                   </td> <td>54            </td> <td>1.25581          </td> <td>1.74375           </td> <td>1.06452            </td> <td>227            </td> <td>2.11454            </td>\n",
       "        </tr>\n",
       "        <tr>\n",
       "            <td>American Bison          </td> <td>Bison_bison             </td> <td>Laurasiatheria</td> <td>Artiodactyla</td> <td>624577     </td> <td>5.79559      </td> <td>33.5       </td> <td>1.52504      </td> <td>0.889322          </td> <td>442       </td> <td>1.90517              </td> <td>498            </td> <td>2.21333                   </td> <td>51            </td> <td>1.2439           </td> <td>2.24528           </td> <td>1.0625             </td> <td>225            </td> <td>2.21333            </td>\n",
       "        </tr>\n",
       "        <tr>\n",
       "            <td>Antarctic Fur Seal      </td> <td>Arctocephalus_gazella   </td> <td>Laurasiatheria</td> <td>Carnivora   </td> <td>67979.4    </td> <td>4.83238      </td> <td>30.6       </td> <td>1.48572      </td> <td>1.02249           </td> <td>420       </td> <td>1.80258              </td> <td>507            </td> <td>2.27354                   </td> <td>58            </td> <td>1.38095          </td> <td>2                 </td> <td>1.375              </td> <td>223            </td> <td>2.27354            </td>\n",
       "        </tr>\n",
       "        <tr>\n",
       "            <td>Antarctic Minke Whale   </td> <td>Balaenoptera_bonaerensis</td> <td>Laurasiatheria</td> <td>Cetacea     </td> <td>7.5e+06    </td> <td>6.87506      </td> <td>50         </td> <td>1.69897      </td> <td>0.927838          </td> <td>399       </td> <td>1.84722              </td> <td>437            </td> <td>2.03256                   </td> <td>54            </td> <td>1.42105          </td> <td>2.09655           </td> <td>1.24242            </td> <td>215            </td> <td>2.03256            </td>\n",
       "        </tr>\n",
       "        <tr>\n",
       "            <td>Arabian Camel           </td> <td>Camelus_dromedarius     </td> <td>Laurasiatheria</td> <td>Artiodactyla</td> <td>434000     </td> <td>5.63749      </td> <td>40         </td> <td>1.60206      </td> <td>0.958245          </td> <td>372       </td> <td>1.58974              </td> <td>464            </td> <td>2.0262                    </td> <td>56            </td> <td>1.30233          </td> <td>1.77987           </td> <td>1.03125            </td> <td>229            </td> <td>2.0262             </td>\n",
       "        </tr>\n",
       "        <tr>\n",
       "            <td>Bactrian Camel          </td> <td>Camelus_bactrianus      </td> <td>Laurasiatheria</td> <td>Artiodactyla</td> <td>475000     </td> <td>5.67669      </td> <td>40         </td> <td>1.60206      </td> <td>0.952176          </td> <td>358       </td> <td>1.5431               </td> <td>465            </td> <td>2.02174                   </td> <td>52            </td> <td>1.2381           </td> <td>1.72327           </td> <td>1.03226            </td> <td>230            </td> <td>2.02174            </td>\n",
       "        </tr>\n",
       "        <tr>\n",
       "            <td>Beluga Whale            </td> <td>Delphinapterus_leucas   </td> <td>Laurasiatheria</td> <td>Cetacea     </td> <td>1.38e+06   </td> <td>6.13988      </td> <td>40         </td> <td>1.60206      </td> <td>0.88589           </td> <td>442       </td> <td>1.88889              </td> <td>508            </td> <td>2.24779                   </td> <td>57            </td> <td>1.35714          </td> <td>2.16981           </td> <td>1.21212            </td> <td>226            </td> <td>2.24779            </td>\n",
       "        </tr>\n",
       "        <tr>\n",
       "            <td>Black Bear              </td> <td>Ursus_americanus        </td> <td>Laurasiatheria</td> <td>Carnivora   </td> <td>132405     </td> <td>5.1219       </td> <td>34         </td> <td>1.53148      </td> <td>0.999834          </td> <td>403       </td> <td>1.70763              </td> <td>523            </td> <td>2.32444                   </td> <td>64            </td> <td>1.48837          </td> <td>1.89241           </td> <td>1.14706            </td> <td>225            </td> <td>2.32444            </td>\n",
       "        </tr>\n",
       "        <tr>\n",
       "            <td>Bowhead Whale           </td> <td>Balaena_mysticetus      </td> <td>Laurasiatheria</td> <td>Cetacea     </td> <td>8e+07      </td> <td>7.90309      </td> <td>211        </td> <td>2.32428      </td> <td>1.01601           </td> <td>444       </td> <td>1.89744              </td> <td>479            </td> <td>2.12889                   </td> <td>55            </td> <td>1.30952          </td> <td>2.19497           </td> <td>1.21212            </td> <td>225            </td> <td>2.12889            </td>\n",
       "        </tr>\n",
       "    </tbody>\n",
       "</table>\n",
       "<p>... (52 rows omitted)</p>"
      ],
      "text/plain": [
       "Common_Name              | Genus_Species            | Superorder     | Order        | Body_Mass_g | Log_Body_Mass | Longevity_y | Log_Longevity | Longevity_Quotient | Total_TSGs | Total_TSGs_Normalized | Total_Oncogenes | Total_Oncogenes_Normalized | GS_TSG_Numbers | GS_TSG_normalized | Somatic_normalized | Germline_normalized | Oncogene_copies | Oncogene_normalized\n",
       "African Savanna Elephant | Loxodonta_africana       | Afrotheria     | Proboscidea  | 4.5e+06     | 6.65321       | 80          | 1.90309       | 0.976974           | 387        | 1.65385               | 465             | 2.03947                    | 55             | 1.27907           | 1.83333            | 1.2069              | 228             | 2.03947\n",
       "Alpaca                   | Vicugna_pacos            | Laurasiatheria | Artiodactyla | 62000       | 4.79239       | 25.8        | 1.41162       | 0.978815           | 366        | 1.5641                | 480             | 2.11454                    | 54             | 1.25581           | 1.74375            | 1.06452             | 227             | 2.11454\n",
       "American Bison           | Bison_bison              | Laurasiatheria | Artiodactyla | 624577      | 5.79559       | 33.5        | 1.52504       | 0.889322           | 442        | 1.90517               | 498             | 2.21333                    | 51             | 1.2439            | 2.24528            | 1.0625              | 225             | 2.21333\n",
       "Antarctic Fur Seal       | Arctocephalus_gazella    | Laurasiatheria | Carnivora    | 67979.4     | 4.83238       | 30.6        | 1.48572       | 1.02249            | 420        | 1.80258               | 507             | 2.27354                    | 58             | 1.38095           | 2                  | 1.375               | 223             | 2.27354\n",
       "Antarctic Minke Whale    | Balaenoptera_bonaerensis | Laurasiatheria | Cetacea      | 7.5e+06     | 6.87506       | 50          | 1.69897       | 0.927838           | 399        | 1.84722               | 437             | 2.03256                    | 54             | 1.42105           | 2.09655            | 1.24242             | 215             | 2.03256\n",
       "Arabian Camel            | Camelus_dromedarius      | Laurasiatheria | Artiodactyla | 434000      | 5.63749       | 40          | 1.60206       | 0.958245           | 372        | 1.58974               | 464             | 2.0262                     | 56             | 1.30233           | 1.77987            | 1.03125             | 229             | 2.0262\n",
       "Bactrian Camel           | Camelus_bactrianus       | Laurasiatheria | Artiodactyla | 475000      | 5.67669       | 40          | 1.60206       | 0.952176           | 358        | 1.5431                | 465             | 2.02174                    | 52             | 1.2381            | 1.72327            | 1.03226             | 230             | 2.02174\n",
       "Beluga Whale             | Delphinapterus_leucas    | Laurasiatheria | Cetacea      | 1.38e+06    | 6.13988       | 40          | 1.60206       | 0.88589            | 442        | 1.88889               | 508             | 2.24779                    | 57             | 1.35714           | 2.16981            | 1.21212             | 226             | 2.24779\n",
       "Black Bear               | Ursus_americanus         | Laurasiatheria | Carnivora    | 132405      | 5.1219        | 34          | 1.53148       | 0.999834           | 403        | 1.70763               | 523             | 2.32444                    | 64             | 1.48837           | 1.89241            | 1.14706             | 225             | 2.32444\n",
       "Bowhead Whale            | Balaena_mysticetus       | Laurasiatheria | Cetacea      | 8e+07       | 7.90309       | 211         | 2.32428       | 1.01601            | 444        | 1.89744               | 479             | 2.12889                    | 55             | 1.30952           | 2.19497            | 1.21212             | 225             | 2.12889\n",
       "... (52 rows omitted)"
      ]
     },
     "execution_count": 192,
     "metadata": {},
     "output_type": "execute_result"
    }
   ],
   "source": [
    "tsgs = Table().read_table('species_data.csv')\n",
    "tsgs"
   ]
  },
  {
   "cell_type": "markdown",
   "id": "42b84dda",
   "metadata": {},
   "source": [
    "Is body mass related to lifespan in mammals?"
   ]
  },
  {
   "cell_type": "code",
   "execution_count": 193,
   "id": "f80e7947",
   "metadata": {},
   "outputs": [
    {
     "data": {
      "image/png": "[encoded data removed]",
      "text/plain": [
       "<Figure size 360x360 with 1 Axes>"
      ]
     },
     "metadata": {},
     "output_type": "display_data"
    }
   ],
   "source": [
    "tsgs.scatter('Body_Mass_g', 'Longevity_y')"
   ]
  },
  {
   "cell_type": "markdown",
   "id": "e7891231",
   "metadata": {},
   "source": [
    "Seems like it is, but there are some very large and long lived mammals, and some really tiny ones, so it is difficult to visualize. \n",
    "\n",
    "Often when continuous variables range across very wide values, scientists use the log10 of the variables to visualize the relationship."
   ]
  },
  {
   "cell_type": "code",
   "execution_count": 54,
   "id": "395540c6",
   "metadata": {},
   "outputs": [
    {
     "data": {
      "image/png": "[encoded data removed]",
      "text/plain": [
       "<Figure size 360x360 with 1 Axes>"
      ]
     },
     "metadata": {},
     "output_type": "display_data"
    }
   ],
   "source": [
    "tsgs.scatter('Log_Body_Mass', 'Log_Longevity')"
   ]
  },
  {
   "cell_type": "markdown",
   "id": "3b36993e",
   "metadata": {},
   "source": [
    "Which mammal is the largest in our dataset?"
   ]
  },
  {
   "cell_type": "code",
   "execution_count": 194,
   "id": "8152d685",
   "metadata": {},
   "outputs": [
    {
     "data": {
      "text/html": [
       "<table border=\"1\" class=\"dataframe\">\n",
       "    <thead>\n",
       "        <tr>\n",
       "            <th>Common_Name</th> <th>Genus_Species</th> <th>Superorder</th> <th>Order</th> <th>Body_Mass_g</th> <th>Log_Body_Mass</th> <th>Longevity_y</th> <th>Log_Longevity</th> <th>Longevity_Quotient</th> <th>Total_TSGs</th> <th>Total_TSGs_Normalized</th> <th>Total_Oncogenes</th> <th>Total_Oncogenes_Normalized</th> <th>GS_TSG_Numbers</th> <th>GS_TSG_normalized</th> <th>Somatic_normalized</th> <th>Germline_normalized</th> <th>Oncogene_copies</th> <th>Oncogene_normalized</th>\n",
       "        </tr>\n",
       "    </thead>\n",
       "    <tbody>\n",
       "        <tr>\n",
       "            <td>Bowhead Whale        </td> <td>Balaena_mysticetus      </td> <td>Laurasiatheria</td> <td>Cetacea</td> <td>8e+07      </td> <td>7.90309      </td> <td>211        </td> <td>2.32428      </td> <td>1.01601           </td> <td>444       </td> <td>1.89744              </td> <td>479            </td> <td>2.12889                   </td> <td>55            </td> <td>1.30952          </td> <td>2.19497           </td> <td>1.21212            </td> <td>225            </td> <td>2.12889            </td>\n",
       "        </tr>\n",
       "        <tr>\n",
       "            <td>Humpback Whale       </td> <td>Megaptera_novaeangliae  </td> <td>Laurasiatheria</td> <td>Cetacea</td> <td>3e+07      </td> <td>7.47712      </td> <td>95         </td> <td>1.97772      </td> <td>0.910604          </td> <td>421       </td> <td>1.79915              </td> <td>497            </td> <td>2.18943                   </td> <td>57            </td> <td>1.32558          </td> <td>2.05031           </td> <td>1.1875             </td> <td>227            </td> <td>2.18943            </td>\n",
       "        </tr>\n",
       "        <tr>\n",
       "            <td>Grey Whale           </td> <td>Eschrichtius_robustus   </td> <td>Laurasiatheria</td> <td>Cetacea</td> <td>2.73e+07   </td> <td>7.43616      </td> <td>77         </td> <td>1.88649      </td> <td>0.873073          </td> <td>446       </td> <td>1.91416              </td> <td>523            </td> <td>2.30396                   </td> <td>60            </td> <td>1.42857          </td> <td>2.17722           </td> <td>1.27273            </td> <td>227            </td> <td>2.30396            </td>\n",
       "        </tr>\n",
       "        <tr>\n",
       "            <td>Sperm Whale          </td> <td>Physeter_catodon        </td> <td>Laurasiatheria</td> <td>Cetacea</td> <td>1.01e+07   </td> <td>7.00432      </td> <td>100        </td> <td>2            </td> <td>0.978773          </td> <td>441       </td> <td>1.8766               </td> <td>489            </td> <td>2.14474                   </td> <td>57            </td> <td>1.35714          </td> <td>2.15094           </td> <td>1.23529            </td> <td>228            </td> <td>2.14474            </td>\n",
       "        </tr>\n",
       "        <tr>\n",
       "            <td>Antarctic Minke Whale</td> <td>Balaenoptera_bonaerensis</td> <td>Laurasiatheria</td> <td>Cetacea</td> <td>7.5e+06    </td> <td>6.87506      </td> <td>50         </td> <td>1.69897      </td> <td>0.927838          </td> <td>399       </td> <td>1.84722              </td> <td>437            </td> <td>2.03256                   </td> <td>54            </td> <td>1.42105          </td> <td>2.09655           </td> <td>1.24242            </td> <td>215            </td> <td>2.03256            </td>\n",
       "        </tr>\n",
       "    </tbody>\n",
       "</table>\n",
       "<p>... (57 rows omitted)</p>"
      ],
      "text/plain": [
       "<IPython.core.display.HTML object>"
      ]
     },
     "metadata": {},
     "output_type": "display_data"
    }
   ],
   "source": [
    "tsgs.sort('Body_Mass_g', descending=True).show(5)"
   ]
  },
  {
   "cell_type": "markdown",
   "id": "c61c5c34",
   "metadata": {},
   "source": [
    "Which mammals are the smallest?"
   ]
  },
  {
   "cell_type": "code",
   "execution_count": 195,
   "id": "4d179e99",
   "metadata": {},
   "outputs": [
    {
     "data": {
      "text/html": [
       "<table border=\"1\" class=\"dataframe\">\n",
       "    <thead>\n",
       "        <tr>\n",
       "            <th>Common_Name</th> <th>Genus_Species</th> <th>Superorder</th> <th>Order</th> <th>Body_Mass_g</th> <th>Log_Body_Mass</th> <th>Longevity_y</th> <th>Log_Longevity</th> <th>Longevity_Quotient</th> <th>Total_TSGs</th> <th>Total_TSGs_Normalized</th> <th>Total_Oncogenes</th> <th>Total_Oncogenes_Normalized</th> <th>GS_TSG_Numbers</th> <th>GS_TSG_normalized</th> <th>Somatic_normalized</th> <th>Germline_normalized</th> <th>Oncogene_copies</th> <th>Oncogene_normalized</th>\n",
       "        </tr>\n",
       "    </thead>\n",
       "    <tbody>\n",
       "        <tr>\n",
       "            <td>Little Brown Bat</td> <td>Myotis_lucifugus     </td> <td>Laurasiatheria  </td> <td>Chiroptera</td> <td>7.15       </td> <td>0.854306     </td> <td>34         </td> <td>1.53148      </td> <td>2.99232           </td> <td>409       </td> <td>1.78603              </td> <td>567            </td> <td>2.56561                   </td> <td>75            </td> <td>1.82927          </td> <td>1.86452           </td> <td>1.36364            </td> <td>221            </td> <td>2.56561            </td>\n",
       "        </tr>\n",
       "        <tr>\n",
       "            <td>Mouse           </td> <td>Mus_musculus         </td> <td>Euarchontoglires</td> <td>Rodentia  </td> <td>20.5       </td> <td>1.31175      </td> <td>6          </td> <td>0.778151     </td> <td>1.56843           </td> <td>442       </td> <td>1.94714              </td> <td>728            </td> <td>3.29412                   </td> <td>74            </td> <td>1.72093          </td> <td>2.12102           </td> <td>1.2963             </td> <td>221            </td> <td>3.29412            </td>\n",
       "        </tr>\n",
       "        <tr>\n",
       "            <td>Naked Mole Rat  </td> <td>Heterocephalus_glaber</td> <td>Euarchontoglires</td> <td>Rodentia  </td> <td>35         </td> <td>1.54407      </td> <td>28.3       </td> <td>1.45179      </td> <td>2.59582           </td> <td>556       </td> <td>2.38627              </td> <td>756            </td> <td>3.40541                   </td> <td>87            </td> <td>2.02326          </td> <td>2.5125            </td> <td>2.23333            </td> <td>222            </td> <td>3.40541            </td>\n",
       "        </tr>\n",
       "        <tr>\n",
       "            <td>Rat             </td> <td>Rattus_norvegicus    </td> <td>Euarchontoglires</td> <td>Rodentia  </td> <td>280        </td> <td>2.44716      </td> <td>5          </td> <td>0.69897      </td> <td>0.868569          </td> <td>440       </td> <td>1.93833              </td> <td>744            </td> <td>3.36652                   </td> <td>63            </td> <td>1.46512          </td> <td>2.12179           </td> <td>1.64286            </td> <td>221            </td> <td>3.36652            </td>\n",
       "        </tr>\n",
       "        <tr>\n",
       "            <td>Guinea Pig      </td> <td>Cavia_porcellus      </td> <td>Euarchontoglires</td> <td>Rodentia  </td> <td>639.1      </td> <td>2.80557      </td> <td>14.8       </td> <td>1.17026      </td> <td>1.29719           </td> <td>390       </td> <td>1.73333              </td> <td>467            </td> <td>2.11312                   </td> <td>62            </td> <td>1.5122           </td> <td>1.89241           </td> <td>1.11538            </td> <td>221            </td> <td>2.11312            </td>\n",
       "        </tr>\n",
       "    </tbody>\n",
       "</table>\n",
       "<p>... (57 rows omitted)</p>"
      ],
      "text/plain": [
       "<IPython.core.display.HTML object>"
      ]
     },
     "metadata": {},
     "output_type": "display_data"
    }
   ],
   "source": [
    "tsgs.sort('Body_Mass_g', descending=False).show(5)"
   ]
  },
  {
   "cell_type": "markdown",
   "id": "13c71b01",
   "metadata": {},
   "source": [
    "We would like to know if large animals also have very long lives. To do this, we will test for a correlation between body mass and lifespan."
   ]
  },
  {
   "cell_type": "code",
   "execution_count": 196,
   "id": "5a4cf99b",
   "metadata": {},
   "outputs": [],
   "source": [
    "# first we will convert to standard units:\n",
    "def standard_units(xyz):\n",
    "    \"Convert any array of numbers to standard units.\"\n",
    "    return (xyz - np.mean(xyz))/np.std(xyz)  "
   ]
  },
  {
   "cell_type": "code",
   "execution_count": 227,
   "id": "2410c615",
   "metadata": {},
   "outputs": [
    {
     "data": {
      "text/html": [
       "<table border=\"1\" class=\"dataframe\">\n",
       "    <thead>\n",
       "        <tr>\n",
       "            <th>Body_Mass_SU</th> <th>Longevity_SU</th>\n",
       "        </tr>\n",
       "    </thead>\n",
       "    <tbody>\n",
       "        <tr>\n",
       "            <td>0.127565    </td> <td>1.14779     </td>\n",
       "        </tr>\n",
       "        <tr>\n",
       "            <td>-0.26981    </td> <td>-0.568808   </td>\n",
       "        </tr>\n",
       "        <tr>\n",
       "            <td>-0.219437   </td> <td>-0.324937   </td>\n",
       "        </tr>\n",
       "        <tr>\n",
       "            <td>-0.269274   </td> <td>-0.416784   </td>\n",
       "        </tr>\n",
       "        <tr>\n",
       "            <td>0.396183    </td> <td>0.197645    </td>\n",
       "        </tr>\n",
       "        <tr>\n",
       "            <td>-0.236501   </td> <td>-0.119071   </td>\n",
       "        </tr>\n",
       "        <tr>\n",
       "            <td>-0.23283    </td> <td>-0.119071   </td>\n",
       "        </tr>\n",
       "        <tr>\n",
       "            <td>-0.151797   </td> <td>-0.119071   </td>\n",
       "        </tr>\n",
       "        <tr>\n",
       "            <td>-0.263506   </td> <td>-0.309101   </td>\n",
       "        </tr>\n",
       "        <tr>\n",
       "            <td>6.88777     </td> <td>5.29678     </td>\n",
       "        </tr>\n",
       "    </tbody>\n",
       "</table>\n",
       "<p>... (52 rows omitted)</p>"
      ],
      "text/plain": [
       "Body_Mass_SU | Longevity_SU\n",
       "0.127565     | 1.14779\n",
       "-0.26981     | -0.568808\n",
       "-0.219437    | -0.324937\n",
       "-0.269274    | -0.416784\n",
       "0.396183     | 0.197645\n",
       "-0.236501    | -0.119071\n",
       "-0.23283     | -0.119071\n",
       "-0.151797    | -0.119071\n",
       "-0.263506    | -0.309101\n",
       "6.88777      | 5.29678\n",
       "... (52 rows omitted)"
      ]
     },
     "execution_count": 227,
     "metadata": {},
     "output_type": "execute_result"
    }
   ],
   "source": [
    "# we will print a table that contains body mass and longevity in standard units\n",
    "tsgs_SU = Table().with_columns('Body_Mass_SU', standard_units(tsgs.column('Body_Mass_g')),\n",
    "                              'Longevity_SU', standard_units(tsgs.column('Longevity_y')))\n",
    "tsgs_SU"
   ]
  },
  {
   "cell_type": "code",
   "execution_count": 228,
   "id": "59fcb222",
   "metadata": {},
   "outputs": [],
   "source": [
    "# this function will calculate the correlation coefficient of two variables provided in the arguments\n",
    "def correlation(t, label_x, label_y):\n",
    "    return np.mean(standard_units(t.column(label_x))*standard_units(t.column(label_y)))\n"
   ]
  },
  {
   "cell_type": "markdown",
   "id": "c99bf65f",
   "metadata": {},
   "source": [
    "<b>Question 1.</b> In the following cell, provide the arguments to the \"correlation\" function to calculate the correlation coefficient. Then, explain how you interpret the <b>correlation coefficient</b>."
   ]
  },
  {
   "cell_type": "code",
   "execution_count": null,
   "id": "dd084ab3",
   "metadata": {},
   "outputs": [],
   "source": [
    "massLife = ...\n",
    "massLife"
   ]
  },
  {
   "cell_type": "markdown",
   "id": "af3ba823",
   "metadata": {},
   "source": [
    "Enter your written explanation here."
   ]
  },
  {
   "cell_type": "markdown",
   "id": "5691db68",
   "metadata": {},
   "source": [
    "Here is a regression fit line so you can visualize the relationship between body mass and longevity."
   ]
  },
  {
   "cell_type": "code",
   "execution_count": 200,
   "id": "d5c9d100",
   "metadata": {},
   "outputs": [
    {
     "data": {
      "image/png": "[encoded data removed]",
      "text/plain": [
       "<Figure size 360x360 with 1 Axes>"
      ]
     },
     "metadata": {},
     "output_type": "display_data"
    }
   ],
   "source": [
    "tsgs.scatter('Log_Body_Mass', 'Log_Longevity', fit_line=True)"
   ]
  },
  {
   "cell_type": "markdown",
   "id": "dd849dbc",
   "metadata": {},
   "source": [
    "You can see a lot of variation around the line. This means that while body mass and longevity are related, some animals live much longer than other animals with a similar body mass.\n",
    "\n",
    "To measure how much longer a species lives compared to other species it's same size, we calculated the <b>longevity quotient</b>, which essentially is the difference between the observed longevity (in years) and expected longevity (given the regression line above). You don't have to worry about how we calculated this, but it is a column in the data table \"Longevity_Quotient\".\n",
    "\n",
    "<b>Question 2.</b> Draw a scatter plot where Log Body Mass is on the x-axis and Longevity Quotient is on the y-axis."
   ]
  },
  {
   "cell_type": "code",
   "execution_count": null,
   "id": "7101d306",
   "metadata": {},
   "outputs": [],
   "source": [
    "MassVlq = ...\n",
    "MassVlq"
   ]
  },
  {
   "cell_type": "markdown",
   "id": "93769c4e",
   "metadata": {},
   "source": [
    "<b>Question 3.</b> Use the same function as above to calculate the correlation coefficient between Body Mass (in grams) and Longevity Quotient. Explain how to interpret this correlation coefficient."
   ]
  },
  {
   "cell_type": "code",
   "execution_count": null,
   "id": "ac0d77d4",
   "metadata": {},
   "outputs": [],
   "source": [
    "..."
   ]
  },
  {
   "cell_type": "markdown",
   "id": "8ab90499",
   "metadata": {},
   "source": [
    "Enter your written explanation here."
   ]
  },
  {
   "cell_type": "markdown",
   "id": "025a40b3",
   "metadata": {},
   "source": [
    "<b>Question 4a.</b> What species have the highest longevity quotients?\n",
    "Hint: use .sort"
   ]
  },
  {
   "cell_type": "code",
   "execution_count": null,
   "id": "8f1fe3c6",
   "metadata": {},
   "outputs": [],
   "source": [
    "..."
   ]
  },
  {
   "cell_type": "markdown",
   "id": "da028773",
   "metadata": {},
   "source": [
    "<b>Question 4b.</b> What species have the lowest longevity quotients?\n",
    "Hint: use .sort"
   ]
  },
  {
   "cell_type": "code",
   "execution_count": null,
   "id": "22cfcd83",
   "metadata": {},
   "outputs": [],
   "source": [
    "..."
   ]
  },
  {
   "cell_type": "markdown",
   "id": "90a304bb",
   "metadata": {},
   "source": [
    "<b>Quesion 5.</b> Which species have a longevity quotient between 0.97 and 1.03? What does this tell us about these species' relationships between their body mass and lifespan?"
   ]
  },
  {
   "cell_type": "code",
   "execution_count": null,
   "id": "1994d0f9",
   "metadata": {},
   "outputs": [],
   "source": [
    "..."
   ]
  },
  {
   "cell_type": "markdown",
   "id": "226f4086",
   "metadata": {},
   "source": [
    "Provide your written explanation here."
   ]
  },
  {
   "cell_type": "markdown",
   "id": "3ec01127",
   "metadata": {},
   "source": [
    "<b>Question 6.</b> What is the longevity quotient for humans? Can you give an explanation as to why the human LQ is high or low? Full credit if you use numpy functions."
   ]
  },
  {
   "cell_type": "code",
   "execution_count": null,
   "id": "567adc69",
   "metadata": {},
   "outputs": [],
   "source": [
    "..."
   ]
  },
  {
   "cell_type": "markdown",
   "id": "50358621",
   "metadata": {},
   "source": [
    "Provide your written explanation here."
   ]
  },
  {
   "cell_type": "markdown",
   "id": "51056da5",
   "metadata": {},
   "source": [
    "<b>Question 7a.</b> Which animal has the most Total TSGs normalized?"
   ]
  },
  {
   "cell_type": "code",
   "execution_count": null,
   "id": "80e724af",
   "metadata": {},
   "outputs": [],
   "source": [
    "..."
   ]
  },
  {
   "cell_type": "markdown",
   "id": "5a93c890",
   "metadata": {},
   "source": [
    "<b>Question 7b.</b> Which animal has the least Total TSGs normalized?"
   ]
  },
  {
   "cell_type": "code",
   "execution_count": null,
   "id": "b073b2e6",
   "metadata": {},
   "outputs": [],
   "source": [
    "..."
   ]
  },
  {
   "cell_type": "markdown",
   "id": "761abd4d",
   "metadata": {},
   "source": [
    "<b>Question 8a.</b> Use the function above to calculate the correlation coefficient between Total Oncogenes Normalized and Total TSGs Normalized."
   ]
  },
  {
   "cell_type": "code",
   "execution_count": null,
   "id": "01f29902",
   "metadata": {},
   "outputs": [],
   "source": [
    "..."
   ]
  },
  {
   "cell_type": "markdown",
   "id": "317c4131",
   "metadata": {},
   "source": [
    "<b>Question 8b.</b> Draw a scatter plot showing the relationship between Total Oncogenes Normalized and Total TSGs Normalized."
   ]
  },
  {
   "cell_type": "code",
   "execution_count": null,
   "id": "7371ff95",
   "metadata": {},
   "outputs": [],
   "source": [
    "..."
   ]
  },
  {
   "cell_type": "markdown",
   "id": "79f23e3e",
   "metadata": {},
   "source": [
    "<b>Question 9a.</b> Draw a scatter plot showing the relationship between Total Oncogenes Normalized and Total TSGs Normalized."
   ]
  },
  {
   "cell_type": "code",
   "execution_count": null,
   "id": "ce1a86ee",
   "metadata": {},
   "outputs": [],
   "source": [
    "..."
   ]
  },
  {
   "cell_type": "markdown",
   "id": "4525d162",
   "metadata": {},
   "source": [
    "<b>Question 9b.</b> Use the function from above to calculate the correlation coefficient between Longevity Quotient and Total TSGs Normalized."
   ]
  },
  {
   "cell_type": "code",
   "execution_count": null,
   "id": "5b4dea17",
   "metadata": {},
   "outputs": [],
   "source": [
    "..."
   ]
  },
  {
   "cell_type": "markdown",
   "id": "45b796e2",
   "metadata": {},
   "source": [
    "In our study, we learned that if you further parse tumor suppressor genes into those that are mutated in the germline, somatically (meaning in the body as cells divide), or those that are mutated in <b>BOTH</b> germline and soma,that you get some very different answers."
   ]
  },
  {
   "cell_type": "markdown",
   "id": "582ab9ed",
   "metadata": {},
   "source": [
    "In the tsgs table, the column containing the counts for tumor suppressor genes that are mutated in both germline and soma is labelled \"GS_TSG_normalized\"."
   ]
  },
  {
   "cell_type": "markdown",
   "id": "a561568d",
   "metadata": {},
   "source": [
    "<b>Question 10a.</b> Draw a scatter plot showing the relationship between Total Oncogenes Normalized and GS_TSG_normalized."
   ]
  },
  {
   "cell_type": "code",
   "execution_count": null,
   "id": "cc741629",
   "metadata": {},
   "outputs": [],
   "source": [
    "..."
   ]
  },
  {
   "cell_type": "markdown",
   "id": "bda464a5",
   "metadata": {},
   "source": [
    "<b>Question 10b.</b> Use the function from above to calculate the correlation coefficient between Longevity Quotient and GS_TSG_normalized."
   ]
  },
  {
   "cell_type": "code",
   "execution_count": null,
   "id": "e5ecdfaa",
   "metadata": {},
   "outputs": [],
   "source": [
    "..."
   ]
  },
  {
   "cell_type": "markdown",
   "id": "ae31c166",
   "metadata": {},
   "source": [
    "<b>Extra Credit (5 points).</b> What is the relationship between tumor suppressor gene copy number and body mass? Show your code for how you figured it out."
   ]
  },
  {
   "cell_type": "code",
   "execution_count": null,
   "id": "b526ffe0",
   "metadata": {},
   "outputs": [],
   "source": []
  }
 ],
 "metadata": {
  "kernelspec": {
   "display_name": "Python 3",
   "language": "python",
   "name": "python3"
  },
  "language_info": {
   "codemirror_mode": {
    "name": "ipython",
    "version": 3
   },
   "file_extension": ".py",
   "mimetype": "text/x-python",
   "name": "python",
   "nbconvert_exporter": "python",
   "pygments_lexer": "ipython3",
   "version": "3.8.8"
  }
 },
 "nbformat": 4,
 "nbformat_minor": 5
}
