{
 "cells": [
  {
   "cell_type": "code",
   "execution_count": 1,
   "metadata": {},
   "outputs": [],
   "source": [
    "import numpy as np\n",
    "from datascience import *\n",
    "\n",
    "# These lines do some fancy plotting magic.\n",
    "import matplotlib\n",
    "%matplotlib inline"
   ]
  },
  {
   "cell_type": "code",
   "execution_count": 2,
   "metadata": {},
   "outputs": [],
   "source": [
    "Marker.map_table?"
   ]
  },
  {
   "cell_type": "code",
   "execution_count": 3,
   "metadata": {},
   "outputs": [
    {
     "data": {
      "text/html": [
       "<table border=\"1\" class=\"dataframe\">\n",
       "    <thead>\n",
       "        <tr>\n",
       "            <th>Name</th> <th>City</th> <th>lat</th> <th>long</th>\n",
       "        </tr>\n",
       "    </thead>\n",
       "    <tbody>\n",
       "        <tr>\n",
       "            <td>Colebank, Jordan Elise      </td> <td>San Franciso</td> <td>37.774</td> <td>122.419</td>\n",
       "        </tr>\n",
       "        <tr>\n",
       "            <td>Collins, Matthew T          </td> <td>Atlanta     </td> <td>33.749</td> <td>84.388 </td>\n",
       "        </tr>\n",
       "        <tr>\n",
       "            <td>Duerinck, Randy Keith       </td> <td>New York    </td> <td>40.712</td> <td>74.006 </td>\n",
       "        </tr>\n",
       "        <tr>\n",
       "            <td>Graham, Cassandra Michelle  </td> <td>Cincinnati  </td> <td>39.103</td> <td>84.512 </td>\n",
       "        </tr>\n",
       "        <tr>\n",
       "            <td>Hodge, Devin Jonathan Monroe</td> <td>Kansas City </td> <td>39.099</td> <td>94.578 </td>\n",
       "        </tr>\n",
       "        <tr>\n",
       "            <td>Hoover, David R             </td> <td>Sahuarita   </td> <td>31.958</td> <td>110.956</td>\n",
       "        </tr>\n",
       "        <tr>\n",
       "            <td>Linden, Andrew Ryan         </td> <td>Portland    </td> <td>45.512</td> <td>122.658</td>\n",
       "        </tr>\n",
       "        <tr>\n",
       "            <td>Lynn, Matthew Michael       </td> <td>Dallas      </td> <td>32.776</td> <td>96.797 </td>\n",
       "        </tr>\n",
       "        <tr>\n",
       "            <td>Verrando, Fabienne Esther   </td> <td>New Orleans </td> <td>29.951</td> <td>90.702 </td>\n",
       "        </tr>\n",
       "    </tbody>\n",
       "</table>"
      ],
      "text/plain": [
       "Name                         | City         | lat    | long\n",
       "Colebank, Jordan Elise       | San Franciso | 37.774 | 122.419\n",
       "Collins, Matthew T           | Atlanta      | 33.749 | 84.388\n",
       "Duerinck, Randy Keith        | New York     | 40.712 | 74.006\n",
       "Graham, Cassandra Michelle   | Cincinnati   | 39.103 | 84.512\n",
       "Hodge, Devin Jonathan Monroe | Kansas City  | 39.099 | 94.578\n",
       "Hoover, David R              | Sahuarita    | 31.958 | 110.956\n",
       "Linden, Andrew Ryan          | Portland     | 45.512 | 122.658\n",
       "Lynn, Matthew Michael        | Dallas       | 32.776 | 96.797\n",
       "Verrando, Fabienne Esther    | New Orleans  | 29.951 | 90.702"
      ]
     },
     "execution_count": 3,
     "metadata": {},
     "output_type": "execute_result"
    }
   ],
   "source": [
    "city_locations = Table().read_table(\"cities_location.csv\")\n",
    "city_locations"
   ]
  },
  {
   "cell_type": "code",
   "execution_count": 4,
   "metadata": {},
   "outputs": [],
   "source": [
    "city_locations_reordered = city_locations.select(\"lat\", \"long\", \"City\")"
   ]
  },
  {
   "cell_type": "code",
   "execution_count": 5,
   "metadata": {},
   "outputs": [],
   "source": [
    "city_locations_new = city_locations_reordered.with_column(\"long\", city_locations_reordered.column(\"long\")*-1.0).select(\"lat\", \"long\", \"City\")"
   ]
  },
  {
   "cell_type": "code",
   "execution_count": 6,
   "metadata": {},
   "outputs": [
    {
     "data": {
      "text/html": [
       "<div style=\"width:100%;\"><div style=\"position:relative;width:100%;height:0;padding-bottom:60%;\"><iframe src=\"data:text/html;charset=utf-8;base64,PCFET0NUWVBFIGh0bWw+CjxoZWFkPiAgICAKICAgIDxtZXRhIGh0dHAtZXF1aXY9ImNvbnRlbnQtdHlwZSIgY29udGVudD0idGV4dC9odG1sOyBjaGFyc2V0PVVURi04IiAvPgogICAgCiAgICAgICAgPHNjcmlwdD4KICAgICAgICAgICAgTF9OT19UT1VDSCA9IGZhbHNlOwogICAgICAgICAgICBMX0RJU0FCTEVfM0QgPSBmYWxzZTsKICAgICAgICA8L3NjcmlwdD4KICAgIAogICAgPHNjcmlwdCBzcmM9Imh0dHBzOi8vY2RuLmpzZGVsaXZyLm5ldC9ucG0vbGVhZmxldEAxLjUuMS9kaXN0L2xlYWZsZXQuanMiPjwvc2NyaXB0PgogICAgPHNjcmlwdCBzcmM9Imh0dHBzOi8vY29kZS5qcXVlcnkuY29tL2pxdWVyeS0xLjEyLjQubWluLmpzIj48L3NjcmlwdD4KICAgIDxzY3JpcHQgc3JjPSJodHRwczovL21heGNkbi5ib290c3RyYXBjZG4uY29tL2Jvb3RzdHJhcC8zLjIuMC9qcy9ib290c3RyYXAubWluLmpzIj48L3NjcmlwdD4KICAgIDxzY3JpcHQgc3JjPSJodHRwczovL2NkbmpzLmNsb3VkZmxhcmUuY29tL2FqYXgvbGlicy9MZWFmbGV0LmF3ZXNvbWUtbWFya2Vycy8yLjAuMi9sZWFmbGV0LmF3ZXNvbWUtbWFya2Vycy5qcyI+PC9zY3JpcHQ+CiAgICA8bGluayByZWw9InN0eWxlc2hlZXQiIGhyZWY9Imh0dHBzOi8vY2RuLmpzZGVsaXZyLm5ldC9ucG0vbGVhZmxldEAxLjUuMS9kaXN0L2xlYWZsZXQuY3NzIi8+CiAgICA8bGluayByZWw9InN0eWxlc2hlZXQiIGhyZWY9Imh0dHBzOi8vbWF4Y2RuLmJvb3RzdHJhcGNkbi5jb20vYm9vdHN0cmFwLzMuMi4wL2Nzcy9ib290c3RyYXAubWluLmNzcyIvPgogICAgPGxpbmsgcmVsPSJzdHlsZXNoZWV0IiBocmVmPSJodHRwczovL21heGNkbi5ib290c3RyYXBjZG4uY29tL2Jvb3RzdHJhcC8zLjIuMC9jc3MvYm9vdHN0cmFwLXRoZW1lLm1pbi5jc3MiLz4KICAgIDxsaW5rIHJlbD0ic3R5bGVzaGVldCIgaHJlZj0iaHR0cHM6Ly9tYXhjZG4uYm9vdHN0cmFwY2RuLmNvbS9mb250LWF3ZXNvbWUvNC42LjMvY3NzL2ZvbnQtYXdlc29tZS5taW4uY3NzIi8+CiAgICA8bGluayByZWw9InN0eWxlc2hlZXQiIGhyZWY9Imh0dHBzOi8vY2RuanMuY2xvdWRmbGFyZS5jb20vYWpheC9saWJzL0xlYWZsZXQuYXdlc29tZS1tYXJrZXJzLzIuMC4yL2xlYWZsZXQuYXdlc29tZS1tYXJrZXJzLmNzcyIvPgogICAgPGxpbmsgcmVsPSJzdHlsZXNoZWV0IiBocmVmPSJodHRwczovL3Jhd2Nkbi5naXRoYWNrLmNvbS9weXRob24tdmlzdWFsaXphdGlvbi9mb2xpdW0vbWFzdGVyL2ZvbGl1bS90ZW1wbGF0ZXMvbGVhZmxldC5hd2Vzb21lLnJvdGF0ZS5jc3MiLz4KICAgIDxzdHlsZT5odG1sLCBib2R5IHt3aWR0aDogMTAwJTtoZWlnaHQ6IDEwMCU7bWFyZ2luOiAwO3BhZGRpbmc6IDA7fTwvc3R5bGU+CiAgICA8c3R5bGU+I21hcCB7cG9zaXRpb246YWJzb2x1dGU7dG9wOjA7Ym90dG9tOjA7cmlnaHQ6MDtsZWZ0OjA7fTwvc3R5bGU+CiAgICAKICAgICAgICAgICAgPG1ldGEgbmFtZT0idmlld3BvcnQiIGNvbnRlbnQ9IndpZHRoPWRldmljZS13aWR0aCwKICAgICAgICAgICAgICAgIGluaXRpYWwtc2NhbGU9MS4wLCBtYXhpbXVtLXNjYWxlPTEuMCwgdXNlci1zY2FsYWJsZT1ubyIgLz4KICAgICAgICAgICAgPHN0eWxlPgogICAgICAgICAgICAgICAgI21hcF8xYmUxMDAwZDA1MGU0NTdjODA3NzYzZjZiNDIzMDhmOSB7CiAgICAgICAgICAgICAgICAgICAgcG9zaXRpb246IHJlbGF0aXZlOwogICAgICAgICAgICAgICAgICAgIHdpZHRoOiA5NjAuMHB4OwogICAgICAgICAgICAgICAgICAgIGhlaWdodDogNTAwLjBweDsKICAgICAgICAgICAgICAgICAgICBsZWZ0OiAwLjAlOwogICAgICAgICAgICAgICAgICAgIHRvcDogMC4wJTsKICAgICAgICAgICAgICAgIH0KICAgICAgICAgICAgPC9zdHlsZT4KICAgICAgICAKPC9oZWFkPgo8Ym9keT4gICAgCiAgICAKICAgICAgICAgICAgPGRpdiBjbGFzcz0iZm9saXVtLW1hcCIgaWQ9Im1hcF8xYmUxMDAwZDA1MGU0NTdjODA3NzYzZjZiNDIzMDhmOSIgPjwvZGl2PgogICAgICAgIAo8L2JvZHk+CjxzY3JpcHQ+ICAgIAogICAgCiAgICAgICAgICAgIHZhciBtYXBfMWJlMTAwMGQwNTBlNDU3YzgwNzc2M2Y2YjQyMzA4ZjkgPSBMLm1hcCgKICAgICAgICAgICAgICAgICJtYXBfMWJlMTAwMGQwNTBlNDU3YzgwNzc2M2Y2YjQyMzA4ZjkiLAogICAgICAgICAgICAgICAgewogICAgICAgICAgICAgICAgICAgIGNlbnRlcjogWzM3LjczMTUsIC05OC4zMzJdLAogICAgICAgICAgICAgICAgICAgIGNyczogTC5DUlMuRVBTRzM4NTcsCiAgICAgICAgICAgICAgICAgICAgem9vbTogNCwKICAgICAgICAgICAgICAgICAgICB6b29tQ29udHJvbDogdHJ1ZSwKICAgICAgICAgICAgICAgICAgICBwcmVmZXJDYW52YXM6IGZhbHNlLAogICAgICAgICAgICAgICAgICAgIGNsdXN0ZXJlZE1hcmtlcjogZmFsc2UsCiAgICAgICAgICAgICAgICB9CiAgICAgICAgICAgICk7CgogICAgICAgICAgICAKCiAgICAgICAgCiAgICAKICAgICAgICAgICAgdmFyIHRpbGVfbGF5ZXJfN2MxMDhmYjBmNjZlNGUwNmEyNGM0MTgyZTM5NmMzNGEgPSBMLnRpbGVMYXllcigKICAgICAgICAgICAgICAgICJodHRwczovL3tzfS50aWxlLm9wZW5zdHJlZXRtYXAub3JnL3t6fS97eH0ve3l9LnBuZyIsCiAgICAgICAgICAgICAgICB7ImF0dHJpYnV0aW9uIjogIkRhdGEgYnkgXHUwMDI2Y29weTsgXHUwMDNjYSBocmVmPVwiaHR0cDovL29wZW5zdHJlZXRtYXAub3JnXCJcdTAwM2VPcGVuU3RyZWV0TWFwXHUwMDNjL2FcdTAwM2UsIHVuZGVyIFx1MDAzY2EgaHJlZj1cImh0dHA6Ly93d3cub3BlbnN0cmVldG1hcC5vcmcvY29weXJpZ2h0XCJcdTAwM2VPRGJMXHUwMDNjL2FcdTAwM2UuIiwgImRldGVjdFJldGluYSI6IGZhbHNlLCAibWF4TmF0aXZlWm9vbSI6IDE3LCAibWF4Wm9vbSI6IDE3LCAibWluWm9vbSI6IDIsICJub1dyYXAiOiBmYWxzZSwgIm9wYWNpdHkiOiAxLCAic3ViZG9tYWlucyI6ICJhYmMiLCAidG1zIjogZmFsc2V9CiAgICAgICAgICAgICkuYWRkVG8obWFwXzFiZTEwMDBkMDUwZTQ1N2M4MDc3NjNmNmI0MjMwOGY5KTsKICAgICAgICAKICAgIAogICAgICAgICAgICB2YXIgbWFya2VyX2RiZmIzZDkxMWZjMzQwN2E4MzczNGFiNDQ3ZTE4YWFjID0gTC5tYXJrZXIoCiAgICAgICAgICAgICAgICBbMzcuNzc0LCAtMTIyLjQxOV0sCiAgICAgICAgICAgICAgICB7fQogICAgICAgICAgICApLmFkZFRvKG1hcF8xYmUxMDAwZDA1MGU0NTdjODA3NzYzZjZiNDIzMDhmOSk7CiAgICAgICAgCiAgICAKICAgICAgICAgICAgdmFyIGljb25fYjRlNGJmN2M0NzljNDA5Yzg1NzA3N2E2OWY5NzViYzUgPSBMLkF3ZXNvbWVNYXJrZXJzLmljb24oCiAgICAgICAgICAgICAgICB7ImV4dHJhQ2xhc3NlcyI6ICJmYS1yb3RhdGUtMCIsICJpY29uIjogImluZm8tc2lnbiIsICJpY29uQ29sb3IiOiAid2hpdGUiLCAibWFya2VyQ29sb3IiOiAiYmx1ZSIsICJwcmVmaXgiOiAiZ2x5cGhpY29uIn0KICAgICAgICAgICAgKTsKICAgICAgICAgICAgbWFya2VyX2RiZmIzZDkxMWZjMzQwN2E4MzczNGFiNDQ3ZTE4YWFjLnNldEljb24oaWNvbl9iNGU0YmY3YzQ3OWM0MDljODU3MDc3YTY5Zjk3NWJjNSk7CiAgICAgICAgCiAgICAKICAgICAgICB2YXIgcG9wdXBfNGZhOGE0ZDk5NmFjNDBkY2E2YmRhYTdlZTRkODAwYWUgPSBMLnBvcHVwKHsibWF4V2lkdGgiOiAiMTAwJSJ9KTsKCiAgICAgICAgCiAgICAgICAgICAgIHZhciBodG1sXzQxODhjMmJlNzM1ODQzYTg5NWNjZjgxZjBmNzM0YzYzID0gJChgPGRpdiBpZD0iaHRtbF80MTg4YzJiZTczNTg0M2E4OTVjY2Y4MWYwZjczNGM2MyIgc3R5bGU9IndpZHRoOiAxMDAuMCU7IGhlaWdodDogMTAwLjAlOyI+U2FuIEZyYW5jaXNvPC9kaXY+YClbMF07CiAgICAgICAgICAgIHBvcHVwXzRmYThhNGQ5OTZhYzQwZGNhNmJkYWE3ZWU0ZDgwMGFlLnNldENvbnRlbnQoaHRtbF80MTg4YzJiZTczNTg0M2E4OTVjY2Y4MWYwZjczNGM2Myk7CiAgICAgICAgCgogICAgICAgIG1hcmtlcl9kYmZiM2Q5MTFmYzM0MDdhODM3MzRhYjQ0N2UxOGFhYy5iaW5kUG9wdXAocG9wdXBfNGZhOGE0ZDk5NmFjNDBkY2E2YmRhYTdlZTRkODAwYWUpCiAgICAgICAgOwoKICAgICAgICAKICAgIAogICAgCiAgICAgICAgICAgIHZhciBtYXJrZXJfNjU4NjBhNmI3NzJmNGFkMWExYTI1YjNjZTJkMTMwMDAgPSBMLm1hcmtlcigKICAgICAgICAgICAgICAgIFszMy43NDksIC04NC4zODc5OTk5OTk5OTk5OV0sCiAgICAgICAgICAgICAgICB7fQogICAgICAgICAgICApLmFkZFRvKG1hcF8xYmUxMDAwZDA1MGU0NTdjODA3NzYzZjZiNDIzMDhmOSk7CiAgICAgICAgCiAgICAKICAgICAgICAgICAgdmFyIGljb25fNGFlMTI0NWRhYjY4NGE2OGJiMjJiZDFhYzZjY2IxZWMgPSBMLkF3ZXNvbWVNYXJrZXJzLmljb24oCiAgICAgICAgICAgICAgICB7ImV4dHJhQ2xhc3NlcyI6ICJmYS1yb3RhdGUtMCIsICJpY29uIjogImluZm8tc2lnbiIsICJpY29uQ29sb3IiOiAid2hpdGUiLCAibWFya2VyQ29sb3IiOiAiYmx1ZSIsICJwcmVmaXgiOiAiZ2x5cGhpY29uIn0KICAgICAgICAgICAgKTsKICAgICAgICAgICAgbWFya2VyXzY1ODYwYTZiNzcyZjRhZDFhMWEyNWIzY2UyZDEzMDAwLnNldEljb24oaWNvbl80YWUxMjQ1ZGFiNjg0YTY4YmIyMmJkMWFjNmNjYjFlYyk7CiAgICAgICAgCiAgICAKICAgICAgICB2YXIgcG9wdXBfMTM1OThiZTA2NTVkNGMzN2EyNDI0OTEzNGM5MTQ1ZWEgPSBMLnBvcHVwKHsibWF4V2lkdGgiOiAiMTAwJSJ9KTsKCiAgICAgICAgCiAgICAgICAgICAgIHZhciBodG1sXzViZGNlMTU3MzYyNDQyMTQ4NmIwOTM2OGU4NzczNDI4ID0gJChgPGRpdiBpZD0iaHRtbF81YmRjZTE1NzM2MjQ0MjE0ODZiMDkzNjhlODc3MzQyOCIgc3R5bGU9IndpZHRoOiAxMDAuMCU7IGhlaWdodDogMTAwLjAlOyI+QXRsYW50YTwvZGl2PmApWzBdOwogICAgICAgICAgICBwb3B1cF8xMzU5OGJlMDY1NWQ0YzM3YTI0MjQ5MTM0YzkxNDVlYS5zZXRDb250ZW50KGh0bWxfNWJkY2UxNTczNjI0NDIxNDg2YjA5MzY4ZTg3NzM0MjgpOwogICAgICAgIAoKICAgICAgICBtYXJrZXJfNjU4NjBhNmI3NzJmNGFkMWExYTI1YjNjZTJkMTMwMDAuYmluZFBvcHVwKHBvcHVwXzEzNTk4YmUwNjU1ZDRjMzdhMjQyNDkxMzRjOTE0NWVhKQogICAgICAgIDsKCiAgICAgICAgCiAgICAKICAgIAogICAgICAgICAgICB2YXIgbWFya2VyXzY4OWQ4ZTRkZDVhZjQ3ZTA5NWI1OTQwMTBjYzRjMzliID0gTC5tYXJrZXIoCiAgICAgICAgICAgICAgICBbNDAuNzExOTk5OTk5OTk5OTk2LCAtNzQuMDA2XSwKICAgICAgICAgICAgICAgIHt9CiAgICAgICAgICAgICkuYWRkVG8obWFwXzFiZTEwMDBkMDUwZTQ1N2M4MDc3NjNmNmI0MjMwOGY5KTsKICAgICAgICAKICAgIAogICAgICAgICAgICB2YXIgaWNvbl9mNTNjOTVhZjlhY2Y0ZDhhOTM4ZTgwNGQ3NzQ2NTMwMCA9IEwuQXdlc29tZU1hcmtlcnMuaWNvbigKICAgICAgICAgICAgICAgIHsiZXh0cmFDbGFzc2VzIjogImZhLXJvdGF0ZS0wIiwgImljb24iOiAiaW5mby1zaWduIiwgImljb25Db2xvciI6ICJ3aGl0ZSIsICJtYXJrZXJDb2xvciI6ICJibHVlIiwgInByZWZpeCI6ICJnbHlwaGljb24ifQogICAgICAgICAgICApOwogICAgICAgICAgICBtYXJrZXJfNjg5ZDhlNGRkNWFmNDdlMDk1YjU5NDAxMGNjNGMzOWIuc2V0SWNvbihpY29uX2Y1M2M5NWFmOWFjZjRkOGE5MzhlODA0ZDc3NDY1MzAwKTsKICAgICAgICAKICAgIAogICAgICAgIHZhciBwb3B1cF9kYTgyOWViNWRlZWQ0NGRlYjAyNjg1OWE1ZDI3YzVkMyA9IEwucG9wdXAoeyJtYXhXaWR0aCI6ICIxMDAlIn0pOwoKICAgICAgICAKICAgICAgICAgICAgdmFyIGh0bWxfOWRjZWM2ODlkZDUxNDlkMzlkYTVhNzFiNmYyNTY3ZDcgPSAkKGA8ZGl2IGlkPSJodG1sXzlkY2VjNjg5ZGQ1MTQ5ZDM5ZGE1YTcxYjZmMjU2N2Q3IiBzdHlsZT0id2lkdGg6IDEwMC4wJTsgaGVpZ2h0OiAxMDAuMCU7Ij5OZXcgWW9yazwvZGl2PmApWzBdOwogICAgICAgICAgICBwb3B1cF9kYTgyOWViNWRlZWQ0NGRlYjAyNjg1OWE1ZDI3YzVkMy5zZXRDb250ZW50KGh0bWxfOWRjZWM2ODlkZDUxNDlkMzlkYTVhNzFiNmYyNTY3ZDcpOwogICAgICAgIAoKICAgICAgICBtYXJrZXJfNjg5ZDhlNGRkNWFmNDdlMDk1YjU5NDAxMGNjNGMzOWIuYmluZFBvcHVwKHBvcHVwX2RhODI5ZWI1ZGVlZDQ0ZGViMDI2ODU5YTVkMjdjNWQzKQogICAgICAgIDsKCiAgICAgICAgCiAgICAKICAgIAogICAgICAgICAgICB2YXIgbWFya2VyXzRiNDNiYzBiMjZmMTQ4MGM5ZGMyNGI4MmQzMWMyZDNhID0gTC5tYXJrZXIoCiAgICAgICAgICAgICAgICBbMzkuMTAzLCAtODQuNTEyXSwKICAgICAgICAgICAgICAgIHt9CiAgICAgICAgICAgICkuYWRkVG8obWFwXzFiZTEwMDBkMDUwZTQ1N2M4MDc3NjNmNmI0MjMwOGY5KTsKICAgICAgICAKICAgIAogICAgICAgICAgICB2YXIgaWNvbl9jNTYyZjlkYWMyZjE0NGJiOTQ5Zjg4N2UwOGE3ZjI4NCA9IEwuQXdlc29tZU1hcmtlcnMuaWNvbigKICAgICAgICAgICAgICAgIHsiZXh0cmFDbGFzc2VzIjogImZhLXJvdGF0ZS0wIiwgImljb24iOiAiaW5mby1zaWduIiwgImljb25Db2xvciI6ICJ3aGl0ZSIsICJtYXJrZXJDb2xvciI6ICJibHVlIiwgInByZWZpeCI6ICJnbHlwaGljb24ifQogICAgICAgICAgICApOwogICAgICAgICAgICBtYXJrZXJfNGI0M2JjMGIyNmYxNDgwYzlkYzI0YjgyZDMxYzJkM2Euc2V0SWNvbihpY29uX2M1NjJmOWRhYzJmMTQ0YmI5NDlmODg3ZTA4YTdmMjg0KTsKICAgICAgICAKICAgIAogICAgICAgIHZhciBwb3B1cF9jMjUwOWVjZDFiNTc0ZjZmOTJhZDFmMDFhNzFhODM1OSA9IEwucG9wdXAoeyJtYXhXaWR0aCI6ICIxMDAlIn0pOwoKICAgICAgICAKICAgICAgICAgICAgdmFyIGh0bWxfNGQ3N2YxMjcxYzI5NDg2YmJlMmJjZTk1M2YxOWRkNDIgPSAkKGA8ZGl2IGlkPSJodG1sXzRkNzdmMTI3MWMyOTQ4NmJiZTJiY2U5NTNmMTlkZDQyIiBzdHlsZT0id2lkdGg6IDEwMC4wJTsgaGVpZ2h0OiAxMDAuMCU7Ij5DaW5jaW5uYXRpPC9kaXY+YClbMF07CiAgICAgICAgICAgIHBvcHVwX2MyNTA5ZWNkMWI1NzRmNmY5MmFkMWYwMWE3MWE4MzU5LnNldENvbnRlbnQoaHRtbF80ZDc3ZjEyNzFjMjk0ODZiYmUyYmNlOTUzZjE5ZGQ0Mik7CiAgICAgICAgCgogICAgICAgIG1hcmtlcl80YjQzYmMwYjI2ZjE0ODBjOWRjMjRiODJkMzFjMmQzYS5iaW5kUG9wdXAocG9wdXBfYzI1MDllY2QxYjU3NGY2ZjkyYWQxZjAxYTcxYTgzNTkpCiAgICAgICAgOwoKICAgICAgICAKICAgIAogICAgCiAgICAgICAgICAgIHZhciBtYXJrZXJfN2U1N2ExNjY1YzVkNDc3YTgyYjNlMGU1MGNkM2YwNGMgPSBMLm1hcmtlcigKICAgICAgICAgICAgICAgIFszOS4wOTkwMDAwMDAwMDAwMDQsIC05NC41Nzc5OTk5OTk5OTk5OV0sCiAgICAgICAgICAgICAgICB7fQogICAgICAgICAgICApLmFkZFRvKG1hcF8xYmUxMDAwZDA1MGU0NTdjODA3NzYzZjZiNDIzMDhmOSk7CiAgICAgICAgCiAgICAKICAgICAgICAgICAgdmFyIGljb25fMGQ1OTg5OWFjNDY3NGE2Mzk0OWQ2MjhjZWRhZGZmOTkgPSBMLkF3ZXNvbWVNYXJrZXJzLmljb24oCiAgICAgICAgICAgICAgICB7ImV4dHJhQ2xhc3NlcyI6ICJmYS1yb3RhdGUtMCIsICJpY29uIjogImluZm8tc2lnbiIsICJpY29uQ29sb3IiOiAid2hpdGUiLCAibWFya2VyQ29sb3IiOiAiYmx1ZSIsICJwcmVmaXgiOiAiZ2x5cGhpY29uIn0KICAgICAgICAgICAgKTsKICAgICAgICAgICAgbWFya2VyXzdlNTdhMTY2NWM1ZDQ3N2E4MmIzZTBlNTBjZDNmMDRjLnNldEljb24oaWNvbl8wZDU5ODk5YWM0Njc0YTYzOTQ5ZDYyOGNlZGFkZmY5OSk7CiAgICAgICAgCiAgICAKICAgICAgICB2YXIgcG9wdXBfNmExN2Y1MDk0YjcxNGU5MTgxOTA4NWFlNmY1NzQ2YzggPSBMLnBvcHVwKHsibWF4V2lkdGgiOiAiMTAwJSJ9KTsKCiAgICAgICAgCiAgICAgICAgICAgIHZhciBodG1sX2ZjODI1ZWI4NTAzNzQzM2ViNTQzYWQ2ZTc0NGJmOGZmID0gJChgPGRpdiBpZD0iaHRtbF9mYzgyNWViODUwMzc0MzNlYjU0M2FkNmU3NDRiZjhmZiIgc3R5bGU9IndpZHRoOiAxMDAuMCU7IGhlaWdodDogMTAwLjAlOyI+S2Fuc2FzIENpdHk8L2Rpdj5gKVswXTsKICAgICAgICAgICAgcG9wdXBfNmExN2Y1MDk0YjcxNGU5MTgxOTA4NWFlNmY1NzQ2Yzguc2V0Q29udGVudChodG1sX2ZjODI1ZWI4NTAzNzQzM2ViNTQzYWQ2ZTc0NGJmOGZmKTsKICAgICAgICAKCiAgICAgICAgbWFya2VyXzdlNTdhMTY2NWM1ZDQ3N2E4MmIzZTBlNTBjZDNmMDRjLmJpbmRQb3B1cChwb3B1cF82YTE3ZjUwOTRiNzE0ZTkxODE5MDg1YWU2ZjU3NDZjOCkKICAgICAgICA7CgogICAgICAgIAogICAgCiAgICAKICAgICAgICAgICAgdmFyIG1hcmtlcl9jYzFjZmVkYmEzNjE0OTY4YTZjNjA2ZmMzZGZhNjQxYSA9IEwubWFya2VyKAogICAgICAgICAgICAgICAgWzMxLjk1ODAwMDAwMDAwMDAwMiwgLTExMC45NTZdLAogICAgICAgICAgICAgICAge30KICAgICAgICAgICAgKS5hZGRUbyhtYXBfMWJlMTAwMGQwNTBlNDU3YzgwNzc2M2Y2YjQyMzA4ZjkpOwogICAgICAgIAogICAgCiAgICAgICAgICAgIHZhciBpY29uX2IzNWVlMGJjZjk0MjRlODQ4M2Q3ZDE4ODUwMzYyYTUzID0gTC5Bd2Vzb21lTWFya2Vycy5pY29uKAogICAgICAgICAgICAgICAgeyJleHRyYUNsYXNzZXMiOiAiZmEtcm90YXRlLTAiLCAiaWNvbiI6ICJpbmZvLXNpZ24iLCAiaWNvbkNvbG9yIjogIndoaXRlIiwgIm1hcmtlckNvbG9yIjogImJsdWUiLCAicHJlZml4IjogImdseXBoaWNvbiJ9CiAgICAgICAgICAgICk7CiAgICAgICAgICAgIG1hcmtlcl9jYzFjZmVkYmEzNjE0OTY4YTZjNjA2ZmMzZGZhNjQxYS5zZXRJY29uKGljb25fYjM1ZWUwYmNmOTQyNGU4NDgzZDdkMTg4NTAzNjJhNTMpOwogICAgICAgIAogICAgCiAgICAgICAgdmFyIHBvcHVwXzNiODNjNmE1M2Y5NTRlNTBhMTNjNWFjOGNiMDJkNjA1ID0gTC5wb3B1cCh7Im1heFdpZHRoIjogIjEwMCUifSk7CgogICAgICAgIAogICAgICAgICAgICB2YXIgaHRtbF9iZTBiYzBjZTJkZTI0MmE2YjVjYWE4NjdlNWVhZWVlZSA9ICQoYDxkaXYgaWQ9Imh0bWxfYmUwYmMwY2UyZGUyNDJhNmI1Y2FhODY3ZTVlYWVlZWUiIHN0eWxlPSJ3aWR0aDogMTAwLjAlOyBoZWlnaHQ6IDEwMC4wJTsiPlNhaHVhcml0YTwvZGl2PmApWzBdOwogICAgICAgICAgICBwb3B1cF8zYjgzYzZhNTNmOTU0ZTUwYTEzYzVhYzhjYjAyZDYwNS5zZXRDb250ZW50KGh0bWxfYmUwYmMwY2UyZGUyNDJhNmI1Y2FhODY3ZTVlYWVlZWUpOwogICAgICAgIAoKICAgICAgICBtYXJrZXJfY2MxY2ZlZGJhMzYxNDk2OGE2YzYwNmZjM2RmYTY0MWEuYmluZFBvcHVwKHBvcHVwXzNiODNjNmE1M2Y5NTRlNTBhMTNjNWFjOGNiMDJkNjA1KQogICAgICAgIDsKCiAgICAgICAgCiAgICAKICAgIAogICAgICAgICAgICB2YXIgbWFya2VyXzQ2N2VmNWRjZTEzNzRhMjNhNDljNzU1NjBkYTg2YjhjID0gTC5tYXJrZXIoCiAgICAgICAgICAgICAgICBbNDUuNTEyLCAtMTIyLjY1Nzk5OTk5OTk5OTk5XSwKICAgICAgICAgICAgICAgIHt9CiAgICAgICAgICAgICkuYWRkVG8obWFwXzFiZTEwMDBkMDUwZTQ1N2M4MDc3NjNmNmI0MjMwOGY5KTsKICAgICAgICAKICAgIAogICAgICAgICAgICB2YXIgaWNvbl83MWI1OWE0YWY2YTc0NTIzODA1ZDQ5YTJjZTI2ZDc2YyA9IEwuQXdlc29tZU1hcmtlcnMuaWNvbigKICAgICAgICAgICAgICAgIHsiZXh0cmFDbGFzc2VzIjogImZhLXJvdGF0ZS0wIiwgImljb24iOiAiaW5mby1zaWduIiwgImljb25Db2xvciI6ICJ3aGl0ZSIsICJtYXJrZXJDb2xvciI6ICJibHVlIiwgInByZWZpeCI6ICJnbHlwaGljb24ifQogICAgICAgICAgICApOwogICAgICAgICAgICBtYXJrZXJfNDY3ZWY1ZGNlMTM3NGEyM2E0OWM3NTU2MGRhODZiOGMuc2V0SWNvbihpY29uXzcxYjU5YTRhZjZhNzQ1MjM4MDVkNDlhMmNlMjZkNzZjKTsKICAgICAgICAKICAgIAogICAgICAgIHZhciBwb3B1cF8wNWNlYmNmMjIwMDQ0ZWU2YjYzMTcxNWIxOWI5MTk4OSA9IEwucG9wdXAoeyJtYXhXaWR0aCI6ICIxMDAlIn0pOwoKICAgICAgICAKICAgICAgICAgICAgdmFyIGh0bWxfNGIxZTIxZjUxNGQ5NDAxMjkxNDE3ODk5YzU2Y2EyZWYgPSAkKGA8ZGl2IGlkPSJodG1sXzRiMWUyMWY1MTRkOTQwMTI5MTQxNzg5OWM1NmNhMmVmIiBzdHlsZT0id2lkdGg6IDEwMC4wJTsgaGVpZ2h0OiAxMDAuMCU7Ij5Qb3J0bGFuZDwvZGl2PmApWzBdOwogICAgICAgICAgICBwb3B1cF8wNWNlYmNmMjIwMDQ0ZWU2YjYzMTcxNWIxOWI5MTk4OS5zZXRDb250ZW50KGh0bWxfNGIxZTIxZjUxNGQ5NDAxMjkxNDE3ODk5YzU2Y2EyZWYpOwogICAgICAgIAoKICAgICAgICBtYXJrZXJfNDY3ZWY1ZGNlMTM3NGEyM2E0OWM3NTU2MGRhODZiOGMuYmluZFBvcHVwKHBvcHVwXzA1Y2ViY2YyMjAwNDRlZTZiNjMxNzE1YjE5YjkxOTg5KQogICAgICAgIDsKCiAgICAgICAgCiAgICAKICAgIAogICAgICAgICAgICB2YXIgbWFya2VyXzZkN2Y0MWQyYWRkNDQ5M2U5ODI2NmEzMDRkMzhhMjA0ID0gTC5tYXJrZXIoCiAgICAgICAgICAgICAgICBbMzIuNzc1OTk5OTk5OTk5OTk2LCAtOTYuNzk3MDAwMDAwMDAwMDFdLAogICAgICAgICAgICAgICAge30KICAgICAgICAgICAgKS5hZGRUbyhtYXBfMWJlMTAwMGQwNTBlNDU3YzgwNzc2M2Y2YjQyMzA4ZjkpOwogICAgICAgIAogICAgCiAgICAgICAgICAgIHZhciBpY29uXzg5NmViNzk1NzgxMDRjMGFiYjZlMDQxYjg1YmE4YzA1ID0gTC5Bd2Vzb21lTWFya2Vycy5pY29uKAogICAgICAgICAgICAgICAgeyJleHRyYUNsYXNzZXMiOiAiZmEtcm90YXRlLTAiLCAiaWNvbiI6ICJpbmZvLXNpZ24iLCAiaWNvbkNvbG9yIjogIndoaXRlIiwgIm1hcmtlckNvbG9yIjogImJsdWUiLCAicHJlZml4IjogImdseXBoaWNvbiJ9CiAgICAgICAgICAgICk7CiAgICAgICAgICAgIG1hcmtlcl82ZDdmNDFkMmFkZDQ0OTNlOTgyNjZhMzA0ZDM4YTIwNC5zZXRJY29uKGljb25fODk2ZWI3OTU3ODEwNGMwYWJiNmUwNDFiODViYThjMDUpOwogICAgICAgIAogICAgCiAgICAgICAgdmFyIHBvcHVwX2JkNTBjZmVjZjUyOTQyNjk4MjJkNWJiNmRkYmU0YTk0ID0gTC5wb3B1cCh7Im1heFdpZHRoIjogIjEwMCUifSk7CgogICAgICAgIAogICAgICAgICAgICB2YXIgaHRtbF8zYjc5ZTkzZjhmNDY0OGUzODkwODMwNmZlZTFmYzU3NyA9ICQoYDxkaXYgaWQ9Imh0bWxfM2I3OWU5M2Y4ZjQ2NDhlMzg5MDgzMDZmZWUxZmM1NzciIHN0eWxlPSJ3aWR0aDogMTAwLjAlOyBoZWlnaHQ6IDEwMC4wJTsiPkRhbGxhczwvZGl2PmApWzBdOwogICAgICAgICAgICBwb3B1cF9iZDUwY2ZlY2Y1Mjk0MjY5ODIyZDViYjZkZGJlNGE5NC5zZXRDb250ZW50KGh0bWxfM2I3OWU5M2Y4ZjQ2NDhlMzg5MDgzMDZmZWUxZmM1NzcpOwogICAgICAgIAoKICAgICAgICBtYXJrZXJfNmQ3ZjQxZDJhZGQ0NDkzZTk4MjY2YTMwNGQzOGEyMDQuYmluZFBvcHVwKHBvcHVwX2JkNTBjZmVjZjUyOTQyNjk4MjJkNWJiNmRkYmU0YTk0KQogICAgICAgIDsKCiAgICAgICAgCiAgICAKICAgIAogICAgICAgICAgICB2YXIgbWFya2VyX2IwM2Y2MmYzYzg4YzQ3ZDA5N2FiMDI3YWUyODE5YTk1ID0gTC5tYXJrZXIoCiAgICAgICAgICAgICAgICBbMjkuOTUxLCAtOTAuNzAyMDAwMDAwMDAwMDFdLAogICAgICAgICAgICAgICAge30KICAgICAgICAgICAgKS5hZGRUbyhtYXBfMWJlMTAwMGQwNTBlNDU3YzgwNzc2M2Y2YjQyMzA4ZjkpOwogICAgICAgIAogICAgCiAgICAgICAgICAgIHZhciBpY29uXzEzM2UwYTY1ZDBhMTRiYjc4NTU2YWU0Yzk3NTcwMjNhID0gTC5Bd2Vzb21lTWFya2Vycy5pY29uKAogICAgICAgICAgICAgICAgeyJleHRyYUNsYXNzZXMiOiAiZmEtcm90YXRlLTAiLCAiaWNvbiI6ICJpbmZvLXNpZ24iLCAiaWNvbkNvbG9yIjogIndoaXRlIiwgIm1hcmtlckNvbG9yIjogImJsdWUiLCAicHJlZml4IjogImdseXBoaWNvbiJ9CiAgICAgICAgICAgICk7CiAgICAgICAgICAgIG1hcmtlcl9iMDNmNjJmM2M4OGM0N2QwOTdhYjAyN2FlMjgxOWE5NS5zZXRJY29uKGljb25fMTMzZTBhNjVkMGExNGJiNzg1NTZhZTRjOTc1NzAyM2EpOwogICAgICAgIAogICAgCiAgICAgICAgdmFyIHBvcHVwXzYzMGI1NjYxYzI0MzQ5NGU4YjIzY2VmZGI1YmEwZjEwID0gTC5wb3B1cCh7Im1heFdpZHRoIjogIjEwMCUifSk7CgogICAgICAgIAogICAgICAgICAgICB2YXIgaHRtbF85NThjMGY2YjFhOGQ0ODFkOGY5MGRkOThmODc4MjE2NyA9ICQoYDxkaXYgaWQ9Imh0bWxfOTU4YzBmNmIxYThkNDgxZDhmOTBkZDk4Zjg3ODIxNjciIHN0eWxlPSJ3aWR0aDogMTAwLjAlOyBoZWlnaHQ6IDEwMC4wJTsiPk5ldyBPcmxlYW5zPC9kaXY+YClbMF07CiAgICAgICAgICAgIHBvcHVwXzYzMGI1NjYxYzI0MzQ5NGU4YjIzY2VmZGI1YmEwZjEwLnNldENvbnRlbnQoaHRtbF85NThjMGY2YjFhOGQ0ODFkOGY5MGRkOThmODc4MjE2Nyk7CiAgICAgICAgCgogICAgICAgIG1hcmtlcl9iMDNmNjJmM2M4OGM0N2QwOTdhYjAyN2FlMjgxOWE5NS5iaW5kUG9wdXAocG9wdXBfNjMwYjU2NjFjMjQzNDk0ZThiMjNjZWZkYjViYTBmMTApCiAgICAgICAgOwoKICAgICAgICAKICAgIAo8L3NjcmlwdD4=\" style=\"position:absolute;width:100%;height:100%;left:0;top:0;border:none !important;\" allowfullscreen webkitallowfullscreen mozallowfullscreen></iframe></div></div>"
      ],
      "text/plain": [
       "<datascience.maps.Map at 0x10adabc88>"
      ]
     },
     "execution_count": 6,
     "metadata": {},
     "output_type": "execute_result"
    }
   ],
   "source": [
    "Marker.map_table(city_locations_new)"
   ]
  },
  {
   "cell_type": "code",
   "execution_count": 7,
   "metadata": {},
   "outputs": [
    {
     "data": {
      "text/plain": [
       "['__class__',\n",
       " '__delattr__',\n",
       " '__dict__',\n",
       " '__dir__',\n",
       " '__doc__',\n",
       " '__eq__',\n",
       " '__format__',\n",
       " '__ge__',\n",
       " '__getattribute__',\n",
       " '__gt__',\n",
       " '__hash__',\n",
       " '__init__',\n",
       " '__init_subclass__',\n",
       " '__le__',\n",
       " '__lt__',\n",
       " '__module__',\n",
       " '__ne__',\n",
       " '__new__',\n",
       " '__reduce__',\n",
       " '__reduce_ex__',\n",
       " '__repr__',\n",
       " '__setattr__',\n",
       " '__sizeof__',\n",
       " '__str__',\n",
       " '__subclasshook__',\n",
       " '__weakref__',\n",
       " 'above',\n",
       " 'above_or_equal_to',\n",
       " 'below',\n",
       " 'below_or_equal_to',\n",
       " 'between',\n",
       " 'between_or_equal_to',\n",
       " 'contained_in',\n",
       " 'containing',\n",
       " 'equal_to',\n",
       " 'not_above',\n",
       " 'not_above_or_equal_to',\n",
       " 'not_below',\n",
       " 'not_below_or_equal_to',\n",
       " 'not_between',\n",
       " 'not_between_or_equal_to',\n",
       " 'not_contained_in',\n",
       " 'not_containing',\n",
       " 'not_equal_to',\n",
       " 'not_strictly_between',\n",
       " 'strictly_between']"
      ]
     },
     "execution_count": 7,
     "metadata": {},
     "output_type": "execute_result"
    }
   ],
   "source": [
    "dir(are)\n"
   ]
  },
  {
   "cell_type": "code",
   "execution_count": null,
   "metadata": {},
   "outputs": [],
   "source": []
  }
 ],
 "metadata": {
  "kernelspec": {
   "display_name": "Python 3",
   "language": "python",
   "name": "python3"
  },
  "language_info": {
   "codemirror_mode": {
    "name": "ipython",
    "version": 3
   },
   "file_extension": ".py",
   "mimetype": "text/x-python",
   "name": "python",
   "nbconvert_exporter": "python",
   "pygments_lexer": "ipython3",
   "version": "3.6.7"
  }
 },
 "nbformat": 4,
 "nbformat_minor": 2
}
