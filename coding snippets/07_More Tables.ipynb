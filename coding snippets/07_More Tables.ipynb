{
 "cells": [
  {
   "cell_type": "code",
   "execution_count": 1,
   "metadata": {},
   "outputs": [],
   "source": [
    "import numpy as np\n",
    "from datascience import *"
   ]
  },
  {
   "cell_type": "markdown",
   "metadata": {},
   "source": [
    "# Examples with Properties\n",
    "\n",
    "Properties look like variables but they automatically get their value from the object."
   ]
  },
  {
   "cell_type": "code",
   "execution_count": 2,
   "metadata": {},
   "outputs": [
    {
     "data": {
      "text/html": [
       "<table border=\"1\" class=\"dataframe\">\n",
       "    <thead>\n",
       "        <tr>\n",
       "            <th>Name</th> <th>Height</th>\n",
       "        </tr>\n",
       "    </thead>\n",
       "    <tbody>\n",
       "        <tr>\n",
       "            <td>Colebank, Jordan Elise      </td> <td>65    </td>\n",
       "        </tr>\n",
       "        <tr>\n",
       "            <td>Collins, Matthew T          </td> <td>72    </td>\n",
       "        </tr>\n",
       "        <tr>\n",
       "            <td>Cook, Kylie Nichole         </td> <td>68    </td>\n",
       "        </tr>\n",
       "        <tr>\n",
       "            <td>Downard, Andrew Nicholas    </td> <td>nan   </td>\n",
       "        </tr>\n",
       "        <tr>\n",
       "            <td>Duerinck, Randy Keith       </td> <td>67    </td>\n",
       "        </tr>\n",
       "        <tr>\n",
       "            <td>Graham, Cassandra Michelle  </td> <td>nan   </td>\n",
       "        </tr>\n",
       "        <tr>\n",
       "            <td>Hodge, Devin Jonathan Monroe</td> <td>74    </td>\n",
       "        </tr>\n",
       "        <tr>\n",
       "            <td>Hoover, David R             </td> <td>74.5  </td>\n",
       "        </tr>\n",
       "        <tr>\n",
       "            <td>Linden, Andrew Ryan         </td> <td>69    </td>\n",
       "        </tr>\n",
       "        <tr>\n",
       "            <td>Lynn, Matthew Michael       </td> <td>75    </td>\n",
       "        </tr>\n",
       "    </tbody>\n",
       "</table>\n",
       "<p>... (3 rows omitted)</p>"
      ],
      "text/plain": [
       "Name                         | Height\n",
       "Colebank, Jordan Elise       | 65\n",
       "Collins, Matthew T           | 72\n",
       "Cook, Kylie Nichole          | 68\n",
       "Downard, Andrew Nicholas     | nan\n",
       "Duerinck, Randy Keith        | 67\n",
       "Graham, Cassandra Michelle   | nan\n",
       "Hodge, Devin Jonathan Monroe | 74\n",
       "Hoover, David R              | 74.5\n",
       "Linden, Andrew Ryan          | 69\n",
       "Lynn, Matthew Michael        | 75\n",
       "... (3 rows omitted)"
      ]
     },
     "execution_count": 2,
     "metadata": {},
     "output_type": "execute_result"
    }
   ],
   "source": [
    "heights = Table().read_table(\"heights.csv\")\n",
    "heights"
   ]
  },
  {
   "cell_type": "code",
   "execution_count": 3,
   "metadata": {},
   "outputs": [
    {
     "data": {
      "text/plain": [
       "2"
      ]
     },
     "execution_count": 3,
     "metadata": {},
     "output_type": "execute_result"
    }
   ],
   "source": [
    "heights.num_columns"
   ]
  },
  {
   "cell_type": "code",
   "execution_count": 4,
   "metadata": {},
   "outputs": [
    {
     "data": {
      "text/plain": [
       "13"
      ]
     },
     "execution_count": 4,
     "metadata": {},
     "output_type": "execute_result"
    }
   ],
   "source": [
    "heights.num_rows"
   ]
  },
  {
   "cell_type": "code",
   "execution_count": 5,
   "metadata": {},
   "outputs": [
    {
     "data": {
      "text/plain": [
       "('Name', 'Height')"
      ]
     },
     "execution_count": 5,
     "metadata": {},
     "output_type": "execute_result"
    }
   ],
   "source": [
    "heights.labels"
   ]
  },
  {
   "cell_type": "code",
   "execution_count": 6,
   "metadata": {},
   "outputs": [
    {
     "data": {
      "text/html": [
       "<table border=\"1\" class=\"dataframe\">\n",
       "    <thead>\n",
       "        <tr>\n",
       "            <th>Name</th> <th>Height in Inches</th>\n",
       "        </tr>\n",
       "    </thead>\n",
       "    <tbody>\n",
       "        <tr>\n",
       "            <td>Colebank, Jordan Elise      </td> <td>65              </td>\n",
       "        </tr>\n",
       "        <tr>\n",
       "            <td>Collins, Matthew T          </td> <td>72              </td>\n",
       "        </tr>\n",
       "        <tr>\n",
       "            <td>Cook, Kylie Nichole         </td> <td>68              </td>\n",
       "        </tr>\n",
       "        <tr>\n",
       "            <td>Downard, Andrew Nicholas    </td> <td>nan             </td>\n",
       "        </tr>\n",
       "        <tr>\n",
       "            <td>Duerinck, Randy Keith       </td> <td>67              </td>\n",
       "        </tr>\n",
       "        <tr>\n",
       "            <td>Graham, Cassandra Michelle  </td> <td>nan             </td>\n",
       "        </tr>\n",
       "        <tr>\n",
       "            <td>Hodge, Devin Jonathan Monroe</td> <td>74              </td>\n",
       "        </tr>\n",
       "        <tr>\n",
       "            <td>Hoover, David R             </td> <td>74.5            </td>\n",
       "        </tr>\n",
       "        <tr>\n",
       "            <td>Linden, Andrew Ryan         </td> <td>69              </td>\n",
       "        </tr>\n",
       "        <tr>\n",
       "            <td>Lynn, Matthew Michael       </td> <td>75              </td>\n",
       "        </tr>\n",
       "    </tbody>\n",
       "</table>\n",
       "<p>... (3 rows omitted)</p>"
      ],
      "text/plain": [
       "Name                         | Height in Inches\n",
       "Colebank, Jordan Elise       | 65\n",
       "Collins, Matthew T           | 72\n",
       "Cook, Kylie Nichole          | 68\n",
       "Downard, Andrew Nicholas     | nan\n",
       "Duerinck, Randy Keith        | 67\n",
       "Graham, Cassandra Michelle   | nan\n",
       "Hodge, Devin Jonathan Monroe | 74\n",
       "Hoover, David R              | 74.5\n",
       "Linden, Andrew Ryan          | 69\n",
       "Lynn, Matthew Michael        | 75\n",
       "... (3 rows omitted)"
      ]
     },
     "execution_count": 6,
     "metadata": {},
     "output_type": "execute_result"
    }
   ],
   "source": [
    "heights.relabeled(\"Height\", \"Height in Inches\")"
   ]
  },
  {
   "cell_type": "code",
   "execution_count": 8,
   "metadata": {},
   "outputs": [
    {
     "data": {
      "text/plain": [
       "array(['Colebank, Jordan Elise', 'Collins, Matthew T',\n",
       "       'Cook, Kylie Nichole', 'Downard, Andrew Nicholas',\n",
       "       'Duerinck, Randy Keith', 'Graham, Cassandra Michelle',\n",
       "       'Hodge, Devin Jonathan Monroe', 'Hoover, David R',\n",
       "       'Linden, Andrew Ryan', 'Lynn, Matthew Michael',\n",
       "       'Martinez, Carli Sabrina', 'Verrando, Fabienne Esther',\n",
       "       'Palmer, James'], dtype='<U28')"
      ]
     },
     "execution_count": 8,
     "metadata": {},
     "output_type": "execute_result"
    }
   ],
   "source": [
    "heights.column(\"Name\")"
   ]
  },
  {
   "cell_type": "code",
   "execution_count": 10,
   "metadata": {},
   "outputs": [
    {
     "data": {
      "text/plain": [
       "array([65. , 72. , 68. ,  nan, 67. ,  nan, 74. , 74.5, 69. , 75. , 65. ,\n",
       "        nan, 71. ])"
      ]
     },
     "execution_count": 10,
     "metadata": {},
     "output_type": "execute_result"
    }
   ],
   "source": [
    "heights.column(1)"
   ]
  },
  {
   "cell_type": "code",
   "execution_count": 15,
   "metadata": {},
   "outputs": [
    {
     "data": {
      "text/html": [
       "<table border=\"1\" class=\"dataframe\">\n",
       "    <thead>\n",
       "        <tr>\n",
       "            <th>Name</th> <th>Height</th> <th>Student ID</th> <th>Favorite Temperature</th>\n",
       "        </tr>\n",
       "    </thead>\n",
       "    <tbody>\n",
       "        <tr>\n",
       "            <td>Colebank, Jordan Elise      </td> <td>65    </td> <td>2000001   </td> <td>34                  </td>\n",
       "        </tr>\n",
       "        <tr>\n",
       "            <td>Collins, Matthew T          </td> <td>72    </td> <td>2000002   </td> <td>56                  </td>\n",
       "        </tr>\n",
       "        <tr>\n",
       "            <td>Cook, Kylie Nichole         </td> <td>68    </td> <td>2000003   </td> <td>75                  </td>\n",
       "        </tr>\n",
       "        <tr>\n",
       "            <td>Downard, Andrew Nicholas    </td> <td>nan   </td> <td>2000004   </td> <td>57                  </td>\n",
       "        </tr>\n",
       "        <tr>\n",
       "            <td>Duerinck, Randy Keith       </td> <td>67    </td> <td>2000005   </td> <td>98                  </td>\n",
       "        </tr>\n",
       "        <tr>\n",
       "            <td>Graham, Cassandra Michelle  </td> <td>nan   </td> <td>2000006   </td> <td>22                  </td>\n",
       "        </tr>\n",
       "        <tr>\n",
       "            <td>Hodge, Devin Jonathan Monroe</td> <td>74    </td> <td>2000007   </td> <td>11                  </td>\n",
       "        </tr>\n",
       "        <tr>\n",
       "            <td>Hoover, David R             </td> <td>74.5  </td> <td>2000008   </td> <td>7                   </td>\n",
       "        </tr>\n",
       "        <tr>\n",
       "            <td>Linden, Andrew Ryan         </td> <td>69    </td> <td>2000009   </td> <td>85                  </td>\n",
       "        </tr>\n",
       "        <tr>\n",
       "            <td>Lynn, Matthew Michael       </td> <td>75    </td> <td>2000010   </td> <td>12                  </td>\n",
       "        </tr>\n",
       "    </tbody>\n",
       "</table>\n",
       "<p>... (3 rows omitted)</p>"
      ],
      "text/plain": [
       "Name                         | Height | Student ID | Favorite Temperature\n",
       "Colebank, Jordan Elise       | 65     | 2000001    | 34\n",
       "Collins, Matthew T           | 72     | 2000002    | 56\n",
       "Cook, Kylie Nichole          | 68     | 2000003    | 75\n",
       "Downard, Andrew Nicholas     | nan    | 2000004    | 57\n",
       "Duerinck, Randy Keith        | 67     | 2000005    | 98\n",
       "Graham, Cassandra Michelle   | nan    | 2000006    | 22\n",
       "Hodge, Devin Jonathan Monroe | 74     | 2000007    | 11\n",
       "Hoover, David R              | 74.5   | 2000008    | 7\n",
       "Linden, Andrew Ryan          | 69     | 2000009    | 85\n",
       "Lynn, Matthew Michael        | 75     | 2000010    | 12\n",
       "... (3 rows omitted)"
      ]
     },
     "execution_count": 15,
     "metadata": {},
     "output_type": "execute_result"
    }
   ],
   "source": [
    "new_heights = heights.with_column(\"Student ID\", np.arange(2000001,2000014)).with_column(\"Favorite Temperature\", make_array(34, 56, 75, 57, 98, 22, 11, 7, 85, 12, 45, 33, 22))\n",
    "new_heights"
   ]
  },
  {
   "cell_type": "code",
   "execution_count": 16,
   "metadata": {},
   "outputs": [
    {
     "data": {
      "text/html": [
       "<table border=\"1\" class=\"dataframe\">\n",
       "    <thead>\n",
       "        <tr>\n",
       "            <th>Name</th> <th>Student ID</th> <th>Favorite Temperature</th>\n",
       "        </tr>\n",
       "    </thead>\n",
       "    <tbody>\n",
       "        <tr>\n",
       "            <td>Colebank, Jordan Elise      </td> <td>2000001   </td> <td>34                  </td>\n",
       "        </tr>\n",
       "        <tr>\n",
       "            <td>Collins, Matthew T          </td> <td>2000002   </td> <td>56                  </td>\n",
       "        </tr>\n",
       "        <tr>\n",
       "            <td>Cook, Kylie Nichole         </td> <td>2000003   </td> <td>75                  </td>\n",
       "        </tr>\n",
       "        <tr>\n",
       "            <td>Downard, Andrew Nicholas    </td> <td>2000004   </td> <td>57                  </td>\n",
       "        </tr>\n",
       "        <tr>\n",
       "            <td>Duerinck, Randy Keith       </td> <td>2000005   </td> <td>98                  </td>\n",
       "        </tr>\n",
       "        <tr>\n",
       "            <td>Graham, Cassandra Michelle  </td> <td>2000006   </td> <td>22                  </td>\n",
       "        </tr>\n",
       "        <tr>\n",
       "            <td>Hodge, Devin Jonathan Monroe</td> <td>2000007   </td> <td>11                  </td>\n",
       "        </tr>\n",
       "        <tr>\n",
       "            <td>Hoover, David R             </td> <td>2000008   </td> <td>7                   </td>\n",
       "        </tr>\n",
       "        <tr>\n",
       "            <td>Linden, Andrew Ryan         </td> <td>2000009   </td> <td>85                  </td>\n",
       "        </tr>\n",
       "        <tr>\n",
       "            <td>Lynn, Matthew Michael       </td> <td>2000010   </td> <td>12                  </td>\n",
       "        </tr>\n",
       "    </tbody>\n",
       "</table>\n",
       "<p>... (3 rows omitted)</p>"
      ],
      "text/plain": [
       "Name                         | Student ID | Favorite Temperature\n",
       "Colebank, Jordan Elise       | 2000001    | 34\n",
       "Collins, Matthew T           | 2000002    | 56\n",
       "Cook, Kylie Nichole          | 2000003    | 75\n",
       "Downard, Andrew Nicholas     | 2000004    | 57\n",
       "Duerinck, Randy Keith        | 2000005    | 98\n",
       "Graham, Cassandra Michelle   | 2000006    | 22\n",
       "Hodge, Devin Jonathan Monroe | 2000007    | 11\n",
       "Hoover, David R              | 2000008    | 7\n",
       "Linden, Andrew Ryan          | 2000009    | 85\n",
       "Lynn, Matthew Michael        | 2000010    | 12\n",
       "... (3 rows omitted)"
      ]
     },
     "execution_count": 16,
     "metadata": {},
     "output_type": "execute_result"
    }
   ],
   "source": [
    "new_heights.select(\"Name\", \"Student ID\", \"Favorite Temperature\")"
   ]
  },
  {
   "cell_type": "code",
   "execution_count": 18,
   "metadata": {},
   "outputs": [
    {
     "data": {
      "text/html": [
       "<table border=\"1\" class=\"dataframe\">\n",
       "    <thead>\n",
       "        <tr>\n",
       "            <th>Name</th> <th>Favorite Temperature</th>\n",
       "        </tr>\n",
       "    </thead>\n",
       "    <tbody>\n",
       "        <tr>\n",
       "            <td>Colebank, Jordan Elise      </td> <td>34                  </td>\n",
       "        </tr>\n",
       "        <tr>\n",
       "            <td>Collins, Matthew T          </td> <td>56                  </td>\n",
       "        </tr>\n",
       "        <tr>\n",
       "            <td>Cook, Kylie Nichole         </td> <td>75                  </td>\n",
       "        </tr>\n",
       "        <tr>\n",
       "            <td>Downard, Andrew Nicholas    </td> <td>57                  </td>\n",
       "        </tr>\n",
       "        <tr>\n",
       "            <td>Duerinck, Randy Keith       </td> <td>98                  </td>\n",
       "        </tr>\n",
       "        <tr>\n",
       "            <td>Graham, Cassandra Michelle  </td> <td>22                  </td>\n",
       "        </tr>\n",
       "        <tr>\n",
       "            <td>Hodge, Devin Jonathan Monroe</td> <td>11                  </td>\n",
       "        </tr>\n",
       "        <tr>\n",
       "            <td>Hoover, David R             </td> <td>7                   </td>\n",
       "        </tr>\n",
       "        <tr>\n",
       "            <td>Linden, Andrew Ryan         </td> <td>85                  </td>\n",
       "        </tr>\n",
       "        <tr>\n",
       "            <td>Lynn, Matthew Michael       </td> <td>12                  </td>\n",
       "        </tr>\n",
       "    </tbody>\n",
       "</table>\n",
       "<p>... (3 rows omitted)</p>"
      ],
      "text/plain": [
       "Name                         | Favorite Temperature\n",
       "Colebank, Jordan Elise       | 34\n",
       "Collins, Matthew T           | 56\n",
       "Cook, Kylie Nichole          | 75\n",
       "Downard, Andrew Nicholas     | 57\n",
       "Duerinck, Randy Keith        | 98\n",
       "Graham, Cassandra Michelle   | 22\n",
       "Hodge, Devin Jonathan Monroe | 11\n",
       "Hoover, David R              | 7\n",
       "Linden, Andrew Ryan          | 85\n",
       "Lynn, Matthew Michael        | 12\n",
       "... (3 rows omitted)"
      ]
     },
     "execution_count": 18,
     "metadata": {},
     "output_type": "execute_result"
    }
   ],
   "source": [
    "new_heights.drop(\"Height\", \"Student ID\")"
   ]
  },
  {
   "cell_type": "code",
   "execution_count": 19,
   "metadata": {},
   "outputs": [
    {
     "data": {
      "text/html": [
       "<table border=\"1\" class=\"dataframe\">\n",
       "    <thead>\n",
       "        <tr>\n",
       "            <th>Name</th> <th>Height</th>\n",
       "        </tr>\n",
       "    </thead>\n",
       "    <tbody>\n",
       "        <tr>\n",
       "            <td>Colebank, Jordan Elise      </td> <td>65    </td>\n",
       "        </tr>\n",
       "        <tr>\n",
       "            <td>Collins, Matthew T          </td> <td>72    </td>\n",
       "        </tr>\n",
       "        <tr>\n",
       "            <td>Cook, Kylie Nichole         </td> <td>68    </td>\n",
       "        </tr>\n",
       "        <tr>\n",
       "            <td>Downard, Andrew Nicholas    </td> <td>nan   </td>\n",
       "        </tr>\n",
       "        <tr>\n",
       "            <td>Duerinck, Randy Keith       </td> <td>67    </td>\n",
       "        </tr>\n",
       "        <tr>\n",
       "            <td>Graham, Cassandra Michelle  </td> <td>nan   </td>\n",
       "        </tr>\n",
       "        <tr>\n",
       "            <td>Hodge, Devin Jonathan Monroe</td> <td>74    </td>\n",
       "        </tr>\n",
       "        <tr>\n",
       "            <td>Hoover, David R             </td> <td>74.5  </td>\n",
       "        </tr>\n",
       "        <tr>\n",
       "            <td>Linden, Andrew Ryan         </td> <td>69    </td>\n",
       "        </tr>\n",
       "        <tr>\n",
       "            <td>Lynn, Matthew Michael       </td> <td>75    </td>\n",
       "        </tr>\n",
       "    </tbody>\n",
       "</table>\n",
       "<p>... (3 rows omitted)</p>"
      ],
      "text/plain": [
       "Name                         | Height\n",
       "Colebank, Jordan Elise       | 65\n",
       "Collins, Matthew T           | 72\n",
       "Cook, Kylie Nichole          | 68\n",
       "Downard, Andrew Nicholas     | nan\n",
       "Duerinck, Randy Keith        | 67\n",
       "Graham, Cassandra Michelle   | nan\n",
       "Hodge, Devin Jonathan Monroe | 74\n",
       "Hoover, David R              | 74.5\n",
       "Linden, Andrew Ryan          | 69\n",
       "Lynn, Matthew Michael        | 75\n",
       "... (3 rows omitted)"
      ]
     },
     "execution_count": 19,
     "metadata": {},
     "output_type": "execute_result"
    }
   ],
   "source": [
    "heights"
   ]
  },
  {
   "cell_type": "code",
   "execution_count": 20,
   "metadata": {},
   "outputs": [
    {
     "data": {
      "text/html": [
       "<table border=\"1\" class=\"dataframe\">\n",
       "    <thead>\n",
       "        <tr>\n",
       "            <th>Name</th> <th>Height</th> <th>Student ID</th> <th>Favorite Temperature</th>\n",
       "        </tr>\n",
       "    </thead>\n",
       "    <tbody>\n",
       "        <tr>\n",
       "            <td>Colebank, Jordan Elise      </td> <td>65    </td> <td>2000001   </td> <td>34                  </td>\n",
       "        </tr>\n",
       "        <tr>\n",
       "            <td>Collins, Matthew T          </td> <td>72    </td> <td>2000002   </td> <td>56                  </td>\n",
       "        </tr>\n",
       "        <tr>\n",
       "            <td>Cook, Kylie Nichole         </td> <td>68    </td> <td>2000003   </td> <td>75                  </td>\n",
       "        </tr>\n",
       "        <tr>\n",
       "            <td>Downard, Andrew Nicholas    </td> <td>nan   </td> <td>2000004   </td> <td>57                  </td>\n",
       "        </tr>\n",
       "        <tr>\n",
       "            <td>Duerinck, Randy Keith       </td> <td>67    </td> <td>2000005   </td> <td>98                  </td>\n",
       "        </tr>\n",
       "        <tr>\n",
       "            <td>Graham, Cassandra Michelle  </td> <td>nan   </td> <td>2000006   </td> <td>22                  </td>\n",
       "        </tr>\n",
       "        <tr>\n",
       "            <td>Hodge, Devin Jonathan Monroe</td> <td>74    </td> <td>2000007   </td> <td>11                  </td>\n",
       "        </tr>\n",
       "        <tr>\n",
       "            <td>Hoover, David R             </td> <td>74.5  </td> <td>2000008   </td> <td>7                   </td>\n",
       "        </tr>\n",
       "        <tr>\n",
       "            <td>Linden, Andrew Ryan         </td> <td>69    </td> <td>2000009   </td> <td>85                  </td>\n",
       "        </tr>\n",
       "        <tr>\n",
       "            <td>Lynn, Matthew Michael       </td> <td>75    </td> <td>2000010   </td> <td>12                  </td>\n",
       "        </tr>\n",
       "    </tbody>\n",
       "</table>\n",
       "<p>... (3 rows omitted)</p>"
      ],
      "text/plain": [
       "Name                         | Height | Student ID | Favorite Temperature\n",
       "Colebank, Jordan Elise       | 65     | 2000001    | 34\n",
       "Collins, Matthew T           | 72     | 2000002    | 56\n",
       "Cook, Kylie Nichole          | 68     | 2000003    | 75\n",
       "Downard, Andrew Nicholas     | nan    | 2000004    | 57\n",
       "Duerinck, Randy Keith        | 67     | 2000005    | 98\n",
       "Graham, Cassandra Michelle   | nan    | 2000006    | 22\n",
       "Hodge, Devin Jonathan Monroe | 74     | 2000007    | 11\n",
       "Hoover, David R              | 74.5   | 2000008    | 7\n",
       "Linden, Andrew Ryan          | 69     | 2000009    | 85\n",
       "Lynn, Matthew Michael        | 75     | 2000010    | 12\n",
       "... (3 rows omitted)"
      ]
     },
     "execution_count": 20,
     "metadata": {},
     "output_type": "execute_result"
    }
   ],
   "source": [
    "new_heights"
   ]
  },
  {
   "cell_type": "code",
   "execution_count": 28,
   "metadata": {},
   "outputs": [],
   "source": [
    "salaries = Table().read_table(\"07_federalpay_top_100.csv\")"
   ]
  },
  {
   "cell_type": "code",
   "execution_count": 29,
   "metadata": {},
   "outputs": [
    {
     "data": {
      "text/html": [
       "<table border=\"1\" class=\"dataframe\">\n",
       "    <thead>\n",
       "        <tr>\n",
       "            <th>Name</th> <th>Organization</th> <th>Occupation</th> <th>Pay</th> <th>Location</th>\n",
       "        </tr>\n",
       "    </thead>\n",
       "    <tbody>\n",
       "        <tr>\n",
       "            <td>SHERMAN RACHEL E  </td> <td>FOOD AND DRUG ADMINISTRATION </td> <td>MEDICAL OFFICER</td> <td>390000</td> <td>MARYLAND  </td>\n",
       "        </tr>\n",
       "        <tr>\n",
       "            <td>FAUCI ANTHONY S   </td> <td>NATIONAL INSTITUTES OF HEALTH</td> <td>MEDICAL OFFICER</td> <td>384625</td> <td>MARYLAND  </td>\n",
       "        </tr>\n",
       "        <tr>\n",
       "            <td>HUSSAIN SHABBAR   </td> <td>INDIAN HEALTH SERVICE        </td> <td>MEDICAL OFFICER</td> <td>382938</td> <td>NEW MEXICO</td>\n",
       "        </tr>\n",
       "        <tr>\n",
       "            <td>LUCERO EDWARD M   </td> <td>INDIAN HEALTH SERVICE        </td> <td>MEDICAL OFFICER</td> <td>379482</td> <td>ARIZONA   </td>\n",
       "        </tr>\n",
       "        <tr>\n",
       "            <td>SHARPLESS NORMAN E</td> <td>NATIONAL INSTITUTES OF HEALTH</td> <td>MEDICAL OFFICER</td> <td>375000</td> <td>MARYLAND  </td>\n",
       "        </tr>\n",
       "    </tbody>\n",
       "</table>\n",
       "<p>... (95 rows omitted)</p>"
      ],
      "text/plain": [
       "<IPython.core.display.HTML object>"
      ]
     },
     "metadata": {},
     "output_type": "display_data"
    }
   ],
   "source": [
    "salaries.sort(\"Pay\", descending=True).show(5)"
   ]
  },
  {
   "cell_type": "code",
   "execution_count": 32,
   "metadata": {},
   "outputs": [
    {
     "data": {
      "text/html": [
       "<table border=\"1\" class=\"dataframe\">\n",
       "    <thead>\n",
       "        <tr>\n",
       "            <th>Name</th> <th>Organization</th> <th>Occupation</th> <th>Pay</th> <th>Location</th>\n",
       "        </tr>\n",
       "    </thead>\n",
       "    <tbody>\n",
       "        <tr>\n",
       "            <td>AGARWAL PIYUSH K</td> <td>NATIONAL INSTITUTES OF HEALTH</td> <td>MEDICAL OFFICER</td> <td>305000</td> <td>MARYLAND</td>\n",
       "        </tr>\n",
       "    </tbody>\n",
       "</table>\n",
       "<p>... (99 rows omitted)</p>"
      ],
      "text/plain": [
       "<IPython.core.display.HTML object>"
      ]
     },
     "metadata": {},
     "output_type": "display_data"
    }
   ],
   "source": [
    "salaries.show(max_rows=1)"
   ]
  },
  {
   "cell_type": "code",
   "execution_count": 37,
   "metadata": {},
   "outputs": [
    {
     "data": {
      "text/html": [
       "<table border=\"1\" class=\"dataframe\">\n",
       "    <thead>\n",
       "        <tr>\n",
       "            <th>Name</th> <th>Organization</th> <th>Occupation</th> <th>Pay</th> <th>Location</th>\n",
       "        </tr>\n",
       "    </thead>\n",
       "    <tbody>\n",
       "        <tr>\n",
       "            <td>CITRIN DEBORAH E </td> <td>NATIONAL INSTITUTES OF HEALTH</td> <td>MEDICAL OFFICER</td> <td>317000</td> <td>MARYLAND  </td>\n",
       "        </tr>\n",
       "        <tr>\n",
       "            <td>GALLIN JOHN I    </td> <td>NATIONAL INSTITUTES OF HEALTH</td> <td>MEDICAL OFFICER</td> <td>348723</td> <td>MARYLAND  </td>\n",
       "        </tr>\n",
       "        <tr>\n",
       "            <td>GREEN ERIC D     </td> <td>NATIONAL INSTITUTES OF HEALTH</td> <td>MEDICAL OFFICER</td> <td>303864</td> <td>MARYLAND  </td>\n",
       "        </tr>\n",
       "        <tr>\n",
       "            <td>JONES ELIZABETH C</td> <td>NATIONAL INSTITUTES OF HEALTH</td> <td>MEDICAL OFFICER</td> <td>306250</td> <td>MARYLAND  </td>\n",
       "        </tr>\n",
       "        <tr>\n",
       "            <td>LEE JANICE S     </td> <td>NATIONAL INSTITUTES OF HEALTH</td> <td>MEDICAL OFFICER</td> <td>291614</td> <td>MARYLAND  </td>\n",
       "        </tr>\n",
       "        <tr>\n",
       "            <td>MEDINA EDWARD R  </td> <td>INDIAN HEALTH SERVICE        </td> <td>MEDICAL OFFICER</td> <td>327075</td> <td>ARIZONA   </td>\n",
       "        </tr>\n",
       "        <tr>\n",
       "            <td>PINTO PETER A    </td> <td>NATIONAL INSTITUTES OF HEALTH</td> <td>MEDICAL OFFICER</td> <td>315000</td> <td>MARYLAND  </td>\n",
       "        </tr>\n",
       "        <tr>\n",
       "            <td>SCHNORR CHARLES D</td> <td>INDIAN HEALTH SERVICE        </td> <td>MEDICAL OFFICER</td> <td>290000</td> <td>NEW MEXICO</td>\n",
       "        </tr>\n",
       "        <tr>\n",
       "            <td>TABAK LAWRENCE A </td> <td>NATIONAL INSTITUTES OF HEALTH</td> <td>DENTAL OFFICER </td> <td>337925</td> <td>MARYLAND  </td>\n",
       "        </tr>\n",
       "    </tbody>\n",
       "</table>"
      ],
      "text/plain": [
       "Name              | Organization                  | Occupation      | Pay    | Location\n",
       "CITRIN DEBORAH E  | NATIONAL INSTITUTES OF HEALTH | MEDICAL OFFICER | 317000 | MARYLAND\n",
       "GALLIN JOHN I     | NATIONAL INSTITUTES OF HEALTH | MEDICAL OFFICER | 348723 | MARYLAND\n",
       "GREEN ERIC D      | NATIONAL INSTITUTES OF HEALTH | MEDICAL OFFICER | 303864 | MARYLAND\n",
       "JONES ELIZABETH C | NATIONAL INSTITUTES OF HEALTH | MEDICAL OFFICER | 306250 | MARYLAND\n",
       "LEE JANICE S      | NATIONAL INSTITUTES OF HEALTH | MEDICAL OFFICER | 291614 | MARYLAND\n",
       "MEDINA EDWARD R   | INDIAN HEALTH SERVICE         | MEDICAL OFFICER | 327075 | ARIZONA\n",
       "PINTO PETER A     | NATIONAL INSTITUTES OF HEALTH | MEDICAL OFFICER | 315000 | MARYLAND\n",
       "SCHNORR CHARLES D | INDIAN HEALTH SERVICE         | MEDICAL OFFICER | 290000 | NEW MEXICO\n",
       "TABAK LAWRENCE A  | NATIONAL INSTITUTES OF HEALTH | DENTAL OFFICER  | 337925 | MARYLAND"
      ]
     },
     "execution_count": 37,
     "metadata": {},
     "output_type": "execute_result"
    }
   ],
   "source": [
    "salaries.take(np.arange(10,100,10))"
   ]
  },
  {
   "cell_type": "code",
   "execution_count": 39,
   "metadata": {},
   "outputs": [
    {
     "data": {
      "text/plain": [
       "64"
      ]
     },
     "execution_count": 39,
     "metadata": {},
     "output_type": "execute_result"
    }
   ],
   "source": [
    "salaries.where(\"Pay\", are.above(300000)).num_rows"
   ]
  },
  {
   "cell_type": "code",
   "execution_count": 43,
   "metadata": {},
   "outputs": [
    {
     "data": {
      "text/html": [
       "<table border=\"1\" class=\"dataframe\">\n",
       "    <thead>\n",
       "        <tr>\n",
       "            <th>Name</th> <th>Organization</th> <th>Occupation</th> <th>Pay</th> <th>Location</th>\n",
       "        </tr>\n",
       "    </thead>\n",
       "    <tbody>\n",
       "        <tr>\n",
       "            <td>LUCERO EDWARD M   </td> <td>INDIAN HEALTH SERVICE</td> <td>MEDICAL OFFICER</td> <td>379482</td> <td>ARIZONA </td>\n",
       "        </tr>\n",
       "        <tr>\n",
       "            <td>JOHNSON RONALD W  </td> <td>INDIAN HEALTH SERVICE</td> <td>MEDICAL OFFICER</td> <td>330000</td> <td>ARIZONA </td>\n",
       "        </tr>\n",
       "        <tr>\n",
       "            <td>BUENAFE MICHAEL L </td> <td>INDIAN HEALTH SERVICE</td> <td>MEDICAL OFFICER</td> <td>329720</td> <td>ARIZONA </td>\n",
       "        </tr>\n",
       "        <tr>\n",
       "            <td>MEDINA EDWARD R   </td> <td>INDIAN HEALTH SERVICE</td> <td>MEDICAL OFFICER</td> <td>327075</td> <td>ARIZONA </td>\n",
       "        </tr>\n",
       "        <tr>\n",
       "            <td>SHARPE LOUIS J.   </td> <td>INDIAN HEALTH SERVICE</td> <td>MEDICAL OFFICER</td> <td>325000</td> <td>ARIZONA </td>\n",
       "        </tr>\n",
       "        <tr>\n",
       "            <td>YEAGER LINDA L    </td> <td>INDIAN HEALTH SERVICE</td> <td>MEDICAL OFFICER</td> <td>320182</td> <td>ARIZONA </td>\n",
       "        </tr>\n",
       "        <tr>\n",
       "            <td>JORGENSON JOEL    </td> <td>INDIAN HEALTH SERVICE</td> <td>MEDICAL OFFICER</td> <td>312307</td> <td>ARIZONA </td>\n",
       "        </tr>\n",
       "        <tr>\n",
       "            <td>WORTMANN ERIC W.  </td> <td>INDIAN HEALTH SERVICE</td> <td>MEDICAL OFFICER</td> <td>305000</td> <td>ARIZONA </td>\n",
       "        </tr>\n",
       "        <tr>\n",
       "            <td>MCLAURIN BARBARA K</td> <td>INDIAN HEALTH SERVICE</td> <td>MEDICAL OFFICER</td> <td>301230</td> <td>ARIZONA </td>\n",
       "        </tr>\n",
       "        <tr>\n",
       "            <td>GAUL LAWRENCE W.  </td> <td>INDIAN HEALTH SERVICE</td> <td>MEDICAL OFFICER</td> <td>300332</td> <td>ARIZONA </td>\n",
       "        </tr>\n",
       "        <tr>\n",
       "            <td>LYNCH KATHY S     </td> <td>INDIAN HEALTH SERVICE</td> <td>MEDICAL OFFICER</td> <td>300000</td> <td>ARIZONA </td>\n",
       "        </tr>\n",
       "        <tr>\n",
       "            <td>LUTHER ROSS D     </td> <td>INDIAN HEALTH SERVICE</td> <td>MEDICAL OFFICER</td> <td>300000</td> <td>ARIZONA </td>\n",
       "        </tr>\n",
       "        <tr>\n",
       "            <td>HAMSTRA SCOTT A   </td> <td>INDIAN HEALTH SERVICE</td> <td>MEDICAL OFFICER</td> <td>300000</td> <td>ARIZONA </td>\n",
       "        </tr>\n",
       "        <tr>\n",
       "            <td>DURAN ANTONIO T.  </td> <td>INDIAN HEALTH SERVICE</td> <td>MEDICAL OFFICER</td> <td>298413</td> <td>ARIZONA </td>\n",
       "        </tr>\n",
       "        <tr>\n",
       "            <td>BOWERS STEPHEN M  </td> <td>INDIAN HEALTH SERVICE</td> <td>MEDICAL OFFICER</td> <td>296332</td> <td>ARIZONA </td>\n",
       "        </tr>\n",
       "    </tbody>\n",
       "</table>"
      ],
      "text/plain": [
       "<IPython.core.display.HTML object>"
      ]
     },
     "metadata": {},
     "output_type": "display_data"
    }
   ],
   "source": [
    "salaries.sort(\"Pay\", descending=True).where(\"Occupation\", are.equal_to(\"MEDICAL OFFICER\")).where(\"Location\", are.equal_to(\"ARIZONA\")).show(15)"
   ]
  },
  {
   "cell_type": "code",
   "execution_count": 45,
   "metadata": {},
   "outputs": [
    {
     "data": {
      "text/html": [
       "<table border=\"1\" class=\"dataframe\">\n",
       "    <thead>\n",
       "        <tr>\n",
       "            <th>Name</th> <th>Organization</th> <th>Occupation</th> <th>Pay</th> <th>Location</th>\n",
       "        </tr>\n",
       "    </thead>\n",
       "    <tbody>\n",
       "        <tr>\n",
       "            <td>AUSTIN CHRISTOPHER P </td> <td>NATIONAL INSTITUTES OF HEALTH</td> <td>MEDICAL OFFICER</td> <td>299320</td> <td>MARYLAND    </td>\n",
       "        </tr>\n",
       "        <tr>\n",
       "            <td>BOWERS STEPHEN M     </td> <td>INDIAN HEALTH SERVICE        </td> <td>MEDICAL OFFICER</td> <td>296332</td> <td>ARIZONA     </td>\n",
       "        </tr>\n",
       "        <tr>\n",
       "            <td>DURAN ANTONIO T.     </td> <td>INDIAN HEALTH SERVICE        </td> <td>MEDICAL OFFICER</td> <td>298413</td> <td>ARIZONA     </td>\n",
       "        </tr>\n",
       "        <tr>\n",
       "            <td>GERBSTADT CHRISTINE R</td> <td>NATIONAL INSTITUTES OF HEALTH</td> <td>MEDICAL OFFICER</td> <td>295000</td> <td>MARYLAND    </td>\n",
       "        </tr>\n",
       "        <tr>\n",
       "            <td>LAWRENCE LEE J       </td> <td>INDIAN HEALTH SERVICE        </td> <td>MEDICAL OFFICER</td> <td>295000</td> <td>SOUTH DAKOTA</td>\n",
       "        </tr>\n",
       "        <tr>\n",
       "            <td>MALAYERI ASHKAN      </td> <td>NATIONAL INSTITUTES OF HEALTH</td> <td>MEDICAL OFFICER</td> <td>296406</td> <td>MARYLAND    </td>\n",
       "        </tr>\n",
       "        <tr>\n",
       "            <td>MIAO NING            </td> <td>NATIONAL INSTITUTES OF HEALTH</td> <td>MEDICAL OFFICER</td> <td>295000</td> <td>MARYLAND    </td>\n",
       "        </tr>\n",
       "        <tr>\n",
       "            <td>PABLO DANIEL L       </td> <td>INDIAN HEALTH SERVICE        </td> <td>MEDICAL OFFICER</td> <td>296332</td> <td>OKLAHOMA    </td>\n",
       "        </tr>\n",
       "    </tbody>\n",
       "</table>"
      ],
      "text/plain": [
       "Name                  | Organization                  | Occupation      | Pay    | Location\n",
       "AUSTIN CHRISTOPHER P  | NATIONAL INSTITUTES OF HEALTH | MEDICAL OFFICER | 299320 | MARYLAND\n",
       "BOWERS STEPHEN M      | INDIAN HEALTH SERVICE         | MEDICAL OFFICER | 296332 | ARIZONA\n",
       "DURAN ANTONIO T.      | INDIAN HEALTH SERVICE         | MEDICAL OFFICER | 298413 | ARIZONA\n",
       "GERBSTADT CHRISTINE R | NATIONAL INSTITUTES OF HEALTH | MEDICAL OFFICER | 295000 | MARYLAND\n",
       "LAWRENCE LEE J        | INDIAN HEALTH SERVICE         | MEDICAL OFFICER | 295000 | SOUTH DAKOTA\n",
       "MALAYERI ASHKAN       | NATIONAL INSTITUTES OF HEALTH | MEDICAL OFFICER | 296406 | MARYLAND\n",
       "MIAO NING             | NATIONAL INSTITUTES OF HEALTH | MEDICAL OFFICER | 295000 | MARYLAND\n",
       "PABLO DANIEL L        | INDIAN HEALTH SERVICE         | MEDICAL OFFICER | 296332 | OKLAHOMA"
      ]
     },
     "execution_count": 45,
     "metadata": {},
     "output_type": "execute_result"
    }
   ],
   "source": [
    "salaries.where(\"Pay\", are.between(295000, 300000))"
   ]
  },
  {
   "cell_type": "code",
   "execution_count": 46,
   "metadata": {},
   "outputs": [],
   "source": [
    "census = Table().read_table(\"http://www2.census.gov/programs-surveys/popest/datasets/2010-2015/national/asrh/nc-est2015-agesex-res.csv\")"
   ]
  },
  {
   "cell_type": "code",
   "execution_count": 51,
   "metadata": {},
   "outputs": [],
   "source": [
    "census_2010_2014 = census.select(\"SEX\", \"AGE\", \"POPESTIMATE2010\", \"POPESTIMATE2014\").relabeled(\"SEX\", \"GENDER\").relabeled(\"POPESTIMATE2010\", \"2010\").relabeled(\"POPESTIMATE2014\", \"2014\")"
   ]
  },
  {
   "cell_type": "code",
   "execution_count": 54,
   "metadata": {},
   "outputs": [
    {
     "data": {
      "text/html": [
       "<table border=\"1\" class=\"dataframe\">\n",
       "    <thead>\n",
       "        <tr>\n",
       "            <th>AGE</th> <th>2010</th> <th>2014</th>\n",
       "        </tr>\n",
       "    </thead>\n",
       "    <tbody>\n",
       "        <tr>\n",
       "            <td>0   </td> <td>3951330</td> <td>3949775</td>\n",
       "        </tr>\n",
       "        <tr>\n",
       "            <td>1   </td> <td>3957888</td> <td>3949776</td>\n",
       "        </tr>\n",
       "        <tr>\n",
       "            <td>2   </td> <td>4090862</td> <td>3959664</td>\n",
       "        </tr>\n",
       "        <tr>\n",
       "            <td>3   </td> <td>4111920</td> <td>4007079</td>\n",
       "        </tr>\n",
       "        <tr>\n",
       "            <td>4   </td> <td>4077551</td> <td>4005716</td>\n",
       "        </tr>\n",
       "        <tr>\n",
       "            <td>5   </td> <td>4064653</td> <td>4006900</td>\n",
       "        </tr>\n",
       "        <tr>\n",
       "            <td>6   </td> <td>4073013</td> <td>4135930</td>\n",
       "        </tr>\n",
       "        <tr>\n",
       "            <td>7   </td> <td>4043046</td> <td>4155326</td>\n",
       "        </tr>\n",
       "        <tr>\n",
       "            <td>8   </td> <td>4025604</td> <td>4120903</td>\n",
       "        </tr>\n",
       "        <tr>\n",
       "            <td>9   </td> <td>4125415</td> <td>4108349</td>\n",
       "        </tr>\n",
       "    </tbody>\n",
       "</table>\n",
       "<p>... (92 rows omitted)</p>"
      ],
      "text/plain": [
       "AGE  | 2010    | 2014\n",
       "0    | 3951330 | 3949775\n",
       "1    | 3957888 | 3949776\n",
       "2    | 4090862 | 3959664\n",
       "3    | 4111920 | 4007079\n",
       "4    | 4077551 | 4005716\n",
       "5    | 4064653 | 4006900\n",
       "6    | 4073013 | 4135930\n",
       "7    | 4043046 | 4155326\n",
       "8    | 4025604 | 4120903\n",
       "9    | 4125415 | 4108349\n",
       "... (92 rows omitted)"
      ]
     },
     "execution_count": 54,
     "metadata": {},
     "output_type": "execute_result"
    }
   ],
   "source": [
    "census_no_gender = census_2010_2014.where(\"GENDER\", are.equal_to(0)).drop(\"GENDER\")\n",
    "census_no_gender"
   ]
  },
  {
   "cell_type": "code",
   "execution_count": 56,
   "metadata": {},
   "outputs": [],
   "source": [
    "census_with_difference = census_no_gender.with_column(\"Difference\", census_no_gender.column(\"2014\") - census_no_gender.column(\"2010\"))"
   ]
  },
  {
   "cell_type": "code",
   "execution_count": 59,
   "metadata": {},
   "outputs": [],
   "source": [
    "census_final = census_with_difference.with_column(\"% difference\", 100.0 * census_with_difference.column(\"Difference\") / census_with_difference.column(\"2010\"))"
   ]
  },
  {
   "cell_type": "code",
   "execution_count": 60,
   "metadata": {},
   "outputs": [
    {
     "data": {
      "text/html": [
       "<table border=\"1\" class=\"dataframe\">\n",
       "    <thead>\n",
       "        <tr>\n",
       "            <th>AGE</th> <th>2010</th> <th>2014</th> <th>Difference</th> <th>% difference</th>\n",
       "        </tr>\n",
       "    </thead>\n",
       "    <tbody>\n",
       "        <tr>\n",
       "            <td>999 </td> <td>309346863</td> <td>318907401</td> <td>9560538   </td> <td>3.09056     </td>\n",
       "        </tr>\n",
       "        <tr>\n",
       "            <td>100 </td> <td>54410    </td> <td>71626    </td> <td>17216     </td> <td>31.6412     </td>\n",
       "        </tr>\n",
       "        <tr>\n",
       "            <td>99  </td> <td>32178    </td> <td>41468    </td> <td>9290      </td> <td>28.8707     </td>\n",
       "        </tr>\n",
       "        <tr>\n",
       "            <td>98  </td> <td>47037    </td> <td>59726    </td> <td>12689     </td> <td>26.9766     </td>\n",
       "        </tr>\n",
       "        <tr>\n",
       "            <td>97  </td> <td>68893    </td> <td>83089    </td> <td>14196     </td> <td>20.6059     </td>\n",
       "        </tr>\n",
       "        <tr>\n",
       "            <td>96  </td> <td>97161    </td> <td>120485   </td> <td>23324     </td> <td>24.0055     </td>\n",
       "        </tr>\n",
       "        <tr>\n",
       "            <td>95  </td> <td>131077   </td> <td>156288   </td> <td>25211     </td> <td>19.2337     </td>\n",
       "        </tr>\n",
       "        <tr>\n",
       "            <td>94  </td> <td>170775   </td> <td>217328   </td> <td>46553     </td> <td>27.2598     </td>\n",
       "        </tr>\n",
       "        <tr>\n",
       "            <td>93  </td> <td>219064   </td> <td>284885   </td> <td>65821     </td> <td>30.0465     </td>\n",
       "        </tr>\n",
       "        <tr>\n",
       "            <td>92  </td> <td>288841   </td> <td>352912   </td> <td>64071     </td> <td>22.1821     </td>\n",
       "        </tr>\n",
       "    </tbody>\n",
       "</table>\n",
       "<p>... (92 rows omitted)</p>"
      ],
      "text/plain": [
       "AGE  | 2010      | 2014      | Difference | % difference\n",
       "999  | 309346863 | 318907401 | 9560538    | 3.09056\n",
       "100  | 54410     | 71626     | 17216      | 31.6412\n",
       "99   | 32178     | 41468     | 9290       | 28.8707\n",
       "98   | 47037     | 59726     | 12689      | 26.9766\n",
       "97   | 68893     | 83089     | 14196      | 20.6059\n",
       "96   | 97161     | 120485    | 23324      | 24.0055\n",
       "95   | 131077    | 156288    | 25211      | 19.2337\n",
       "94   | 170775    | 217328    | 46553      | 27.2598\n",
       "93   | 219064    | 284885    | 65821      | 30.0465\n",
       "92   | 288841    | 352912    | 64071      | 22.1821\n",
       "... (92 rows omitted)"
      ]
     },
     "execution_count": 60,
     "metadata": {},
     "output_type": "execute_result"
    }
   ],
   "source": [
    "census_final.sort(\"AGE\", descending=True)"
   ]
  },
  {
   "cell_type": "code",
   "execution_count": null,
   "metadata": {},
   "outputs": [],
   "source": []
  }
 ],
 "metadata": {
  "kernelspec": {
   "display_name": "Python 3",
   "language": "python",
   "name": "python3"
  },
  "language_info": {
   "codemirror_mode": {
    "name": "ipython",
    "version": 3
   },
   "file_extension": ".py",
   "mimetype": "text/x-python",
   "name": "python",
   "nbconvert_exporter": "python",
   "pygments_lexer": "ipython3",
   "version": "3.6.7"
  }
 },
 "nbformat": 4,
 "nbformat_minor": 2
}
