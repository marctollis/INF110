{
 "cells": [
  {
   "cell_type": "code",
   "execution_count": 103,
   "metadata": {},
   "outputs": [],
   "source": [
    "import numpy as np\n",
    "from datascience import *"
   ]
  },
  {
   "cell_type": "markdown",
   "metadata": {},
   "source": [
    "# Examples with Properties\n",
    "\n",
    "Properties look like variables but they automatically get their value from the object."
   ]
  },
  {
   "cell_type": "code",
   "execution_count": 3,
   "metadata": {},
   "outputs": [
    {
     "data": {
      "text/html": [
       "<table border=\"1\" class=\"dataframe\">\n",
       "    <thead>\n",
       "        <tr>\n",
       "            <th>Name</th> <th>Height</th>\n",
       "        </tr>\n",
       "    </thead>\n",
       "    <tbody>\n",
       "        <tr>\n",
       "            <td>Colebank, Jordan Elise      </td> <td>65    </td>\n",
       "        </tr>\n",
       "        <tr>\n",
       "            <td>Collins, Matthew T          </td> <td>72    </td>\n",
       "        </tr>\n",
       "        <tr>\n",
       "            <td>Cook, Kylie Nichole         </td> <td>68    </td>\n",
       "        </tr>\n",
       "        <tr>\n",
       "            <td>Downard, Andrew Nicholas    </td> <td>nan   </td>\n",
       "        </tr>\n",
       "        <tr>\n",
       "            <td>Duerinck, Randy Keith       </td> <td>67    </td>\n",
       "        </tr>\n",
       "        <tr>\n",
       "            <td>Graham, Cassandra Michelle  </td> <td>nan   </td>\n",
       "        </tr>\n",
       "        <tr>\n",
       "            <td>Hodge, Devin Jonathan Monroe</td> <td>74    </td>\n",
       "        </tr>\n",
       "        <tr>\n",
       "            <td>Hoover, David R             </td> <td>74.5  </td>\n",
       "        </tr>\n",
       "        <tr>\n",
       "            <td>Linden, Andrew Ryan         </td> <td>69    </td>\n",
       "        </tr>\n",
       "        <tr>\n",
       "            <td>Lynn, Matthew Michael       </td> <td>75    </td>\n",
       "        </tr>\n",
       "    </tbody>\n",
       "</table>\n",
       "<p>... (3 rows omitted)</p>"
      ],
      "text/plain": [
       "Name                         | Height\n",
       "Colebank, Jordan Elise       | 65\n",
       "Collins, Matthew T           | 72\n",
       "Cook, Kylie Nichole          | 68\n",
       "Downard, Andrew Nicholas     | nan\n",
       "Duerinck, Randy Keith        | 67\n",
       "Graham, Cassandra Michelle   | nan\n",
       "Hodge, Devin Jonathan Monroe | 74\n",
       "Hoover, David R              | 74.5\n",
       "Linden, Andrew Ryan          | 69\n",
       "Lynn, Matthew Michael        | 75\n",
       "... (3 rows omitted)"
      ]
     },
     "execution_count": 3,
     "metadata": {},
     "output_type": "execute_result"
    }
   ],
   "source": [
    "heights = Table().read_table(\"heights.csv\")\n",
    "heights"
   ]
  },
  {
   "cell_type": "code",
   "execution_count": 5,
   "metadata": {},
   "outputs": [
    {
     "data": {
      "text/plain": [
       "2"
      ]
     },
     "execution_count": 5,
     "metadata": {},
     "output_type": "execute_result"
    }
   ],
   "source": [
    "heights.num_columns"
   ]
  },
  {
   "cell_type": "code",
   "execution_count": 6,
   "metadata": {},
   "outputs": [
    {
     "data": {
      "text/plain": [
       "13"
      ]
     },
     "execution_count": 6,
     "metadata": {},
     "output_type": "execute_result"
    }
   ],
   "source": [
    "heights.num_rows"
   ]
  },
  {
   "cell_type": "code",
   "execution_count": 7,
   "metadata": {},
   "outputs": [
    {
     "data": {
      "text/plain": [
       "('Name', 'Height')"
      ]
     },
     "execution_count": 7,
     "metadata": {},
     "output_type": "execute_result"
    }
   ],
   "source": [
    "heights.labels"
   ]
  },
  {
   "cell_type": "code",
   "execution_count": 8,
   "metadata": {},
   "outputs": [
    {
     "data": {
      "text/html": [
       "<table border=\"1\" class=\"dataframe\">\n",
       "    <thead>\n",
       "        <tr>\n",
       "            <th>Name</th> <th>Height in Inches</th>\n",
       "        </tr>\n",
       "    </thead>\n",
       "    <tbody>\n",
       "        <tr>\n",
       "            <td>Colebank, Jordan Elise      </td> <td>65              </td>\n",
       "        </tr>\n",
       "        <tr>\n",
       "            <td>Collins, Matthew T          </td> <td>72              </td>\n",
       "        </tr>\n",
       "        <tr>\n",
       "            <td>Cook, Kylie Nichole         </td> <td>68              </td>\n",
       "        </tr>\n",
       "        <tr>\n",
       "            <td>Downard, Andrew Nicholas    </td> <td>nan             </td>\n",
       "        </tr>\n",
       "        <tr>\n",
       "            <td>Duerinck, Randy Keith       </td> <td>67              </td>\n",
       "        </tr>\n",
       "        <tr>\n",
       "            <td>Graham, Cassandra Michelle  </td> <td>nan             </td>\n",
       "        </tr>\n",
       "        <tr>\n",
       "            <td>Hodge, Devin Jonathan Monroe</td> <td>74              </td>\n",
       "        </tr>\n",
       "        <tr>\n",
       "            <td>Hoover, David R             </td> <td>74.5            </td>\n",
       "        </tr>\n",
       "        <tr>\n",
       "            <td>Linden, Andrew Ryan         </td> <td>69              </td>\n",
       "        </tr>\n",
       "        <tr>\n",
       "            <td>Lynn, Matthew Michael       </td> <td>75              </td>\n",
       "        </tr>\n",
       "    </tbody>\n",
       "</table>\n",
       "<p>... (3 rows omitted)</p>"
      ],
      "text/plain": [
       "Name                         | Height in Inches\n",
       "Colebank, Jordan Elise       | 65\n",
       "Collins, Matthew T           | 72\n",
       "Cook, Kylie Nichole          | 68\n",
       "Downard, Andrew Nicholas     | nan\n",
       "Duerinck, Randy Keith        | 67\n",
       "Graham, Cassandra Michelle   | nan\n",
       "Hodge, Devin Jonathan Monroe | 74\n",
       "Hoover, David R              | 74.5\n",
       "Linden, Andrew Ryan          | 69\n",
       "Lynn, Matthew Michael        | 75\n",
       "... (3 rows omitted)"
      ]
     },
     "execution_count": 8,
     "metadata": {},
     "output_type": "execute_result"
    }
   ],
   "source": [
    "heights.relabeled(\"Height\", \"Height in Inches\")"
   ]
  },
  {
   "cell_type": "code",
   "execution_count": 9,
   "metadata": {},
   "outputs": [
    {
     "data": {
      "text/plain": [
       "array(['Colebank, Jordan Elise', 'Collins, Matthew T',\n",
       "       'Cook, Kylie Nichole', 'Downard, Andrew Nicholas',\n",
       "       'Duerinck, Randy Keith', 'Graham, Cassandra Michelle',\n",
       "       'Hodge, Devin Jonathan Monroe', 'Hoover, David R',\n",
       "       'Linden, Andrew Ryan', 'Lynn, Matthew Michael',\n",
       "       'Martinez, Carli Sabrina', 'Verrando, Fabienne Esther',\n",
       "       'Palmer, James'], dtype='<U28')"
      ]
     },
     "execution_count": 9,
     "metadata": {},
     "output_type": "execute_result"
    }
   ],
   "source": [
    "heights.column(\"Name\")"
   ]
  },
  {
   "cell_type": "code",
   "execution_count": 10,
   "metadata": {},
   "outputs": [
    {
     "data": {
      "text/plain": [
       "array([65. , 72. , 68. ,  nan, 67. ,  nan, 74. , 74.5, 69. , 75. , 65. ,\n",
       "        nan, 71. ])"
      ]
     },
     "execution_count": 10,
     "metadata": {},
     "output_type": "execute_result"
    }
   ],
   "source": [
    "heights.column(1)"
   ]
  },
  {
   "cell_type": "code",
   "execution_count": 11,
   "metadata": {},
   "outputs": [
    {
     "data": {
      "text/html": [
       "<table border=\"1\" class=\"dataframe\">\n",
       "    <thead>\n",
       "        <tr>\n",
       "            <th>Name</th> <th>Height</th> <th>Student ID</th> <th>Favorite Temperature</th>\n",
       "        </tr>\n",
       "    </thead>\n",
       "    <tbody>\n",
       "        <tr>\n",
       "            <td>Colebank, Jordan Elise      </td> <td>65    </td> <td>2000001   </td> <td>34                  </td>\n",
       "        </tr>\n",
       "        <tr>\n",
       "            <td>Collins, Matthew T          </td> <td>72    </td> <td>2000002   </td> <td>56                  </td>\n",
       "        </tr>\n",
       "        <tr>\n",
       "            <td>Cook, Kylie Nichole         </td> <td>68    </td> <td>2000003   </td> <td>75                  </td>\n",
       "        </tr>\n",
       "        <tr>\n",
       "            <td>Downard, Andrew Nicholas    </td> <td>nan   </td> <td>2000004   </td> <td>57                  </td>\n",
       "        </tr>\n",
       "        <tr>\n",
       "            <td>Duerinck, Randy Keith       </td> <td>67    </td> <td>2000005   </td> <td>98                  </td>\n",
       "        </tr>\n",
       "        <tr>\n",
       "            <td>Graham, Cassandra Michelle  </td> <td>nan   </td> <td>2000006   </td> <td>22                  </td>\n",
       "        </tr>\n",
       "        <tr>\n",
       "            <td>Hodge, Devin Jonathan Monroe</td> <td>74    </td> <td>2000007   </td> <td>11                  </td>\n",
       "        </tr>\n",
       "        <tr>\n",
       "            <td>Hoover, David R             </td> <td>74.5  </td> <td>2000008   </td> <td>7                   </td>\n",
       "        </tr>\n",
       "        <tr>\n",
       "            <td>Linden, Andrew Ryan         </td> <td>69    </td> <td>2000009   </td> <td>85                  </td>\n",
       "        </tr>\n",
       "        <tr>\n",
       "            <td>Lynn, Matthew Michael       </td> <td>75    </td> <td>2000010   </td> <td>12                  </td>\n",
       "        </tr>\n",
       "    </tbody>\n",
       "</table>\n",
       "<p>... (3 rows omitted)</p>"
      ],
      "text/plain": [
       "Name                         | Height | Student ID | Favorite Temperature\n",
       "Colebank, Jordan Elise       | 65     | 2000001    | 34\n",
       "Collins, Matthew T           | 72     | 2000002    | 56\n",
       "Cook, Kylie Nichole          | 68     | 2000003    | 75\n",
       "Downard, Andrew Nicholas     | nan    | 2000004    | 57\n",
       "Duerinck, Randy Keith        | 67     | 2000005    | 98\n",
       "Graham, Cassandra Michelle   | nan    | 2000006    | 22\n",
       "Hodge, Devin Jonathan Monroe | 74     | 2000007    | 11\n",
       "Hoover, David R              | 74.5   | 2000008    | 7\n",
       "Linden, Andrew Ryan          | 69     | 2000009    | 85\n",
       "Lynn, Matthew Michael        | 75     | 2000010    | 12\n",
       "... (3 rows omitted)"
      ]
     },
     "execution_count": 11,
     "metadata": {},
     "output_type": "execute_result"
    }
   ],
   "source": [
    "new_heights = heights.with_column(\"Student ID\", np.arange(2000001,2000014)).with_column(\"Favorite Temperature\", make_array(34, 56, 75, 57, 98, 22, 11, 7, 85, 12, 45, 33, 22))\n",
    "new_heights"
   ]
  },
  {
   "cell_type": "code",
   "execution_count": 12,
   "metadata": {},
   "outputs": [
    {
     "data": {
      "text/html": [
       "<table border=\"1\" class=\"dataframe\">\n",
       "    <thead>\n",
       "        <tr>\n",
       "            <th>Name</th> <th>Student ID</th> <th>Favorite Temperature</th>\n",
       "        </tr>\n",
       "    </thead>\n",
       "    <tbody>\n",
       "        <tr>\n",
       "            <td>Colebank, Jordan Elise      </td> <td>2000001   </td> <td>34                  </td>\n",
       "        </tr>\n",
       "        <tr>\n",
       "            <td>Collins, Matthew T          </td> <td>2000002   </td> <td>56                  </td>\n",
       "        </tr>\n",
       "        <tr>\n",
       "            <td>Cook, Kylie Nichole         </td> <td>2000003   </td> <td>75                  </td>\n",
       "        </tr>\n",
       "        <tr>\n",
       "            <td>Downard, Andrew Nicholas    </td> <td>2000004   </td> <td>57                  </td>\n",
       "        </tr>\n",
       "        <tr>\n",
       "            <td>Duerinck, Randy Keith       </td> <td>2000005   </td> <td>98                  </td>\n",
       "        </tr>\n",
       "        <tr>\n",
       "            <td>Graham, Cassandra Michelle  </td> <td>2000006   </td> <td>22                  </td>\n",
       "        </tr>\n",
       "        <tr>\n",
       "            <td>Hodge, Devin Jonathan Monroe</td> <td>2000007   </td> <td>11                  </td>\n",
       "        </tr>\n",
       "        <tr>\n",
       "            <td>Hoover, David R             </td> <td>2000008   </td> <td>7                   </td>\n",
       "        </tr>\n",
       "        <tr>\n",
       "            <td>Linden, Andrew Ryan         </td> <td>2000009   </td> <td>85                  </td>\n",
       "        </tr>\n",
       "        <tr>\n",
       "            <td>Lynn, Matthew Michael       </td> <td>2000010   </td> <td>12                  </td>\n",
       "        </tr>\n",
       "    </tbody>\n",
       "</table>\n",
       "<p>... (3 rows omitted)</p>"
      ],
      "text/plain": [
       "Name                         | Student ID | Favorite Temperature\n",
       "Colebank, Jordan Elise       | 2000001    | 34\n",
       "Collins, Matthew T           | 2000002    | 56\n",
       "Cook, Kylie Nichole          | 2000003    | 75\n",
       "Downard, Andrew Nicholas     | 2000004    | 57\n",
       "Duerinck, Randy Keith        | 2000005    | 98\n",
       "Graham, Cassandra Michelle   | 2000006    | 22\n",
       "Hodge, Devin Jonathan Monroe | 2000007    | 11\n",
       "Hoover, David R              | 2000008    | 7\n",
       "Linden, Andrew Ryan          | 2000009    | 85\n",
       "Lynn, Matthew Michael        | 2000010    | 12\n",
       "... (3 rows omitted)"
      ]
     },
     "execution_count": 12,
     "metadata": {},
     "output_type": "execute_result"
    }
   ],
   "source": [
    "new_heights.select(\"Name\", \"Student ID\", \"Favorite Temperature\")"
   ]
  },
  {
   "cell_type": "code",
   "execution_count": 13,
   "metadata": {},
   "outputs": [
    {
     "data": {
      "text/html": [
       "<table border=\"1\" class=\"dataframe\">\n",
       "    <thead>\n",
       "        <tr>\n",
       "            <th>Name</th> <th>Favorite Temperature</th>\n",
       "        </tr>\n",
       "    </thead>\n",
       "    <tbody>\n",
       "        <tr>\n",
       "            <td>Colebank, Jordan Elise      </td> <td>34                  </td>\n",
       "        </tr>\n",
       "        <tr>\n",
       "            <td>Collins, Matthew T          </td> <td>56                  </td>\n",
       "        </tr>\n",
       "        <tr>\n",
       "            <td>Cook, Kylie Nichole         </td> <td>75                  </td>\n",
       "        </tr>\n",
       "        <tr>\n",
       "            <td>Downard, Andrew Nicholas    </td> <td>57                  </td>\n",
       "        </tr>\n",
       "        <tr>\n",
       "            <td>Duerinck, Randy Keith       </td> <td>98                  </td>\n",
       "        </tr>\n",
       "        <tr>\n",
       "            <td>Graham, Cassandra Michelle  </td> <td>22                  </td>\n",
       "        </tr>\n",
       "        <tr>\n",
       "            <td>Hodge, Devin Jonathan Monroe</td> <td>11                  </td>\n",
       "        </tr>\n",
       "        <tr>\n",
       "            <td>Hoover, David R             </td> <td>7                   </td>\n",
       "        </tr>\n",
       "        <tr>\n",
       "            <td>Linden, Andrew Ryan         </td> <td>85                  </td>\n",
       "        </tr>\n",
       "        <tr>\n",
       "            <td>Lynn, Matthew Michael       </td> <td>12                  </td>\n",
       "        </tr>\n",
       "    </tbody>\n",
       "</table>\n",
       "<p>... (3 rows omitted)</p>"
      ],
      "text/plain": [
       "Name                         | Favorite Temperature\n",
       "Colebank, Jordan Elise       | 34\n",
       "Collins, Matthew T           | 56\n",
       "Cook, Kylie Nichole          | 75\n",
       "Downard, Andrew Nicholas     | 57\n",
       "Duerinck, Randy Keith        | 98\n",
       "Graham, Cassandra Michelle   | 22\n",
       "Hodge, Devin Jonathan Monroe | 11\n",
       "Hoover, David R              | 7\n",
       "Linden, Andrew Ryan          | 85\n",
       "Lynn, Matthew Michael        | 12\n",
       "... (3 rows omitted)"
      ]
     },
     "execution_count": 13,
     "metadata": {},
     "output_type": "execute_result"
    }
   ],
   "source": [
    "new_heights.drop(\"Height\", \"Student ID\")"
   ]
  },
  {
   "cell_type": "code",
   "execution_count": 14,
   "metadata": {},
   "outputs": [
    {
     "data": {
      "text/html": [
       "<table border=\"1\" class=\"dataframe\">\n",
       "    <thead>\n",
       "        <tr>\n",
       "            <th>Name</th> <th>Height</th>\n",
       "        </tr>\n",
       "    </thead>\n",
       "    <tbody>\n",
       "        <tr>\n",
       "            <td>Colebank, Jordan Elise      </td> <td>65    </td>\n",
       "        </tr>\n",
       "        <tr>\n",
       "            <td>Collins, Matthew T          </td> <td>72    </td>\n",
       "        </tr>\n",
       "        <tr>\n",
       "            <td>Cook, Kylie Nichole         </td> <td>68    </td>\n",
       "        </tr>\n",
       "        <tr>\n",
       "            <td>Downard, Andrew Nicholas    </td> <td>nan   </td>\n",
       "        </tr>\n",
       "        <tr>\n",
       "            <td>Duerinck, Randy Keith       </td> <td>67    </td>\n",
       "        </tr>\n",
       "        <tr>\n",
       "            <td>Graham, Cassandra Michelle  </td> <td>nan   </td>\n",
       "        </tr>\n",
       "        <tr>\n",
       "            <td>Hodge, Devin Jonathan Monroe</td> <td>74    </td>\n",
       "        </tr>\n",
       "        <tr>\n",
       "            <td>Hoover, David R             </td> <td>74.5  </td>\n",
       "        </tr>\n",
       "        <tr>\n",
       "            <td>Linden, Andrew Ryan         </td> <td>69    </td>\n",
       "        </tr>\n",
       "        <tr>\n",
       "            <td>Lynn, Matthew Michael       </td> <td>75    </td>\n",
       "        </tr>\n",
       "    </tbody>\n",
       "</table>\n",
       "<p>... (3 rows omitted)</p>"
      ],
      "text/plain": [
       "Name                         | Height\n",
       "Colebank, Jordan Elise       | 65\n",
       "Collins, Matthew T           | 72\n",
       "Cook, Kylie Nichole          | 68\n",
       "Downard, Andrew Nicholas     | nan\n",
       "Duerinck, Randy Keith        | 67\n",
       "Graham, Cassandra Michelle   | nan\n",
       "Hodge, Devin Jonathan Monroe | 74\n",
       "Hoover, David R              | 74.5\n",
       "Linden, Andrew Ryan          | 69\n",
       "Lynn, Matthew Michael        | 75\n",
       "... (3 rows omitted)"
      ]
     },
     "execution_count": 14,
     "metadata": {},
     "output_type": "execute_result"
    }
   ],
   "source": [
    "heights"
   ]
  },
  {
   "cell_type": "code",
   "execution_count": 15,
   "metadata": {},
   "outputs": [
    {
     "data": {
      "text/html": [
       "<table border=\"1\" class=\"dataframe\">\n",
       "    <thead>\n",
       "        <tr>\n",
       "            <th>Name</th> <th>Height</th> <th>Student ID</th> <th>Favorite Temperature</th>\n",
       "        </tr>\n",
       "    </thead>\n",
       "    <tbody>\n",
       "        <tr>\n",
       "            <td>Colebank, Jordan Elise      </td> <td>65    </td> <td>2000001   </td> <td>34                  </td>\n",
       "        </tr>\n",
       "        <tr>\n",
       "            <td>Collins, Matthew T          </td> <td>72    </td> <td>2000002   </td> <td>56                  </td>\n",
       "        </tr>\n",
       "        <tr>\n",
       "            <td>Cook, Kylie Nichole         </td> <td>68    </td> <td>2000003   </td> <td>75                  </td>\n",
       "        </tr>\n",
       "        <tr>\n",
       "            <td>Downard, Andrew Nicholas    </td> <td>nan   </td> <td>2000004   </td> <td>57                  </td>\n",
       "        </tr>\n",
       "        <tr>\n",
       "            <td>Duerinck, Randy Keith       </td> <td>67    </td> <td>2000005   </td> <td>98                  </td>\n",
       "        </tr>\n",
       "        <tr>\n",
       "            <td>Graham, Cassandra Michelle  </td> <td>nan   </td> <td>2000006   </td> <td>22                  </td>\n",
       "        </tr>\n",
       "        <tr>\n",
       "            <td>Hodge, Devin Jonathan Monroe</td> <td>74    </td> <td>2000007   </td> <td>11                  </td>\n",
       "        </tr>\n",
       "        <tr>\n",
       "            <td>Hoover, David R             </td> <td>74.5  </td> <td>2000008   </td> <td>7                   </td>\n",
       "        </tr>\n",
       "        <tr>\n",
       "            <td>Linden, Andrew Ryan         </td> <td>69    </td> <td>2000009   </td> <td>85                  </td>\n",
       "        </tr>\n",
       "        <tr>\n",
       "            <td>Lynn, Matthew Michael       </td> <td>75    </td> <td>2000010   </td> <td>12                  </td>\n",
       "        </tr>\n",
       "    </tbody>\n",
       "</table>\n",
       "<p>... (3 rows omitted)</p>"
      ],
      "text/plain": [
       "Name                         | Height | Student ID | Favorite Temperature\n",
       "Colebank, Jordan Elise       | 65     | 2000001    | 34\n",
       "Collins, Matthew T           | 72     | 2000002    | 56\n",
       "Cook, Kylie Nichole          | 68     | 2000003    | 75\n",
       "Downard, Andrew Nicholas     | nan    | 2000004    | 57\n",
       "Duerinck, Randy Keith        | 67     | 2000005    | 98\n",
       "Graham, Cassandra Michelle   | nan    | 2000006    | 22\n",
       "Hodge, Devin Jonathan Monroe | 74     | 2000007    | 11\n",
       "Hoover, David R              | 74.5   | 2000008    | 7\n",
       "Linden, Andrew Ryan          | 69     | 2000009    | 85\n",
       "Lynn, Matthew Michael        | 75     | 2000010    | 12\n",
       "... (3 rows omitted)"
      ]
     },
     "execution_count": 15,
     "metadata": {},
     "output_type": "execute_result"
    }
   ],
   "source": [
    "new_heights"
   ]
  },
  {
   "cell_type": "code",
   "execution_count": 16,
   "metadata": {},
   "outputs": [],
   "source": [
    "salaries = Table().read_table(\"07_federalpay_top_100.csv\")"
   ]
  },
  {
   "cell_type": "code",
   "execution_count": 17,
   "metadata": {},
   "outputs": [
    {
     "data": {
      "text/html": [
       "<table border=\"1\" class=\"dataframe\">\n",
       "    <thead>\n",
       "        <tr>\n",
       "            <th>Name</th> <th>Organization</th> <th>Occupation</th> <th>Pay</th> <th>Location</th>\n",
       "        </tr>\n",
       "    </thead>\n",
       "    <tbody>\n",
       "        <tr>\n",
       "            <td>SHERMAN RACHEL E  </td> <td>FOOD AND DRUG ADMINISTRATION </td> <td>MEDICAL OFFICER</td> <td>390000</td> <td>MARYLAND  </td>\n",
       "        </tr>\n",
       "        <tr>\n",
       "            <td>FAUCI ANTHONY S   </td> <td>NATIONAL INSTITUTES OF HEALTH</td> <td>MEDICAL OFFICER</td> <td>384625</td> <td>MARYLAND  </td>\n",
       "        </tr>\n",
       "        <tr>\n",
       "            <td>HUSSAIN SHABBAR   </td> <td>INDIAN HEALTH SERVICE        </td> <td>MEDICAL OFFICER</td> <td>382938</td> <td>NEW MEXICO</td>\n",
       "        </tr>\n",
       "        <tr>\n",
       "            <td>LUCERO EDWARD M   </td> <td>INDIAN HEALTH SERVICE        </td> <td>MEDICAL OFFICER</td> <td>379482</td> <td>ARIZONA   </td>\n",
       "        </tr>\n",
       "        <tr>\n",
       "            <td>SHARPLESS NORMAN E</td> <td>NATIONAL INSTITUTES OF HEALTH</td> <td>MEDICAL OFFICER</td> <td>375000</td> <td>MARYLAND  </td>\n",
       "        </tr>\n",
       "    </tbody>\n",
       "</table>\n",
       "<p>... (95 rows omitted)</p>"
      ],
      "text/plain": [
       "<IPython.core.display.HTML object>"
      ]
     },
     "metadata": {},
     "output_type": "display_data"
    }
   ],
   "source": [
    "salaries.sort(\"Pay\", descending=True).show(5)"
   ]
  },
  {
   "cell_type": "code",
   "execution_count": 18,
   "metadata": {},
   "outputs": [
    {
     "data": {
      "text/html": [
       "<table border=\"1\" class=\"dataframe\">\n",
       "    <thead>\n",
       "        <tr>\n",
       "            <th>Name</th> <th>Organization</th> <th>Occupation</th> <th>Pay</th> <th>Location</th>\n",
       "        </tr>\n",
       "    </thead>\n",
       "    <tbody>\n",
       "        <tr>\n",
       "            <td>AGARWAL PIYUSH K</td> <td>NATIONAL INSTITUTES OF HEALTH</td> <td>MEDICAL OFFICER</td> <td>305000</td> <td>MARYLAND</td>\n",
       "        </tr>\n",
       "    </tbody>\n",
       "</table>\n",
       "<p>... (99 rows omitted)</p>"
      ],
      "text/plain": [
       "<IPython.core.display.HTML object>"
      ]
     },
     "metadata": {},
     "output_type": "display_data"
    }
   ],
   "source": [
    "salaries.show(max_rows=1)"
   ]
  },
  {
   "cell_type": "code",
   "execution_count": 19,
   "metadata": {},
   "outputs": [
    {
     "data": {
      "text/html": [
       "<table border=\"1\" class=\"dataframe\">\n",
       "    <thead>\n",
       "        <tr>\n",
       "            <th>Name</th> <th>Organization</th> <th>Occupation</th> <th>Pay</th> <th>Location</th>\n",
       "        </tr>\n",
       "    </thead>\n",
       "    <tbody>\n",
       "        <tr>\n",
       "            <td>CITRIN DEBORAH E </td> <td>NATIONAL INSTITUTES OF HEALTH</td> <td>MEDICAL OFFICER</td> <td>317000</td> <td>MARYLAND  </td>\n",
       "        </tr>\n",
       "        <tr>\n",
       "            <td>GALLIN JOHN I    </td> <td>NATIONAL INSTITUTES OF HEALTH</td> <td>MEDICAL OFFICER</td> <td>348723</td> <td>MARYLAND  </td>\n",
       "        </tr>\n",
       "        <tr>\n",
       "            <td>GREEN ERIC D     </td> <td>NATIONAL INSTITUTES OF HEALTH</td> <td>MEDICAL OFFICER</td> <td>303864</td> <td>MARYLAND  </td>\n",
       "        </tr>\n",
       "        <tr>\n",
       "            <td>JONES ELIZABETH C</td> <td>NATIONAL INSTITUTES OF HEALTH</td> <td>MEDICAL OFFICER</td> <td>306250</td> <td>MARYLAND  </td>\n",
       "        </tr>\n",
       "        <tr>\n",
       "            <td>LEE JANICE S     </td> <td>NATIONAL INSTITUTES OF HEALTH</td> <td>MEDICAL OFFICER</td> <td>291614</td> <td>MARYLAND  </td>\n",
       "        </tr>\n",
       "        <tr>\n",
       "            <td>MEDINA EDWARD R  </td> <td>INDIAN HEALTH SERVICE        </td> <td>MEDICAL OFFICER</td> <td>327075</td> <td>ARIZONA   </td>\n",
       "        </tr>\n",
       "        <tr>\n",
       "            <td>PINTO PETER A    </td> <td>NATIONAL INSTITUTES OF HEALTH</td> <td>MEDICAL OFFICER</td> <td>315000</td> <td>MARYLAND  </td>\n",
       "        </tr>\n",
       "        <tr>\n",
       "            <td>SCHNORR CHARLES D</td> <td>INDIAN HEALTH SERVICE        </td> <td>MEDICAL OFFICER</td> <td>290000</td> <td>NEW MEXICO</td>\n",
       "        </tr>\n",
       "        <tr>\n",
       "            <td>TABAK LAWRENCE A </td> <td>NATIONAL INSTITUTES OF HEALTH</td> <td>DENTAL OFFICER </td> <td>337925</td> <td>MARYLAND  </td>\n",
       "        </tr>\n",
       "    </tbody>\n",
       "</table>"
      ],
      "text/plain": [
       "Name              | Organization                  | Occupation      | Pay    | Location\n",
       "CITRIN DEBORAH E  | NATIONAL INSTITUTES OF HEALTH | MEDICAL OFFICER | 317000 | MARYLAND\n",
       "GALLIN JOHN I     | NATIONAL INSTITUTES OF HEALTH | MEDICAL OFFICER | 348723 | MARYLAND\n",
       "GREEN ERIC D      | NATIONAL INSTITUTES OF HEALTH | MEDICAL OFFICER | 303864 | MARYLAND\n",
       "JONES ELIZABETH C | NATIONAL INSTITUTES OF HEALTH | MEDICAL OFFICER | 306250 | MARYLAND\n",
       "LEE JANICE S      | NATIONAL INSTITUTES OF HEALTH | MEDICAL OFFICER | 291614 | MARYLAND\n",
       "MEDINA EDWARD R   | INDIAN HEALTH SERVICE         | MEDICAL OFFICER | 327075 | ARIZONA\n",
       "PINTO PETER A     | NATIONAL INSTITUTES OF HEALTH | MEDICAL OFFICER | 315000 | MARYLAND\n",
       "SCHNORR CHARLES D | INDIAN HEALTH SERVICE         | MEDICAL OFFICER | 290000 | NEW MEXICO\n",
       "TABAK LAWRENCE A  | NATIONAL INSTITUTES OF HEALTH | DENTAL OFFICER  | 337925 | MARYLAND"
      ]
     },
     "execution_count": 19,
     "metadata": {},
     "output_type": "execute_result"
    }
   ],
   "source": [
    "salaries.take(np.arange(10,100,10))"
   ]
  },
  {
   "cell_type": "code",
   "execution_count": 20,
   "metadata": {},
   "outputs": [
    {
     "data": {
      "text/plain": [
       "64"
      ]
     },
     "execution_count": 20,
     "metadata": {},
     "output_type": "execute_result"
    }
   ],
   "source": [
    "salaries.where(\"Pay\", are.above(300000)).num_rows"
   ]
  },
  {
   "cell_type": "code",
   "execution_count": 21,
   "metadata": {},
   "outputs": [
    {
     "data": {
      "text/html": [
       "<table border=\"1\" class=\"dataframe\">\n",
       "    <thead>\n",
       "        <tr>\n",
       "            <th>Name</th> <th>Organization</th> <th>Occupation</th> <th>Pay</th> <th>Location</th>\n",
       "        </tr>\n",
       "    </thead>\n",
       "    <tbody>\n",
       "        <tr>\n",
       "            <td>LUCERO EDWARD M   </td> <td>INDIAN HEALTH SERVICE</td> <td>MEDICAL OFFICER</td> <td>379482</td> <td>ARIZONA </td>\n",
       "        </tr>\n",
       "        <tr>\n",
       "            <td>JOHNSON RONALD W  </td> <td>INDIAN HEALTH SERVICE</td> <td>MEDICAL OFFICER</td> <td>330000</td> <td>ARIZONA </td>\n",
       "        </tr>\n",
       "        <tr>\n",
       "            <td>BUENAFE MICHAEL L </td> <td>INDIAN HEALTH SERVICE</td> <td>MEDICAL OFFICER</td> <td>329720</td> <td>ARIZONA </td>\n",
       "        </tr>\n",
       "        <tr>\n",
       "            <td>MEDINA EDWARD R   </td> <td>INDIAN HEALTH SERVICE</td> <td>MEDICAL OFFICER</td> <td>327075</td> <td>ARIZONA </td>\n",
       "        </tr>\n",
       "        <tr>\n",
       "            <td>SHARPE LOUIS J.   </td> <td>INDIAN HEALTH SERVICE</td> <td>MEDICAL OFFICER</td> <td>325000</td> <td>ARIZONA </td>\n",
       "        </tr>\n",
       "        <tr>\n",
       "            <td>YEAGER LINDA L    </td> <td>INDIAN HEALTH SERVICE</td> <td>MEDICAL OFFICER</td> <td>320182</td> <td>ARIZONA </td>\n",
       "        </tr>\n",
       "        <tr>\n",
       "            <td>JORGENSON JOEL    </td> <td>INDIAN HEALTH SERVICE</td> <td>MEDICAL OFFICER</td> <td>312307</td> <td>ARIZONA </td>\n",
       "        </tr>\n",
       "        <tr>\n",
       "            <td>WORTMANN ERIC W.  </td> <td>INDIAN HEALTH SERVICE</td> <td>MEDICAL OFFICER</td> <td>305000</td> <td>ARIZONA </td>\n",
       "        </tr>\n",
       "        <tr>\n",
       "            <td>MCLAURIN BARBARA K</td> <td>INDIAN HEALTH SERVICE</td> <td>MEDICAL OFFICER</td> <td>301230</td> <td>ARIZONA </td>\n",
       "        </tr>\n",
       "        <tr>\n",
       "            <td>GAUL LAWRENCE W.  </td> <td>INDIAN HEALTH SERVICE</td> <td>MEDICAL OFFICER</td> <td>300332</td> <td>ARIZONA </td>\n",
       "        </tr>\n",
       "        <tr>\n",
       "            <td>HAMSTRA SCOTT A   </td> <td>INDIAN HEALTH SERVICE</td> <td>MEDICAL OFFICER</td> <td>300000</td> <td>ARIZONA </td>\n",
       "        </tr>\n",
       "        <tr>\n",
       "            <td>LUTHER ROSS D     </td> <td>INDIAN HEALTH SERVICE</td> <td>MEDICAL OFFICER</td> <td>300000</td> <td>ARIZONA </td>\n",
       "        </tr>\n",
       "        <tr>\n",
       "            <td>LYNCH KATHY S     </td> <td>INDIAN HEALTH SERVICE</td> <td>MEDICAL OFFICER</td> <td>300000</td> <td>ARIZONA </td>\n",
       "        </tr>\n",
       "        <tr>\n",
       "            <td>DURAN ANTONIO T.  </td> <td>INDIAN HEALTH SERVICE</td> <td>MEDICAL OFFICER</td> <td>298413</td> <td>ARIZONA </td>\n",
       "        </tr>\n",
       "        <tr>\n",
       "            <td>BOWERS STEPHEN M  </td> <td>INDIAN HEALTH SERVICE</td> <td>MEDICAL OFFICER</td> <td>296332</td> <td>ARIZONA </td>\n",
       "        </tr>\n",
       "    </tbody>\n",
       "</table>"
      ],
      "text/plain": [
       "<IPython.core.display.HTML object>"
      ]
     },
     "metadata": {},
     "output_type": "display_data"
    }
   ],
   "source": [
    "salaries.sort(\"Pay\", descending=True).where(\"Occupation\", are.equal_to(\"MEDICAL OFFICER\")).where(\"Location\", are.equal_to(\"ARIZONA\")).show(15)"
   ]
  },
  {
   "cell_type": "code",
   "execution_count": 22,
   "metadata": {},
   "outputs": [
    {
     "data": {
      "text/html": [
       "<table border=\"1\" class=\"dataframe\">\n",
       "    <thead>\n",
       "        <tr>\n",
       "            <th>Name</th> <th>Organization</th> <th>Occupation</th> <th>Pay</th> <th>Location</th>\n",
       "        </tr>\n",
       "    </thead>\n",
       "    <tbody>\n",
       "        <tr>\n",
       "            <td>AUSTIN CHRISTOPHER P </td> <td>NATIONAL INSTITUTES OF HEALTH</td> <td>MEDICAL OFFICER</td> <td>299320</td> <td>MARYLAND    </td>\n",
       "        </tr>\n",
       "        <tr>\n",
       "            <td>BOWERS STEPHEN M     </td> <td>INDIAN HEALTH SERVICE        </td> <td>MEDICAL OFFICER</td> <td>296332</td> <td>ARIZONA     </td>\n",
       "        </tr>\n",
       "        <tr>\n",
       "            <td>DURAN ANTONIO T.     </td> <td>INDIAN HEALTH SERVICE        </td> <td>MEDICAL OFFICER</td> <td>298413</td> <td>ARIZONA     </td>\n",
       "        </tr>\n",
       "        <tr>\n",
       "            <td>GERBSTADT CHRISTINE R</td> <td>NATIONAL INSTITUTES OF HEALTH</td> <td>MEDICAL OFFICER</td> <td>295000</td> <td>MARYLAND    </td>\n",
       "        </tr>\n",
       "        <tr>\n",
       "            <td>LAWRENCE LEE J       </td> <td>INDIAN HEALTH SERVICE        </td> <td>MEDICAL OFFICER</td> <td>295000</td> <td>SOUTH DAKOTA</td>\n",
       "        </tr>\n",
       "        <tr>\n",
       "            <td>MALAYERI ASHKAN      </td> <td>NATIONAL INSTITUTES OF HEALTH</td> <td>MEDICAL OFFICER</td> <td>296406</td> <td>MARYLAND    </td>\n",
       "        </tr>\n",
       "        <tr>\n",
       "            <td>MIAO NING            </td> <td>NATIONAL INSTITUTES OF HEALTH</td> <td>MEDICAL OFFICER</td> <td>295000</td> <td>MARYLAND    </td>\n",
       "        </tr>\n",
       "        <tr>\n",
       "            <td>PABLO DANIEL L       </td> <td>INDIAN HEALTH SERVICE        </td> <td>MEDICAL OFFICER</td> <td>296332</td> <td>OKLAHOMA    </td>\n",
       "        </tr>\n",
       "    </tbody>\n",
       "</table>"
      ],
      "text/plain": [
       "Name                  | Organization                  | Occupation      | Pay    | Location\n",
       "AUSTIN CHRISTOPHER P  | NATIONAL INSTITUTES OF HEALTH | MEDICAL OFFICER | 299320 | MARYLAND\n",
       "BOWERS STEPHEN M      | INDIAN HEALTH SERVICE         | MEDICAL OFFICER | 296332 | ARIZONA\n",
       "DURAN ANTONIO T.      | INDIAN HEALTH SERVICE         | MEDICAL OFFICER | 298413 | ARIZONA\n",
       "GERBSTADT CHRISTINE R | NATIONAL INSTITUTES OF HEALTH | MEDICAL OFFICER | 295000 | MARYLAND\n",
       "LAWRENCE LEE J        | INDIAN HEALTH SERVICE         | MEDICAL OFFICER | 295000 | SOUTH DAKOTA\n",
       "MALAYERI ASHKAN       | NATIONAL INSTITUTES OF HEALTH | MEDICAL OFFICER | 296406 | MARYLAND\n",
       "MIAO NING             | NATIONAL INSTITUTES OF HEALTH | MEDICAL OFFICER | 295000 | MARYLAND\n",
       "PABLO DANIEL L        | INDIAN HEALTH SERVICE         | MEDICAL OFFICER | 296332 | OKLAHOMA"
      ]
     },
     "execution_count": 22,
     "metadata": {},
     "output_type": "execute_result"
    }
   ],
   "source": [
    "salaries.where(\"Pay\", are.between(295000, 300000))"
   ]
  },
  {
   "cell_type": "code",
   "execution_count": 78,
   "metadata": {},
   "outputs": [
    {
     "data": {
      "text/plain": [
       "306"
      ]
     },
     "execution_count": 78,
     "metadata": {},
     "output_type": "execute_result"
    }
   ],
   "source": [
    "# As of August 2021, this census file is online here: \n",
    "data = 'http://www2.census.gov/programs-surveys/popest/technical-documentation/file-layouts/2010-2019/nc-est2019-agesex-res.csv'\n",
    "\n",
    "# A local copy can be accessed here in case census.gov moves the file:\n",
    "# data = path_data + 'nc-est2019-agesex-res.csv'\n",
    "\n",
    "full_census_table = Table().read_table(data)\n",
    "full_census_table.num_rows\n",
    "\n",
    "#another way to do this would be to just provide the URL, it works:\n",
    "#full_census_table = Table().read_table(\"http://www2.census.gov/programs-surveys/popest/datasets/2010-2015/national/asrh/nc-est2015-agesex-res.csv\")\n",
    "#full_census_table.num_rows\n"
   ]
  },
  {
   "cell_type": "code",
   "execution_count": 79,
   "metadata": {},
   "outputs": [
    {
     "data": {
      "text/html": [
       "<table border=\"1\" class=\"dataframe\">\n",
       "    <thead>\n",
       "        <tr>\n",
       "            <th>SEX</th> <th>AGE</th> <th>CENSUS2010POP</th> <th>ESTIMATESBASE2010</th> <th>POPESTIMATE2010</th> <th>POPESTIMATE2011</th> <th>POPESTIMATE2012</th> <th>POPESTIMATE2013</th> <th>POPESTIMATE2014</th> <th>POPESTIMATE2015</th> <th>POPESTIMATE2016</th> <th>POPESTIMATE2017</th> <th>POPESTIMATE2018</th> <th>POPESTIMATE2019</th>\n",
       "        </tr>\n",
       "    </thead>\n",
       "    <tbody>\n",
       "        <tr>\n",
       "            <td>0   </td> <td>0   </td> <td>3944153      </td> <td>3944160          </td> <td>3951430        </td> <td>3963092        </td> <td>3926570        </td> <td>3931258        </td> <td>3954787        </td> <td>3983981        </td> <td>3954773        </td> <td>3893990        </td> <td>3815343        </td> <td>3783052        </td>\n",
       "        </tr>\n",
       "        <tr>\n",
       "            <td>0   </td> <td>1   </td> <td>3978070      </td> <td>3978090          </td> <td>3957730        </td> <td>3966225        </td> <td>3977549        </td> <td>3942698        </td> <td>3948891        </td> <td>3973133        </td> <td>4002903        </td> <td>3972711        </td> <td>3908830        </td> <td>3829599        </td>\n",
       "        </tr>\n",
       "        <tr>\n",
       "            <td>0   </td> <td>2   </td> <td>4096929      </td> <td>4096939          </td> <td>4090621        </td> <td>3970654        </td> <td>3978925        </td> <td>3991740        </td> <td>3958711        </td> <td>3966321        </td> <td>3991349        </td> <td>4020045        </td> <td>3987032        </td> <td>3922044        </td>\n",
       "        </tr>\n",
       "        <tr>\n",
       "            <td>0   </td> <td>3   </td> <td>4119040      </td> <td>4119051          </td> <td>4111688        </td> <td>4101644        </td> <td>3981531        </td> <td>3991017        </td> <td>4005928        </td> <td>3974351        </td> <td>3982984        </td> <td>4006946        </td> <td>4033038        </td> <td>3998665        </td>\n",
       "        </tr>\n",
       "        <tr>\n",
       "            <td>0   </td> <td>4   </td> <td>4063170      </td> <td>4063186          </td> <td>4077346        </td> <td>4121488        </td> <td>4111490        </td> <td>3992502        </td> <td>4004032        </td> <td>4020292        </td> <td>3989750        </td> <td>3997280        </td> <td>4018719        </td> <td>4043323        </td>\n",
       "        </tr>\n",
       "        <tr>\n",
       "            <td>0   </td> <td>5   </td> <td>4056858      </td> <td>4056872          </td> <td>4064521        </td> <td>4087054        </td> <td>4131049        </td> <td>4121876        </td> <td>4004576        </td> <td>4017589        </td> <td>4035033        </td> <td>4003452        </td> <td>4008443        </td> <td>4028281        </td>\n",
       "        </tr>\n",
       "        <tr>\n",
       "            <td>0   </td> <td>6   </td> <td>4066381      </td> <td>4066412          </td> <td>4072904        </td> <td>4074531        </td> <td>4096631        </td> <td>4141126        </td> <td>4133372        </td> <td>4017388        </td> <td>4031568        </td> <td>4048018        </td> <td>4014057        </td> <td>4017227        </td>\n",
       "        </tr>\n",
       "        <tr>\n",
       "            <td>0   </td> <td>7   </td> <td>4030579      </td> <td>4030594          </td> <td>4042990        </td> <td>4082821        </td> <td>4084175        </td> <td>4106756        </td> <td>4152666        </td> <td>4145872        </td> <td>4030888        </td> <td>4044139        </td> <td>4058370        </td> <td>4022319        </td>\n",
       "        </tr>\n",
       "        <tr>\n",
       "            <td>0   </td> <td>8   </td> <td>4046486      </td> <td>4046497          </td> <td>4025501        </td> <td>4052773        </td> <td>4092559        </td> <td>4094513        </td> <td>4118349        </td> <td>4165033        </td> <td>4158848        </td> <td>4042924        </td> <td>4054236        </td> <td>4066194        </td>\n",
       "        </tr>\n",
       "        <tr>\n",
       "            <td>0   </td> <td>9   </td> <td>4148353      </td> <td>4148369          </td> <td>4125312        </td> <td>4035319        </td> <td>4062726        </td> <td>4103052        </td> <td>4106068        </td> <td>4130887        </td> <td>4177895        </td> <td>4170813        </td> <td>4053179        </td> <td>4061874        </td>\n",
       "        </tr>\n",
       "    </tbody>\n",
       "</table>\n",
       "<p>... (296 rows omitted)</p>"
      ],
      "text/plain": [
       "SEX  | AGE  | CENSUS2010POP | ESTIMATESBASE2010 | POPESTIMATE2010 | POPESTIMATE2011 | POPESTIMATE2012 | POPESTIMATE2013 | POPESTIMATE2014 | POPESTIMATE2015 | POPESTIMATE2016 | POPESTIMATE2017 | POPESTIMATE2018 | POPESTIMATE2019\n",
       "0    | 0    | 3944153       | 3944160           | 3951430         | 3963092         | 3926570         | 3931258         | 3954787         | 3983981         | 3954773         | 3893990         | 3815343         | 3783052\n",
       "0    | 1    | 3978070       | 3978090           | 3957730         | 3966225         | 3977549         | 3942698         | 3948891         | 3973133         | 4002903         | 3972711         | 3908830         | 3829599\n",
       "0    | 2    | 4096929       | 4096939           | 4090621         | 3970654         | 3978925         | 3991740         | 3958711         | 3966321         | 3991349         | 4020045         | 3987032         | 3922044\n",
       "0    | 3    | 4119040       | 4119051           | 4111688         | 4101644         | 3981531         | 3991017         | 4005928         | 3974351         | 3982984         | 4006946         | 4033038         | 3998665\n",
       "0    | 4    | 4063170       | 4063186           | 4077346         | 4121488         | 4111490         | 3992502         | 4004032         | 4020292         | 3989750         | 3997280         | 4018719         | 4043323\n",
       "0    | 5    | 4056858       | 4056872           | 4064521         | 4087054         | 4131049         | 4121876         | 4004576         | 4017589         | 4035033         | 4003452         | 4008443         | 4028281\n",
       "0    | 6    | 4066381       | 4066412           | 4072904         | 4074531         | 4096631         | 4141126         | 4133372         | 4017388         | 4031568         | 4048018         | 4014057         | 4017227\n",
       "0    | 7    | 4030579       | 4030594           | 4042990         | 4082821         | 4084175         | 4106756         | 4152666         | 4145872         | 4030888         | 4044139         | 4058370         | 4022319\n",
       "0    | 8    | 4046486       | 4046497           | 4025501         | 4052773         | 4092559         | 4094513         | 4118349         | 4165033         | 4158848         | 4042924         | 4054236         | 4066194\n",
       "0    | 9    | 4148353       | 4148369           | 4125312         | 4035319         | 4062726         | 4103052         | 4106068         | 4130887         | 4177895         | 4170813         | 4053179         | 4061874\n",
       "... (296 rows omitted)"
      ]
     },
     "execution_count": 79,
     "metadata": {},
     "output_type": "execute_result"
    }
   ],
   "source": [
    "full_census_table"
   ]
  },
  {
   "cell_type": "markdown",
   "metadata": {},
   "source": [
    "**SEX** --> 0 means the total, 1 means male and 2 means female. This obviously is problematic, we will change this later."
   ]
  },
  {
   "cell_type": "markdown",
   "metadata": {},
   "source": [
    "**AGE** : 999 means the whole populations, 100 means everyone aged 100 or more.\n"
   ]
  },
  {
   "cell_type": "markdown",
   "metadata": {},
   "source": [
    "Suppose we are only interested in the population changes from 2014 to 2019. Let’s select the relevant columns."
   ]
  },
  {
   "cell_type": "code",
   "execution_count": 80,
   "metadata": {},
   "outputs": [
    {
     "data": {
      "text/html": [
       "<table border=\"1\" class=\"dataframe\">\n",
       "    <thead>\n",
       "        <tr>\n",
       "            <th>SEX</th> <th>AGE</th> <th>POPESTIMATE2014</th> <th>POPESTIMATE2019</th>\n",
       "        </tr>\n",
       "    </thead>\n",
       "    <tbody>\n",
       "        <tr>\n",
       "            <td>0   </td> <td>0   </td> <td>3954787        </td> <td>3783052        </td>\n",
       "        </tr>\n",
       "        <tr>\n",
       "            <td>0   </td> <td>1   </td> <td>3948891        </td> <td>3829599        </td>\n",
       "        </tr>\n",
       "        <tr>\n",
       "            <td>0   </td> <td>2   </td> <td>3958711        </td> <td>3922044        </td>\n",
       "        </tr>\n",
       "        <tr>\n",
       "            <td>0   </td> <td>3   </td> <td>4005928        </td> <td>3998665        </td>\n",
       "        </tr>\n",
       "        <tr>\n",
       "            <td>0   </td> <td>4   </td> <td>4004032        </td> <td>4043323        </td>\n",
       "        </tr>\n",
       "        <tr>\n",
       "            <td>0   </td> <td>5   </td> <td>4004576        </td> <td>4028281        </td>\n",
       "        </tr>\n",
       "        <tr>\n",
       "            <td>0   </td> <td>6   </td> <td>4133372        </td> <td>4017227        </td>\n",
       "        </tr>\n",
       "        <tr>\n",
       "            <td>0   </td> <td>7   </td> <td>4152666        </td> <td>4022319        </td>\n",
       "        </tr>\n",
       "        <tr>\n",
       "            <td>0   </td> <td>8   </td> <td>4118349        </td> <td>4066194        </td>\n",
       "        </tr>\n",
       "        <tr>\n",
       "            <td>0   </td> <td>9   </td> <td>4106068        </td> <td>4061874        </td>\n",
       "        </tr>\n",
       "    </tbody>\n",
       "</table>\n",
       "<p>... (296 rows omitted)</p>"
      ],
      "text/plain": [
       "SEX  | AGE  | POPESTIMATE2014 | POPESTIMATE2019\n",
       "0    | 0    | 3954787         | 3783052\n",
       "0    | 1    | 3948891         | 3829599\n",
       "0    | 2    | 3958711         | 3922044\n",
       "0    | 3    | 4005928         | 3998665\n",
       "0    | 4    | 4004032         | 4043323\n",
       "0    | 5    | 4004576         | 4028281\n",
       "0    | 6    | 4133372         | 4017227\n",
       "0    | 7    | 4152666         | 4022319\n",
       "0    | 8    | 4118349         | 4066194\n",
       "0    | 9    | 4106068         | 4061874\n",
       "... (296 rows omitted)"
      ]
     },
     "execution_count": 80,
     "metadata": {},
     "output_type": "execute_result"
    }
   ],
   "source": [
    "partial_census_table = full_census_table.select('SEX', 'AGE', 'POPESTIMATE2014', 'POPESTIMATE2019')\n",
    "partial_census_table"
   ]
  },
  {
   "cell_type": "code",
   "execution_count": 81,
   "metadata": {},
   "outputs": [
    {
     "data": {
      "text/html": [
       "<table border=\"1\" class=\"dataframe\">\n",
       "    <thead>\n",
       "        <tr>\n",
       "            <th>SEX</th> <th>AGE</th> <th>2014</th> <th>2019</th>\n",
       "        </tr>\n",
       "    </thead>\n",
       "    <tbody>\n",
       "        <tr>\n",
       "            <td>0   </td> <td>0   </td> <td>3954787</td> <td>3783052</td>\n",
       "        </tr>\n",
       "        <tr>\n",
       "            <td>0   </td> <td>1   </td> <td>3948891</td> <td>3829599</td>\n",
       "        </tr>\n",
       "        <tr>\n",
       "            <td>0   </td> <td>2   </td> <td>3958711</td> <td>3922044</td>\n",
       "        </tr>\n",
       "        <tr>\n",
       "            <td>0   </td> <td>3   </td> <td>4005928</td> <td>3998665</td>\n",
       "        </tr>\n",
       "        <tr>\n",
       "            <td>0   </td> <td>4   </td> <td>4004032</td> <td>4043323</td>\n",
       "        </tr>\n",
       "        <tr>\n",
       "            <td>0   </td> <td>5   </td> <td>4004576</td> <td>4028281</td>\n",
       "        </tr>\n",
       "        <tr>\n",
       "            <td>0   </td> <td>6   </td> <td>4133372</td> <td>4017227</td>\n",
       "        </tr>\n",
       "        <tr>\n",
       "            <td>0   </td> <td>7   </td> <td>4152666</td> <td>4022319</td>\n",
       "        </tr>\n",
       "        <tr>\n",
       "            <td>0   </td> <td>8   </td> <td>4118349</td> <td>4066194</td>\n",
       "        </tr>\n",
       "        <tr>\n",
       "            <td>0   </td> <td>9   </td> <td>4106068</td> <td>4061874</td>\n",
       "        </tr>\n",
       "    </tbody>\n",
       "</table>\n",
       "<p>... (296 rows omitted)</p>"
      ],
      "text/plain": [
       "SEX  | AGE  | 2014    | 2019\n",
       "0    | 0    | 3954787 | 3783052\n",
       "0    | 1    | 3948891 | 3829599\n",
       "0    | 2    | 3958711 | 3922044\n",
       "0    | 3    | 4005928 | 3998665\n",
       "0    | 4    | 4004032 | 4043323\n",
       "0    | 5    | 4004576 | 4028281\n",
       "0    | 6    | 4133372 | 4017227\n",
       "0    | 7    | 4152666 | 4022319\n",
       "0    | 8    | 4118349 | 4066194\n",
       "0    | 9    | 4106068 | 4061874\n",
       "... (296 rows omitted)"
      ]
     },
     "execution_count": 81,
     "metadata": {},
     "output_type": "execute_result"
    }
   ],
   "source": [
    "us_pop = partial_census_table.relabeled('POPESTIMATE2014', '2014').relabeled('POPESTIMATE2019', '2019')\n",
    "us_pop"
   ]
  },
  {
   "cell_type": "markdown",
   "metadata": {},
   "source": [
    "As a warm-up, let’s examine the total population, labeled by SEX code 0. Since all these rows will have the same value 0 in the SEX column, we will drop that column."
   ]
  },
  {
   "cell_type": "code",
   "execution_count": 82,
   "metadata": {},
   "outputs": [
    {
     "data": {
      "text/html": [
       "<table border=\"1\" class=\"dataframe\">\n",
       "    <thead>\n",
       "        <tr>\n",
       "            <th>AGE</th> <th>2014</th> <th>2019</th>\n",
       "        </tr>\n",
       "    </thead>\n",
       "    <tbody>\n",
       "        <tr>\n",
       "            <td>0   </td> <td>3954787</td> <td>3783052</td>\n",
       "        </tr>\n",
       "        <tr>\n",
       "            <td>1   </td> <td>3948891</td> <td>3829599</td>\n",
       "        </tr>\n",
       "        <tr>\n",
       "            <td>2   </td> <td>3958711</td> <td>3922044</td>\n",
       "        </tr>\n",
       "        <tr>\n",
       "            <td>3   </td> <td>4005928</td> <td>3998665</td>\n",
       "        </tr>\n",
       "        <tr>\n",
       "            <td>4   </td> <td>4004032</td> <td>4043323</td>\n",
       "        </tr>\n",
       "        <tr>\n",
       "            <td>5   </td> <td>4004576</td> <td>4028281</td>\n",
       "        </tr>\n",
       "        <tr>\n",
       "            <td>6   </td> <td>4133372</td> <td>4017227</td>\n",
       "        </tr>\n",
       "        <tr>\n",
       "            <td>7   </td> <td>4152666</td> <td>4022319</td>\n",
       "        </tr>\n",
       "        <tr>\n",
       "            <td>8   </td> <td>4118349</td> <td>4066194</td>\n",
       "        </tr>\n",
       "        <tr>\n",
       "            <td>9   </td> <td>4106068</td> <td>4061874</td>\n",
       "        </tr>\n",
       "    </tbody>\n",
       "</table>\n",
       "<p>... (92 rows omitted)</p>"
      ],
      "text/plain": [
       "AGE  | 2014    | 2019\n",
       "0    | 3954787 | 3783052\n",
       "1    | 3948891 | 3829599\n",
       "2    | 3958711 | 3922044\n",
       "3    | 4005928 | 3998665\n",
       "4    | 4004032 | 4043323\n",
       "5    | 4004576 | 4028281\n",
       "6    | 4133372 | 4017227\n",
       "7    | 4152666 | 4022319\n",
       "8    | 4118349 | 4066194\n",
       "9    | 4106068 | 4061874\n",
       "... (92 rows omitted)"
      ]
     },
     "execution_count": 82,
     "metadata": {},
     "output_type": "execute_result"
    }
   ],
   "source": [
    "us_pop_by_age = us_pop.where('SEX', are.equal_to(0)).drop('SEX')\n",
    "us_pop_by_age"
   ]
  },
  {
   "cell_type": "markdown",
   "metadata": {},
   "source": [
    "Now let’s look at the population in the highest ages."
   ]
  },
  {
   "cell_type": "code",
   "execution_count": 83,
   "metadata": {},
   "outputs": [
    {
     "data": {
      "text/html": [
       "<table border=\"1\" class=\"dataframe\">\n",
       "    <thead>\n",
       "        <tr>\n",
       "            <th>AGE</th> <th>2014</th> <th>2019</th>\n",
       "        </tr>\n",
       "    </thead>\n",
       "    <tbody>\n",
       "        <tr>\n",
       "            <td>97  </td> <td>82948</td> <td>116969</td>\n",
       "        </tr>\n",
       "        <tr>\n",
       "            <td>98  </td> <td>59546</td> <td>86150 </td>\n",
       "        </tr>\n",
       "        <tr>\n",
       "            <td>99  </td> <td>41277</td> <td>57124 </td>\n",
       "        </tr>\n",
       "        <tr>\n",
       "            <td>100 </td> <td>70685</td> <td>100322</td>\n",
       "        </tr>\n",
       "    </tbody>\n",
       "</table>"
      ],
      "text/plain": [
       "AGE  | 2014  | 2019\n",
       "97   | 82948 | 116969\n",
       "98   | 59546 | 86150\n",
       "99   | 41277 | 57124\n",
       "100  | 70685 | 100322"
      ]
     },
     "execution_count": 83,
     "metadata": {},
     "output_type": "execute_result"
    }
   ],
   "source": [
    "us_pop_by_age.where('AGE', are.between(97, 101))"
   ]
  },
  {
   "cell_type": "markdown",
   "metadata": {},
   "source": [
    "The numbers here get smaller as age increases. But 100 is huge. Why?"
   ]
  },
  {
   "cell_type": "markdown",
   "metadata": {},
   "source": [
    "## Percent Change"
   ]
  },
  {
   "cell_type": "markdown",
   "metadata": {},
   "source": [
    "First, what is the **difference** between 2014 and 2019 for all ages?"
   ]
  },
  {
   "cell_type": "code",
   "execution_count": 84,
   "metadata": {},
   "outputs": [
    {
     "data": {
      "text/plain": [
       "array([-171735, -119292,  -36667,   -7263,   39291,   23705, -116145,\n",
       "       -130347,  -52155,  -44194,  -53618,  104804,  141200,    7126,\n",
       "        -66894,   12631,  -15505,  -39515,   34483,    9650, -141227,\n",
       "       -201943, -305343, -350651, -241835,   37812,  214055,  409073,\n",
       "        473478,  423954,  367437,  187860,  107298,  164752,  106148,\n",
       "        231701,  368026,  396847,  456720,  413012,  259488,  114457,\n",
       "       -109083, -465225, -408175, -309623, -172883,  -10547,  136860,\n",
       "        -67294, -382619, -471938, -465942, -454394, -257650,  -35878,\n",
       "        -23436,    6477,  204719,  267974,  276258,  389471,  479237,\n",
       "        431491,  468789,  397927,  277420,  -15667,  777964,  721963,\n",
       "        675278,  566691,  999406,  334331,  395023,  425854,  529432,\n",
       "        355290,  240082,  185899,  211738,  166007,   88415,   62136,\n",
       "         33339,      69,    3971,   11314,   30645,   39031,   26166,\n",
       "         42338,   41539,   36143,   47264,   51094,   37036,   34021,\n",
       "         26604,   15847,   29637, 9938515])"
      ]
     },
     "execution_count": 84,
     "metadata": {},
     "output_type": "execute_result"
    }
   ],
   "source": [
    "change = us_pop_by_age.column('2019') - us_pop_by_age.column('2014')\n",
    "change"
   ]
  },
  {
   "cell_type": "markdown",
   "metadata": {},
   "source": [
    "Let's add this array to the table **and** a second array with the percent change, using **.with_columns**"
   ]
  },
  {
   "cell_type": "code",
   "execution_count": 85,
   "metadata": {},
   "outputs": [
    {
     "data": {
      "text/html": [
       "<table border=\"1\" class=\"dataframe\">\n",
       "    <thead>\n",
       "        <tr>\n",
       "            <th>AGE</th> <th>2014</th> <th>2019</th> <th>Change</th> <th>Percent Change</th>\n",
       "        </tr>\n",
       "    </thead>\n",
       "    <tbody>\n",
       "        <tr>\n",
       "            <td>0   </td> <td>3954787</td> <td>3783052</td> <td>-171735</td> <td>-0.0434246    </td>\n",
       "        </tr>\n",
       "        <tr>\n",
       "            <td>1   </td> <td>3948891</td> <td>3829599</td> <td>-119292</td> <td>-0.030209     </td>\n",
       "        </tr>\n",
       "        <tr>\n",
       "            <td>2   </td> <td>3958711</td> <td>3922044</td> <td>-36667 </td> <td>-0.00926236   </td>\n",
       "        </tr>\n",
       "        <tr>\n",
       "            <td>3   </td> <td>4005928</td> <td>3998665</td> <td>-7263  </td> <td>-0.00181306   </td>\n",
       "        </tr>\n",
       "        <tr>\n",
       "            <td>4   </td> <td>4004032</td> <td>4043323</td> <td>39291  </td> <td>0.00981286    </td>\n",
       "        </tr>\n",
       "        <tr>\n",
       "            <td>5   </td> <td>4004576</td> <td>4028281</td> <td>23705  </td> <td>0.00591948    </td>\n",
       "        </tr>\n",
       "        <tr>\n",
       "            <td>6   </td> <td>4133372</td> <td>4017227</td> <td>-116145</td> <td>-0.0280993    </td>\n",
       "        </tr>\n",
       "        <tr>\n",
       "            <td>7   </td> <td>4152666</td> <td>4022319</td> <td>-130347</td> <td>-0.0313888    </td>\n",
       "        </tr>\n",
       "        <tr>\n",
       "            <td>8   </td> <td>4118349</td> <td>4066194</td> <td>-52155 </td> <td>-0.0126641    </td>\n",
       "        </tr>\n",
       "        <tr>\n",
       "            <td>9   </td> <td>4106068</td> <td>4061874</td> <td>-44194 </td> <td>-0.0107631    </td>\n",
       "        </tr>\n",
       "    </tbody>\n",
       "</table>\n",
       "<p>... (92 rows omitted)</p>"
      ],
      "text/plain": [
       "AGE  | 2014    | 2019    | Change  | Percent Change\n",
       "0    | 3954787 | 3783052 | -171735 | -0.0434246\n",
       "1    | 3948891 | 3829599 | -119292 | -0.030209\n",
       "2    | 3958711 | 3922044 | -36667  | -0.00926236\n",
       "3    | 4005928 | 3998665 | -7263   | -0.00181306\n",
       "4    | 4004032 | 4043323 | 39291   | 0.00981286\n",
       "5    | 4004576 | 4028281 | 23705   | 0.00591948\n",
       "6    | 4133372 | 4017227 | -116145 | -0.0280993\n",
       "7    | 4152666 | 4022319 | -130347 | -0.0313888\n",
       "8    | 4118349 | 4066194 | -52155  | -0.0126641\n",
       "9    | 4106068 | 4061874 | -44194  | -0.0107631\n",
       "... (92 rows omitted)"
      ]
     },
     "execution_count": 85,
     "metadata": {},
     "output_type": "execute_result"
    }
   ],
   "source": [
    "us_pop_change = us_pop_by_age.with_columns(\n",
    "    'Change', change,\n",
    "    'Percent Change', change/us_pop_by_age.column('2014')\n",
    ")\n",
    "us_pop_change"
   ]
  },
  {
   "cell_type": "markdown",
   "metadata": {},
   "source": [
    "Let's use PercentFormatter to make this look nicer."
   ]
  },
  {
   "cell_type": "code",
   "execution_count": 86,
   "metadata": {},
   "outputs": [],
   "source": [
    "PercentFormatter?"
   ]
  },
  {
   "cell_type": "code",
   "execution_count": 87,
   "metadata": {},
   "outputs": [
    {
     "data": {
      "text/html": [
       "<table border=\"1\" class=\"dataframe\">\n",
       "    <thead>\n",
       "        <tr>\n",
       "            <th>AGE</th> <th>2014</th> <th>2019</th> <th>Change</th> <th>Percent Change</th>\n",
       "        </tr>\n",
       "    </thead>\n",
       "    <tbody>\n",
       "        <tr>\n",
       "            <td>0   </td> <td>3954787</td> <td>3783052</td> <td>-171735</td> <td>-4.34%        </td>\n",
       "        </tr>\n",
       "        <tr>\n",
       "            <td>1   </td> <td>3948891</td> <td>3829599</td> <td>-119292</td> <td>-3.02%        </td>\n",
       "        </tr>\n",
       "        <tr>\n",
       "            <td>2   </td> <td>3958711</td> <td>3922044</td> <td>-36667 </td> <td>-0.93%        </td>\n",
       "        </tr>\n",
       "        <tr>\n",
       "            <td>3   </td> <td>4005928</td> <td>3998665</td> <td>-7263  </td> <td>-0.18%        </td>\n",
       "        </tr>\n",
       "        <tr>\n",
       "            <td>4   </td> <td>4004032</td> <td>4043323</td> <td>39291  </td> <td>0.98%         </td>\n",
       "        </tr>\n",
       "        <tr>\n",
       "            <td>5   </td> <td>4004576</td> <td>4028281</td> <td>23705  </td> <td>0.59%         </td>\n",
       "        </tr>\n",
       "        <tr>\n",
       "            <td>6   </td> <td>4133372</td> <td>4017227</td> <td>-116145</td> <td>-2.81%        </td>\n",
       "        </tr>\n",
       "        <tr>\n",
       "            <td>7   </td> <td>4152666</td> <td>4022319</td> <td>-130347</td> <td>-3.14%        </td>\n",
       "        </tr>\n",
       "        <tr>\n",
       "            <td>8   </td> <td>4118349</td> <td>4066194</td> <td>-52155 </td> <td>-1.27%        </td>\n",
       "        </tr>\n",
       "        <tr>\n",
       "            <td>9   </td> <td>4106068</td> <td>4061874</td> <td>-44194 </td> <td>-1.08%        </td>\n",
       "        </tr>\n",
       "    </tbody>\n",
       "</table>\n",
       "<p>... (92 rows omitted)</p>"
      ],
      "text/plain": [
       "AGE  | 2014    | 2019    | Change  | Percent Change\n",
       "0    | 3954787 | 3783052 | -171735 | -4.34%\n",
       "1    | 3948891 | 3829599 | -119292 | -3.02%\n",
       "2    | 3958711 | 3922044 | -36667  | -0.93%\n",
       "3    | 4005928 | 3998665 | -7263   | -0.18%\n",
       "4    | 4004032 | 4043323 | 39291   | 0.98%\n",
       "5    | 4004576 | 4028281 | 23705   | 0.59%\n",
       "6    | 4133372 | 4017227 | -116145 | -2.81%\n",
       "7    | 4152666 | 4022319 | -130347 | -3.14%\n",
       "8    | 4118349 | 4066194 | -52155  | -1.27%\n",
       "9    | 4106068 | 4061874 | -44194  | -1.08%\n",
       "... (92 rows omitted)"
      ]
     },
     "execution_count": 87,
     "metadata": {},
     "output_type": "execute_result"
    }
   ],
   "source": [
    "us_pop_change.set_format('Percent Change', PercentFormatter)"
   ]
  },
  {
   "cell_type": "markdown",
   "metadata": {},
   "source": [
    "What are the percent changes for each age telling us about what happened between 2014 and 2019?"
   ]
  },
  {
   "cell_type": "markdown",
   "metadata": {},
   "source": [
    "Did the **overall** population also decrease?"
   ]
  },
  {
   "cell_type": "code",
   "execution_count": 88,
   "metadata": {},
   "outputs": [
    {
     "data": {
      "text/html": [
       "<table border=\"1\" class=\"dataframe\">\n",
       "    <thead>\n",
       "        <tr>\n",
       "            <th>AGE</th> <th>2014</th> <th>2019</th> <th>Change</th> <th>Percent Change</th>\n",
       "        </tr>\n",
       "    </thead>\n",
       "    <tbody>\n",
       "        <tr>\n",
       "            <td>999 </td> <td>318301008</td> <td>328239523</td> <td>9938515</td> <td>3.12%         </td>\n",
       "        </tr>\n",
       "    </tbody>\n",
       "</table>"
      ],
      "text/plain": [
       "AGE  | 2014      | 2019      | Change  | Percent Change\n",
       "999  | 318301008 | 328239523 | 9938515 | 3.12%"
      ]
     },
     "execution_count": 88,
     "metadata": {},
     "output_type": "execute_result"
    }
   ],
   "source": [
    "us_pop_change.where('AGE', are.equal_to(999))"
   ]
  },
  {
   "cell_type": "markdown",
   "metadata": {},
   "source": [
    "OK, the overall population grew, and at least the younger ages seemed to have shrunk. What about older people?"
   ]
  },
  {
   "cell_type": "code",
   "execution_count": 89,
   "metadata": {},
   "outputs": [
    {
     "data": {
      "text/html": [
       "<table border=\"1\" class=\"dataframe\">\n",
       "    <thead>\n",
       "        <tr>\n",
       "            <th>AGE</th> <th>2014</th> <th>2019</th> <th>Change</th> <th>Percent Change</th>\n",
       "        </tr>\n",
       "    </thead>\n",
       "    <tbody>\n",
       "        <tr>\n",
       "            <td>72  </td> <td>2191642</td> <td>3191048</td> <td>999406</td> <td>45.60%        </td>\n",
       "        </tr>\n",
       "        <tr>\n",
       "            <td>68  </td> <td>2567511</td> <td>3345475</td> <td>777964</td> <td>30.30%        </td>\n",
       "        </tr>\n",
       "        <tr>\n",
       "            <td>69  </td> <td>2530460</td> <td>3252423</td> <td>721963</td> <td>28.53%        </td>\n",
       "        </tr>\n",
       "        <tr>\n",
       "            <td>70  </td> <td>2461426</td> <td>3136704</td> <td>675278</td> <td>27.43%        </td>\n",
       "        </tr>\n",
       "        <tr>\n",
       "            <td>71  </td> <td>2516392</td> <td>3083083</td> <td>566691</td> <td>22.52%        </td>\n",
       "        </tr>\n",
       "        <tr>\n",
       "            <td>76  </td> <td>1692960</td> <td>2222392</td> <td>529432</td> <td>31.27%        </td>\n",
       "        </tr>\n",
       "        <tr>\n",
       "            <td>62  </td> <td>3677408</td> <td>4156645</td> <td>479237</td> <td>13.03%        </td>\n",
       "        </tr>\n",
       "        <tr>\n",
       "            <td>28  </td> <td>4345247</td> <td>4818725</td> <td>473478</td> <td>10.90%        </td>\n",
       "        </tr>\n",
       "        <tr>\n",
       "            <td>64  </td> <td>3481789</td> <td>3950578</td> <td>468789</td> <td>13.46%        </td>\n",
       "        </tr>\n",
       "        <tr>\n",
       "            <td>38  </td> <td>3848856</td> <td>4305576</td> <td>456720</td> <td>11.87%        </td>\n",
       "        </tr>\n",
       "    </tbody>\n",
       "</table>\n",
       "<p>... (91 rows omitted)</p>"
      ],
      "text/plain": [
       "AGE  | 2014    | 2019    | Change | Percent Change\n",
       "72   | 2191642 | 3191048 | 999406 | 45.60%\n",
       "68   | 2567511 | 3345475 | 777964 | 30.30%\n",
       "69   | 2530460 | 3252423 | 721963 | 28.53%\n",
       "70   | 2461426 | 3136704 | 675278 | 27.43%\n",
       "71   | 2516392 | 3083083 | 566691 | 22.52%\n",
       "76   | 1692960 | 2222392 | 529432 | 31.27%\n",
       "62   | 3677408 | 4156645 | 479237 | 13.03%\n",
       "28   | 4345247 | 4818725 | 473478 | 10.90%\n",
       "64   | 3481789 | 3950578 | 468789 | 13.46%\n",
       "38   | 3848856 | 4305576 | 456720 | 11.87%\n",
       "... (91 rows omitted)"
      ]
     },
     "execution_count": 89,
     "metadata": {},
     "output_type": "execute_result"
    }
   ],
   "source": [
    "us_pop_change.where('AGE', are.below(999)).sort('Change', descending=True)"
   ]
  },
  {
   "cell_type": "markdown",
   "metadata": {},
   "source": [
    "What is happening to America?"
   ]
  },
  {
   "cell_type": "markdown",
   "metadata": {},
   "source": [
    "## Sex Ratios"
   ]
  },
  {
   "cell_type": "markdown",
   "metadata": {},
   "source": [
    "Let's look at the overall proportions of people who selected \"male\" or \"female\" on the Census.\n",
    "Remember: 999 means all ages, so we will collect all rows where age is 999. Also, 0 means both genders added together."
   ]
  },
  {
   "cell_type": "code",
   "execution_count": 90,
   "metadata": {},
   "outputs": [
    {
     "data": {
      "text/html": [
       "<table border=\"1\" class=\"dataframe\">\n",
       "    <thead>\n",
       "        <tr>\n",
       "            <th>SEX</th> <th>AGE</th> <th>2019</th>\n",
       "        </tr>\n",
       "    </thead>\n",
       "    <tbody>\n",
       "        <tr>\n",
       "            <td>0   </td> <td>999 </td> <td>328239523</td>\n",
       "        </tr>\n",
       "        <tr>\n",
       "            <td>1   </td> <td>999 </td> <td>161657324</td>\n",
       "        </tr>\n",
       "        <tr>\n",
       "            <td>2   </td> <td>999 </td> <td>166582199</td>\n",
       "        </tr>\n",
       "    </tbody>\n",
       "</table>"
      ],
      "text/plain": [
       "SEX  | AGE  | 2019\n",
       "0    | 999  | 328239523\n",
       "1    | 999  | 161657324\n",
       "2    | 999  | 166582199"
      ]
     },
     "execution_count": 90,
     "metadata": {},
     "output_type": "execute_result"
    }
   ],
   "source": [
    "us_pop_2019 = us_pop.drop('2014')\n",
    "all_ages = us_pop_2019.where('AGE', are.equal_to(999))\n",
    "all_ages"
   ]
  },
  {
   "cell_type": "markdown",
   "metadata": {},
   "source": [
    "The population count in Row 0 is the sum of Rows 1 and 3. Right?"
   ]
  },
  {
   "cell_type": "code",
   "execution_count": 91,
   "metadata": {},
   "outputs": [
    {
     "data": {
      "text/plain": [
       "328239523"
      ]
     },
     "execution_count": 91,
     "metadata": {},
     "output_type": "execute_result"
    }
   ],
   "source": [
    "pop_2019 = all_ages.column('2019').item(0)\n",
    "# this will give us the 1st element in the 2019 column.\n",
    "pop_2019"
   ]
  },
  {
   "cell_type": "code",
   "execution_count": 92,
   "metadata": {},
   "outputs": [
    {
     "data": {
      "text/html": [
       "<table border=\"1\" class=\"dataframe\">\n",
       "    <thead>\n",
       "        <tr>\n",
       "            <th>SEX</th> <th>AGE</th> <th>2019</th> <th>Proportion</th>\n",
       "        </tr>\n",
       "    </thead>\n",
       "    <tbody>\n",
       "        <tr>\n",
       "            <td>0   </td> <td>999 </td> <td>328239523</td> <td>1         </td>\n",
       "        </tr>\n",
       "        <tr>\n",
       "            <td>1   </td> <td>999 </td> <td>161657324</td> <td>0.492498  </td>\n",
       "        </tr>\n",
       "        <tr>\n",
       "            <td>2   </td> <td>999 </td> <td>166582199</td> <td>0.507502  </td>\n",
       "        </tr>\n",
       "    </tbody>\n",
       "</table>"
      ],
      "text/plain": [
       "SEX  | AGE  | 2019      | Proportion\n",
       "0    | 999  | 328239523 | 1\n",
       "1    | 999  | 161657324 | 0.492498\n",
       "2    | 999  | 166582199 | 0.507502"
      ]
     },
     "execution_count": 92,
     "metadata": {},
     "output_type": "execute_result"
    }
   ],
   "source": [
    "# let's use this total population number as the denominator to create percentages.\n",
    "all_ages.with_column(\n",
    "    'Proportion', all_ages.column('2019')/pop_2019)"
   ]
  },
  {
   "cell_type": "code",
   "execution_count": 93,
   "metadata": {},
   "outputs": [
    {
     "data": {
      "text/html": [
       "<table border=\"1\" class=\"dataframe\">\n",
       "    <thead>\n",
       "        <tr>\n",
       "            <th>SEX</th> <th>AGE</th> <th>2019</th> <th>Proportion</th>\n",
       "        </tr>\n",
       "    </thead>\n",
       "    <tbody>\n",
       "        <tr>\n",
       "            <td>0   </td> <td>999 </td> <td>328239523</td> <td>100.00%   </td>\n",
       "        </tr>\n",
       "        <tr>\n",
       "            <td>1   </td> <td>999 </td> <td>161657324</td> <td>49.25%    </td>\n",
       "        </tr>\n",
       "        <tr>\n",
       "            <td>2   </td> <td>999 </td> <td>166582199</td> <td>50.75%    </td>\n",
       "        </tr>\n",
       "    </tbody>\n",
       "</table>"
      ],
      "text/plain": [
       "SEX  | AGE  | 2019      | Proportion\n",
       "0    | 999  | 328239523 | 100.00%\n",
       "1    | 999  | 161657324 | 49.25%\n",
       "2    | 999  | 166582199 | 50.75%"
      ]
     },
     "execution_count": 93,
     "metadata": {},
     "output_type": "execute_result"
    }
   ],
   "source": [
    "# let's use PercentFormatter to make it look nicer.\n",
    "all_ages.with_column(\n",
    "    'Proportion', all_ages.column('2019')/pop_2019).set_format('Proportion', PercentFormatter)"
   ]
  },
  {
   "cell_type": "markdown",
   "metadata": {},
   "source": [
    "Let's study these proportions among infants.\n",
    "These will be the respondents less than one year of age."
   ]
  },
  {
   "cell_type": "code",
   "execution_count": 94,
   "metadata": {},
   "outputs": [
    {
     "data": {
      "text/html": [
       "<table border=\"1\" class=\"dataframe\">\n",
       "    <thead>\n",
       "        <tr>\n",
       "            <th>SEX</th> <th>AGE</th> <th>2019</th>\n",
       "        </tr>\n",
       "    </thead>\n",
       "    <tbody>\n",
       "        <tr>\n",
       "            <td>0   </td> <td>0   </td> <td>3783052</td>\n",
       "        </tr>\n",
       "        <tr>\n",
       "            <td>1   </td> <td>0   </td> <td>1935117</td>\n",
       "        </tr>\n",
       "        <tr>\n",
       "            <td>2   </td> <td>0   </td> <td>1847935</td>\n",
       "        </tr>\n",
       "    </tbody>\n",
       "</table>"
      ],
      "text/plain": [
       "SEX  | AGE  | 2019\n",
       "0    | 0    | 3783052\n",
       "1    | 0    | 1935117\n",
       "2    | 0    | 1847935"
      ]
     },
     "execution_count": 94,
     "metadata": {},
     "output_type": "execute_result"
    }
   ],
   "source": [
    "infants = us_pop_2019.where('AGE', are.equal_to(0))\n",
    "infants"
   ]
  },
  {
   "cell_type": "code",
   "execution_count": 35,
   "metadata": {},
   "outputs": [
    {
     "data": {
      "text/html": [
       "<table border=\"1\" class=\"dataframe\">\n",
       "    <thead>\n",
       "        <tr>\n",
       "            <th>SEX</th> <th>AGE</th> <th>2019</th> <th>Proportion</th>\n",
       "        </tr>\n",
       "    </thead>\n",
       "    <tbody>\n",
       "        <tr>\n",
       "            <td>0   </td> <td>0   </td> <td>3783052</td> <td>100.00%   </td>\n",
       "        </tr>\n",
       "        <tr>\n",
       "            <td>1   </td> <td>0   </td> <td>1935117</td> <td>51.15%    </td>\n",
       "        </tr>\n",
       "        <tr>\n",
       "            <td>2   </td> <td>0   </td> <td>1847935</td> <td>48.85%    </td>\n",
       "        </tr>\n",
       "    </tbody>\n",
       "</table>"
      ],
      "text/plain": [
       "SEX  | AGE  | 2019    | Proportion\n",
       "0    | 0    | 3783052 | 100.00%\n",
       "1    | 0    | 1935117 | 51.15%\n",
       "2    | 0    | 1847935 | 48.85%"
      ]
     },
     "execution_count": 35,
     "metadata": {},
     "output_type": "execute_result"
    }
   ],
   "source": [
    "infants_2019 = infants.column('2019').item(0)\n",
    "infants.with_column(\n",
    "    'Proportion', infants.column('2019')/infants_2019\n",
    ").set_format('Proportion', PercentFormatter)"
   ]
  },
  {
   "cell_type": "markdown",
   "metadata": {},
   "source": [
    "For some reason, there are more males born that females. We are not sure why.\n",
    "However, there are slightly more females overall than males. Check it:"
   ]
  },
  {
   "cell_type": "markdown",
   "metadata": {},
   "source": [
    "We'll create two separate tables that contain the data for the two sex codes."
   ]
  },
  {
   "cell_type": "code",
   "execution_count": 95,
   "metadata": {},
   "outputs": [
    {
     "data": {
      "text/html": [
       "<table border=\"1\" class=\"dataframe\">\n",
       "    <thead>\n",
       "        <tr>\n",
       "            <th>SEX</th> <th>AGE</th> <th>2019</th>\n",
       "        </tr>\n",
       "    </thead>\n",
       "    <tbody>\n",
       "        <tr>\n",
       "            <td>2   </td> <td>0   </td> <td>1847935</td>\n",
       "        </tr>\n",
       "        <tr>\n",
       "            <td>2   </td> <td>1   </td> <td>1871014</td>\n",
       "        </tr>\n",
       "        <tr>\n",
       "            <td>2   </td> <td>2   </td> <td>1916500</td>\n",
       "        </tr>\n",
       "        <tr>\n",
       "            <td>2   </td> <td>3   </td> <td>1955655</td>\n",
       "        </tr>\n",
       "        <tr>\n",
       "            <td>2   </td> <td>4   </td> <td>1976372</td>\n",
       "        </tr>\n",
       "        <tr>\n",
       "            <td>2   </td> <td>5   </td> <td>1967081</td>\n",
       "        </tr>\n",
       "        <tr>\n",
       "            <td>2   </td> <td>6   </td> <td>1964271</td>\n",
       "        </tr>\n",
       "        <tr>\n",
       "            <td>2   </td> <td>7   </td> <td>1966584</td>\n",
       "        </tr>\n",
       "        <tr>\n",
       "            <td>2   </td> <td>8   </td> <td>1986471</td>\n",
       "        </tr>\n",
       "        <tr>\n",
       "            <td>2   </td> <td>9   </td> <td>1988726</td>\n",
       "        </tr>\n",
       "    </tbody>\n",
       "</table>\n",
       "<p>... (91 rows omitted)</p>"
      ],
      "text/plain": [
       "SEX  | AGE  | 2019\n",
       "2    | 0    | 1847935\n",
       "2    | 1    | 1871014\n",
       "2    | 2    | 1916500\n",
       "2    | 3    | 1955655\n",
       "2    | 4    | 1976372\n",
       "2    | 5    | 1967081\n",
       "2    | 6    | 1964271\n",
       "2    | 7    | 1966584\n",
       "2    | 8    | 1986471\n",
       "2    | 9    | 1988726\n",
       "... (91 rows omitted)"
      ]
     },
     "execution_count": 95,
     "metadata": {},
     "output_type": "execute_result"
    }
   ],
   "source": [
    "females_all_rows = us_pop_2019.where('SEX', are.equal_to(2))\n",
    "females = females_all_rows.where('AGE', are.not_equal_to(999))\n",
    "females"
   ]
  },
  {
   "cell_type": "code",
   "execution_count": 37,
   "metadata": {},
   "outputs": [
    {
     "data": {
      "text/html": [
       "<table border=\"1\" class=\"dataframe\">\n",
       "    <thead>\n",
       "        <tr>\n",
       "            <th>SEX</th> <th>AGE</th> <th>2019</th>\n",
       "        </tr>\n",
       "    </thead>\n",
       "    <tbody>\n",
       "        <tr>\n",
       "            <td>1   </td> <td>0   </td> <td>1935117</td>\n",
       "        </tr>\n",
       "        <tr>\n",
       "            <td>1   </td> <td>1   </td> <td>1958585</td>\n",
       "        </tr>\n",
       "        <tr>\n",
       "            <td>1   </td> <td>2   </td> <td>2005544</td>\n",
       "        </tr>\n",
       "        <tr>\n",
       "            <td>1   </td> <td>3   </td> <td>2043010</td>\n",
       "        </tr>\n",
       "        <tr>\n",
       "            <td>1   </td> <td>4   </td> <td>2066951</td>\n",
       "        </tr>\n",
       "        <tr>\n",
       "            <td>1   </td> <td>5   </td> <td>2061200</td>\n",
       "        </tr>\n",
       "        <tr>\n",
       "            <td>1   </td> <td>6   </td> <td>2052956</td>\n",
       "        </tr>\n",
       "        <tr>\n",
       "            <td>1   </td> <td>7   </td> <td>2055735</td>\n",
       "        </tr>\n",
       "        <tr>\n",
       "            <td>1   </td> <td>8   </td> <td>2079723</td>\n",
       "        </tr>\n",
       "        <tr>\n",
       "            <td>1   </td> <td>9   </td> <td>2073148</td>\n",
       "        </tr>\n",
       "    </tbody>\n",
       "</table>\n",
       "<p>... (91 rows omitted)</p>"
      ],
      "text/plain": [
       "SEX  | AGE  | 2019\n",
       "1    | 0    | 1935117\n",
       "1    | 1    | 1958585\n",
       "1    | 2    | 2005544\n",
       "1    | 3    | 2043010\n",
       "1    | 4    | 2066951\n",
       "1    | 5    | 2061200\n",
       "1    | 6    | 2052956\n",
       "1    | 7    | 2055735\n",
       "1    | 8    | 2079723\n",
       "1    | 9    | 2073148\n",
       "... (91 rows omitted)"
      ]
     },
     "execution_count": 37,
     "metadata": {},
     "output_type": "execute_result"
    }
   ],
   "source": [
    "males_all_rows = us_pop_2019.where('SEX', are.equal_to(1))\n",
    "males = males_all_rows.where('AGE', are.not_equal_to(999))\n",
    "males"
   ]
  },
  {
   "cell_type": "markdown",
   "metadata": {},
   "source": [
    "Let's compare the number of males and females at each age.\n",
    "To do this, we will use some array and table methods."
   ]
  },
  {
   "cell_type": "code",
   "execution_count": 96,
   "metadata": {},
   "outputs": [
    {
     "data": {
      "text/plain": [
       "array([  0,   1,   2,   3,   4,   5,   6,   7,   8,   9,  10,  11,  12,\n",
       "        13,  14,  15,  16,  17,  18,  19,  20,  21,  22,  23,  24,  25,\n",
       "        26,  27,  28,  29,  30,  31,  32,  33,  34,  35,  36,  37,  38,\n",
       "        39,  40,  41,  42,  43,  44,  45,  46,  47,  48,  49,  50,  51,\n",
       "        52,  53,  54,  55,  56,  57,  58,  59,  60,  61,  62,  63,  64,\n",
       "        65,  66,  67,  68,  69,  70,  71,  72,  73,  74,  75,  76,  77,\n",
       "        78,  79,  80,  81,  82,  83,  84,  85,  86,  87,  88,  89,  90,\n",
       "        91,  92,  93,  94,  95,  96,  97,  98,  99, 100])"
      ]
     },
     "execution_count": 96,
     "metadata": {},
     "output_type": "execute_result"
    }
   ],
   "source": [
    "males.column('AGE')"
   ]
  },
  {
   "cell_type": "code",
   "execution_count": 97,
   "metadata": {},
   "outputs": [
    {
     "data": {
      "text/plain": [
       "array([  0,   1,   2,   3,   4,   5,   6,   7,   8,   9,  10,  11,  12,\n",
       "        13,  14,  15,  16,  17,  18,  19,  20,  21,  22,  23,  24,  25,\n",
       "        26,  27,  28,  29,  30,  31,  32,  33,  34,  35,  36,  37,  38,\n",
       "        39,  40,  41,  42,  43,  44,  45,  46,  47,  48,  49,  50,  51,\n",
       "        52,  53,  54,  55,  56,  57,  58,  59,  60,  61,  62,  63,  64,\n",
       "        65,  66,  67,  68,  69,  70,  71,  72,  73,  74,  75,  76,  77,\n",
       "        78,  79,  80,  81,  82,  83,  84,  85,  86,  87,  88,  89,  90,\n",
       "        91,  92,  93,  94,  95,  96,  97,  98,  99, 100])"
      ]
     },
     "execution_count": 97,
     "metadata": {},
     "output_type": "execute_result"
    }
   ],
   "source": [
    "females.column('AGE')"
   ]
  },
  {
   "cell_type": "markdown",
   "metadata": {},
   "source": [
    "Now we can do arithmetic on the arrays (element-wise division to be exact) to compute the sex ratios for each year.\n",
    "Then we'll put this data in a new table with the corresponding ages."
   ]
  },
  {
   "cell_type": "code",
   "execution_count": 98,
   "metadata": {},
   "outputs": [
    {
     "data": {
      "text/html": [
       "<table border=\"1\" class=\"dataframe\">\n",
       "    <thead>\n",
       "        <tr>\n",
       "            <th>AGE</th> <th>2019 F:M RATIO</th>\n",
       "        </tr>\n",
       "    </thead>\n",
       "    <tbody>\n",
       "        <tr>\n",
       "            <td>0   </td> <td>0.954947      </td>\n",
       "        </tr>\n",
       "        <tr>\n",
       "            <td>1   </td> <td>0.955289      </td>\n",
       "        </tr>\n",
       "        <tr>\n",
       "            <td>2   </td> <td>0.955601      </td>\n",
       "        </tr>\n",
       "        <tr>\n",
       "            <td>3   </td> <td>0.957242      </td>\n",
       "        </tr>\n",
       "        <tr>\n",
       "            <td>4   </td> <td>0.956177      </td>\n",
       "        </tr>\n",
       "    </tbody>\n",
       "</table>\n",
       "<p>... (96 rows omitted)</p>"
      ],
      "text/plain": [
       "<IPython.core.display.HTML object>"
      ]
     },
     "metadata": {},
     "output_type": "display_data"
    }
   ],
   "source": [
    "ratios = Table().with_columns(\n",
    "    'AGE', females.column('AGE'),\n",
    "    '2019 F:M RATIO', females.column('2019')/males.column('2019')\n",
    ")\n",
    "ratios.show(5)"
   ]
  },
  {
   "cell_type": "markdown",
   "metadata": {},
   "source": [
    "When F:M equals <1, there are fewer females. But if more baby males are born, why are there more females? The key (as usual) is to look what happens at older ages - say, above 75."
   ]
  },
  {
   "cell_type": "code",
   "execution_count": 99,
   "metadata": {},
   "outputs": [
    {
     "data": {
      "text/html": [
       "<table border=\"1\" class=\"dataframe\">\n",
       "    <thead>\n",
       "        <tr>\n",
       "            <th>AGE</th> <th>2019 F:M RATIO</th>\n",
       "        </tr>\n",
       "    </thead>\n",
       "    <tbody>\n",
       "        <tr>\n",
       "            <td>76  </td> <td>1.21422       </td>\n",
       "        </tr>\n",
       "        <tr>\n",
       "            <td>77  </td> <td>1.23558       </td>\n",
       "        </tr>\n",
       "        <tr>\n",
       "            <td>78  </td> <td>1.26373       </td>\n",
       "        </tr>\n",
       "        <tr>\n",
       "            <td>79  </td> <td>1.28129       </td>\n",
       "        </tr>\n",
       "        <tr>\n",
       "            <td>80  </td> <td>1.29209       </td>\n",
       "        </tr>\n",
       "        <tr>\n",
       "            <td>81  </td> <td>1.32745       </td>\n",
       "        </tr>\n",
       "        <tr>\n",
       "            <td>82  </td> <td>1.36101       </td>\n",
       "        </tr>\n",
       "        <tr>\n",
       "            <td>83  </td> <td>1.39749       </td>\n",
       "        </tr>\n",
       "        <tr>\n",
       "            <td>84  </td> <td>1.44603       </td>\n",
       "        </tr>\n",
       "        <tr>\n",
       "            <td>85  </td> <td>1.48588       </td>\n",
       "        </tr>\n",
       "        <tr>\n",
       "            <td>86  </td> <td>1.53967       </td>\n",
       "        </tr>\n",
       "        <tr>\n",
       "            <td>87  </td> <td>1.59775       </td>\n",
       "        </tr>\n",
       "        <tr>\n",
       "            <td>88  </td> <td>1.66125       </td>\n",
       "        </tr>\n",
       "        <tr>\n",
       "            <td>89  </td> <td>1.73365       </td>\n",
       "        </tr>\n",
       "        <tr>\n",
       "            <td>90  </td> <td>1.80539       </td>\n",
       "        </tr>\n",
       "        <tr>\n",
       "            <td>91  </td> <td>1.90275       </td>\n",
       "        </tr>\n",
       "        <tr>\n",
       "            <td>92  </td> <td>1.99252       </td>\n",
       "        </tr>\n",
       "        <tr>\n",
       "            <td>93  </td> <td>2.10192       </td>\n",
       "        </tr>\n",
       "        <tr>\n",
       "            <td>94  </td> <td>2.2271        </td>\n",
       "        </tr>\n",
       "        <tr>\n",
       "            <td>95  </td> <td>2.34042       </td>\n",
       "        </tr>\n",
       "        <tr>\n",
       "            <td>96  </td> <td>2.41969       </td>\n",
       "        </tr>\n",
       "        <tr>\n",
       "            <td>97  </td> <td>2.5868        </td>\n",
       "        </tr>\n",
       "        <tr>\n",
       "            <td>98  </td> <td>2.65926       </td>\n",
       "        </tr>\n",
       "        <tr>\n",
       "            <td>99  </td> <td>2.91367       </td>\n",
       "        </tr>\n",
       "        <tr>\n",
       "            <td>100 </td> <td>3.27411       </td>\n",
       "        </tr>\n",
       "    </tbody>\n",
       "</table>"
      ],
      "text/plain": [
       "<IPython.core.display.HTML object>"
      ]
     },
     "metadata": {},
     "output_type": "display_data"
    }
   ],
   "source": [
    "ratios.where('AGE', are.above(75)).show()\n"
   ]
  },
  {
   "cell_type": "markdown",
   "metadata": {},
   "source": [
    "Let's plot this. We'll cover visualization more next week, so here's a preview:"
   ]
  },
  {
   "cell_type": "code",
   "execution_count": 104,
   "metadata": {},
   "outputs": [],
   "source": [
    "import matplotlib.pyplot as plots\n",
    "%matplotlib inline\n",
    "plots.style.use(\"fivethirtyeight\")"
   ]
  },
  {
   "cell_type": "code",
   "execution_count": 102,
   "metadata": {},
   "outputs": [
    {
     "data": {
      "image/png": "[encoded data removed]",
      "text/plain": [
       "<Figure size 432x432 with 1 Axes>"
      ]
     },
     "metadata": {},
     "output_type": "display_data"
    }
   ],
   "source": [
    "ratios.plot('AGE')"
   ]
  }
 ],
 "metadata": {
  "kernelspec": {
   "display_name": "Python 3",
   "language": "python",
   "name": "python3"
  },
  "language_info": {
   "codemirror_mode": {
    "name": "ipython",
    "version": 3
   },
   "file_extension": ".py",
   "mimetype": "text/x-python",
   "name": "python",
   "nbconvert_exporter": "python",
   "pygments_lexer": "ipython3",
   "version": "3.8.8"
  }
 },
 "nbformat": 4,
 "nbformat_minor": 2
}
