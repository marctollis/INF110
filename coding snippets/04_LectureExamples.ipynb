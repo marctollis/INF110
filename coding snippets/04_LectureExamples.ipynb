{
 "cells": [
  {
   "cell_type": "markdown",
   "metadata": {},
   "source": [
    "# HOW TO USE MARKDOWN CELLS\n",
    "Click the '+' button to add a new cell, then click the 'Cell' tab from the top menu and hover over 'Cell Type.' Click 'Markdown'\n",
    "\n",
    "Use hash symbols to control font size:\n",
    "\n",
    "\n",
    "# Title Case (1 hash # at beginning of line)\n",
    "## Subtitle (2 hash)\n",
    "### Subheading (3 hash)\n",
    "Body (nothing)"
   ]
  },
  {
   "cell_type": "markdown",
   "metadata": {},
   "source": [
    "# Float Limitations:\n",
    "\n",
    "1. Shortens small or large numbers with scientific notation, or represents really small numbers as 0 and really big guys as infinity"
   ]
  },
  {
   "cell_type": "code",
   "execution_count": null,
   "metadata": {},
   "outputs": [],
   "source": [
    "2e306 * 10"
   ]
  },
  {
   "cell_type": "code",
   "execution_count": null,
   "metadata": {},
   "outputs": [],
   "source": [
    "2e306 * 100"
   ]
  },
  {
   "cell_type": "code",
   "execution_count": null,
   "metadata": {
    "scrolled": true
   },
   "outputs": [],
   "source": [
    "2e-322 / 100"
   ]
  },
  {
   "cell_type": "markdown",
   "metadata": {},
   "source": [
    "2. A float maxes out at 15 or 16 significant digits for any number, so expressions the have those extra digits aren't considered in expressions with arithmetic."
   ]
  },
  {
   "cell_type": "code",
   "execution_count": null,
   "metadata": {},
   "outputs": [],
   "source": [
    "0.6666666666666666 - 0.6666666666666666123456789"
   ]
  },
  {
   "cell_type": "markdown",
   "metadata": {},
   "source": [
    "3. When combining float values in arithmetic expressions, the last few digits may be wrong due to rounding errors."
   ]
  },
  {
   "cell_type": "code",
   "execution_count": null,
   "metadata": {},
   "outputs": [],
   "source": [
    "2 ** 0.5"
   ]
  },
  {
   "cell_type": "markdown",
   "metadata": {},
   "source": [
    "The above is 2^(1/2), or the square root of two"
   ]
  },
  {
   "cell_type": "code",
   "execution_count": null,
   "metadata": {},
   "outputs": [],
   "source": [
    "(2 ** 0.5) * (2 ** 0.5)"
   ]
  },
  {
   "cell_type": "markdown",
   "metadata": {},
   "source": [
    "This should just be two, but since Python rounded when caluculating the square roots, we have a weird rounding error at the end."
   ]
  },
  {
   "cell_type": "code",
   "execution_count": null,
   "metadata": {},
   "outputs": [],
   "source": [
    "(2 ** 0.5) * (2 ** 0.5) - 2"
   ]
  },
  {
   "cell_type": "markdown",
   "metadata": {},
   "source": [
    "The same happens with subtraction; this should be zero. If we did this by hand we would know that things cancel out, but Python is just doing the calculations with the limitations that were programmed into it."
   ]
  },
  {
   "cell_type": "markdown",
   "metadata": {},
   "source": [
    "# Function Composition:\n",
    "\n",
    "First we associate the string with a variable..."
   ]
  },
  {
   "cell_type": "code",
   "execution_count": null,
   "metadata": {},
   "outputs": [],
   "source": [
    "x = \"Plum\""
   ]
  },
  {
   "cell_type": "markdown",
   "metadata": {},
   "source": [
    "Second we find the length of x"
   ]
  },
  {
   "cell_type": "code",
   "execution_count": null,
   "metadata": {},
   "outputs": [],
   "source": [
    "x_length = len(x)\n",
    "x_length"
   ]
  },
  {
   "cell_type": "markdown",
   "metadata": {},
   "source": [
    "Third we convert it to binary"
   ]
  },
  {
   "cell_type": "code",
   "execution_count": null,
   "metadata": {},
   "outputs": [],
   "source": [
    "bin_string = bin(x_length)"
   ]
  },
  {
   "cell_type": "markdown",
   "metadata": {},
   "source": [
    "Fourth, we print the result"
   ]
  },
  {
   "cell_type": "code",
   "execution_count": null,
   "metadata": {},
   "outputs": [],
   "source": [
    "print(bin_string)"
   ]
  },
  {
   "cell_type": "markdown",
   "metadata": {},
   "source": [
    "Or, use function chaining:"
   ]
  },
  {
   "cell_type": "code",
   "execution_count": null,
   "metadata": {},
   "outputs": [],
   "source": [
    "print(bin(len(\"Hello\")))"
   ]
  },
  {
   "cell_type": "markdown",
   "metadata": {},
   "source": [
    "Another example:"
   ]
  },
  {
   "cell_type": "code",
   "execution_count": null,
   "metadata": {},
   "outputs": [],
   "source": [
    "number = input(\"Enter a number:\")\n",
    "base = input(\"Enter its base:\")"
   ]
  },
  {
   "cell_type": "code",
   "execution_count": null,
   "metadata": {},
   "outputs": [],
   "source": [
    "print(int(number,int(base)))"
   ]
  },
  {
   "cell_type": "markdown",
   "metadata": {},
   "source": [
    "The number eleven, which to binary is 'one one', is actually 3 in a base 2 representation."
   ]
  },
  {
   "cell_type": "markdown",
   "metadata": {},
   "source": [
    "## Method Chaining"
   ]
  },
  {
   "cell_type": "code",
   "execution_count": null,
   "metadata": {},
   "outputs": [],
   "source": [
    "x = \"   flagstaff    \"\n",
    "print(x.strip().capitalize())"
   ]
  },
  {
   "cell_type": "markdown",
   "metadata": {},
   "source": [
    "# String Methods in Python\n",
    "\n",
    "The method *.replace() replaces all instances of the string input, so make sure you know what you're editing."
   ]
  },
  {
   "cell_type": "code",
   "execution_count": null,
   "metadata": {},
   "outputs": [],
   "source": [
    "\"loud\".upper()"
   ]
  },
  {
   "cell_type": "markdown",
   "metadata": {},
   "source": [
    "Probably the most useful string method is .replace(), which replaces all instances of a substring within the string. The replace method takes two arguments: (1) the text to be replaced and (2) its replacement."
   ]
  },
  {
   "cell_type": "code",
   "execution_count": null,
   "metadata": {},
   "outputs": [],
   "source": [
    "'hitchhiker'.replace('hi', 'ma')"
   ]
  },
  {
   "cell_type": "markdown",
   "metadata": {},
   "source": [
    "If you leave it blank, it will just delete the first string."
   ]
  },
  {
   "cell_type": "code",
   "execution_count": null,
   "metadata": {},
   "outputs": [],
   "source": [
    "'manslaughter'.replace('mans','')"
   ]
  },
  {
   "cell_type": "markdown",
   "metadata": {},
   "source": [
    "Can also use variables with string methods, as long as the variables are string values."
   ]
  },
  {
   "cell_type": "code",
   "execution_count": null,
   "metadata": {},
   "outputs": [],
   "source": [
    "nickname = \"Dark Sky City\"\n",
    "capital = nickname.replace('k', 'K')\n",
    "plural = capital.replace('y', 'ies')\n",
    "plural"
   ]
  },
  {
   "cell_type": "markdown",
   "metadata": {},
   "source": [
    "# Comparisons:\n",
    "\n",
    "### Multiple comparison operators can be chained together in one expression. All comparisons must be true for the expression to be True."
   ]
  },
  {
   "cell_type": "code",
   "execution_count": null,
   "metadata": {},
   "outputs": [],
   "source": [
    "1 < 1 + 1 < 3"
   ]
  },
  {
   "cell_type": "code",
   "execution_count": null,
   "metadata": {},
   "outputs": [],
   "source": [
    "-1 < 0 < 5 <= -400"
   ]
  },
  {
   "cell_type": "code",
   "execution_count": null,
   "metadata": {},
   "outputs": [],
   "source": [
    "-1 < 0 < 5 >= -400"
   ]
  },
  {
   "cell_type": "markdown",
   "metadata": {},
   "source": [
    "### The average of two numbers is always between the smaller number and the larger number. We express this relationship for the numbers x and y below. You can try different values of x and y to confirm this relationship."
   ]
  },
  {
   "cell_type": "code",
   "execution_count": 1,
   "metadata": {},
   "outputs": [
    {
     "data": {
      "text/plain": [
       "True"
      ]
     },
     "execution_count": 1,
     "metadata": {},
     "output_type": "execute_result"
    }
   ],
   "source": [
    "x = 12\n",
    "y = 5\n",
    "min(x, y) <= (x+y)/2 <= max(x, y)"
   ]
  },
  {
   "cell_type": "markdown",
   "metadata": {},
   "source": [
    "### Strings can be used with comparison operators; they're evaluated with alphabetical order."
   ]
  },
  {
   "cell_type": "code",
   "execution_count": null,
   "metadata": {},
   "outputs": [],
   "source": [
    "\"Dog\" > \"Catastrophe\" > \"Cat\""
   ]
  },
  {
   "cell_type": "markdown",
   "metadata": {},
   "source": [
    "## Logical operators (Boolean operators) can combine multiple comparisons to make compound Boolean expressions."
   ]
  },
  {
   "cell_type": "code",
   "execution_count": 1,
   "metadata": {},
   "outputs": [
    {
     "data": {
      "text/plain": [
       "True"
      ]
     },
     "execution_count": 1,
     "metadata": {},
     "output_type": "execute_result"
    }
   ],
   "source": [
    "5 > 3 and 5 == 3 + 2"
   ]
  },
  {
   "cell_type": "code",
   "execution_count": 2,
   "metadata": {},
   "outputs": [
    {
     "data": {
      "text/plain": [
       "False"
      ]
     },
     "execution_count": 2,
     "metadata": {},
     "output_type": "execute_result"
    }
   ],
   "source": [
    "5 < 3 and 5 == 5"
   ]
  },
  {
   "cell_type": "code",
   "execution_count": 3,
   "metadata": {},
   "outputs": [
    {
     "data": {
      "text/plain": [
       "False"
      ]
     },
     "execution_count": 3,
     "metadata": {},
     "output_type": "execute_result"
    }
   ],
   "source": [
    "5 == 5 and 5 != 5"
   ]
  },
  {
   "cell_type": "code",
   "execution_count": 4,
   "metadata": {},
   "outputs": [
    {
     "data": {
      "text/plain": [
       "False"
      ]
     },
     "execution_count": 4,
     "metadata": {},
     "output_type": "execute_result"
    }
   ],
   "source": [
    "False and False"
   ]
  },
  {
   "cell_type": "code",
   "execution_count": 5,
   "metadata": {},
   "outputs": [
    {
     "data": {
      "text/plain": [
       "False"
      ]
     },
     "execution_count": 5,
     "metadata": {},
     "output_type": "execute_result"
    }
   ],
   "source": [
    "False and True"
   ]
  },
  {
   "cell_type": "code",
   "execution_count": 6,
   "metadata": {},
   "outputs": [
    {
     "data": {
      "text/plain": [
       "True"
      ]
     },
     "execution_count": 6,
     "metadata": {},
     "output_type": "execute_result"
    }
   ],
   "source": [
    "False or True"
   ]
  },
  {
   "cell_type": "code",
   "execution_count": 7,
   "metadata": {},
   "outputs": [
    {
     "data": {
      "text/plain": [
       "True"
      ]
     },
     "execution_count": 7,
     "metadata": {},
     "output_type": "execute_result"
    }
   ],
   "source": [
    "True and True"
   ]
  },
  {
   "cell_type": "markdown",
   "metadata": {},
   "source": [
    "# Operator Precedence: \n",
    "\n",
    "### Logical operators have low precedence compared to other operaters like comparison operators. Here, we would want to use parentheses to separate the 'or' subexpression to ensure a readable result. Logical (Boolean) operators can also be chained together in one expression to evaluate multiple conditions."
   ]
  },
  {
   "cell_type": "code",
   "execution_count": 8,
   "metadata": {},
   "outputs": [
    {
     "data": {
      "text/plain": [
       "5"
      ]
     },
     "execution_count": 8,
     "metadata": {},
     "output_type": "execute_result"
    }
   ],
   "source": [
    "5 or 2 and 2 > 1"
   ]
  },
  {
   "cell_type": "markdown",
   "metadata": {},
   "source": [
    "Above, the result illustrates the 'or' operator short-circuit evaluation. Unlike 'and', the 'or' operator stops once it finds a true operand, so because 5 is true it doesn't evaluate the rest of the expression and immediately returns '5'."
   ]
  },
  {
   "cell_type": "code",
   "execution_count": 9,
   "metadata": {},
   "outputs": [
    {
     "data": {
      "text/plain": [
       "True"
      ]
     },
     "execution_count": 9,
     "metadata": {},
     "output_type": "execute_result"
    }
   ],
   "source": [
    "(5 or 3) and 2 > 1"
   ]
  },
  {
   "cell_type": "code",
   "execution_count": 10,
   "metadata": {},
   "outputs": [
    {
     "data": {
      "text/plain": [
       "True"
      ]
     },
     "execution_count": 10,
     "metadata": {},
     "output_type": "execute_result"
    }
   ],
   "source": [
    "not False and not False"
   ]
  },
  {
   "cell_type": "code",
   "execution_count": 11,
   "metadata": {},
   "outputs": [
    {
     "data": {
      "text/plain": [
       "False"
      ]
     },
     "execution_count": 11,
     "metadata": {},
     "output_type": "execute_result"
    }
   ],
   "source": [
    "not False and False"
   ]
  },
  {
   "cell_type": "code",
   "execution_count": 12,
   "metadata": {},
   "outputs": [
    {
     "data": {
      "text/plain": [
       "True"
      ]
     },
     "execution_count": 12,
     "metadata": {},
     "output_type": "execute_result"
    }
   ],
   "source": [
    "not False or not False"
   ]
  },
  {
   "cell_type": "markdown",
   "metadata": {},
   "source": [
    "# How's the weather? If Statement Example\n",
    "\n",
    "\n",
    "## Task: Write an if statement that provides a statement about the weather based on the temperature"
   ]
  },
  {
   "cell_type": "code",
   "execution_count": 13,
   "metadata": {},
   "outputs": [
    {
     "name": "stdout",
     "output_type": "stream",
     "text": [
      "perfect\n"
     ]
    }
   ],
   "source": [
    "## In-Class Example from student\n",
    "temp = 85\n",
    "if temp>= 90:\n",
    "    print('a bit warm today')\n",
    "elif temp < 90 and temp > 60:\n",
    "    print('perfect')\n",
    "else: \n",
    "    print ('too cold')"
   ]
  },
  {
   "cell_type": "code",
   "execution_count": 16,
   "metadata": {},
   "outputs": [],
   "source": [
    "# How's the weather?\n",
    "def describe_weather(degrees_fahrenheit):\n",
    "    \"\"\" Describes the weather (according to Marc)\n",
    "\n",
    "    Uses conditional logic to return a string description of the weather based\n",
    "    on degrees fahrenheit.\n",
    "\n",
    "    Parameters\n",
    "    ----------\n",
    "    degrees_fahrenheit : int\n",
    "        The temperature in degrees fahrenheit.  Used to reason about weather\n",
    "          conditions.\n",
    "\n",
    "    Returns\n",
    "    -------\n",
    "    string\n",
    "        String description of weather conditions.\n",
    "\n",
    "    \"\"\"\n",
    "\n",
    "    # Begins conditional logic with our baseline \"if.\"\n",
    "    if degrees_fahrenheit < -40:\n",
    "        return(f\"{degrees_fahrenheit} is unbelievably cold!\")\n",
    "    # Elif means 'if the previous condition wasn't true, see if this one is true,\"\n",
    "    #  so there's no reason to state \"if temperature >= -40 and temperature < 0.\n",
    "    elif degrees_fahrenheit < 0:\n",
    "        return(f\"{degrees_fahrenheit} is too cold to do anything outside.\")\n",
    "    elif degrees_fahrenheit < 30:\n",
    "        return(f\"{degrees_fahrenheit} is freezing.\")\n",
    "    elif degrees_fahrenheit < 50:\n",
    "        return(f\"{degrees_fahrenheit} is chilly but manageable\")\n",
    "    elif degrees_fahrenheit < 75:\n",
    "        return(f\"{degrees_fahrenheit} is beautiful!\")\n",
    "    elif degrees_fahrenheit < 100:\n",
    "        return(f\"{degrees_fahrenheit} is pretty warm.\")\n",
    "    else:\n",
    "        return(f\"{degrees_fahrenheit} is hot!\")\n"
   ]
  },
  {
   "cell_type": "code",
   "execution_count": 17,
   "metadata": {},
   "outputs": [
    {
     "data": {
      "text/plain": [
       "'30 is chilly but manageable'"
      ]
     },
     "execution_count": 17,
     "metadata": {},
     "output_type": "execute_result"
    }
   ],
   "source": [
    "describe_weather(30)"
   ]
  },
  {
   "cell_type": "markdown",
   "metadata": {},
   "source": [
    "### To create strings that span multiple lines, triple single quotes ''' or triple double quotes \"\"\" are used to enclose the string. Here, we're using triple quotes to write documentation that describes what our function does."
   ]
  },
  {
   "cell_type": "markdown",
   "metadata": {},
   "source": [
    "# Vinyl Record Sales Example"
   ]
  },
  {
   "cell_type": "code",
   "execution_count": 18,
   "metadata": {},
   "outputs": [],
   "source": [
    "def percent_difference(year_1_sales, year_2_sales):\n",
    "    \"\"\" Calculates the percentage difference in year 1 and year 2 sales.\n",
    "\n",
    "    Simple function that calculates and returns the difference in sales for 2\n",
    "    years.\n",
    "\n",
    "    Parameters\n",
    "    ----------\n",
    "    year_1_sales : float\n",
    "        Total sales for year 1.\n",
    "\n",
    "    year_2_sales : float\n",
    "        Total sales for year 2.\n",
    "\n",
    "    Returns\n",
    "    -------\n",
    "    float\n",
    "        The percentage difference from year_1 to year_2\n",
    "    \"\"\"\n",
    "    return ((year_2_sales - year_1_sales) / year_1_sales) * 100"
   ]
  },
  {
   "cell_type": "code",
   "execution_count": 20,
   "metadata": {},
   "outputs": [
    {
     "data": {
      "text/plain": [
       "80.40552995391705"
      ]
     },
     "execution_count": 20,
     "metadata": {},
     "output_type": "execute_result"
    }
   ],
   "source": [
    "percent_difference(5425,9787)"
   ]
  },
  {
   "cell_type": "markdown",
   "metadata": {},
   "source": [
    "## \"main()\" is usually the 'driver' part of the program. We define all of our logic using function definitions, then we call those functions within main()."
   ]
  },
  {
   "cell_type": "code",
   "execution_count": 21,
   "metadata": {},
   "outputs": [],
   "source": [
    "def main():\n",
    "    print(describe_weather(-42))\n",
    "    print(describe_weather(42))\n",
    "    print(describe_weather(142))\n",
    "    print(str(percent_difference(13.1, 14.32)) + \"%\")"
   ]
  },
  {
   "cell_type": "code",
   "execution_count": 22,
   "metadata": {},
   "outputs": [
    {
     "name": "stdout",
     "output_type": "stream",
     "text": [
      "-42 is unbelievably cold!\n",
      "42 is chilly but manageable\n",
      "142 is hot!\n",
      "9.312977099236647%\n"
     ]
    }
   ],
   "source": [
    "main()\n",
    "#describe_weather?\n",
    "#percent_difference?"
   ]
  },
  {
   "cell_type": "markdown",
   "metadata": {},
   "source": [
    "This is funky syntax that you don't really need to worry about right now.  It's essentially commanding Python: \"if we called this program directly (as opposed to importing), then run the main method.\"  It's a good example of the \"double underscores have a special purpose\" principle."
   ]
  },
  {
   "cell_type": "code",
   "execution_count": 23,
   "metadata": {},
   "outputs": [
    {
     "name": "stdout",
     "output_type": "stream",
     "text": [
      "-42 is unbelievably cold!\n",
      "42 is chilly but manageable\n",
      "142 is hot!\n",
      "9.312977099236647%\n"
     ]
    }
   ],
   "source": [
    "if __name__ == '__main__':\n",
    "    main()"
   ]
  },
  {
   "cell_type": "code",
   "execution_count": null,
   "metadata": {},
   "outputs": [],
   "source": []
  }
 ],
 "metadata": {
  "kernelspec": {
   "display_name": "Python 3",
   "language": "python",
   "name": "python3"
  },
  "language_info": {
   "codemirror_mode": {
    "name": "ipython",
    "version": 3
   },
   "file_extension": ".py",
   "mimetype": "text/x-python",
   "name": "python",
   "nbconvert_exporter": "python",
   "pygments_lexer": "ipython3",
   "version": "3.8.8"
  }
 },
 "nbformat": 4,
 "nbformat_minor": 4
}
