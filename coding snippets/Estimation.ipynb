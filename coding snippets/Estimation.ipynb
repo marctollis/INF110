{
 "cells": [
  {
   "cell_type": "markdown",
   "metadata": {},
   "source": [
    "# Estimation"
   ]
  },
  {
   "cell_type": "code",
   "execution_count": 1,
   "metadata": {},
   "outputs": [],
   "source": [
    "import numpy as np\n",
    "from datascience import *\n",
    "%matplotlib inline\n",
    "import matplotlib.pyplot as plots\n",
    "plots.style.use(\"fivethirtyeight\")\n"
   ]
  },
  {
   "cell_type": "code",
   "execution_count": 2,
   "metadata": {},
   "outputs": [],
   "source": [
    "percentile?"
   ]
  },
  {
   "cell_type": "code",
   "execution_count": 3,
   "metadata": {},
   "outputs": [
    {
     "data": {
      "text/plain": [
       "8"
      ]
     },
     "execution_count": 3,
     "metadata": {},
     "output_type": "execute_result"
    }
   ],
   "source": [
    "percentile(75, make_array(2, 11, 8, 9, 1, 2, 3, 6, 6, 3))"
   ]
  },
  {
   "cell_type": "code",
   "execution_count": 6,
   "metadata": {},
   "outputs": [
    {
     "data": {
      "text/plain": [
       "array([ 1,  2,  2,  3,  3,  6,  6,  8,  9, 11])"
      ]
     },
     "execution_count": 6,
     "metadata": {},
     "output_type": "execute_result"
    }
   ],
   "source": [
    "v = make_array(2, 11, 8, 9, 1, 2, 3, 6, 6, 3)\n",
    "v.sort()\n",
    "v"
   ]
  },
  {
   "cell_type": "code",
   "execution_count": 4,
   "metadata": {},
   "outputs": [
    {
     "data": {
      "text/html": [
       "<table border=\"1\" class=\"dataframe\">\n",
       "    <thead>\n",
       "        <tr>\n",
       "            <th>Name</th> <th>Travel Time</th>\n",
       "        </tr>\n",
       "    </thead>\n",
       "    <tbody>\n",
       "        <tr>\n",
       "            <td>Collins, Matthew T        </td> <td>5          </td>\n",
       "        </tr>\n",
       "        <tr>\n",
       "            <td>Cook, Kylie Nichole       </td> <td>20         </td>\n",
       "        </tr>\n",
       "        <tr>\n",
       "            <td>Duerinck, Randy Keith     </td> <td>15         </td>\n",
       "        </tr>\n",
       "        <tr>\n",
       "            <td>Graham, Cassandra Michelle</td> <td>20         </td>\n",
       "        </tr>\n",
       "        <tr>\n",
       "            <td>Linden, Andrew Ryan       </td> <td>5          </td>\n",
       "        </tr>\n",
       "        <tr>\n",
       "            <td>Lynn, Matthew Michael     </td> <td>10         </td>\n",
       "        </tr>\n",
       "        <tr>\n",
       "            <td>Martinez, Carli Sabrina   </td> <td>20         </td>\n",
       "        </tr>\n",
       "        <tr>\n",
       "            <td>Verrando, Fabienne Esther </td> <td>25         </td>\n",
       "        </tr>\n",
       "        <tr>\n",
       "            <td>Palmer, James             </td> <td>60         </td>\n",
       "        </tr>\n",
       "    </tbody>\n",
       "</table>"
      ],
      "text/plain": [
       "Name                       | Travel Time\n",
       "Collins, Matthew T         | 5\n",
       "Cook, Kylie Nichole        | 20\n",
       "Duerinck, Randy Keith      | 15\n",
       "Graham, Cassandra Michelle | 20\n",
       "Linden, Andrew Ryan        | 5\n",
       "Lynn, Matthew Michael      | 10\n",
       "Martinez, Carli Sabrina    | 20\n",
       "Verrando, Fabienne Esther  | 25\n",
       "Palmer, James              | 60"
      ]
     },
     "execution_count": 4,
     "metadata": {},
     "output_type": "execute_result"
    }
   ],
   "source": [
    "travel_data = Table().read_table(\"travel.csv\")\n",
    "travel_data"
   ]
  },
  {
   "cell_type": "code",
   "execution_count": 5,
   "metadata": {},
   "outputs": [],
   "source": [
    "new_travel_data = travel_data.sample(100)"
   ]
  },
  {
   "cell_type": "code",
   "execution_count": 6,
   "metadata": {},
   "outputs": [
    {
     "data": {
      "text/plain": [
       "10"
      ]
     },
     "execution_count": 6,
     "metadata": {},
     "output_type": "execute_result"
    }
   ],
   "source": [
    "percentile(25, new_travel_data.column(\"Travel Time\"))"
   ]
  },
  {
   "cell_type": "code",
   "execution_count": 7,
   "metadata": {},
   "outputs": [
    {
     "data": {
      "text/plain": [
       "20"
      ]
     },
     "execution_count": 7,
     "metadata": {},
     "output_type": "execute_result"
    }
   ],
   "source": [
    "percentile(50, new_travel_data.column(\"Travel Time\"))"
   ]
  },
  {
   "cell_type": "code",
   "execution_count": 8,
   "metadata": {},
   "outputs": [
    {
     "data": {
      "text/plain": [
       "20"
      ]
     },
     "execution_count": 8,
     "metadata": {},
     "output_type": "execute_result"
    }
   ],
   "source": [
    "percentile(75, new_travel_data.column(\"Travel Time\"))"
   ]
  },
  {
   "cell_type": "code",
   "execution_count": null,
   "metadata": {},
   "outputs": [],
   "source": []
  }
 ],
 "metadata": {
  "kernelspec": {
   "display_name": "Python 3",
   "language": "python",
   "name": "python3"
  },
  "language_info": {
   "codemirror_mode": {
    "name": "ipython",
    "version": 3
   },
   "file_extension": ".py",
   "mimetype": "text/x-python",
   "name": "python",
   "nbconvert_exporter": "python",
   "pygments_lexer": "ipython3",
   "version": "3.6.7"
  }
 },
 "nbformat": 4,
 "nbformat_minor": 2
}
