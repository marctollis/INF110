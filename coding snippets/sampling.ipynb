{
 "cells": [
  {
   "cell_type": "code",
   "execution_count": 6,
   "id": "5eeea398",
   "metadata": {},
   "outputs": [],
   "source": [
    "from datascience import *\n",
    "import numpy as np\n",
    "import matplotlib.pyplot as plots\n",
    "plots.style.use('fivethirtyeight')\n",
    "%matplotlib inline"
   ]
  },
  {
   "cell_type": "code",
   "execution_count": 10,
   "id": "f6b44d6f",
   "metadata": {},
   "outputs": [
    {
     "data": {
      "text/html": [
       "<table border=\"1\" class=\"dataframe\">\n",
       "    <thead>\n",
       "        <tr>\n",
       "            <th>Title</th> <th>Studio</th> <th>Gross</th> <th>Gross (Adjusted)</th> <th>Year</th>\n",
       "        </tr>\n",
       "    </thead>\n",
       "    <tbody>\n",
       "        <tr>\n",
       "            <td>Gone with the Wind              </td> <td>MGM            </td> <td>198676459</td> <td>1796176700      </td> <td>1939</td>\n",
       "        </tr>\n",
       "        <tr>\n",
       "            <td>Star Wars                       </td> <td>Fox            </td> <td>460998007</td> <td>1583483200      </td> <td>1977</td>\n",
       "        </tr>\n",
       "        <tr>\n",
       "            <td>The Sound of Music              </td> <td>Fox            </td> <td>158671368</td> <td>1266072700      </td> <td>1965</td>\n",
       "        </tr>\n",
       "        <tr>\n",
       "            <td>E.T.: The Extra-Terrestrial     </td> <td>Universal      </td> <td>435110554</td> <td>1261085000      </td> <td>1982</td>\n",
       "        </tr>\n",
       "        <tr>\n",
       "            <td>Titanic                         </td> <td>Paramount      </td> <td>658672302</td> <td>1204368000      </td> <td>1997</td>\n",
       "        </tr>\n",
       "        <tr>\n",
       "            <td>The Ten Commandments            </td> <td>Paramount      </td> <td>65500000 </td> <td>1164590000      </td> <td>1956</td>\n",
       "        </tr>\n",
       "        <tr>\n",
       "            <td>Jaws                            </td> <td>Universal      </td> <td>260000000</td> <td>1138620700      </td> <td>1975</td>\n",
       "        </tr>\n",
       "        <tr>\n",
       "            <td>Doctor Zhivago                  </td> <td>MGM            </td> <td>111721910</td> <td>1103564200      </td> <td>1965</td>\n",
       "        </tr>\n",
       "        <tr>\n",
       "            <td>The Exorcist                    </td> <td>Warner Brothers</td> <td>232906145</td> <td>983226600       </td> <td>1973</td>\n",
       "        </tr>\n",
       "        <tr>\n",
       "            <td>Snow White and the Seven Dwarves</td> <td>Disney         </td> <td>184925486</td> <td>969010000       </td> <td>1937</td>\n",
       "        </tr>\n",
       "    </tbody>\n",
       "</table>\n",
       "<p>... (190 rows omitted)</p>"
      ],
      "text/plain": [
       "Title                            | Studio          | Gross     | Gross (Adjusted) | Year\n",
       "Gone with the Wind               | MGM             | 198676459 | 1796176700       | 1939\n",
       "Star Wars                        | Fox             | 460998007 | 1583483200       | 1977\n",
       "The Sound of Music               | Fox             | 158671368 | 1266072700       | 1965\n",
       "E.T.: The Extra-Terrestrial      | Universal       | 435110554 | 1261085000       | 1982\n",
       "Titanic                          | Paramount       | 658672302 | 1204368000       | 1997\n",
       "The Ten Commandments             | Paramount       | 65500000  | 1164590000       | 1956\n",
       "Jaws                             | Universal       | 260000000 | 1138620700       | 1975\n",
       "Doctor Zhivago                   | MGM             | 111721910 | 1103564200       | 1965\n",
       "The Exorcist                     | Warner Brothers | 232906145 | 983226600        | 1973\n",
       "Snow White and the Seven Dwarves | Disney          | 184925486 | 969010000        | 1937\n",
       "... (190 rows omitted)"
      ]
     },
     "execution_count": 10,
     "metadata": {},
     "output_type": "execute_result"
    }
   ],
   "source": [
    "# load the table of movies, studios, gross, and year.\n",
    "top1 = Table.read_table('/Users/mt2245/Dropbox/INF_Syllabi/INF110/Spring_22/coding snippets/top_movies_2017.csv')\n",
    "top1"
   ]
  },
  {
   "cell_type": "code",
   "execution_count": 19,
   "id": "a03458a4",
   "metadata": {},
   "outputs": [
    {
     "data": {
      "text/html": [
       "<table border=\"1\" class=\"dataframe\">\n",
       "    <thead>\n",
       "        <tr>\n",
       "            <th>Row Index</th> <th>Title</th> <th>Studio</th> <th>Gross</th> <th>Gross (Adjusted)</th> <th>Year</th>\n",
       "        </tr>\n",
       "    </thead>\n",
       "    <tbody>\n",
       "        <tr>\n",
       "            <td>0        </td> <td>Gone with the Wind              </td> <td>MGM            </td> <td>198,676,459</td> <td>1,796,176,700   </td> <td>1939</td>\n",
       "        </tr>\n",
       "        <tr>\n",
       "            <td>1        </td> <td>Star Wars                       </td> <td>Fox            </td> <td>460,998,007</td> <td>1,583,483,200   </td> <td>1977</td>\n",
       "        </tr>\n",
       "        <tr>\n",
       "            <td>2        </td> <td>The Sound of Music              </td> <td>Fox            </td> <td>158,671,368</td> <td>1,266,072,700   </td> <td>1965</td>\n",
       "        </tr>\n",
       "        <tr>\n",
       "            <td>3        </td> <td>E.T.: The Extra-Terrestrial     </td> <td>Universal      </td> <td>435,110,554</td> <td>1,261,085,000   </td> <td>1982</td>\n",
       "        </tr>\n",
       "        <tr>\n",
       "            <td>4        </td> <td>Titanic                         </td> <td>Paramount      </td> <td>658,672,302</td> <td>1,204,368,000   </td> <td>1997</td>\n",
       "        </tr>\n",
       "        <tr>\n",
       "            <td>5        </td> <td>The Ten Commandments            </td> <td>Paramount      </td> <td>65,500,000 </td> <td>1,164,590,000   </td> <td>1956</td>\n",
       "        </tr>\n",
       "        <tr>\n",
       "            <td>6        </td> <td>Jaws                            </td> <td>Universal      </td> <td>260,000,000</td> <td>1,138,620,700   </td> <td>1975</td>\n",
       "        </tr>\n",
       "        <tr>\n",
       "            <td>7        </td> <td>Doctor Zhivago                  </td> <td>MGM            </td> <td>111,721,910</td> <td>1,103,564,200   </td> <td>1965</td>\n",
       "        </tr>\n",
       "        <tr>\n",
       "            <td>8        </td> <td>The Exorcist                    </td> <td>Warner Brothers</td> <td>232,906,145</td> <td>983,226,600     </td> <td>1973</td>\n",
       "        </tr>\n",
       "        <tr>\n",
       "            <td>9        </td> <td>Snow White and the Seven Dwarves</td> <td>Disney         </td> <td>184,925,486</td> <td>969,010,000     </td> <td>1937</td>\n",
       "        </tr>\n",
       "    </tbody>\n",
       "</table>\n",
       "<p>... (190 rows omitted)</p>"
      ],
      "text/plain": [
       "Row Index | Title                            | Studio          | Gross       | Gross (Adjusted) | Year\n",
       "0         | Gone with the Wind               | MGM             | 198,676,459 | 1,796,176,700    | 1939\n",
       "1         | Star Wars                        | Fox             | 460,998,007 | 1,583,483,200    | 1977\n",
       "2         | The Sound of Music               | Fox             | 158,671,368 | 1,266,072,700    | 1965\n",
       "3         | E.T.: The Extra-Terrestrial      | Universal       | 435,110,554 | 1,261,085,000    | 1982\n",
       "4         | Titanic                          | Paramount       | 658,672,302 | 1,204,368,000    | 1997\n",
       "5         | The Ten Commandments             | Paramount       | 65,500,000  | 1,164,590,000    | 1956\n",
       "6         | Jaws                             | Universal       | 260,000,000 | 1,138,620,700    | 1975\n",
       "7         | Doctor Zhivago                   | MGM             | 111,721,910 | 1,103,564,200    | 1965\n",
       "8         | The Exorcist                     | Warner Brothers | 232,906,145 | 983,226,600      | 1973\n",
       "9         | Snow White and the Seven Dwarves | Disney          | 184,925,486 | 969,010,000      | 1937\n",
       "... (190 rows omitted)"
      ]
     },
     "execution_count": 19,
     "metadata": {},
     "output_type": "execute_result"
    }
   ],
   "source": [
    "# Here we'll format the table to include an index column \n",
    "# and label it 'Row Index'\n",
    "# and add commas to the numbers for easier reading\n",
    "\n",
    "top2 = top1.with_column('Row Index', np.arange(top1.num_rows))\n",
    "top = top2.move_to_start('Row Index')\n",
    "top.set_format(make_array(3, 4), NumberFormatter)"
   ]
  },
  {
   "cell_type": "code",
   "execution_count": 20,
   "id": "a80c595b",
   "metadata": {},
   "outputs": [
    {
     "data": {
      "text/html": [
       "<table border=\"1\" class=\"dataframe\">\n",
       "    <thead>\n",
       "        <tr>\n",
       "            <th>Row Index</th> <th>Title</th> <th>Studio</th> <th>Gross</th> <th>Gross (Adjusted)</th> <th>Year</th>\n",
       "        </tr>\n",
       "    </thead>\n",
       "    <tbody>\n",
       "        <tr>\n",
       "            <td>3        </td> <td>E.T.: The Extra-Terrestrial</td> <td>Universal  </td> <td>435,110,554</td> <td>1,261,085,000   </td> <td>1982</td>\n",
       "        </tr>\n",
       "        <tr>\n",
       "            <td>18       </td> <td>The Lion King              </td> <td>Buena Vista</td> <td>422,783,777</td> <td>792,511,700     </td> <td>1994</td>\n",
       "        </tr>\n",
       "        <tr>\n",
       "            <td>100      </td> <td>The Hunger Games           </td> <td>Lionsgate  </td> <td>408,010,692</td> <td>452,174,400     </td> <td>2012</td>\n",
       "        </tr>\n",
       "    </tbody>\n",
       "</table>"
      ],
      "text/plain": [
       "Row Index | Title                       | Studio      | Gross       | Gross (Adjusted) | Year\n",
       "3         | E.T.: The Extra-Terrestrial | Universal   | 435,110,554 | 1,261,085,000    | 1982\n",
       "18        | The Lion King               | Buena Vista | 422,783,777 | 792,511,700      | 1994\n",
       "100       | The Hunger Games            | Lionsgate   | 408,010,692 | 452,174,400      | 2012"
      ]
     },
     "execution_count": 20,
     "metadata": {},
     "output_type": "execute_result"
    }
   ],
   "source": [
    "# Deterministic Samples\n",
    "# Use .take to choose elements of the set\n",
    "top.take(make_array(3, 18, 100))"
   ]
  },
  {
   "cell_type": "code",
   "execution_count": 21,
   "id": "e1c023ce",
   "metadata": {},
   "outputs": [
    {
     "data": {
      "text/html": [
       "<table border=\"1\" class=\"dataframe\">\n",
       "    <thead>\n",
       "        <tr>\n",
       "            <th>Row Index</th> <th>Title</th> <th>Studio</th> <th>Gross</th> <th>Gross (Adjusted)</th> <th>Year</th>\n",
       "        </tr>\n",
       "    </thead>\n",
       "    <tbody>\n",
       "        <tr>\n",
       "            <td>74       </td> <td>Harry Potter and the Sorcerer's Stone      </td> <td>Warner Brothers</td> <td>317,575,550</td> <td>497,066,400     </td> <td>2001</td>\n",
       "        </tr>\n",
       "        <tr>\n",
       "            <td>114      </td> <td>Harry Potter and the Deathly Hallows Part 2</td> <td>Warner Brothers</td> <td>381,011,219</td> <td>426,630,300     </td> <td>2011</td>\n",
       "        </tr>\n",
       "        <tr>\n",
       "            <td>131      </td> <td>Harry Potter and the Goblet of Fire        </td> <td>Warner Brothers</td> <td>290,013,036</td> <td>401,608,200     </td> <td>2005</td>\n",
       "        </tr>\n",
       "        <tr>\n",
       "            <td>133      </td> <td>Harry Potter and the Chamber of Secrets    </td> <td>Warner Brothers</td> <td>261,988,482</td> <td>399,302,200     </td> <td>2002</td>\n",
       "        </tr>\n",
       "        <tr>\n",
       "            <td>154      </td> <td>Harry Potter and the Order of the Phoenix  </td> <td>Warner Brothers</td> <td>292,004,738</td> <td>377,314,200     </td> <td>2007</td>\n",
       "        </tr>\n",
       "        <tr>\n",
       "            <td>175      </td> <td>Harry Potter and the Half-Blood Prince     </td> <td>Warner Brothers</td> <td>301,959,197</td> <td>359,788,300     </td> <td>2009</td>\n",
       "        </tr>\n",
       "        <tr>\n",
       "            <td>177      </td> <td>Harry Potter and the Prisoner of Azkaban   </td> <td>Warner Brothers</td> <td>249,541,069</td> <td>357,233,500     </td> <td>2004</td>\n",
       "        </tr>\n",
       "    </tbody>\n",
       "</table>"
      ],
      "text/plain": [
       "Row Index | Title                                       | Studio          | Gross       | Gross (Adjusted) | Year\n",
       "74        | Harry Potter and the Sorcerer's Stone       | Warner Brothers | 317,575,550 | 497,066,400      | 2001\n",
       "114       | Harry Potter and the Deathly Hallows Part 2 | Warner Brothers | 381,011,219 | 426,630,300      | 2011\n",
       "131       | Harry Potter and the Goblet of Fire         | Warner Brothers | 290,013,036 | 401,608,200      | 2005\n",
       "133       | Harry Potter and the Chamber of Secrets     | Warner Brothers | 261,988,482 | 399,302,200      | 2002\n",
       "154       | Harry Potter and the Order of the Phoenix   | Warner Brothers | 292,004,738 | 377,314,200      | 2007\n",
       "175       | Harry Potter and the Half-Blood Prince      | Warner Brothers | 301,959,197 | 359,788,300      | 2009\n",
       "177       | Harry Potter and the Prisoner of Azkaban    | Warner Brothers | 249,541,069 | 357,233,500      | 2004"
      ]
     },
     "execution_count": 21,
     "metadata": {},
     "output_type": "execute_result"
    }
   ],
   "source": [
    "# Also use .where\n",
    "# For instance, let's sample all the Harry Potter movies \n",
    "\n",
    "top.where('Title', are.containing('Harry Potter'))"
   ]
  },
  {
   "cell_type": "code",
   "execution_count": 24,
   "id": "1bb54039",
   "metadata": {},
   "outputs": [
    {
     "data": {
      "text/html": [
       "<table border=\"1\" class=\"dataframe\">\n",
       "    <thead>\n",
       "        <tr>\n",
       "            <th>Row Index</th> <th>Title</th> <th>Studio</th> <th>Gross</th> <th>Gross (Adjusted)</th> <th>Year</th>\n",
       "        </tr>\n",
       "    </thead>\n",
       "    <tbody>\n",
       "        <tr>\n",
       "            <td>4        </td> <td>Titanic                              </td> <td>Paramount      </td> <td>658,672,302</td> <td>1,204,368,000   </td> <td>1997</td>\n",
       "        </tr>\n",
       "        <tr>\n",
       "            <td>14       </td> <td>Avatar                               </td> <td>Fox            </td> <td>760,507,625</td> <td>865,082,100     </td> <td>2009</td>\n",
       "        </tr>\n",
       "        <tr>\n",
       "            <td>24       </td> <td>The Godfather                        </td> <td>Paramount      </td> <td>134,966,411</td> <td>701,621,600     </td> <td>1972</td>\n",
       "        </tr>\n",
       "        <tr>\n",
       "            <td>34       </td> <td>Shrek 2                              </td> <td>Dreamworks     </td> <td>441,226,247</td> <td>631,642,700     </td> <td>2004</td>\n",
       "        </tr>\n",
       "        <tr>\n",
       "            <td>44       </td> <td>Airport                              </td> <td>Universal      </td> <td>100,489,151</td> <td>587,729,300     </td> <td>1970</td>\n",
       "        </tr>\n",
       "        <tr>\n",
       "            <td>54       </td> <td>Finding Nemo                         </td> <td>Buena Vista    </td> <td>380,843,261</td> <td>547,504,100     </td> <td>2003</td>\n",
       "        </tr>\n",
       "        <tr>\n",
       "            <td>64       </td> <td>Back to the Future                   </td> <td>Universal      </td> <td>210,609,762</td> <td>524,960,300     </td> <td>1985</td>\n",
       "        </tr>\n",
       "        <tr>\n",
       "            <td>74       </td> <td>Harry Potter and the Sorcerer's Stone</td> <td>Warner Brothers</td> <td>317,575,550</td> <td>497,066,400     </td> <td>2001</td>\n",
       "        </tr>\n",
       "        <tr>\n",
       "            <td>84       </td> <td>Men in Black                         </td> <td>Sony           </td> <td>250,690,539</td> <td>485,542,200     </td> <td>1997</td>\n",
       "        </tr>\n",
       "        <tr>\n",
       "            <td>94       </td> <td>Mrs. Doubtfire                       </td> <td>Fox            </td> <td>219,195,243</td> <td>468,364,200     </td> <td>1993</td>\n",
       "        </tr>\n",
       "    </tbody>\n",
       "</table>\n",
       "<p>... (10 rows omitted)</p>"
      ],
      "text/plain": [
       "Row Index | Title                                 | Studio          | Gross       | Gross (Adjusted) | Year\n",
       "4         | Titanic                               | Paramount       | 658,672,302 | 1,204,368,000    | 1997\n",
       "14        | Avatar                                | Fox             | 760,507,625 | 865,082,100      | 2009\n",
       "24        | The Godfather                         | Paramount       | 134,966,411 | 701,621,600      | 1972\n",
       "34        | Shrek 2                               | Dreamworks      | 441,226,247 | 631,642,700      | 2004\n",
       "44        | Airport                               | Universal       | 100,489,151 | 587,729,300      | 1970\n",
       "54        | Finding Nemo                          | Buena Vista     | 380,843,261 | 547,504,100      | 2003\n",
       "64        | Back to the Future                    | Universal       | 210,609,762 | 524,960,300      | 1985\n",
       "74        | Harry Potter and the Sorcerer's Stone | Warner Brothers | 317,575,550 | 497,066,400      | 2001\n",
       "84        | Men in Black                          | Sony            | 250,690,539 | 485,542,200      | 1997\n",
       "94        | Mrs. Doubtfire                        | Fox             | 219,195,243 | 468,364,200      | 1993\n",
       "... (10 rows omitted)"
      ]
     },
     "execution_count": 24,
     "metadata": {},
     "output_type": "execute_result"
    }
   ],
   "source": [
    "# Systematic Sampling\n",
    "\n",
    "\"\"\"Choose a random start among rows 0 through 9;\n",
    "then take every 10th row.\"\"\"\n",
    "\n",
    "start = np.random.choice(np.arange(10))\n",
    "top.take(np.arange(start, top.num_rows, 10))\n",
    "\n",
    "# do this multiple times to demonstrate how it is random."
   ]
  },
  {
   "cell_type": "code",
   "execution_count": 26,
   "id": "b48252e9",
   "metadata": {},
   "outputs": [
    {
     "data": {
      "text/html": [
       "<table border=\"1\" class=\"dataframe\">\n",
       "    <thead>\n",
       "        <tr>\n",
       "            <th>Face</th>\n",
       "        </tr>\n",
       "    </thead>\n",
       "    <tbody>\n",
       "        <tr>\n",
       "            <td>1   </td>\n",
       "        </tr>\n",
       "        <tr>\n",
       "            <td>2   </td>\n",
       "        </tr>\n",
       "        <tr>\n",
       "            <td>3   </td>\n",
       "        </tr>\n",
       "        <tr>\n",
       "            <td>4   </td>\n",
       "        </tr>\n",
       "        <tr>\n",
       "            <td>5   </td>\n",
       "        </tr>\n",
       "        <tr>\n",
       "            <td>6   </td>\n",
       "        </tr>\n",
       "    </tbody>\n",
       "</table>"
      ],
      "text/plain": [
       "Face\n",
       "1\n",
       "2\n",
       "3\n",
       "4\n",
       "5\n",
       "6"
      ]
     },
     "execution_count": 26,
     "metadata": {},
     "output_type": "execute_result"
    }
   ],
   "source": [
    "# Empirical Distributions\n",
    "\n",
    "# roll a die multiple times and keep track of the results.\n",
    "# The table 'die' contais the numbers of spots.\n",
    "# This is a fair die - what does that mean?\n",
    "#    - all numbers appear exactly once.\n",
    "\n",
    "die = Table().with_column('Face', np.arange(1,7,1))\n",
    "die"
   ]
  },
  {
   "cell_type": "code",
   "execution_count": 27,
   "id": "71baa2f3",
   "metadata": {},
   "outputs": [
    {
     "data": {
      "image/png": "[encoded data removed]",
      "text/plain": [
       "<Figure size 432x288 with 1 Axes>"
      ]
     },
     "metadata": {
      "needs_background": "light"
     },
     "output_type": "display_data"
    }
   ],
   "source": [
    "# Let's make a histogram to show the distribution of probabilities\n",
    "# over all the possible faces.\n",
    "die_bins = np.arange(0.5, 6.6, 1)\n",
    "die.hist(bins = die_bins)"
   ]
  },
  {
   "cell_type": "code",
   "execution_count": null,
   "id": "4b0d3a1d",
   "metadata": {},
   "outputs": [],
   "source": [
    "# the bars all represent the same chance, so this is\n",
    "# a UNIFORM DISTRIBUTION."
   ]
  },
  {
   "cell_type": "code",
   "execution_count": 28,
   "id": "a42d8b9d",
   "metadata": {},
   "outputs": [
    {
     "data": {
      "text/html": [
       "<table border=\"1\" class=\"dataframe\">\n",
       "    <thead>\n",
       "        <tr>\n",
       "            <th>Face</th>\n",
       "        </tr>\n",
       "    </thead>\n",
       "    <tbody>\n",
       "        <tr>\n",
       "            <td>1   </td>\n",
       "        </tr>\n",
       "        <tr>\n",
       "            <td>5   </td>\n",
       "        </tr>\n",
       "        <tr>\n",
       "            <td>4   </td>\n",
       "        </tr>\n",
       "        <tr>\n",
       "            <td>4   </td>\n",
       "        </tr>\n",
       "        <tr>\n",
       "            <td>5   </td>\n",
       "        </tr>\n",
       "        <tr>\n",
       "            <td>5   </td>\n",
       "        </tr>\n",
       "        <tr>\n",
       "            <td>1   </td>\n",
       "        </tr>\n",
       "        <tr>\n",
       "            <td>5   </td>\n",
       "        </tr>\n",
       "        <tr>\n",
       "            <td>4   </td>\n",
       "        </tr>\n",
       "        <tr>\n",
       "            <td>5   </td>\n",
       "        </tr>\n",
       "    </tbody>\n",
       "</table>"
      ],
      "text/plain": [
       "Face\n",
       "1\n",
       "5\n",
       "4\n",
       "4\n",
       "5\n",
       "5\n",
       "1\n",
       "5\n",
       "4\n",
       "5"
      ]
     },
     "execution_count": 28,
     "metadata": {},
     "output_type": "execute_result"
    }
   ],
   "source": [
    "# Let’s visualize some empirical distributions with empirical histograms\n",
    "# Roll a die 10 times, using the table 'die' we created above.\n",
    "\n",
    "die.sample(10)"
   ]
  },
  {
   "cell_type": "code",
   "execution_count": 29,
   "id": "05e0dcbd",
   "metadata": {},
   "outputs": [],
   "source": [
    "# Let's roll this many times and draw an empirical histogram.\n",
    "# Since we want to do this a lot of times, let's make a function.\n",
    "\n",
    "def empirical_hist_die(n):\n",
    "    die.sample(n).hist(bins = die_bins)"
   ]
  },
  {
   "cell_type": "code",
   "execution_count": 30,
   "id": "05dd1659",
   "metadata": {},
   "outputs": [
    {
     "data": {
      "image/png": "[encoded data removed]",
      "text/plain": [
       "<Figure size 432x288 with 1 Axes>"
      ]
     },
     "metadata": {
      "needs_background": "light"
     },
     "output_type": "display_data"
    }
   ],
   "source": [
    "# now let's roll 10 times and make a histogram.\n",
    "\n",
    "empirical_hist_die(10)"
   ]
  },
  {
   "cell_type": "code",
   "execution_count": 31,
   "id": "30f3cd4c",
   "metadata": {},
   "outputs": [
    {
     "data": {
      "image/png": "[encoded data removed]",
      "text/plain": [
       "<Figure size 432x288 with 1 Axes>"
      ]
     },
     "metadata": {
      "needs_background": "light"
     },
     "output_type": "display_data"
    }
   ],
   "source": [
    "# increase the sample size\n",
    "empirical_hist_die(100)"
   ]
  },
  {
   "cell_type": "code",
   "execution_count": 32,
   "id": "e1f74aee",
   "metadata": {},
   "outputs": [
    {
     "data": {
      "image/png": "[encoded data removed]",
      "text/plain": [
       "<Figure size 432x288 with 1 Axes>"
      ]
     },
     "metadata": {
      "needs_background": "light"
     },
     "output_type": "display_data"
    }
   ],
   "source": [
    "# increase the sample size\n",
    "empirical_hist_die(10000)"
   ]
  },
  {
   "cell_type": "code",
   "execution_count": 33,
   "id": "ba01cbd5",
   "metadata": {},
   "outputs": [
    {
     "data": {
      "text/html": [
       "<table border=\"1\" class=\"dataframe\">\n",
       "    <thead>\n",
       "        <tr>\n",
       "            <th>Date</th> <th>Flight Number</th> <th>Destination</th> <th>Delay</th>\n",
       "        </tr>\n",
       "    </thead>\n",
       "    <tbody>\n",
       "        <tr>\n",
       "            <td>6/1/15</td> <td>73           </td> <td>HNL        </td> <td>257  </td>\n",
       "        </tr>\n",
       "        <tr>\n",
       "            <td>6/1/15</td> <td>217          </td> <td>EWR        </td> <td>28   </td>\n",
       "        </tr>\n",
       "        <tr>\n",
       "            <td>6/1/15</td> <td>237          </td> <td>STL        </td> <td>-3   </td>\n",
       "        </tr>\n",
       "        <tr>\n",
       "            <td>6/1/15</td> <td>250          </td> <td>SAN        </td> <td>0    </td>\n",
       "        </tr>\n",
       "        <tr>\n",
       "            <td>6/1/15</td> <td>267          </td> <td>PHL        </td> <td>64   </td>\n",
       "        </tr>\n",
       "        <tr>\n",
       "            <td>6/1/15</td> <td>273          </td> <td>SEA        </td> <td>-6   </td>\n",
       "        </tr>\n",
       "        <tr>\n",
       "            <td>6/1/15</td> <td>278          </td> <td>SEA        </td> <td>-8   </td>\n",
       "        </tr>\n",
       "        <tr>\n",
       "            <td>6/1/15</td> <td>292          </td> <td>EWR        </td> <td>12   </td>\n",
       "        </tr>\n",
       "        <tr>\n",
       "            <td>6/1/15</td> <td>300          </td> <td>HNL        </td> <td>20   </td>\n",
       "        </tr>\n",
       "        <tr>\n",
       "            <td>6/1/15</td> <td>317          </td> <td>IND        </td> <td>-10  </td>\n",
       "        </tr>\n",
       "    </tbody>\n",
       "</table>\n",
       "<p>... (13815 rows omitted)</p>"
      ],
      "text/plain": [
       "Date   | Flight Number | Destination | Delay\n",
       "6/1/15 | 73            | HNL         | 257\n",
       "6/1/15 | 217           | EWR         | 28\n",
       "6/1/15 | 237           | STL         | -3\n",
       "6/1/15 | 250           | SAN         | 0\n",
       "6/1/15 | 267           | PHL         | 64\n",
       "6/1/15 | 273           | SEA         | -6\n",
       "6/1/15 | 278           | SEA         | -8\n",
       "6/1/15 | 292           | EWR         | 12\n",
       "6/1/15 | 300           | HNL         | 20\n",
       "6/1/15 | 317           | IND         | -10\n",
       "... (13815 rows omitted)"
      ]
     },
     "execution_count": 33,
     "metadata": {},
     "output_type": "execute_result"
    }
   ],
   "source": [
    "# SAMPLING FROM A POPULATION\n",
    "# Load the table of flight delay times.\n",
    "united = Table.read_table('/Users/mt2245/Dropbox/INF_Syllabi/INF110/Spring_22/coding snippets/united_summer2015.csv')\n",
    "united\n"
   ]
  },
  {
   "cell_type": "code",
   "execution_count": 37,
   "id": "fe38bc25",
   "metadata": {},
   "outputs": [
    {
     "name": "stdout",
     "output_type": "stream",
     "text": [
      "-16\n",
      "580\n"
     ]
    }
   ],
   "source": [
    "# Some flights left early!\n",
    "# Also, some were REALLY LATE :-(\n",
    "print(united.column('Delay').min())\n",
    "print(united.column('Delay').max())\n"
   ]
  },
  {
   "cell_type": "code",
   "execution_count": 39,
   "id": "86ab6003",
   "metadata": {},
   "outputs": [
    {
     "data": {
      "image/png": "[encoded data removed]",
      "text/plain": [
       "<Figure size 432x288 with 1 Axes>"
      ]
     },
     "metadata": {
      "needs_background": "light"
     },
     "output_type": "display_data"
    }
   ],
   "source": [
    "# we will look at the distribution of delay times\n",
    "# using a histogram.\n",
    "#\n",
    "# let's create some bins for the histogram.\n",
    "# we'll start at -20, and create 300 bins of 10\n",
    "delay_bins = np.append(np.arange(-20, 301, 10),600)\n",
    "\n",
    "united.hist('Delay', bins = delay_bins, unit = 'minute')\n"
   ]
  },
  {
   "cell_type": "code",
   "execution_count": 40,
   "id": "7d933334",
   "metadata": {},
   "outputs": [
    {
     "data": {
      "text/plain": [
       "0.008390596745027125"
      ]
     },
     "execution_count": 40,
     "metadata": {},
     "output_type": "execute_result"
    }
   ],
   "source": [
    "# let's zoom in because most times were <200min.\n",
    "# To get an idea of how much were above 200min, \n",
    "# use .where to collect all the delays >200\n",
    "# count the number of rows,\n",
    "# and divide by the total number of rows.\n",
    "united.where('Delay', are.above(200)).num_rows/united.num_rows"
   ]
  },
  {
   "cell_type": "code",
   "execution_count": 41,
   "id": "2ad1aa01",
   "metadata": {},
   "outputs": [
    {
     "data": {
      "image/png": "[encoded data removed]",
      "text/plain": [
       "<Figure size 432x288 with 1 Axes>"
      ]
     },
     "metadata": {
      "needs_background": "light"
     },
     "output_type": "display_data"
    }
   ],
   "source": [
    "delay_bins = np.arange(-20, 201, 10)\n",
    "united.hist('Delay', bins = delay_bins, unit = 'minute')"
   ]
  },
  {
   "cell_type": "code",
   "execution_count": 42,
   "id": "9bd980ff",
   "metadata": {},
   "outputs": [
    {
     "data": {
      "text/plain": [
       "0.2935985533453888"
      ]
     },
     "execution_count": 42,
     "metadata": {},
     "output_type": "execute_result"
    }
   ],
   "source": [
    "# How many delays were between 0 and 10 minutes?\n",
    "# look at the histogram (second bin)\n",
    "\n",
    "# but also let's measure:\n",
    "united.where('Delay', are.between(0, 10)).num_rows/united.num_rows"
   ]
  },
  {
   "cell_type": "code",
   "execution_count": null,
   "id": "37ca98a5",
   "metadata": {},
   "outputs": [],
   "source": [
    "# most delays are not THAT bad..."
   ]
  },
  {
   "cell_type": "code",
   "execution_count": 43,
   "id": "ab8db4f7",
   "metadata": {},
   "outputs": [],
   "source": [
    "# EMPIRICAL DISTRIBUTION OF THE POPULATION SAMPLE\n",
    "# Here we're going to draw random samples\n",
    "# from 13,825 flights with replacement.\n",
    "# Like before, let's make a function.\n",
    "\n",
    "# it takes sample size as an argument\n",
    "# and draws an empirical histogram\n",
    "def empirical_hist_delay(n):\n",
    "    united.sample(n).hist('Delay', bins = delay_bins, unit = 'minute')"
   ]
  },
  {
   "cell_type": "code",
   "execution_count": 50,
   "id": "c356fb68",
   "metadata": {},
   "outputs": [
    {
     "data": {
      "image/png": "[encoded data removed]",
      "text/plain": [
       "<Figure size 432x288 with 1 Axes>"
      ]
     },
     "metadata": {
      "needs_background": "light"
     },
     "output_type": "display_data"
    }
   ],
   "source": [
    "empirical_hist_delay(1)"
   ]
  },
  {
   "cell_type": "code",
   "execution_count": 52,
   "id": "de22690c",
   "metadata": {},
   "outputs": [
    {
     "data": {
      "image/png": "[encoded data removed]",
      "text/plain": [
       "<Figure size 432x288 with 1 Axes>"
      ]
     },
     "metadata": {
      "needs_background": "light"
     },
     "output_type": "display_data"
    }
   ],
   "source": [
    "empirical_hist_delay(10)"
   ]
  },
  {
   "cell_type": "code",
   "execution_count": 53,
   "id": "b8a2e922",
   "metadata": {},
   "outputs": [
    {
     "data": {
      "image/png": "[encoded data removed]",
      "text/plain": [
       "<Figure size 432x288 with 1 Axes>"
      ]
     },
     "metadata": {
      "needs_background": "light"
     },
     "output_type": "display_data"
    }
   ],
   "source": [
    "empirical_hist_delay(1000)"
   ]
  },
  {
   "cell_type": "code",
   "execution_count": null,
   "id": "6ba6b0c5",
   "metadata": {},
   "outputs": [],
   "source": [
    "# As sample size increases, the emprical histogram\n",
    "# more closely resembles the histogram taken from \n",
    "# the population."
   ]
  },
  {
   "cell_type": "code",
   "execution_count": 68,
   "id": "d86656e2",
   "metadata": {},
   "outputs": [
    {
     "data": {
      "image/png": "[encoded data removed]",
      "text/plain": [
       "<Figure size 432x288 with 1 Axes>"
      ]
     },
     "metadata": {
      "needs_background": "light"
     },
     "output_type": "display_data"
    }
   ],
   "source": [
    "# let's create an emprical histogram\n",
    "# of 1000 random samples from the data\n",
    "sample_1000 = united.sample(1000)\n",
    "sample_1000.hist('Delay', bins = delay_bins, unit = 'minute')\n",
    "plots.title('Sample of Size 1000');"
   ]
  },
  {
   "cell_type": "code",
   "execution_count": 54,
   "id": "90fe1c88",
   "metadata": {},
   "outputs": [
    {
     "data": {
      "text/plain": [
       "2.0"
      ]
     },
     "execution_count": 54,
     "metadata": {},
     "output_type": "execute_result"
    }
   ],
   "source": [
    "# parameters\n",
    "# what is the median delay?\n",
    "np.median(united.column('Delay'))"
   ]
  },
  {
   "cell_type": "code",
   "execution_count": 55,
   "id": "ca187c2f",
   "metadata": {},
   "outputs": [
    {
     "data": {
      "text/plain": [
       "0.5018444846292948"
      ]
     },
     "execution_count": 55,
     "metadata": {},
     "output_type": "execute_result"
    }
   ],
   "source": [
    "# what proportion of flights were\n",
    "# at or below the median delay?\n",
    "united.where('Delay', are.below_or_equal_to(2)).num_rows / united.num_rows"
   ]
  },
  {
   "cell_type": "code",
   "execution_count": 56,
   "id": "5912a871",
   "metadata": {},
   "outputs": [
    {
     "data": {
      "text/plain": [
       "480"
      ]
     },
     "execution_count": 56,
     "metadata": {},
     "output_type": "execute_result"
    }
   ],
   "source": [
    "# not bad!\n",
    "# how many were exactly the median delay?\n",
    "united.where('Delay', are.equal_to(2)).num_rows"
   ]
  },
  {
   "cell_type": "code",
   "execution_count": 69,
   "id": "f61213df",
   "metadata": {},
   "outputs": [
    {
     "data": {
      "text/plain": [
       "2.0"
      ]
     },
     "execution_count": 69,
     "metadata": {},
     "output_type": "execute_result"
    }
   ],
   "source": [
    "# here, let's use the 1000 random samples\n",
    "# to estimate the parameter \"median delay\"\n",
    "np.median(sample_1000.column('Delay'))"
   ]
  },
  {
   "cell_type": "code",
   "execution_count": 74,
   "id": "7d29b69a",
   "metadata": {},
   "outputs": [
    {
     "data": {
      "text/plain": [
       "2.0"
      ]
     },
     "execution_count": 74,
     "metadata": {},
     "output_type": "execute_result"
    }
   ],
   "source": [
    "# it MIGHT be different. Why?\n",
    "# run this many times and see\n",
    "np.median(united.sample(1000).column('Delay'))"
   ]
  },
  {
   "cell_type": "code",
   "execution_count": 75,
   "id": "2861ae67",
   "metadata": {},
   "outputs": [],
   "source": [
    "# Step 1: we want the MEDIAN from a random sample\n",
    "# of 1000 flight delays.\n",
    "\n",
    "# Step 2: put the sampling code into a function\n",
    "def random_sample_median():\n",
    "    return np.median(united.sample(1000).column('Delay'))"
   ]
  },
  {
   "cell_type": "code",
   "execution_count": 76,
   "id": "d249821c",
   "metadata": {},
   "outputs": [],
   "source": [
    "# Step 3: we'll do 5000 simulations.\n",
    "# Step 4: Use the for loop.\n",
    "\n",
    "# first, create an empty array to collect the results:\n",
    "medians = make_array()\n",
    "\n",
    "# then, generate the values with a for loop\n",
    "# and append each iteration to the array.\n",
    "\n",
    "for i in np.arange(5000):\n",
    "    medians = np.append(medians, random_sample_median())"
   ]
  },
  {
   "cell_type": "code",
   "execution_count": 77,
   "id": "0f5f71ad",
   "metadata": {},
   "outputs": [
    {
     "data": {
      "text/html": [
       "<table border=\"1\" class=\"dataframe\">\n",
       "    <thead>\n",
       "        <tr>\n",
       "            <th>Sample Median</th>\n",
       "        </tr>\n",
       "    </thead>\n",
       "    <tbody>\n",
       "        <tr>\n",
       "            <td>3            </td>\n",
       "        </tr>\n",
       "        <tr>\n",
       "            <td>2            </td>\n",
       "        </tr>\n",
       "        <tr>\n",
       "            <td>2            </td>\n",
       "        </tr>\n",
       "        <tr>\n",
       "            <td>2            </td>\n",
       "        </tr>\n",
       "        <tr>\n",
       "            <td>3            </td>\n",
       "        </tr>\n",
       "        <tr>\n",
       "            <td>2            </td>\n",
       "        </tr>\n",
       "        <tr>\n",
       "            <td>3            </td>\n",
       "        </tr>\n",
       "        <tr>\n",
       "            <td>2            </td>\n",
       "        </tr>\n",
       "        <tr>\n",
       "            <td>2            </td>\n",
       "        </tr>\n",
       "        <tr>\n",
       "            <td>1            </td>\n",
       "        </tr>\n",
       "    </tbody>\n",
       "</table>\n",
       "<p>... (4990 rows omitted)</p>"
      ],
      "text/plain": [
       "Sample Median\n",
       "3\n",
       "2\n",
       "2\n",
       "2\n",
       "3\n",
       "2\n",
       "3\n",
       "2\n",
       "2\n",
       "1\n",
       "... (4990 rows omitted)"
      ]
     },
     "execution_count": 77,
     "metadata": {},
     "output_type": "execute_result"
    }
   ],
   "source": [
    "# Let's display all this in a table based on the medians array.\n",
    "simulated_medians = Table().with_column('Sample Median', medians)\n",
    "simulated_medians"
   ]
  },
  {
   "cell_type": "code",
   "execution_count": 78,
   "id": "600034eb",
   "metadata": {},
   "outputs": [
    {
     "data": {
      "image/png": "[encoded data removed]",
      "text/plain": [
       "<Figure size 432x288 with 1 Axes>"
      ]
     },
     "metadata": {
      "needs_background": "light"
     },
     "output_type": "display_data"
    }
   ],
   "source": [
    "# let's visualize it with a histogram.\n",
    "simulated_medians.hist(bins=np.arange(0.5, 5, 1))\n",
    "\n",
    "# this is an EMPIRICAL HISTOGRAM OF THE STATISTIC.\n",
    "# it displays the EMPIRICAL DISTRIBUTION of the statistic."
   ]
  },
  {
   "cell_type": "code",
   "execution_count": null,
   "id": "373ce4e9",
   "metadata": {},
   "outputs": [],
   "source": []
  }
 ],
 "metadata": {
  "kernelspec": {
   "display_name": "Python 3",
   "language": "python",
   "name": "python3"
  },
  "language_info": {
   "codemirror_mode": {
    "name": "ipython",
    "version": 3
   },
   "file_extension": ".py",
   "mimetype": "text/x-python",
   "name": "python",
   "nbconvert_exporter": "python",
   "pygments_lexer": "ipython3",
   "version": "3.8.8"
  }
 },
 "nbformat": 4,
 "nbformat_minor": 5
}
