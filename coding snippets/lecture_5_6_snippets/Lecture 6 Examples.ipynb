{
 "cells": [
  {
   "cell_type": "code",
   "execution_count": 1,
   "metadata": {},
   "outputs": [],
   "source": [
    "from datascience import *\n",
    "import numpy as np"
   ]
  },
  {
   "cell_type": "markdown",
   "metadata": {},
   "source": [
    "# NumPy Array examples\n",
    "\n",
    "These are some of the things we can do in NumPy!"
   ]
  },
  {
   "cell_type": "code",
   "execution_count": 3,
   "metadata": {},
   "outputs": [
    {
     "data": {
      "text/plain": [
       "array([ 3. , 11. ,  7. ,  5. ,  6. , 10. , 12. , 14. , 15.6,  3.4,  2.1])"
      ]
     },
     "execution_count": 3,
     "metadata": {},
     "output_type": "execute_result"
    }
   ],
   "source": [
    "temperatures = make_array(3, 11, 7, 5, 6, 10, 12, 14, 15.6, 3.4, 2.1)\n",
    "temperatures"
   ]
  },
  {
   "cell_type": "markdown",
   "metadata": {},
   "source": [
    "see the help file for multiply - **element-wise** multiplication"
   ]
  },
  {
   "cell_type": "code",
   "execution_count": 6,
   "metadata": {},
   "outputs": [],
   "source": [
    "np.multiply?"
   ]
  },
  {
   "cell_type": "markdown",
   "metadata": {},
   "source": [
    "now, we will try to use this to convert these temps from C to F, which is temp in C * 9.0/5.0 + 32"
   ]
  },
  {
   "cell_type": "code",
   "execution_count": 4,
   "metadata": {},
   "outputs": [
    {
     "data": {
      "text/plain": [
       "array([101.4 , 371.8 , 236.6 , 169.  , 202.8 , 338.  , 405.6 , 473.2 ,\n",
       "       527.28, 114.92,  70.98])"
      ]
     },
     "execution_count": 4,
     "metadata": {},
     "output_type": "execute_result"
    }
   ],
   "source": [
    "np.multiply(temperatures, (9.0/5.0) + 32)"
   ]
  },
  {
   "cell_type": "markdown",
   "metadata": {},
   "source": [
    "what happened here? These numbers are not right.\n",
    "\n",
    "It's a good idea to keep checking the order of operations (PEMDAS).\n",
    "\n",
    "What we did above was take 9/5 plus 32 and then multiplied it.\n",
    "\n",
    "We need to do multiplication first, then division, then addition.\n",
    "\n",
    "The following resolves the MD first, then adds at the end (notice the addition on the outside of the function call."
   ]
  },
  {
   "cell_type": "code",
   "execution_count": 5,
   "metadata": {},
   "outputs": [
    {
     "data": {
      "text/plain": [
       "array([37.4 , 51.8 , 44.6 , 41.  , 42.8 , 50.  , 53.6 , 57.2 , 60.08,\n",
       "       38.12, 35.78])"
      ]
     },
     "execution_count": 5,
     "metadata": {},
     "output_type": "execute_result"
    }
   ],
   "source": [
    "np.multiply(temperatures, (9.0/5.0)) + 32"
   ]
  },
  {
   "cell_type": "markdown",
   "metadata": {},
   "source": [
    "That's right!\n",
    "It is, however, simpler to do this arithmetic directly on the array.\n",
    "This will take each element in the array, multiply by 9/5 and add 32 in the correct order of operations."
   ]
  },
  {
   "cell_type": "code",
   "execution_count": 6,
   "metadata": {},
   "outputs": [
    {
     "data": {
      "text/plain": [
       "array([37.4 , 51.8 , 44.6 , 41.  , 42.8 , 50.  , 53.6 , 57.2 , 60.08,\n",
       "       38.12, 35.78])"
      ]
     },
     "execution_count": 6,
     "metadata": {},
     "output_type": "execute_result"
    }
   ],
   "source": [
    "temperatures * (9.0/5.0) + 32"
   ]
  },
  {
   "cell_type": "markdown",
   "metadata": {},
   "source": [
    "# Some more NumPy Examples with Tables\n",
    "\n",
    "Let's do the same thing with tables!\n",
    "Let's load a table from a .csv file into python using Table()."
   ]
  },
  {
   "cell_type": "code",
   "execution_count": 7,
   "metadata": {},
   "outputs": [
    {
     "data": {
      "text/html": [
       "<table border=\"1\" class=\"dataframe\">\n",
       "    <thead>\n",
       "        <tr>\n",
       "            <th>Name</th> <th>City</th> <th>State</th> <th>Temperature in C</th>\n",
       "        </tr>\n",
       "    </thead>\n",
       "    <tbody>\n",
       "        <tr>\n",
       "            <td>Colebank, Jordan Elise      </td> <td>San Franciso</td> <td>California</td> <td>13              </td>\n",
       "        </tr>\n",
       "        <tr>\n",
       "            <td>Collins, Matthew T          </td> <td>Atlanta     </td> <td>Georgia   </td> <td>9               </td>\n",
       "        </tr>\n",
       "        <tr>\n",
       "            <td>Cook, Kylie Nichole         </td> <td>Seattle     </td> <td>Washington</td> <td>6               </td>\n",
       "        </tr>\n",
       "        <tr>\n",
       "            <td>Downard, Andrew Nicholas    </td> <td>nan         </td> <td>nan       </td> <td>0               </td>\n",
       "        </tr>\n",
       "        <tr>\n",
       "            <td>Duerinck, Randy Keith       </td> <td>New York    </td> <td>New York  </td> <td>-10             </td>\n",
       "        </tr>\n",
       "        <tr>\n",
       "            <td>Graham, Cassandra Michelle  </td> <td>Cincinnati  </td> <td>Ohio      </td> <td>-12             </td>\n",
       "        </tr>\n",
       "        <tr>\n",
       "            <td>Hodge, Devin Jonathan Monroe</td> <td>Kansas City </td> <td>Missouri  </td> <td>-4              </td>\n",
       "        </tr>\n",
       "        <tr>\n",
       "            <td>Hoover, David R             </td> <td>Sahuarita   </td> <td>Arizona   </td> <td>19              </td>\n",
       "        </tr>\n",
       "        <tr>\n",
       "            <td>Linden, Andrew Ryan         </td> <td>Portland    </td> <td>Oregon    </td> <td>6               </td>\n",
       "        </tr>\n",
       "        <tr>\n",
       "            <td>Lynn, Matthew Michael       </td> <td>Dallas      </td> <td>Texas     </td> <td>10              </td>\n",
       "        </tr>\n",
       "    </tbody>\n",
       "</table>\n",
       "<p>... (3 rows omitted)</p>"
      ],
      "text/plain": [
       "Name                         | City         | State      | Temperature in C\n",
       "Colebank, Jordan Elise       | San Franciso | California | 13\n",
       "Collins, Matthew T           | Atlanta      | Georgia    | 9\n",
       "Cook, Kylie Nichole          | Seattle      | Washington | 6\n",
       "Downard, Andrew Nicholas     | nan          | nan        | 0\n",
       "Duerinck, Randy Keith        | New York     | New York   | -10\n",
       "Graham, Cassandra Michelle   | Cincinnati   | Ohio       | -12\n",
       "Hodge, Devin Jonathan Monroe | Kansas City  | Missouri   | -4\n",
       "Hoover, David R              | Sahuarita    | Arizona    | 19\n",
       "Linden, Andrew Ryan          | Portland     | Oregon     | 6\n",
       "Lynn, Matthew Michael        | Dallas       | Texas      | 10\n",
       "... (3 rows omitted)"
      ]
     },
     "execution_count": 7,
     "metadata": {},
     "output_type": "execute_result"
    }
   ],
   "source": [
    "cities = Table().read_table(\"cities.csv\")\n",
    "cities"
   ]
  },
  {
   "cell_type": "markdown",
   "metadata": {},
   "source": [
    "You can imagine converting the \"Temperature in C\" column into Fahrenheit (we alerady did that before)"
   ]
  },
  {
   "cell_type": "code",
   "execution_count": 8,
   "metadata": {},
   "outputs": [
    {
     "data": {
      "text/plain": [
       "array([55.4  , 48.2  , 42.8  , 32.   , 14.   , 10.4  , 24.8  , 66.2  ,\n",
       "       42.8  , 50.   , 32.   , 57.218, 60.8  ])"
      ]
     },
     "execution_count": 8,
     "metadata": {},
     "output_type": "execute_result"
    }
   ],
   "source": [
    "cities.column(\"Temperature in C\") * 9.0/5.0 + 32.0"
   ]
  },
  {
   "cell_type": "markdown",
   "metadata": {},
   "source": [
    "Now, we can add a new column to the table by chaining some numpy methods.\n",
    "\n",
    "We will use .with_column to add an \"empty\" new column to cities, and then populate it by creating a column that takes each element in \"Temperature in C\" and does the temp math on it.\n",
    "\n",
    "These methods treat columns in a table as arrays."
   ]
  },
  {
   "cell_type": "code",
   "execution_count": 14,
   "metadata": {},
   "outputs": [
    {
     "data": {
      "text/html": [
       "<table border=\"1\" class=\"dataframe\">\n",
       "    <thead>\n",
       "        <tr>\n",
       "            <th>Name</th> <th>City</th> <th>State</th> <th>Temperature in C</th> <th>Temperature in F</th>\n",
       "        </tr>\n",
       "    </thead>\n",
       "    <tbody>\n",
       "        <tr>\n",
       "            <td>Colebank, Jordan Elise      </td> <td>San Franciso</td> <td>California</td> <td>13              </td> <td>55.4            </td>\n",
       "        </tr>\n",
       "        <tr>\n",
       "            <td>Collins, Matthew T          </td> <td>Atlanta     </td> <td>Georgia   </td> <td>9               </td> <td>48.2            </td>\n",
       "        </tr>\n",
       "        <tr>\n",
       "            <td>Cook, Kylie Nichole         </td> <td>Seattle     </td> <td>Washington</td> <td>6               </td> <td>42.8            </td>\n",
       "        </tr>\n",
       "        <tr>\n",
       "            <td>Downard, Andrew Nicholas    </td> <td>nan         </td> <td>nan       </td> <td>0               </td> <td>32              </td>\n",
       "        </tr>\n",
       "        <tr>\n",
       "            <td>Duerinck, Randy Keith       </td> <td>New York    </td> <td>New York  </td> <td>-10             </td> <td>14              </td>\n",
       "        </tr>\n",
       "        <tr>\n",
       "            <td>Graham, Cassandra Michelle  </td> <td>Cincinnati  </td> <td>Ohio      </td> <td>-12             </td> <td>10.4            </td>\n",
       "        </tr>\n",
       "        <tr>\n",
       "            <td>Hodge, Devin Jonathan Monroe</td> <td>Kansas City </td> <td>Missouri  </td> <td>-4              </td> <td>24.8            </td>\n",
       "        </tr>\n",
       "        <tr>\n",
       "            <td>Hoover, David R             </td> <td>Sahuarita   </td> <td>Arizona   </td> <td>19              </td> <td>66.2            </td>\n",
       "        </tr>\n",
       "        <tr>\n",
       "            <td>Linden, Andrew Ryan         </td> <td>Portland    </td> <td>Oregon    </td> <td>6               </td> <td>42.8            </td>\n",
       "        </tr>\n",
       "        <tr>\n",
       "            <td>Lynn, Matthew Michael       </td> <td>Dallas      </td> <td>Texas     </td> <td>10              </td> <td>50              </td>\n",
       "        </tr>\n",
       "    </tbody>\n",
       "</table>\n",
       "<p>... (3 rows omitted)</p>"
      ],
      "text/plain": [
       "Name                         | City         | State      | Temperature in C | Temperature in F\n",
       "Colebank, Jordan Elise       | San Franciso | California | 13               | 55.4\n",
       "Collins, Matthew T           | Atlanta      | Georgia    | 9                | 48.2\n",
       "Cook, Kylie Nichole          | Seattle      | Washington | 6                | 42.8\n",
       "Downard, Andrew Nicholas     | nan          | nan        | 0                | 32\n",
       "Duerinck, Randy Keith        | New York     | New York   | -10              | 14\n",
       "Graham, Cassandra Michelle   | Cincinnati   | Ohio       | -12              | 10.4\n",
       "Hodge, Devin Jonathan Monroe | Kansas City  | Missouri   | -4               | 24.8\n",
       "Hoover, David R              | Sahuarita    | Arizona    | 19               | 66.2\n",
       "Linden, Andrew Ryan          | Portland     | Oregon     | 6                | 42.8\n",
       "Lynn, Matthew Michael        | Dallas       | Texas      | 10               | 50\n",
       "... (3 rows omitted)"
      ]
     },
     "execution_count": 14,
     "metadata": {},
     "output_type": "execute_result"
    }
   ],
   "source": [
    "cities.with_column(\"Temperature in F\", cities.column(\"Temperature in C\") * 9.0/5.0 + 32.0)"
   ]
  },
  {
   "cell_type": "markdown",
   "metadata": {},
   "source": [
    "Here's an alternative method: We'll create a new array based by doing math on the \"Temperatures in C\" from the old table. "
   ]
  },
  {
   "cell_type": "code",
   "execution_count": 11,
   "metadata": {},
   "outputs": [
    {
     "data": {
      "text/plain": [
       "array([55.4  , 48.2  , 42.8  , 32.   , 14.   , 10.4  , 24.8  , 66.2  ,\n",
       "       42.8  , 50.   , 32.   , 57.218, 60.8  ])"
      ]
     },
     "execution_count": 11,
     "metadata": {},
     "output_type": "execute_result"
    }
   ],
   "source": [
    "F_column = cities.column(\"Temperature in C\") * 9.0/5.0 + 32.0\n",
    "F_column"
   ]
  },
  {
   "cell_type": "markdown",
   "metadata": {},
   "source": [
    "and use the column stored in the new variable to attach to our old table."
   ]
  },
  {
   "cell_type": "code",
   "execution_count": 12,
   "metadata": {},
   "outputs": [
    {
     "data": {
      "text/html": [
       "<table border=\"1\" class=\"dataframe\">\n",
       "    <thead>\n",
       "        <tr>\n",
       "            <th>Name</th> <th>City</th> <th>State</th> <th>Temperature in C</th> <th>Temperature in F</th>\n",
       "        </tr>\n",
       "    </thead>\n",
       "    <tbody>\n",
       "        <tr>\n",
       "            <td>Colebank, Jordan Elise      </td> <td>San Franciso</td> <td>California</td> <td>13              </td> <td>55.4            </td>\n",
       "        </tr>\n",
       "        <tr>\n",
       "            <td>Collins, Matthew T          </td> <td>Atlanta     </td> <td>Georgia   </td> <td>9               </td> <td>48.2            </td>\n",
       "        </tr>\n",
       "        <tr>\n",
       "            <td>Cook, Kylie Nichole         </td> <td>Seattle     </td> <td>Washington</td> <td>6               </td> <td>42.8            </td>\n",
       "        </tr>\n",
       "        <tr>\n",
       "            <td>Downard, Andrew Nicholas    </td> <td>nan         </td> <td>nan       </td> <td>0               </td> <td>32              </td>\n",
       "        </tr>\n",
       "        <tr>\n",
       "            <td>Duerinck, Randy Keith       </td> <td>New York    </td> <td>New York  </td> <td>-10             </td> <td>14              </td>\n",
       "        </tr>\n",
       "        <tr>\n",
       "            <td>Graham, Cassandra Michelle  </td> <td>Cincinnati  </td> <td>Ohio      </td> <td>-12             </td> <td>10.4            </td>\n",
       "        </tr>\n",
       "        <tr>\n",
       "            <td>Hodge, Devin Jonathan Monroe</td> <td>Kansas City </td> <td>Missouri  </td> <td>-4              </td> <td>24.8            </td>\n",
       "        </tr>\n",
       "        <tr>\n",
       "            <td>Hoover, David R             </td> <td>Sahuarita   </td> <td>Arizona   </td> <td>19              </td> <td>66.2            </td>\n",
       "        </tr>\n",
       "        <tr>\n",
       "            <td>Linden, Andrew Ryan         </td> <td>Portland    </td> <td>Oregon    </td> <td>6               </td> <td>42.8            </td>\n",
       "        </tr>\n",
       "        <tr>\n",
       "            <td>Lynn, Matthew Michael       </td> <td>Dallas      </td> <td>Texas     </td> <td>10              </td> <td>50              </td>\n",
       "        </tr>\n",
       "    </tbody>\n",
       "</table>\n",
       "<p>... (3 rows omitted)</p>"
      ],
      "text/plain": [
       "Name                         | City         | State      | Temperature in C | Temperature in F\n",
       "Colebank, Jordan Elise       | San Franciso | California | 13               | 55.4\n",
       "Collins, Matthew T           | Atlanta      | Georgia    | 9                | 48.2\n",
       "Cook, Kylie Nichole          | Seattle      | Washington | 6                | 42.8\n",
       "Downard, Andrew Nicholas     | nan          | nan        | 0                | 32\n",
       "Duerinck, Randy Keith        | New York     | New York   | -10              | 14\n",
       "Graham, Cassandra Michelle   | Cincinnati   | Ohio       | -12              | 10.4\n",
       "Hodge, Devin Jonathan Monroe | Kansas City  | Missouri   | -4               | 24.8\n",
       "Hoover, David R              | Sahuarita    | Arizona    | 19               | 66.2\n",
       "Linden, Andrew Ryan          | Portland     | Oregon     | 6                | 42.8\n",
       "Lynn, Matthew Michael        | Dallas       | Texas      | 10               | 50\n",
       "... (3 rows omitted)"
      ]
     },
     "execution_count": 12,
     "metadata": {},
     "output_type": "execute_result"
    }
   ],
   "source": [
    "cities.with_column(\"Temperature in F\", F_column)"
   ]
  },
  {
   "cell_type": "markdown",
   "metadata": {},
   "source": [
    "What was our old table's name?"
   ]
  },
  {
   "cell_type": "code",
   "execution_count": 13,
   "metadata": {},
   "outputs": [
    {
     "data": {
      "text/html": [
       "<table border=\"1\" class=\"dataframe\">\n",
       "    <thead>\n",
       "        <tr>\n",
       "            <th>Name</th> <th>City</th> <th>State</th> <th>Temperature in C</th>\n",
       "        </tr>\n",
       "    </thead>\n",
       "    <tbody>\n",
       "        <tr>\n",
       "            <td>Colebank, Jordan Elise      </td> <td>San Franciso</td> <td>California</td> <td>13              </td>\n",
       "        </tr>\n",
       "        <tr>\n",
       "            <td>Collins, Matthew T          </td> <td>Atlanta     </td> <td>Georgia   </td> <td>9               </td>\n",
       "        </tr>\n",
       "        <tr>\n",
       "            <td>Cook, Kylie Nichole         </td> <td>Seattle     </td> <td>Washington</td> <td>6               </td>\n",
       "        </tr>\n",
       "        <tr>\n",
       "            <td>Downard, Andrew Nicholas    </td> <td>nan         </td> <td>nan       </td> <td>0               </td>\n",
       "        </tr>\n",
       "        <tr>\n",
       "            <td>Duerinck, Randy Keith       </td> <td>New York    </td> <td>New York  </td> <td>-10             </td>\n",
       "        </tr>\n",
       "        <tr>\n",
       "            <td>Graham, Cassandra Michelle  </td> <td>Cincinnati  </td> <td>Ohio      </td> <td>-12             </td>\n",
       "        </tr>\n",
       "        <tr>\n",
       "            <td>Hodge, Devin Jonathan Monroe</td> <td>Kansas City </td> <td>Missouri  </td> <td>-4              </td>\n",
       "        </tr>\n",
       "        <tr>\n",
       "            <td>Hoover, David R             </td> <td>Sahuarita   </td> <td>Arizona   </td> <td>19              </td>\n",
       "        </tr>\n",
       "        <tr>\n",
       "            <td>Linden, Andrew Ryan         </td> <td>Portland    </td> <td>Oregon    </td> <td>6               </td>\n",
       "        </tr>\n",
       "        <tr>\n",
       "            <td>Lynn, Matthew Michael       </td> <td>Dallas      </td> <td>Texas     </td> <td>10              </td>\n",
       "        </tr>\n",
       "    </tbody>\n",
       "</table>\n",
       "<p>... (3 rows omitted)</p>"
      ],
      "text/plain": [
       "Name                         | City         | State      | Temperature in C\n",
       "Colebank, Jordan Elise       | San Franciso | California | 13\n",
       "Collins, Matthew T           | Atlanta      | Georgia    | 9\n",
       "Cook, Kylie Nichole          | Seattle      | Washington | 6\n",
       "Downard, Andrew Nicholas     | nan          | nan        | 0\n",
       "Duerinck, Randy Keith        | New York     | New York   | -10\n",
       "Graham, Cassandra Michelle   | Cincinnati   | Ohio       | -12\n",
       "Hodge, Devin Jonathan Monroe | Kansas City  | Missouri   | -4\n",
       "Hoover, David R              | Sahuarita    | Arizona    | 19\n",
       "Linden, Andrew Ryan          | Portland     | Oregon     | 6\n",
       "Lynn, Matthew Michael        | Dallas       | Texas      | 10\n",
       "... (3 rows omitted)"
      ]
     },
     "execution_count": 13,
     "metadata": {},
     "output_type": "execute_result"
    }
   ],
   "source": [
    "cities"
   ]
  },
  {
   "cell_type": "markdown",
   "metadata": {},
   "source": [
    "Notice how even though we did all this stuff with numpy on our table, it didn't change. What do we do if we want to save our new table?"
   ]
  },
  {
   "cell_type": "code",
   "execution_count": 15,
   "metadata": {},
   "outputs": [
    {
     "data": {
      "text/html": [
       "<table border=\"1\" class=\"dataframe\">\n",
       "    <thead>\n",
       "        <tr>\n",
       "            <th>Name</th> <th>City</th> <th>State</th> <th>Temperature in C</th> <th>Temperature in F</th>\n",
       "        </tr>\n",
       "    </thead>\n",
       "    <tbody>\n",
       "        <tr>\n",
       "            <td>Colebank, Jordan Elise      </td> <td>San Franciso</td> <td>California</td> <td>13              </td> <td>55.4            </td>\n",
       "        </tr>\n",
       "        <tr>\n",
       "            <td>Collins, Matthew T          </td> <td>Atlanta     </td> <td>Georgia   </td> <td>9               </td> <td>48.2            </td>\n",
       "        </tr>\n",
       "        <tr>\n",
       "            <td>Cook, Kylie Nichole         </td> <td>Seattle     </td> <td>Washington</td> <td>6               </td> <td>42.8            </td>\n",
       "        </tr>\n",
       "        <tr>\n",
       "            <td>Downard, Andrew Nicholas    </td> <td>nan         </td> <td>nan       </td> <td>0               </td> <td>32              </td>\n",
       "        </tr>\n",
       "        <tr>\n",
       "            <td>Duerinck, Randy Keith       </td> <td>New York    </td> <td>New York  </td> <td>-10             </td> <td>14              </td>\n",
       "        </tr>\n",
       "        <tr>\n",
       "            <td>Graham, Cassandra Michelle  </td> <td>Cincinnati  </td> <td>Ohio      </td> <td>-12             </td> <td>10.4            </td>\n",
       "        </tr>\n",
       "        <tr>\n",
       "            <td>Hodge, Devin Jonathan Monroe</td> <td>Kansas City </td> <td>Missouri  </td> <td>-4              </td> <td>24.8            </td>\n",
       "        </tr>\n",
       "        <tr>\n",
       "            <td>Hoover, David R             </td> <td>Sahuarita   </td> <td>Arizona   </td> <td>19              </td> <td>66.2            </td>\n",
       "        </tr>\n",
       "        <tr>\n",
       "            <td>Linden, Andrew Ryan         </td> <td>Portland    </td> <td>Oregon    </td> <td>6               </td> <td>42.8            </td>\n",
       "        </tr>\n",
       "        <tr>\n",
       "            <td>Lynn, Matthew Michael       </td> <td>Dallas      </td> <td>Texas     </td> <td>10              </td> <td>50              </td>\n",
       "        </tr>\n",
       "    </tbody>\n",
       "</table>\n",
       "<p>... (3 rows omitted)</p>"
      ],
      "text/plain": [
       "Name                         | City         | State      | Temperature in C | Temperature in F\n",
       "Colebank, Jordan Elise       | San Franciso | California | 13               | 55.4\n",
       "Collins, Matthew T           | Atlanta      | Georgia    | 9                | 48.2\n",
       "Cook, Kylie Nichole          | Seattle      | Washington | 6                | 42.8\n",
       "Downard, Andrew Nicholas     | nan          | nan        | 0                | 32\n",
       "Duerinck, Randy Keith        | New York     | New York   | -10              | 14\n",
       "Graham, Cassandra Michelle   | Cincinnati   | Ohio       | -12              | 10.4\n",
       "Hodge, Devin Jonathan Monroe | Kansas City  | Missouri   | -4               | 24.8\n",
       "Hoover, David R              | Sahuarita    | Arizona    | 19               | 66.2\n",
       "Linden, Andrew Ryan          | Portland     | Oregon     | 6                | 42.8\n",
       "Lynn, Matthew Michael        | Dallas       | Texas      | 10               | 50\n",
       "... (3 rows omitted)"
      ]
     },
     "execution_count": 15,
     "metadata": {},
     "output_type": "execute_result"
    }
   ],
   "source": [
    "new_cities = cities.with_column(\"Temperature in F\", F_column)\n",
    "new_cities"
   ]
  }
 ],
 "metadata": {
  "kernelspec": {
   "display_name": "Python 3",
   "language": "python",
   "name": "python3"
  },
  "language_info": {
   "codemirror_mode": {
    "name": "ipython",
    "version": 3
   },
   "file_extension": ".py",
   "mimetype": "text/x-python",
   "name": "python",
   "nbconvert_exporter": "python",
   "pygments_lexer": "ipython3",
   "version": "3.8.8"
  }
 },
 "nbformat": 4,
 "nbformat_minor": 2
}
