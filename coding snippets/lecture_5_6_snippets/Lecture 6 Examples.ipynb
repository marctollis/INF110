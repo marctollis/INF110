{
 "cells": [
  {
   "cell_type": "code",
   "execution_count": 1,
   "metadata": {},
   "outputs": [],
   "source": [
    "from datascience import *\n",
    "import numpy as np"
   ]
  },
  {
   "cell_type": "markdown",
   "metadata": {},
   "source": [
    "# NumPy Array examples\n",
    "\n",
    "These are some of the things we can do in NumPy!"
   ]
  },
  {
   "cell_type": "code",
   "execution_count": 2,
   "metadata": {},
   "outputs": [
    {
     "data": {
      "text/plain": [
       "array([ 3. , 11. ,  7. ,  5. ,  6. , 10. , 12. , 14. , 15.6,  3.4,  2.1])"
      ]
     },
     "execution_count": 2,
     "metadata": {},
     "output_type": "execute_result"
    }
   ],
   "source": [
    "temperatures = make_array(3, 11, 7, 5, 6, 10, 12, 14, 15.6, 3.4, 2.1)\n",
    "temperatures"
   ]
  },
  {
   "cell_type": "code",
   "execution_count": 3,
   "metadata": {},
   "outputs": [],
   "source": [
    "np.multiply?"
   ]
  },
  {
   "cell_type": "code",
   "execution_count": 7,
   "metadata": {},
   "outputs": [
    {
     "data": {
      "text/plain": [
       "array([37.4 , 51.8 , 44.6 , 41.  , 42.8 , 50.  , 53.6 , 57.2 , 60.08,\n",
       "       38.12, 35.78])"
      ]
     },
     "execution_count": 7,
     "metadata": {},
     "output_type": "execute_result"
    }
   ],
   "source": [
    "temperatures * (9.0/5.0) + 32"
   ]
  },
  {
   "cell_type": "markdown",
   "metadata": {},
   "source": [
    "# Some more NumPy Examples with Tables\n",
    "\n",
    "Let's do the same thing with tables!"
   ]
  },
  {
   "cell_type": "code",
   "execution_count": 9,
   "metadata": {},
   "outputs": [
    {
     "data": {
      "text/html": [
       "<table border=\"1\" class=\"dataframe\">\n",
       "    <thead>\n",
       "        <tr>\n",
       "            <th>Name</th> <th>City</th> <th>State</th> <th>Temperature in C</th>\n",
       "        </tr>\n",
       "    </thead>\n",
       "    <tbody>\n",
       "        <tr>\n",
       "            <td>Colebank, Jordan Elise      </td> <td>San Franciso</td> <td>California</td> <td>13              </td>\n",
       "        </tr>\n",
       "        <tr>\n",
       "            <td>Collins, Matthew T          </td> <td>Atlanta     </td> <td>Georgia   </td> <td>9               </td>\n",
       "        </tr>\n",
       "        <tr>\n",
       "            <td>Cook, Kylie Nichole         </td> <td>Seattle     </td> <td>Washington</td> <td>6               </td>\n",
       "        </tr>\n",
       "        <tr>\n",
       "            <td>Downard, Andrew Nicholas    </td> <td>nan         </td> <td>nan       </td> <td>0               </td>\n",
       "        </tr>\n",
       "        <tr>\n",
       "            <td>Duerinck, Randy Keith       </td> <td>New York    </td> <td>New York  </td> <td>-10             </td>\n",
       "        </tr>\n",
       "        <tr>\n",
       "            <td>Graham, Cassandra Michelle  </td> <td>Cincinnati  </td> <td>Ohio      </td> <td>-12             </td>\n",
       "        </tr>\n",
       "        <tr>\n",
       "            <td>Hodge, Devin Jonathan Monroe</td> <td>Kansas City </td> <td>Missouri  </td> <td>-4              </td>\n",
       "        </tr>\n",
       "        <tr>\n",
       "            <td>Hoover, David R             </td> <td>Sahuarita   </td> <td>Arizona   </td> <td>19              </td>\n",
       "        </tr>\n",
       "        <tr>\n",
       "            <td>Linden, Andrew Ryan         </td> <td>Portland    </td> <td>Oregon    </td> <td>6               </td>\n",
       "        </tr>\n",
       "        <tr>\n",
       "            <td>Lynn, Matthew Michael       </td> <td>Dallas      </td> <td>Texas     </td> <td>10              </td>\n",
       "        </tr>\n",
       "    </tbody>\n",
       "</table>\n",
       "<p>... (3 rows omitted)</p>"
      ],
      "text/plain": [
       "Name                         | City         | State      | Temperature in C\n",
       "Colebank, Jordan Elise       | San Franciso | California | 13\n",
       "Collins, Matthew T           | Atlanta      | Georgia    | 9\n",
       "Cook, Kylie Nichole          | Seattle      | Washington | 6\n",
       "Downard, Andrew Nicholas     | nan          | nan        | 0\n",
       "Duerinck, Randy Keith        | New York     | New York   | -10\n",
       "Graham, Cassandra Michelle   | Cincinnati   | Ohio       | -12\n",
       "Hodge, Devin Jonathan Monroe | Kansas City  | Missouri   | -4\n",
       "Hoover, David R              | Sahuarita    | Arizona    | 19\n",
       "Linden, Andrew Ryan          | Portland     | Oregon     | 6\n",
       "Lynn, Matthew Michael        | Dallas       | Texas      | 10\n",
       "... (3 rows omitted)"
      ]
     },
     "execution_count": 9,
     "metadata": {},
     "output_type": "execute_result"
    }
   ],
   "source": [
    "cities = Table().read_table(\"cities.csv\")\n",
    "cities"
   ]
  },
  {
   "cell_type": "code",
   "execution_count": 13,
   "metadata": {},
   "outputs": [
    {
     "data": {
      "text/plain": [
       "array([55.4  , 48.2  , 42.8  , 32.   , 14.   , 10.4  , 24.8  , 66.2  ,\n",
       "       42.8  , 50.   , 32.   , 57.218, 60.8  ])"
      ]
     },
     "execution_count": 13,
     "metadata": {},
     "output_type": "execute_result"
    }
   ],
   "source": [
    "cities.column(\"Temperature in C\") * 9.0/5.0 + 32.0"
   ]
  },
  {
   "cell_type": "code",
   "execution_count": 14,
   "metadata": {},
   "outputs": [
    {
     "data": {
      "text/html": [
       "<table border=\"1\" class=\"dataframe\">\n",
       "    <thead>\n",
       "        <tr>\n",
       "            <th>Name</th> <th>City</th> <th>State</th> <th>Temperature in C</th> <th>Temperature in F</th>\n",
       "        </tr>\n",
       "    </thead>\n",
       "    <tbody>\n",
       "        <tr>\n",
       "            <td>Colebank, Jordan Elise      </td> <td>San Franciso</td> <td>California</td> <td>13              </td> <td>55.4            </td>\n",
       "        </tr>\n",
       "        <tr>\n",
       "            <td>Collins, Matthew T          </td> <td>Atlanta     </td> <td>Georgia   </td> <td>9               </td> <td>48.2            </td>\n",
       "        </tr>\n",
       "        <tr>\n",
       "            <td>Cook, Kylie Nichole         </td> <td>Seattle     </td> <td>Washington</td> <td>6               </td> <td>42.8            </td>\n",
       "        </tr>\n",
       "        <tr>\n",
       "            <td>Downard, Andrew Nicholas    </td> <td>nan         </td> <td>nan       </td> <td>0               </td> <td>32              </td>\n",
       "        </tr>\n",
       "        <tr>\n",
       "            <td>Duerinck, Randy Keith       </td> <td>New York    </td> <td>New York  </td> <td>-10             </td> <td>14              </td>\n",
       "        </tr>\n",
       "        <tr>\n",
       "            <td>Graham, Cassandra Michelle  </td> <td>Cincinnati  </td> <td>Ohio      </td> <td>-12             </td> <td>10.4            </td>\n",
       "        </tr>\n",
       "        <tr>\n",
       "            <td>Hodge, Devin Jonathan Monroe</td> <td>Kansas City </td> <td>Missouri  </td> <td>-4              </td> <td>24.8            </td>\n",
       "        </tr>\n",
       "        <tr>\n",
       "            <td>Hoover, David R             </td> <td>Sahuarita   </td> <td>Arizona   </td> <td>19              </td> <td>66.2            </td>\n",
       "        </tr>\n",
       "        <tr>\n",
       "            <td>Linden, Andrew Ryan         </td> <td>Portland    </td> <td>Oregon    </td> <td>6               </td> <td>42.8            </td>\n",
       "        </tr>\n",
       "        <tr>\n",
       "            <td>Lynn, Matthew Michael       </td> <td>Dallas      </td> <td>Texas     </td> <td>10              </td> <td>50              </td>\n",
       "        </tr>\n",
       "    </tbody>\n",
       "</table>\n",
       "<p>... (3 rows omitted)</p>"
      ],
      "text/plain": [
       "Name                         | City         | State      | Temperature in C | Temperature in F\n",
       "Colebank, Jordan Elise       | San Franciso | California | 13               | 55.4\n",
       "Collins, Matthew T           | Atlanta      | Georgia    | 9                | 48.2\n",
       "Cook, Kylie Nichole          | Seattle      | Washington | 6                | 42.8\n",
       "Downard, Andrew Nicholas     | nan          | nan        | 0                | 32\n",
       "Duerinck, Randy Keith        | New York     | New York   | -10              | 14\n",
       "Graham, Cassandra Michelle   | Cincinnati   | Ohio       | -12              | 10.4\n",
       "Hodge, Devin Jonathan Monroe | Kansas City  | Missouri   | -4               | 24.8\n",
       "Hoover, David R              | Sahuarita    | Arizona    | 19               | 66.2\n",
       "Linden, Andrew Ryan          | Portland     | Oregon     | 6                | 42.8\n",
       "Lynn, Matthew Michael        | Dallas       | Texas      | 10               | 50\n",
       "... (3 rows omitted)"
      ]
     },
     "execution_count": 14,
     "metadata": {},
     "output_type": "execute_result"
    }
   ],
   "source": [
    "cities.with_column(\"Temperature in F\", cities.column(\"Temperature in C\") * 9.0/5.0 + 32.0)"
   ]
  },
  {
   "cell_type": "code",
   "execution_count": null,
   "metadata": {},
   "outputs": [],
   "source": []
  }
 ],
 "metadata": {
  "kernelspec": {
   "display_name": "Python 3",
   "language": "python",
   "name": "python3"
  },
  "language_info": {
   "codemirror_mode": {
    "name": "ipython",
    "version": 3
   },
   "file_extension": ".py",
   "mimetype": "text/x-python",
   "name": "python",
   "nbconvert_exporter": "python",
   "pygments_lexer": "ipython3",
   "version": "3.8.8"
  }
 },
 "nbformat": 4,
 "nbformat_minor": 2
}
