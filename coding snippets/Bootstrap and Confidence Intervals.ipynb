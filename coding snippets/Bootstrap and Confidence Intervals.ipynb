{
 "cells": [
  {
   "cell_type": "code",
   "execution_count": 3,
   "id": "3cc4a148",
   "metadata": {},
   "outputs": [],
   "source": [
    "from datascience import *\n",
    "import numpy as np\n",
    "import matplotlib.pyplot as plots\n",
    "plots.style.use('fivethirtyeight')\n",
    "%matplotlib inline"
   ]
  },
  {
   "cell_type": "markdown",
   "id": "32db2033",
   "metadata": {},
   "source": [
    "### Load compensation data for 2019 San Francisco."
   ]
  },
  {
   "cell_type": "code",
   "execution_count": 4,
   "id": "b7357a2a",
   "metadata": {},
   "outputs": [],
   "source": [
    "sf2019 = Table().read_table(\"san_francisco_2019.csv\")"
   ]
  },
  {
   "cell_type": "code",
   "execution_count": 5,
   "id": "c3399e7b",
   "metadata": {},
   "outputs": [
    {
     "data": {
      "text/html": [
       "<table border=\"1\" class=\"dataframe\">\n",
       "    <thead>\n",
       "        <tr>\n",
       "            <th>Organization Group</th> <th>Department</th> <th>Job Family</th> <th>Job</th> <th>Salary</th> <th>Overtime</th> <th>Benefits</th> <th>Total Compensation</th>\n",
       "        </tr>\n",
       "    </thead>\n",
       "    <tbody>\n",
       "        <tr>\n",
       "            <td>Public Protection </td> <td>Adult Probation</td> <td>Information Systems</td> <td>IS Trainer-Journey        </td> <td>91332 </td> <td>0       </td> <td>40059   </td> <td>131391            </td>\n",
       "        </tr>\n",
       "        <tr>\n",
       "            <td>Public Protection </td> <td>Adult Probation</td> <td>Information Systems</td> <td>IS Engineer-Assistant     </td> <td>123241</td> <td>0       </td> <td>49279   </td> <td>172520            </td>\n",
       "        </tr>\n",
       "        <tr>\n",
       "            <td>Public Protection </td> <td>Adult Probation</td> <td>Information Systems</td> <td>IS Business Analyst-Senior</td> <td>115715</td> <td>0       </td> <td>46752   </td> <td>162468            </td>\n",
       "        </tr>\n",
       "    </tbody>\n",
       "</table>\n",
       "<p>... (44522 rows omitted)</p>"
      ],
      "text/plain": [
       "<IPython.core.display.HTML object>"
      ]
     },
     "metadata": {},
     "output_type": "display_data"
    }
   ],
   "source": [
    "sf2019.show(3)"
   ]
  },
  {
   "cell_type": "code",
   "execution_count": 6,
   "id": "1c9f1628",
   "metadata": {},
   "outputs": [
    {
     "data": {
      "text/html": [
       "<table border=\"1\" class=\"dataframe\">\n",
       "    <thead>\n",
       "        <tr>\n",
       "            <th>Organization Group</th> <th>Department</th> <th>Job Family</th> <th>Job</th> <th>Salary</th> <th>Overtime</th> <th>Benefits</th> <th>Total Compensation</th>\n",
       "        </tr>\n",
       "    </thead>\n",
       "    <tbody>\n",
       "        <tr>\n",
       "            <td>General Administration & Finance</td> <td>Mayor     </td> <td>Administrative & Mgmt (Unrep)</td> <td>Mayor</td> <td>342974</td> <td>0       </td> <td>98012   </td> <td>440987            </td>\n",
       "        </tr>\n",
       "    </tbody>\n",
       "</table>"
      ],
      "text/plain": [
       "Organization Group               | Department | Job Family                    | Job   | Salary | Overtime | Benefits | Total Compensation\n",
       "General Administration & Finance | Mayor      | Administrative & Mgmt (Unrep) | Mayor | 342974 | 0        | 98012    | 440987"
      ]
     },
     "execution_count": 6,
     "metadata": {},
     "output_type": "execute_result"
    }
   ],
   "source": [
    "# what does the mayor make?\n",
    "sf2019.where('Job', 'Mayor')"
   ]
  },
  {
   "cell_type": "code",
   "execution_count": 8,
   "id": "9f697a6b",
   "metadata": {},
   "outputs": [
    {
     "data": {
      "text/html": [
       "<table border=\"1\" class=\"dataframe\">\n",
       "    <thead>\n",
       "        <tr>\n",
       "            <th>Organization Group</th> <th>Department</th> <th>Job Family</th> <th>Job</th> <th>Salary</th> <th>Overtime</th> <th>Benefits</th> <th>Total Compensation</th>\n",
       "        </tr>\n",
       "    </thead>\n",
       "    <tbody>\n",
       "        <tr>\n",
       "            <td>Public Protection </td> <td>Adult Probation</td> <td>Probation & Parole           </td> <td>Deputy Probation Officer     </td> <td>0     </td> <td>0       </td> <td>0       </td> <td>0                 </td>\n",
       "        </tr>\n",
       "        <tr>\n",
       "            <td>Public Protection </td> <td>Fire Department</td> <td>Clerical, Secretarial & Steno</td> <td>Senior Clerk Typist          </td> <td>0     </td> <td>0       </td> <td>0       </td> <td>0                 </td>\n",
       "        </tr>\n",
       "        <tr>\n",
       "            <td>Public Protection </td> <td>Juvenile Court </td> <td>Correction & Detention       </td> <td>Counselor, Juvenile Hall PERS</td> <td>0     </td> <td>0       </td> <td>0       </td> <td>0                 </td>\n",
       "        </tr>\n",
       "        <tr>\n",
       "            <td>Public Protection </td> <td>Police         </td> <td>Clerical, Secretarial & Steno</td> <td>Clerk Typist                 </td> <td>0     </td> <td>0       </td> <td>0       </td> <td>0                 </td>\n",
       "        </tr>\n",
       "    </tbody>\n",
       "</table>\n",
       "<p>... (44521 rows omitted)</p>"
      ],
      "text/plain": [
       "<IPython.core.display.HTML object>"
      ]
     },
     "metadata": {},
     "output_type": "display_data"
    }
   ],
   "source": [
    "# let's focus on Total Compensation\n",
    "sf2019.sort('Total Compensation').show(4)"
   ]
  },
  {
   "cell_type": "code",
   "execution_count": 10,
   "id": "f74621f5",
   "metadata": {},
   "outputs": [
    {
     "data": {
      "text/plain": [
       "37103"
      ]
     },
     "execution_count": 10,
     "metadata": {},
     "output_type": "execute_result"
    }
   ],
   "source": [
    "# weird zeroes because some people start work late in the year, etc...\n",
    "# let's filter out these and focus on people who made at least $15,000\n",
    "sf2019 = sf2019.where(\"Salary\", are.above(15000))\n",
    "\n",
    "# how many is that?\n",
    "sf2019.num_rows"
   ]
  },
  {
   "cell_type": "markdown",
   "id": "cd319de5",
   "metadata": {},
   "source": [
    "## Let's let these 37000 rows be our population.\n",
    "### compute a histogram of compensation."
   ]
  },
  {
   "cell_type": "code",
   "execution_count": 12,
   "id": "52a6ecdf",
   "metadata": {},
   "outputs": [
    {
     "data": {
      "image/png": "[encoded data removed]",
      "text/plain": [
       "<Figure size 432x288 with 1 Axes>"
      ]
     },
     "metadata": {
      "needs_background": "light"
     },
     "output_type": "display_data"
    }
   ],
   "source": [
    "sf_bins = np.arange(0, 726000, 25000)\n",
    "sf2019.select('Total Compensation').hist(bins=sf_bins)\n"
   ]
  },
  {
   "cell_type": "code",
   "execution_count": 13,
   "id": "f9259054",
   "metadata": {},
   "outputs": [
    {
     "data": {
      "text/html": [
       "<table border=\"1\" class=\"dataframe\">\n",
       "    <thead>\n",
       "        <tr>\n",
       "            <th>Organization Group</th> <th>Department</th> <th>Job Family</th> <th>Job</th> <th>Salary</th> <th>Overtime</th> <th>Benefits</th> <th>Total Compensation</th>\n",
       "        </tr>\n",
       "    </thead>\n",
       "    <tbody>\n",
       "        <tr>\n",
       "            <td>General Administration & Finance</td> <td>Retirement Services</td> <td>Administrative & Mgmt (Unrep)</td> <td>Chief Investment Officer</td> <td>577633</td> <td>0       </td> <td>146398  </td> <td>724031            </td>\n",
       "        </tr>\n",
       "        <tr>\n",
       "            <td>General Administration & Finance</td> <td>Retirement Services</td> <td>Unassigned                   </td> <td>Managing Director       </td> <td>483072</td> <td>0       </td> <td>134879  </td> <td>617951            </td>\n",
       "        </tr>\n",
       "    </tbody>\n",
       "</table>\n",
       "<p>... (37101 rows omitted)</p>"
      ],
      "text/plain": [
       "<IPython.core.display.HTML object>"
      ]
     },
     "metadata": {},
     "output_type": "display_data"
    }
   ],
   "source": [
    "# Most are <300K, but some are way above that\n",
    "# Let's look at the top two:\n",
    "sf2019.sort('Total Compensation', descending=True).show(2)\n"
   ]
  },
  {
   "cell_type": "code",
   "execution_count": 14,
   "id": "929d0ae7",
   "metadata": {},
   "outputs": [
    {
     "data": {
      "text/plain": [
       "135747.0"
      ]
     },
     "execution_count": 14,
     "metadata": {},
     "output_type": "execute_result"
    }
   ],
   "source": [
    "# Let's calculate the median of Total Compensations:\n",
    "# remember that is the value at the 50th percentile:\n",
    "pop_median = percentile(50, sf2019.column('Total Compensation'))\n",
    "pop_median\n"
   ]
  },
  {
   "cell_type": "markdown",
   "id": "619d2535",
   "metadata": {},
   "source": [
    "## but what if we couldn't estimate this parameter?\n",
    "### we will estimate based on a random sample."
   ]
  },
  {
   "cell_type": "code",
   "execution_count": 21,
   "id": "51b0a065",
   "metadata": {},
   "outputs": [
    {
     "data": {
      "image/png": "[encoded data removed]",
      "text/plain": [
       "<Figure size 432x288 with 1 Axes>"
      ]
     },
     "metadata": {
      "needs_background": "light"
     },
     "output_type": "display_data"
    }
   ],
   "source": [
    "# Let's draw 500 employees at random:\n",
    "our_sample = sf2019.sample(500, with_replacement=False)\n",
    "our_sample.select('Total Compensation').hist(bins=sf_bins)\n"
   ]
  },
  {
   "cell_type": "code",
   "execution_count": 22,
   "id": "111d09fa",
   "metadata": {},
   "outputs": [
    {
     "data": {
      "text/plain": [
       "136781.0"
      ]
     },
     "execution_count": 22,
     "metadata": {},
     "output_type": "execute_result"
    }
   ],
   "source": [
    "# Then pretend that the median from the random sample is our estimate\n",
    "# of the parameter\n",
    "est_median = percentile(50, our_sample.column('Total Compensation'))\n",
    "est_median\n"
   ]
  },
  {
   "cell_type": "markdown",
   "id": "f7ad9913",
   "metadata": {},
   "source": [
    "### We have a large random sample.\n",
    "### It is likely to resemble the population from which it was drawn.\n",
    "### Let's resample from it, with replacement (bootstrap).\n",
    "#### 1) Treat the original sample as if it were from the population.\n",
    "#### 2) Draw from that sample at random w replacement the same number of times."
   ]
  },
  {
   "cell_type": "code",
   "execution_count": 32,
   "id": "d8d08701",
   "metadata": {},
   "outputs": [
    {
     "data": {
      "image/png": "[encoded data removed]",
      "text/plain": [
       "<Figure size 432x288 with 1 Axes>"
      ]
     },
     "metadata": {
      "needs_background": "light"
     },
     "output_type": "display_data"
    }
   ],
   "source": [
    "resample_1 = our_sample.sample()\n",
    "resample_1.select('Total Compensation').hist(bins=sf_bins)\n"
   ]
  },
  {
   "cell_type": "code",
   "execution_count": 33,
   "id": "5c94930f",
   "metadata": {},
   "outputs": [
    {
     "data": {
      "text/plain": [
       "136209.0"
      ]
     },
     "execution_count": 33,
     "metadata": {},
     "output_type": "execute_result"
    }
   ],
   "source": [
    "# Estimate the median from the resample.\n",
    "resampled_median_1 = percentile(50, resample_1.column('Total Compensation'))\n",
    "resampled_median_1\n"
   ]
  },
  {
   "cell_type": "code",
   "execution_count": 34,
   "id": "817fd130",
   "metadata": {},
   "outputs": [
    {
     "data": {
      "text/plain": [
       "136781.0"
      ]
     },
     "execution_count": 34,
     "metadata": {},
     "output_type": "execute_result"
    }
   ],
   "source": [
    "# DO it again:\n",
    "resample_2 = our_sample.sample()\n",
    "resampled_median_2 = percentile(50, resample_2.column('Total Compensation'))\n",
    "resampled_median_2\n"
   ]
  },
  {
   "cell_type": "code",
   "execution_count": 35,
   "id": "c7f25bb6",
   "metadata": {},
   "outputs": [],
   "source": [
    "# we will collect this code a define a function\n",
    "# the function will return one bootstrap median of TC,\n",
    "# based on bootstratpping the original random sample our_sample.\n",
    "\n",
    "def one_bootstrap_median():\n",
    "    resampled_table = our_sample.sample()\n",
    "    bootstrapped_median = percentile(50, resampled_table.column('Total Compensation'))\n",
    "    return bootstrapped_median"
   ]
  },
  {
   "cell_type": "code",
   "execution_count": 48,
   "id": "8ed6fae5",
   "metadata": {},
   "outputs": [
    {
     "data": {
      "text/plain": [
       "138477.0"
      ]
     },
     "execution_count": 48,
     "metadata": {},
     "output_type": "execute_result"
    }
   ],
   "source": [
    "# now run it a few times to see how they vary.\n",
    "one_bootstrap_median()\n"
   ]
  },
  {
   "cell_type": "code",
   "execution_count": 49,
   "id": "83bf0c43",
   "metadata": {},
   "outputs": [],
   "source": [
    "# Let's repeat it a large number of times \n",
    "# 1 - use the function to generate one value of bootstrapped median\n",
    "# 2 - append the bootstrapped median to the array bstrap_medians\n",
    "num_repetitions = 5000\n",
    "bstrap_medians = make_array()\n",
    "for i in np.arange(num_repetitions):\n",
    "    bstrap_medians = np.append (bstrap_medians, one_bootstrap_median())\n"
   ]
  },
  {
   "cell_type": "code",
   "execution_count": 51,
   "id": "1f9b57e4",
   "metadata": {},
   "outputs": [
    {
     "data": {
      "image/png": "[encoded data removed]",
      "text/plain": [
       "<Figure size 432x288 with 1 Axes>"
      ]
     },
     "metadata": {
      "needs_background": "light"
     },
     "output_type": "display_data"
    }
   ],
   "source": [
    "# Empirical histogram of 5000 bootstrapped medians\n",
    "# and add the median from the original population (~37,000)\n",
    "resampled_medians = Table().with_column('Bootstrap Sample Median', bstrap_medians)\n",
    "median_bins=np.arange(120000, 160000, 2000)\n",
    "resampled_medians.hist(bins = median_bins)\n",
    "\n",
    "# Plotting parameters; you can ignore this code\n",
    "parameter_green = '#32CD32'\n",
    "plots.ylim(-0.000005, 0.00014)\n",
    "plots.scatter(pop_median, 0, color=parameter_green, s=40, zorder=2);\n"
   ]
  },
  {
   "cell_type": "code",
   "execution_count": null,
   "id": "8f2973af",
   "metadata": {},
   "outputs": [],
   "source": [
    "# You can see how the population mean falls within the \n",
    "# randomly generated sampled medians.\n",
    "# If it doesn't then our esimates are off."
   ]
  },
  {
   "cell_type": "code",
   "execution_count": 54,
   "id": "a59317dd",
   "metadata": {},
   "outputs": [
    {
     "data": {
      "text/plain": [
       "133424.0"
      ]
     },
     "execution_count": 54,
     "metadata": {},
     "output_type": "execute_result"
    }
   ],
   "source": [
    "# DO the middle 95% interval of resampled medians contain the green dot?\n",
    "left = percentile(2.5, bstrap_medians)\n",
    "left\n"
   ]
  },
  {
   "cell_type": "code",
   "execution_count": 55,
   "id": "e970c570",
   "metadata": {},
   "outputs": [
    {
     "data": {
      "text/plain": [
       "144639.0"
      ]
     },
     "execution_count": 55,
     "metadata": {},
     "output_type": "execute_result"
    }
   ],
   "source": [
    "right = percentile(97.5, bstrap_medians)\n",
    "right\n"
   ]
  },
  {
   "cell_type": "code",
   "execution_count": 56,
   "id": "293112b5",
   "metadata": {},
   "outputs": [
    {
     "data": {
      "image/png": "[encoded data removed]",
      "text/plain": [
       "<Figure size 432x288 with 1 Axes>"
      ]
     },
     "metadata": {
      "needs_background": "light"
     },
     "output_type": "display_data"
    }
   ],
   "source": [
    "resampled_medians.hist(bins = median_bins)\n",
    "\n",
    "# Plotting parameters; you can ignore this code\n",
    "plots.ylim(-0.000005, 0.00014)\n",
    "plots.plot([left, right], [0, 0], color='yellow', lw=3, zorder=1)\n",
    "plots.scatter(pop_median, 0, color=parameter_green, s=40, zorder=2);\n"
   ]
  },
  {
   "cell_type": "markdown",
   "id": "6bd70a3c",
   "metadata": {},
   "source": [
    "# Confidence Intervals\n",
    "#### Above we produced an interval of estimates\n",
    "#### This accounts for chance variability in the random sample.\n",
    "#### It gives us wiggle room!\n",
    "#### These intervals contain the parameter"
   ]
  },
  {
   "cell_type": "code",
   "execution_count": 59,
   "id": "e80be025",
   "metadata": {},
   "outputs": [
    {
     "data": {
      "text/html": [
       "<table border=\"1\" class=\"dataframe\">\n",
       "    <thead>\n",
       "        <tr>\n",
       "            <th>Birth Weight</th> <th>Gestational Days</th> <th>Maternal Age</th> <th>Maternal Height</th> <th>Maternal Pregnancy Weight</th> <th>Maternal Smoker</th>\n",
       "        </tr>\n",
       "    </thead>\n",
       "    <tbody>\n",
       "        <tr>\n",
       "            <td>120         </td> <td>284             </td> <td>27          </td> <td>62             </td> <td>100                      </td> <td>False          </td>\n",
       "        </tr>\n",
       "        <tr>\n",
       "            <td>113         </td> <td>282             </td> <td>33          </td> <td>64             </td> <td>135                      </td> <td>False          </td>\n",
       "        </tr>\n",
       "        <tr>\n",
       "            <td>128         </td> <td>279             </td> <td>28          </td> <td>64             </td> <td>115                      </td> <td>True           </td>\n",
       "        </tr>\n",
       "    </tbody>\n",
       "</table>\n",
       "<p>... (1171 rows omitted)</p>"
      ],
      "text/plain": [
       "<IPython.core.display.HTML object>"
      ]
     },
     "metadata": {},
     "output_type": "display_data"
    }
   ],
   "source": [
    "# Let's use the bootstrap method to estimate an unknown population median.\n",
    "births = Table.read_table('baby.csv')\n",
    "births.show(3)\n"
   ]
  },
  {
   "cell_type": "code",
   "execution_count": 62,
   "id": "752a9e22",
   "metadata": {},
   "outputs": [],
   "source": [
    "# Let's estimate birth weight before the baby is born.\n",
    "# we'll use the ratio of birth weight and # of gestational days.\n",
    "ratios = births.select('Birth Weight', 'Gestational Days').with_columns(\n",
    "    'Ratio BW:GD', births.column('Birth Weight')/births.column('Gestational Days')\n",
    ")\n"
   ]
  },
  {
   "cell_type": "code",
   "execution_count": 61,
   "id": "f3b28d42",
   "metadata": {},
   "outputs": [
    {
     "data": {
      "text/html": [
       "<table border=\"1\" class=\"dataframe\">\n",
       "    <thead>\n",
       "        <tr>\n",
       "            <th>Birth Weight</th> <th>Gestational Days</th> <th>Ratio BW:GD</th>\n",
       "        </tr>\n",
       "    </thead>\n",
       "    <tbody>\n",
       "        <tr>\n",
       "            <td>120         </td> <td>284             </td> <td>0.422535   </td>\n",
       "        </tr>\n",
       "        <tr>\n",
       "            <td>113         </td> <td>282             </td> <td>0.400709   </td>\n",
       "        </tr>\n",
       "        <tr>\n",
       "            <td>128         </td> <td>279             </td> <td>0.458781   </td>\n",
       "        </tr>\n",
       "        <tr>\n",
       "            <td>108         </td> <td>282             </td> <td>0.382979   </td>\n",
       "        </tr>\n",
       "        <tr>\n",
       "            <td>136         </td> <td>286             </td> <td>0.475524   </td>\n",
       "        </tr>\n",
       "        <tr>\n",
       "            <td>138         </td> <td>244             </td> <td>0.565574   </td>\n",
       "        </tr>\n",
       "        <tr>\n",
       "            <td>132         </td> <td>245             </td> <td>0.538776   </td>\n",
       "        </tr>\n",
       "        <tr>\n",
       "            <td>120         </td> <td>289             </td> <td>0.415225   </td>\n",
       "        </tr>\n",
       "        <tr>\n",
       "            <td>143         </td> <td>299             </td> <td>0.478261   </td>\n",
       "        </tr>\n",
       "        <tr>\n",
       "            <td>140         </td> <td>351             </td> <td>0.39886    </td>\n",
       "        </tr>\n",
       "    </tbody>\n",
       "</table>\n",
       "<p>... (1164 rows omitted)</p>"
      ],
      "text/plain": [
       "Birth Weight | Gestational Days | Ratio BW:GD\n",
       "120          | 284              | 0.422535\n",
       "113          | 282              | 0.400709\n",
       "128          | 279              | 0.458781\n",
       "108          | 282              | 0.382979\n",
       "136          | 286              | 0.475524\n",
       "138          | 244              | 0.565574\n",
       "132          | 245              | 0.538776\n",
       "120          | 289              | 0.415225\n",
       "143          | 299              | 0.478261\n",
       "140          | 351              | 0.39886\n",
       "... (1164 rows omitted)"
      ]
     },
     "execution_count": 61,
     "metadata": {},
     "output_type": "execute_result"
    }
   ],
   "source": [
    "ratios"
   ]
  },
  {
   "cell_type": "code",
   "execution_count": 63,
   "id": "77436841",
   "metadata": {},
   "outputs": [
    {
     "data": {
      "image/png": "[encoded data removed]",
      "text/plain": [
       "<Figure size 432x288 with 1 Axes>"
      ]
     },
     "metadata": {
      "needs_background": "light"
     },
     "output_type": "display_data"
    }
   ],
   "source": [
    "ratios.select('Ratio BW:GD').hist()\n"
   ]
  },
  {
   "cell_type": "code",
   "execution_count": 65,
   "id": "f72a22da",
   "metadata": {},
   "outputs": [
    {
     "data": {
      "text/html": [
       "<table border=\"1\" class=\"dataframe\">\n",
       "    <thead>\n",
       "        <tr>\n",
       "            <th>Birth Weight</th> <th>Gestational Days</th> <th>Ratio BW:GD</th>\n",
       "        </tr>\n",
       "    </thead>\n",
       "    <tbody>\n",
       "        <tr>\n",
       "            <td>116         </td> <td>148             </td> <td>0.783784   </td>\n",
       "        </tr>\n",
       "    </tbody>\n",
       "</table>"
      ],
      "text/plain": [
       "Birth Weight | Gestational Days | Ratio BW:GD\n",
       "116          | 148              | 0.783784"
      ]
     },
     "execution_count": 65,
     "metadata": {},
     "output_type": "execute_result"
    }
   ],
   "source": [
    "# The histogram looks symmetric, but let's see what\n",
    "# the largest ratios are:\n",
    "ratios.sort('Ratio BW:GD', descending=True).take(0)\n"
   ]
  },
  {
   "cell_type": "code",
   "execution_count": 66,
   "id": "3a9d6687",
   "metadata": {},
   "outputs": [
    {
     "data": {
      "text/plain": [
       "0.42907801418439717"
      ]
     },
     "execution_count": 66,
     "metadata": {},
     "output_type": "execute_result"
    }
   ],
   "source": [
    "# Now let's calculate the median ratio in the sample\n",
    "percentile(50, ratios.column(2))\n"
   ]
  },
  {
   "cell_type": "markdown",
   "id": "7b3d90e2",
   "metadata": {},
   "source": [
    "### But what is the median of the population? \n",
    "#### Here, we will create 5000 bootstraps of the median\n",
    "#### The 95% confidence interval will be the middle 95% of all of our estimates."
   ]
  },
  {
   "cell_type": "code",
   "execution_count": 72,
   "id": "e1e44933",
   "metadata": {},
   "outputs": [],
   "source": [
    "# Let's write a function that bootstraps the sample\n",
    "# and returns one median ratio from the bootstrapped sample.\n",
    "def one_bootstrap_median():\n",
    "    resample = ratios.sample()\n",
    "    return percentile(50, resample.column('Ratio BW:GD'))\n"
   ]
  },
  {
   "cell_type": "code",
   "execution_count": 73,
   "id": "155233e7",
   "metadata": {},
   "outputs": [
    {
     "data": {
      "text/plain": [
       "0.427536231884058"
      ]
     },
     "execution_count": 73,
     "metadata": {},
     "output_type": "execute_result"
    }
   ],
   "source": [
    "one_bootstrap_median()"
   ]
  },
  {
   "cell_type": "code",
   "execution_count": 74,
   "id": "78f14ad7",
   "metadata": {},
   "outputs": [],
   "source": [
    "# Generate medians from 5000 bootstrap samples\n",
    "num_repetitions = 5000\n",
    "bstrap_medians = make_array()\n",
    "for i in np.arange(num_repetitions):\n",
    "    bstrap_medians = np.append(bstrap_medians, one_bootstrap_median())\n"
   ]
  },
  {
   "cell_type": "code",
   "execution_count": 75,
   "id": "4579feeb",
   "metadata": {},
   "outputs": [
    {
     "data": {
      "text/plain": [
       "array([0.42545455, 0.43262411])"
      ]
     },
     "execution_count": 75,
     "metadata": {},
     "output_type": "execute_result"
    }
   ],
   "source": [
    "\n",
    "# Get the endpoints of the 95% confidence interval\n",
    "left = percentile(2.5, bstrap_medians)\n",
    "right = percentile(97.5, bstrap_medians)\n",
    "\n",
    "make_array(left, right)\n"
   ]
  },
  {
   "cell_type": "code",
   "execution_count": 76,
   "id": "3f5c0bbb",
   "metadata": {},
   "outputs": [
    {
     "data": {
      "image/png": "[encoded data removed]",
      "text/plain": [
       "<Figure size 432x288 with 1 Axes>"
      ]
     },
     "metadata": {
      "needs_background": "light"
     },
     "output_type": "display_data"
    }
   ],
   "source": [
    "resampled_medians = Table().with_columns(\n",
    "    'Bootstrap Sample Median', bstrap_medians\n",
    ")\n",
    "resampled_medians.hist(bins=15)\n",
    "plots.plot([left, right], [0, 0], color='yellow', lw=8);\n"
   ]
  },
  {
   "cell_type": "code",
   "execution_count": null,
   "id": "17381b2b",
   "metadata": {},
   "outputs": [],
   "source": [
    "# Here we've plotted the 95% confidence interval of estimates,\n",
    "# but did not plot the green dot - we don't know where it is (wink wink)\n",
    "# 95% of the time, the population median should be between this interval."
   ]
  },
  {
   "cell_type": "markdown",
   "id": "9fe4a429",
   "metadata": {},
   "source": [
    "\n",
    "### Using a Confidence Interval to Test Hypotheses\n",
    "We will study this in the context of data that are a subset of the information gathered in a randomized controlled trial about treatments for Hodgkin’s disease. Hodgkin’s disease is a cancer that typically affects young people. The disease is curable but the treatment can be very harsh. The purpose of the trial was to come up with dosage that would cure the cancer but minimize the adverse effects on the patients."
   ]
  },
  {
   "cell_type": "code",
   "execution_count": null,
   "id": "e1f07193",
   "metadata": {},
   "outputs": [],
   "source": []
  },
  {
   "cell_type": "code",
   "execution_count": 79,
   "id": "eb273861",
   "metadata": {},
   "outputs": [
    {
     "data": {
      "text/html": [
       "<table border=\"1\" class=\"dataframe\">\n",
       "    <thead>\n",
       "        <tr>\n",
       "            <th>height</th> <th>rad</th> <th>chemo</th> <th>base</th> <th>month15</th>\n",
       "        </tr>\n",
       "    </thead>\n",
       "    <tbody>\n",
       "        <tr>\n",
       "            <td>164   </td> <td>679 </td> <td>180  </td> <td>160.57</td> <td>87.77  </td>\n",
       "        </tr>\n",
       "        <tr>\n",
       "            <td>168   </td> <td>311 </td> <td>180  </td> <td>98.24 </td> <td>67.62  </td>\n",
       "        </tr>\n",
       "        <tr>\n",
       "            <td>173   </td> <td>388 </td> <td>239  </td> <td>129.04</td> <td>133.33 </td>\n",
       "        </tr>\n",
       "    </tbody>\n",
       "</table>\n",
       "<p>... (19 rows omitted)</p>"
      ],
      "text/plain": [
       "<IPython.core.display.HTML object>"
      ]
     },
     "metadata": {},
     "output_type": "display_data"
    }
   ],
   "source": [
    "hodgkins = Table.read_table('hodgkins.csv')\n",
    "hodgkins.show(3)\n"
   ]
  },
  {
   "cell_type": "markdown",
   "id": "f7929acc",
   "metadata": {},
   "source": [
    "A measure of radiation to the mantle (neck, chest, under arms)\n",
    "\n",
    "A measure of chemotherapy\n",
    "\n",
    "A score of the health of the lungs at baseline, that is, at the start of the treatment; higher scores correspond to more healthy lungs\n",
    "\n",
    "The same score of the health of the lungs, 15 months after treatment"
   ]
  },
  {
   "cell_type": "code",
   "execution_count": 81,
   "id": "0272b873",
   "metadata": {},
   "outputs": [
    {
     "data": {
      "text/html": [
       "<table border=\"1\" class=\"dataframe\">\n",
       "    <thead>\n",
       "        <tr>\n",
       "            <th>height</th> <th>rad</th> <th>chemo</th> <th>base</th> <th>month15</th> <th>drop</th>\n",
       "        </tr>\n",
       "    </thead>\n",
       "    <tbody>\n",
       "        <tr>\n",
       "            <td>164   </td> <td>679 </td> <td>180  </td> <td>160.57</td> <td>87.77  </td> <td>72.8  </td>\n",
       "        </tr>\n",
       "        <tr>\n",
       "            <td>168   </td> <td>311 </td> <td>180  </td> <td>98.24 </td> <td>67.62  </td> <td>30.62 </td>\n",
       "        </tr>\n",
       "        <tr>\n",
       "            <td>173   </td> <td>388 </td> <td>239  </td> <td>129.04</td> <td>133.33 </td> <td>-4.29 </td>\n",
       "        </tr>\n",
       "        <tr>\n",
       "            <td>157   </td> <td>370 </td> <td>168  </td> <td>85.41 </td> <td>81.28  </td> <td>4.13  </td>\n",
       "        </tr>\n",
       "        <tr>\n",
       "            <td>160   </td> <td>468 </td> <td>151  </td> <td>67.94 </td> <td>79.26  </td> <td>-11.32</td>\n",
       "        </tr>\n",
       "        <tr>\n",
       "            <td>170   </td> <td>341 </td> <td>96   </td> <td>150.51</td> <td>80.97  </td> <td>69.54 </td>\n",
       "        </tr>\n",
       "        <tr>\n",
       "            <td>163   </td> <td>453 </td> <td>134  </td> <td>129.88</td> <td>69.24  </td> <td>60.64 </td>\n",
       "        </tr>\n",
       "        <tr>\n",
       "            <td>175   </td> <td>529 </td> <td>264  </td> <td>87.45 </td> <td>56.48  </td> <td>30.97 </td>\n",
       "        </tr>\n",
       "        <tr>\n",
       "            <td>185   </td> <td>392 </td> <td>240  </td> <td>149.84</td> <td>106.99 </td> <td>42.85 </td>\n",
       "        </tr>\n",
       "        <tr>\n",
       "            <td>178   </td> <td>479 </td> <td>216  </td> <td>92.24 </td> <td>73.43  </td> <td>18.81 </td>\n",
       "        </tr>\n",
       "    </tbody>\n",
       "</table>\n",
       "<p>... (12 rows omitted)</p>"
      ],
      "text/plain": [
       "height | rad  | chemo | base   | month15 | drop\n",
       "164    | 679  | 180   | 160.57 | 87.77   | 72.8\n",
       "168    | 311  | 180   | 98.24  | 67.62   | 30.62\n",
       "173    | 388  | 239   | 129.04 | 133.33  | -4.29\n",
       "157    | 370  | 168   | 85.41  | 81.28   | 4.13\n",
       "160    | 468  | 151   | 67.94  | 79.26   | -11.32\n",
       "170    | 341  | 96    | 150.51 | 80.97   | 69.54\n",
       "163    | 453  | 134   | 129.88 | 69.24   | 60.64\n",
       "175    | 529  | 264   | 87.45  | 56.48   | 30.97\n",
       "185    | 392  | 240   | 149.84 | 106.99  | 42.85\n",
       "178    | 479  | 216   | 92.24  | 73.43   | 18.81\n",
       "... (12 rows omitted)"
      ]
     },
     "execution_count": 81,
     "metadata": {},
     "output_type": "execute_result"
    }
   ],
   "source": [
    "# We will compare the baseline and 15-month scores. \n",
    "# At a glance, you can see that the 15-month scores \n",
    "# tend to be lower than the baseline scores – the sampled patients’ \n",
    "# lungs seem to be doing worse 15 months after the treatment. \n",
    "\n",
    "# look at the column 'drop', which is mostly positive:\n",
    "hodgkins = hodgkins.with_columns(\n",
    "    'drop', hodgkins.column('base') - hodgkins.column('month15')\n",
    ")\n",
    "hodgkins"
   ]
  },
  {
   "cell_type": "code",
   "execution_count": 84,
   "id": "7eadcc29",
   "metadata": {},
   "outputs": [
    {
     "data": {
      "image/png": "[encoded data removed]",
      "text/plain": [
       "<Figure size 432x288 with 1 Axes>"
      ]
     },
     "metadata": {
      "needs_background": "light"
     },
     "output_type": "display_data"
    }
   ],
   "source": [
    "hodgkins.select('drop').hist(bins=np.arange(-20, 81, 20))\n"
   ]
  },
  {
   "cell_type": "code",
   "execution_count": 85,
   "id": "6be16dba",
   "metadata": {},
   "outputs": [
    {
     "data": {
      "text/plain": [
       "28.615909090909096"
      ]
     },
     "execution_count": 85,
     "metadata": {},
     "output_type": "execute_result"
    }
   ],
   "source": [
    "np.average(hodgkins.column('drop'))\n"
   ]
  },
  {
   "cell_type": "markdown",
   "id": "54c8175a",
   "metadata": {},
   "source": [
    "In the sample, the average drop is about 28.6.\n",
    "\n",
    "Is this due to chance variation?\n",
    "\n",
    "The data are from a random sample.\n",
    "\n",
    "What if the average drop is zero in the population, and the sample is not representative?\n",
    "\n",
    "### We will set up two hypotheses:\n",
    "#### 1. Null hypothesis - in the population the average drop is zero.\n",
    "#### 2. Alternate hypothesis - in the population, the average drop is not zero."
   ]
  },
  {
   "cell_type": "markdown",
   "id": "95788440",
   "metadata": {},
   "source": [
    "To test these hypotheses, we'll use a 1% cut off for the p-value.\n",
    "\n",
    "That means we need to construct a 99% confidence interval for the average drop in the popualtion."
   ]
  },
  {
   "cell_type": "code",
   "execution_count": 86,
   "id": "7270e149",
   "metadata": {},
   "outputs": [],
   "source": [
    "\n",
    "def one_bootstrap_mean():\n",
    "    resample = hodgkins.sample()\n",
    "    return np.average(resample.column('drop'))\n"
   ]
  },
  {
   "cell_type": "code",
   "execution_count": 87,
   "id": "b0314a48",
   "metadata": {},
   "outputs": [],
   "source": [
    "# Generate 10,000 bootstrap means\n",
    "num_repetitions = 10000\n",
    "bstrap_means = make_array()\n",
    "for i in np.arange(num_repetitions):\n",
    "    bstrap_means = np.append(bstrap_means, one_bootstrap_mean())\n"
   ]
  },
  {
   "cell_type": "code",
   "execution_count": 88,
   "id": "a3112c5d",
   "metadata": {},
   "outputs": [
    {
     "data": {
      "text/plain": [
       "array([17.13863636, 40.53409091])"
      ]
     },
     "execution_count": 88,
     "metadata": {},
     "output_type": "execute_result"
    }
   ],
   "source": [
    "# Get the endpoints of the 99% confidence interval\n",
    "left = percentile(0.5, bstrap_means)\n",
    "right = percentile(99.5, bstrap_means)\n",
    "\n",
    "make_array(left, right)\n"
   ]
  },
  {
   "cell_type": "code",
   "execution_count": 89,
   "id": "8507ed1e",
   "metadata": {},
   "outputs": [
    {
     "data": {
      "image/png": "[encoded data removed]",
      "text/plain": [
       "<Figure size 432x288 with 1 Axes>"
      ]
     },
     "metadata": {
      "needs_background": "light"
     },
     "output_type": "display_data"
    }
   ],
   "source": [
    "resampled_means = Table().with_columns(\n",
    "    'Bootstrap Sample Mean', bstrap_means\n",
    ")\n",
    "resampled_means.hist()\n",
    "plots.plot([left, right], [0, 0], color='yellow', lw=8);\n"
   ]
  },
  {
   "cell_type": "code",
   "execution_count": 90,
   "id": "866adc94",
   "metadata": {},
   "outputs": [],
   "source": [
    "# The 99% confidence interval for the average drop in the population goes from about 17 to about 40. \n",
    "# The interval doesn’t contain 0. So we reject the null hypothesis!!!"
   ]
  },
  {
   "cell_type": "code",
   "execution_count": null,
   "id": "867a621f",
   "metadata": {},
   "outputs": [],
   "source": []
  }
 ],
 "metadata": {
  "kernelspec": {
   "display_name": "Python 3",
   "language": "python",
   "name": "python3"
  },
  "language_info": {
   "codemirror_mode": {
    "name": "ipython",
    "version": 3
   },
   "file_extension": ".py",
   "mimetype": "text/x-python",
   "name": "python",
   "nbconvert_exporter": "python",
   "pygments_lexer": "ipython3",
   "version": "3.8.8"
  }
 },
 "nbformat": 4,
 "nbformat_minor": 5
}
