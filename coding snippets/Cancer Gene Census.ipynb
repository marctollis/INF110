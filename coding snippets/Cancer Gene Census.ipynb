{
 "cells": [
  {
   "cell_type": "code",
   "execution_count": 1,
   "id": "7bb19bdf",
   "metadata": {},
   "outputs": [],
   "source": [
    "from datascience import *\n",
    "%matplotlib inline\n",
    "import matplotlib.pyplot as plots\n",
    "plots.style.use('fivethirtyeight')\n",
    "import numpy as np"
   ]
  },
  {
   "cell_type": "markdown",
   "id": "5ea81291",
   "metadata": {},
   "source": [
    "Let's download the data from the Cancer Gene Census here: https://cancer.sanger.ac.uk/census"
   ]
  },
  {
   "cell_type": "markdown",
   "id": "f74ff186",
   "metadata": {},
   "source": [
    "Save the file as a .csv on your computer and rename it \"CancerGeneCensus.csv\""
   ]
  },
  {
   "cell_type": "code",
   "execution_count": 43,
   "id": "cf034533",
   "metadata": {},
   "outputs": [
    {
     "data": {
      "text/html": [
       "<table border=\"1\" class=\"dataframe\">\n",
       "    <thead>\n",
       "        <tr>\n",
       "            <th>Gene Symbol</th> <th>Name</th> <th>Entrez GeneId</th> <th>Genome Location</th> <th>Tier</th> <th>Hallmark</th> <th>Chr Band</th> <th>Somatic</th> <th>Germline</th> <th>Tumour Types(Somatic)</th> <th>Tumour Types(Germline)</th> <th>Cancer Syndrome</th> <th>Tissue Type</th> <th>Molecular Genetics</th> <th>Role in Cancer</th> <th>Mutation Types</th> <th>Translocation Partner</th> <th>Other Germline Mut</th> <th>Other Syndrome</th> <th>Synonyms</th>\n",
       "        </tr>\n",
       "    </thead>\n",
       "    <tbody>\n",
       "        <tr>\n",
       "            <td>A1CF       </td> <td>APOBEC1 complementation factor                        </td> <td>29974        </td> <td>10:50799421-50885675 </td> <td>2   </td> <td>nan     </td> <td>11.23   </td> <td>yes    </td> <td>nan     </td> <td>melanoma             </td> <td>nan                   </td> <td>nan            </td> <td>E          </td> <td>nan               </td> <td>oncogene        </td> <td>Mis           </td> <td>nan                  </td> <td>nan               </td> <td>nan           </td> <td>29974,A1CF,ACF,ACF64,ACF65,APOBEC1CF,ASP,ENSG00000148584.14</td>\n",
       "        </tr>\n",
       "        <tr>\n",
       "            <td>ABI1       </td> <td>abl-interactor 1                                      </td> <td>10006        </td> <td>10:26746593-26860935 </td> <td>1   </td> <td>Yes     </td> <td>12.1    </td> <td>yes    </td> <td>nan     </td> <td>AML                  </td> <td>nan                   </td> <td>nan            </td> <td>L          </td> <td>Dom               </td> <td>TSG, fusion     </td> <td>T             </td> <td>KMT2A                </td> <td>nan               </td> <td>nan           </td> <td>10006,ABI-1,ABI1,E3B1,ENSG00000136754.17,Q8IZP0,SSH3BP1    </td>\n",
       "        </tr>\n",
       "        <tr>\n",
       "            <td>ABL1       </td> <td>v-abl Abelson murine leukemia viral oncogene homolog 1</td> <td>25           </td> <td>9:130713946-130885683</td> <td>1   </td> <td>Yes     </td> <td>34.12   </td> <td>yes    </td> <td>nan     </td> <td>CML, ALL, T-ALL      </td> <td>nan                   </td> <td>nan            </td> <td>L          </td> <td>Dom               </td> <td>oncogene, fusion</td> <td>T, Mis        </td> <td>BCR, ETV6, NUP214    </td> <td>nan               </td> <td>nan           </td> <td>25,ABL,ABL1,ENSG00000097007.17,JTK7,P00519,c-ABL,p150      </td>\n",
       "        </tr>\n",
       "    </tbody>\n",
       "</table>\n",
       "<p>... (726 rows omitted)</p>"
      ],
      "text/plain": [
       "<IPython.core.display.HTML object>"
      ]
     },
     "metadata": {},
     "output_type": "display_data"
    }
   ],
   "source": [
    "cgc = Table().read_table('CancerGeneCensus.csv')\n",
    "cgc.show(3)"
   ]
  },
  {
   "cell_type": "code",
   "execution_count": 10,
   "id": "537727d1",
   "metadata": {},
   "outputs": [
    {
     "data": {
      "text/plain": [
       "729"
      ]
     },
     "execution_count": 10,
     "metadata": {},
     "output_type": "execute_result"
    }
   ],
   "source": [
    "cgc.num_rows"
   ]
  },
  {
   "cell_type": "code",
   "execution_count": 12,
   "id": "aac6f253",
   "metadata": {},
   "outputs": [
    {
     "data": {
      "text/plain": [
       "108"
      ]
     },
     "execution_count": 12,
     "metadata": {},
     "output_type": "execute_result"
    }
   ],
   "source": [
    "germline = cgc.where('Germline', are.equal_to('yes'))\n",
    "germline.num_rows"
   ]
  },
  {
   "cell_type": "code",
   "execution_count": 14,
   "id": "85d34393",
   "metadata": {},
   "outputs": [
    {
     "data": {
      "text/plain": [
       "0.14814814814814814"
      ]
     },
     "execution_count": 14,
     "metadata": {},
     "output_type": "execute_result"
    }
   ],
   "source": [
    "germline.num_rows/cgc.num_rows"
   ]
  },
  {
   "cell_type": "code",
   "execution_count": 9,
   "id": "f15104b1",
   "metadata": {},
   "outputs": [
    {
     "data": {
      "text/plain": [
       "686"
      ]
     },
     "execution_count": 9,
     "metadata": {},
     "output_type": "execute_result"
    }
   ],
   "source": [
    "somatic = cgc.where('Somatic', are.equal_to('yes'))\n",
    "somatic.num_rows"
   ]
  },
  {
   "cell_type": "code",
   "execution_count": 15,
   "id": "f655aa42",
   "metadata": {},
   "outputs": [
    {
     "data": {
      "text/plain": [
       "0.9410150891632373"
      ]
     },
     "execution_count": 15,
     "metadata": {},
     "output_type": "execute_result"
    }
   ],
   "source": [
    "somatic.num_rows/cgc.num_rows"
   ]
  },
  {
   "cell_type": "code",
   "execution_count": 21,
   "id": "5cf987ed",
   "metadata": {},
   "outputs": [
    {
     "data": {
      "text/plain": [
       "65"
      ]
     },
     "execution_count": 21,
     "metadata": {},
     "output_type": "execute_result"
    }
   ],
   "source": [
    "both = cgc.where('Somatic', are.equal_to('yes')).where('Germline', are.equal_to('yes'))\n",
    "both.num_rows"
   ]
  },
  {
   "cell_type": "code",
   "execution_count": 22,
   "id": "aa58c1db",
   "metadata": {},
   "outputs": [
    {
     "data": {
      "text/plain": [
       "0.08916323731138547"
      ]
     },
     "execution_count": 22,
     "metadata": {},
     "output_type": "execute_result"
    }
   ],
   "source": [
    "both.num_rows/cgc.num_rows"
   ]
  },
  {
   "cell_type": "code",
   "execution_count": 37,
   "id": "3057c696",
   "metadata": {},
   "outputs": [
    {
     "data": {
      "text/plain": [
       "245"
      ]
     },
     "execution_count": 37,
     "metadata": {},
     "output_type": "execute_result"
    }
   ],
   "source": [
    "tsg = cgc.where('Role in Cancer', are.containing('TSG')).where('Role in Cancer', are.not_containing('oncogene'))\n",
    "tsg.num_rows"
   ]
  },
  {
   "cell_type": "code",
   "execution_count": 44,
   "id": "f584b140",
   "metadata": {},
   "outputs": [
    {
     "data": {
      "text/plain": [
       "0.33607681755829905"
      ]
     },
     "execution_count": 44,
     "metadata": {},
     "output_type": "execute_result"
    }
   ],
   "source": [
    "tsg.num_rows/cgc.num_rows"
   ]
  },
  {
   "cell_type": "code",
   "execution_count": 36,
   "id": "dd806c8b",
   "metadata": {},
   "outputs": [
    {
     "data": {
      "text/plain": [
       "318"
      ]
     },
     "execution_count": 36,
     "metadata": {},
     "output_type": "execute_result"
    }
   ],
   "source": [
    "oncogene = cgc.where('Role in Cancer', are.containing('oncogene'))\n",
    "oncogene.num_rows"
   ]
  },
  {
   "cell_type": "code",
   "execution_count": 45,
   "id": "4d0e948f",
   "metadata": {},
   "outputs": [
    {
     "data": {
      "text/plain": [
       "0.43621399176954734"
      ]
     },
     "execution_count": 45,
     "metadata": {},
     "output_type": "execute_result"
    }
   ],
   "source": [
    "oncogene.num_rows/cgc.num_rows"
   ]
  },
  {
   "cell_type": "code",
   "execution_count": 40,
   "id": "ca34a69d",
   "metadata": {},
   "outputs": [
    {
     "data": {
      "text/plain": [
       "73"
      ]
     },
     "execution_count": 40,
     "metadata": {},
     "output_type": "execute_result"
    }
   ],
   "source": [
    "both = cgc.where('Role in Cancer', are.containing('oncogene')).where('Role in Cancer', are.containing('TSG'))\n",
    "both.num_rows"
   ]
  },
  {
   "cell_type": "code",
   "execution_count": 46,
   "id": "b5d22007",
   "metadata": {},
   "outputs": [
    {
     "data": {
      "text/plain": [
       "0.10013717421124829"
      ]
     },
     "execution_count": 46,
     "metadata": {},
     "output_type": "execute_result"
    }
   ],
   "source": [
    "both.num_rows/cgc.num_rows"
   ]
  },
  {
   "cell_type": "code",
   "execution_count": 35,
   "id": "22ed6f3a",
   "metadata": {},
   "outputs": [
    {
     "data": {
      "text/plain": [
       "365"
      ]
     },
     "execution_count": 35,
     "metadata": {},
     "output_type": "execute_result"
    }
   ],
   "source": [
    "fusion = cgc.where('Role in Cancer', are.containing('fusion'))\n",
    "fusion.num_rows"
   ]
  },
  {
   "cell_type": "code",
   "execution_count": 49,
   "id": "ef21dee6",
   "metadata": {},
   "outputs": [
    {
     "data": {
      "text/plain": [
       "0.5006858710562414"
      ]
     },
     "execution_count": 49,
     "metadata": {},
     "output_type": "execute_result"
    }
   ],
   "source": [
    "fusion.num_rows/cgc.num_rows"
   ]
  },
  {
   "cell_type": "code",
   "execution_count": 48,
   "id": "99b9cbc7",
   "metadata": {},
   "outputs": [
    {
     "data": {
      "text/plain": [
       "31"
      ]
     },
     "execution_count": 48,
     "metadata": {},
     "output_type": "execute_result"
    }
   ],
   "source": [
    "allThree = cgc.where('Role in Cancer', are.containing('oncogene')).where('Role in Cancer', are.containing('TSG')).where('Role in Cancer', are.containing('fusion'))\n",
    "allThree.num_rows"
   ]
  },
  {
   "cell_type": "code",
   "execution_count": 50,
   "id": "9a889b5b",
   "metadata": {},
   "outputs": [
    {
     "data": {
      "text/plain": [
       "0.04252400548696845"
      ]
     },
     "execution_count": 50,
     "metadata": {},
     "output_type": "execute_result"
    }
   ],
   "source": [
    "allThree.num_rows/cgc.num_rows"
   ]
  },
  {
   "cell_type": "code",
   "execution_count": 59,
   "id": "6309aba3",
   "metadata": {},
   "outputs": [
    {
     "data": {
      "text/plain": [
       "78"
      ]
     },
     "execution_count": 59,
     "metadata": {},
     "output_type": "execute_result"
    }
   ],
   "source": [
    "germlineTSGs = tsg.where('Germline', are.equal_to('yes'))\n",
    "germlineTSGs.num_rows"
   ]
  }
 ],
 "metadata": {
  "kernelspec": {
   "display_name": "Python 3",
   "language": "python",
   "name": "python3"
  },
  "language_info": {
   "codemirror_mode": {
    "name": "ipython",
    "version": 3
   },
   "file_extension": ".py",
   "mimetype": "text/x-python",
   "name": "python",
   "nbconvert_exporter": "python",
   "pygments_lexer": "ipython3",
   "version": "3.8.8"
  }
 },
 "nbformat": 4,
 "nbformat_minor": 5
}
