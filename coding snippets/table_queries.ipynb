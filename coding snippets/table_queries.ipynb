{
 "cells": [
  {
   "cell_type": "code",
   "execution_count": 5,
   "metadata": {},
   "outputs": [],
   "source": [
    "# Import everything from datascience, and import numpy, but call it \"np\"\n",
    "from datascience import *\n",
    "import numpy as np"
   ]
  },
  {
   "cell_type": "code",
   "execution_count": 10,
   "metadata": {},
   "outputs": [],
   "source": [
    "# Not super important for the example.  This cell sets up a table that we'll use further on in the code.\n",
    "names = ['zero', 'one', 'two', 'three',' four', 'five']\n",
    "values = np.arange(6)\n",
    "t = Table().with_columns('names', names, 'values',values)"
   ]
  },
  {
   "cell_type": "code",
   "execution_count": 28,
   "metadata": {},
   "outputs": [],
   "source": [
    "# Hmm... how do we select some values from the table?\n",
    "?t.select"
   ]
  },
  {
   "cell_type": "code",
   "execution_count": 29,
   "metadata": {},
   "outputs": [
    {
     "data": {
      "text/html": [
       "<table border=\"1\" class=\"dataframe\">\n",
       "    <thead>\n",
       "        <tr>\n",
       "            <th>names</th>\n",
       "        </tr>\n",
       "    </thead>\n",
       "    <tbody>\n",
       "        <tr>\n",
       "            <td>zero </td>\n",
       "        </tr>\n",
       "        <tr>\n",
       "            <td>one  </td>\n",
       "        </tr>\n",
       "        <tr>\n",
       "            <td>two  </td>\n",
       "        </tr>\n",
       "        <tr>\n",
       "            <td>three</td>\n",
       "        </tr>\n",
       "        <tr>\n",
       "            <td> four</td>\n",
       "        </tr>\n",
       "        <tr>\n",
       "            <td>five </td>\n",
       "        </tr>\n",
       "    </tbody>\n",
       "</table>"
      ],
      "text/plain": [
       "names\n",
       "zero\n",
       "one\n",
       "two\n",
       "three\n",
       " four\n",
       "five"
      ]
     },
     "execution_count": 29,
     "metadata": {},
     "output_type": "execute_result"
    }
   ],
   "source": [
    "t.select('names')"
   ]
  },
  {
   "cell_type": "code",
   "execution_count": 36,
   "metadata": {},
   "outputs": [
    {
     "data": {
      "text/plain": [
       "6"
      ]
     },
     "execution_count": 36,
     "metadata": {},
     "output_type": "execute_result"
    }
   ],
   "source": [
    "# Count the total number of rows\n",
    "t.num_rows"
   ]
  },
  {
   "cell_type": "code",
   "execution_count": 42,
   "metadata": {},
   "outputs": [],
   "source": [
    "# Access documentation for filtering rows from a table object\n",
    "?t.where"
   ]
  },
  {
   "cell_type": "code",
   "execution_count": 43,
   "metadata": {},
   "outputs": [],
   "source": [
    "# List all the filters that can be used with the .are object\n",
    "#  These are the functions that are called on the .are object to determine which rows are returned.\n",
    "?datascience.predicates.are"
   ]
  },
  {
   "cell_type": "code",
   "execution_count": 44,
   "metadata": {},
   "outputs": [
    {
     "data": {
      "text/html": [
       "<table border=\"1\" class=\"dataframe\">\n",
       "    <thead>\n",
       "        <tr>\n",
       "            <th>names</th> <th>values</th>\n",
       "        </tr>\n",
       "    </thead>\n",
       "    <tbody>\n",
       "        <tr>\n",
       "            <td>zero </td> <td>0     </td>\n",
       "        </tr>\n",
       "        <tr>\n",
       "            <td>one  </td> <td>1     </td>\n",
       "        </tr>\n",
       "        <tr>\n",
       "            <td>two  </td> <td>2     </td>\n",
       "        </tr>\n",
       "    </tbody>\n",
       "</table>"
      ],
      "text/plain": [
       "names | values\n",
       "zero  | 0\n",
       "one   | 1\n",
       "two   | 2"
      ]
     },
     "execution_count": 44,
     "metadata": {},
     "output_type": "execute_result"
    }
   ],
   "source": [
    "# Get the rows with values less than 3\n",
    "t.where('values', are.below(3))"
   ]
  },
  {
   "cell_type": "code",
   "execution_count": 53,
   "metadata": {},
   "outputs": [
    {
     "data": {
      "text/html": [
       "<table border=\"1\" class=\"dataframe\">\n",
       "    <thead>\n",
       "        <tr>\n",
       "            <th>names</th> <th>values</th>\n",
       "        </tr>\n",
       "    </thead>\n",
       "    <tbody>\n",
       "        <tr>\n",
       "            <td>two  </td> <td>2     </td>\n",
       "        </tr>\n",
       "        <tr>\n",
       "            <td>three</td> <td>3     </td>\n",
       "        </tr>\n",
       "    </tbody>\n",
       "</table>"
      ],
      "text/plain": [
       "<IPython.core.display.HTML object>"
      ]
     },
     "metadata": {},
     "output_type": "display_data"
    },
    {
     "name": "stdout",
     "output_type": "stream",
     "text": [
      "There are 2 rows with a name containing t\n"
     ]
    }
   ],
   "source": [
    "# Get the rows with names that contain a letter 't' and stick then in a variable called \"rows_with_t\"\n",
    "rows_with_t = t.where('names', are.containing('t'))\n",
    "# Show the table\n",
    "rows_with_t.show()\n",
    "# Ca\n",
    "num_rows_with_t = rows_with_t.num_rows\n",
    "print(f'There are {num_rows_with_t} rows with a name containing t')"
   ]
  },
  {
   "cell_type": "code",
   "execution_count": 47,
   "metadata": {},
   "outputs": [
    {
     "data": {
      "text/html": [
       "<table border=\"1\" class=\"dataframe\">\n",
       "    <thead>\n",
       "        <tr>\n",
       "            <th>names</th> <th>values</th>\n",
       "        </tr>\n",
       "    </thead>\n",
       "    <tbody>\n",
       "        <tr>\n",
       "            <td>two  </td> <td>2     </td>\n",
       "        </tr>\n",
       "    </tbody>\n",
       "</table>"
      ],
      "text/plain": [
       "names | values\n",
       "two   | 2"
      ]
     },
     "execution_count": 47,
     "metadata": {},
     "output_type": "execute_result"
    }
   ],
   "source": [
    "# Chain multiple filters together (get all rows with values less than 3 and also have a letter 't')\n",
    "t.where('names', are.containing('t')).where('values', are.below(3))"
   ]
  },
  {
   "cell_type": "code",
   "execution_count": null,
   "metadata": {},
   "outputs": [],
   "source": []
  }
 ],
 "metadata": {
  "kernelspec": {
   "display_name": "Python 3",
   "language": "python",
   "name": "python3"
  },
  "language_info": {
   "codemirror_mode": {
    "name": "ipython",
    "version": 3
   },
   "file_extension": ".py",
   "mimetype": "text/x-python",
   "name": "python",
   "nbconvert_exporter": "python",
   "pygments_lexer": "ipython3",
   "version": "3.6.7"
  }
 },
 "nbformat": 4,
 "nbformat_minor": 2
}
