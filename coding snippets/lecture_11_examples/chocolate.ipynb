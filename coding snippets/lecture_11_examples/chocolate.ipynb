{
 "cells": [
  {
   "cell_type": "code",
   "execution_count": 2,
   "metadata": {},
   "outputs": [
    {
     "data": {
      "text/plain": [
       "False"
      ]
     },
     "execution_count": 2,
     "metadata": {},
     "output_type": "execute_result"
    }
   ],
   "source": [
    "# Keep in mind that this is the function definition.  It is a blueprint for what WILL\n",
    "#  happen when we actually call the function.  The \"return\" function is essentially what\n",
    "#  the function evaluates to.  Now we can say....\n",
    "#  is_it_chocolate = is_chocolate('vanilla'), and is_it_chocolate == False due to the return value.\n",
    "#  Without the return keyword, nothing will really happen.  The logic will be evaluated and thrown away\n",
    "#  because it's not told to return the value.\n",
    "def is_chocolate(flavor):\n",
    "    return flavor == \"chocolate\"\n",
    "\n",
    "\n",
    "# Here, we're setting up variables that we can pass to the function.  We could also\n",
    "#  just pass the actual values \"vanilla\" and \"chocolate\" to the function without\n",
    "#  creating variables\n",
    "flavor1 = \"vanilla\"\n",
    "flavor2 = \"chocolate\"\n",
    "\n",
    "# Play with the value here.  What do you expect to happen?\n",
    "is_chocolate(flavor1)"
   ]
  },
  {
   "cell_type": "code",
   "execution_count": 6,
   "metadata": {},
   "outputs": [
    {
     "data": {
      "text/plain": [
       "5"
      ]
     },
     "execution_count": 6,
     "metadata": {},
     "output_type": "execute_result"
    }
   ],
   "source": [
    "def spread(values):\n",
    "    return max(values) - min(values)\n",
    "\n",
    "spread([5, 6, 7, 8, 9, 10])"
   ]
  },
  {
   "cell_type": "code",
   "execution_count": 4,
   "metadata": {},
   "outputs": [
    {
     "name": "stdout",
     "output_type": "stream",
     "text": [
      "igpay\n",
      "atinlay\n",
      "heorytay\n"
     ]
    }
   ],
   "source": [
    "def pig_latin(word):\n",
    "    return word[1:] + word[0] + \"ay\"\n",
    "\n",
    "print(pig_latin(\"pig\"))\n",
    "print(pig_latin(\"latin\"))\n",
    "\n",
    "# This one doesn't quite work because we didn't account for digraphs!\n",
    "print(pig_latin(\"theory\"))"
   ]
  },
  {
   "cell_type": "code",
   "execution_count": 11,
   "metadata": {},
   "outputs": [
    {
     "data": {
      "text/plain": [
       "9.0"
      ]
     },
     "execution_count": 11,
     "metadata": {},
     "output_type": "execute_result"
    }
   ],
   "source": [
    "def quadratic(x, a, b, c):\n",
    "    return a*x*x + b*x + c\n",
    "\n",
    "quadratic(1.0, 2.0, 3.0, 4.0)"
   ]
  },
  {
   "cell_type": "markdown",
   "metadata": {},
   "source": [
    "***Note -- I don't have access the to the data used to run the cells below.  If you try to run them, they will fail.***"
   ]
  },
  {
   "cell_type": "code",
   "execution_count": 12,
   "metadata": {},
   "outputs": [],
   "source": [
    "from datascience import *\n",
    "import numpy as np\n",
    "%matplotlib inline\n",
    "import matplotlib.pyplot as plots\n",
    "plots.style.use('fivethirtyeight')"
   ]
  },
  {
   "cell_type": "code",
   "execution_count": 17,
   "metadata": {},
   "outputs": [
    {
     "data": {
      "text/plain": [
       "array(['COOK, KYLIE NICHOLE', 'DUERINCK, RANDY KEITH',\n",
       "       'GRAHAM, CASSANDRA MICHELLE', 'HODGE, DEVIN JONATHAN MONROE',\n",
       "       'LINDEN, ANDREW RYAN', 'LYNN, MATTHEW MICHAEL',\n",
       "       'MARTINEZ, CARLI SABRINA', 'VERRANDO, FABIENNE ESTHER'],\n",
       "      dtype='<U28')"
      ]
     },
     "execution_count": 17,
     "metadata": {},
     "output_type": "execute_result"
    }
   ],
   "source": [
    "def upper(name):\n",
    "    return name.upper()\n",
    "\n",
    "favorite_numbers.apply(upper, 'Name')"
   ]
  },
  {
   "cell_type": "code",
   "execution_count": 18,
   "metadata": {},
   "outputs": [
    {
     "data": {
      "text/plain": [
       "array([ 4,  4,  2, 59,  2, 18, 20,  4])"
      ]
     },
     "execution_count": 18,
     "metadata": {},
     "output_type": "execute_result"
    }
   ],
   "source": [
    "def spread2(a, b):\n",
    "    return spread([a,b])\n",
    "\n",
    "favorite_numbers.apply(spread2, \"Number1\", \"Number2\")\n"
   ]
  },
  {
   "cell_type": "code",
   "execution_count": 15,
   "metadata": {},
   "outputs": [
    {
     "data": {
      "text/html": [
       "<table border=\"1\" class=\"dataframe\">\n",
       "    <thead>\n",
       "        <tr>\n",
       "            <th>Name</th> <th>Number1</th> <th>Number2</th>\n",
       "        </tr>\n",
       "    </thead>\n",
       "    <tbody>\n",
       "        <tr>\n",
       "            <td>Cook, Kylie Nichole         </td> <td>2      </td> <td>6      </td>\n",
       "        </tr>\n",
       "        <tr>\n",
       "            <td>Duerinck, Randy Keith       </td> <td>7      </td> <td>11     </td>\n",
       "        </tr>\n",
       "        <tr>\n",
       "            <td>Graham, Cassandra Michelle  </td> <td>4      </td> <td>6      </td>\n",
       "        </tr>\n",
       "        <tr>\n",
       "            <td>Hodge, Devin Jonathan Monroe</td> <td>75     </td> <td>16     </td>\n",
       "        </tr>\n",
       "        <tr>\n",
       "            <td>Linden, Andrew Ryan         </td> <td>3      </td> <td>5      </td>\n",
       "        </tr>\n",
       "        <tr>\n",
       "            <td>Lynn, Matthew Michael       </td> <td>26     </td> <td>8      </td>\n",
       "        </tr>\n",
       "        <tr>\n",
       "            <td>Martinez, Carli Sabrina     </td> <td>21     </td> <td>1      </td>\n",
       "        </tr>\n",
       "        <tr>\n",
       "            <td>Verrando, Fabienne Esther   </td> <td>20     </td> <td>24     </td>\n",
       "        </tr>\n",
       "    </tbody>\n",
       "</table>"
      ],
      "text/plain": [
       "Name                         | Number1 | Number2\n",
       "Cook, Kylie Nichole          | 2       | 6\n",
       "Duerinck, Randy Keith        | 7       | 11\n",
       "Graham, Cassandra Michelle   | 4       | 6\n",
       "Hodge, Devin Jonathan Monroe | 75      | 16\n",
       "Linden, Andrew Ryan          | 3       | 5\n",
       "Lynn, Matthew Michael        | 26      | 8\n",
       "Martinez, Carli Sabrina      | 21      | 1\n",
       "Verrando, Fabienne Esther    | 20      | 24"
      ]
     },
     "execution_count": 15,
     "metadata": {},
     "output_type": "execute_result"
    }
   ],
   "source": [
    "favorite_numbers = Table().read_table(\"favorite_numbers.csv\")\n",
    "favorite_numbers"
   ]
  },
  {
   "cell_type": "code",
   "execution_count": 19,
   "metadata": {},
   "outputs": [
    {
     "data": {
      "text/html": [
       "<table border=\"1\" class=\"dataframe\">\n",
       "    <thead>\n",
       "        <tr>\n",
       "            <th>Name</th> <th>Brand</th>\n",
       "        </tr>\n",
       "    </thead>\n",
       "    <tbody>\n",
       "        <tr>\n",
       "            <td>Cook, Kylie Nichole         </td> <td>Honda </td>\n",
       "        </tr>\n",
       "        <tr>\n",
       "            <td>Duerinck, Randy Keith       </td> <td>Chevy </td>\n",
       "        </tr>\n",
       "        <tr>\n",
       "            <td>Graham, Cassandra Michelle  </td> <td>Nissan</td>\n",
       "        </tr>\n",
       "        <tr>\n",
       "            <td>Hodge, Devin Jonathan Monroe</td> <td>Jeep  </td>\n",
       "        </tr>\n",
       "        <tr>\n",
       "            <td>Linden, Andrew Ryan         </td> <td>Toyota</td>\n",
       "        </tr>\n",
       "        <tr>\n",
       "            <td>Lynn, Matthew Michael       </td> <td>Audi  </td>\n",
       "        </tr>\n",
       "        <tr>\n",
       "            <td>Martinez, Carli Sabrina     </td> <td>Toyota</td>\n",
       "        </tr>\n",
       "        <tr>\n",
       "            <td>Verrando, Fabienne Esther   </td> <td>Nissan</td>\n",
       "        </tr>\n",
       "    </tbody>\n",
       "</table>"
      ],
      "text/plain": [
       "Name                         | Brand\n",
       "Cook, Kylie Nichole          | Honda\n",
       "Duerinck, Randy Keith        | Chevy\n",
       "Graham, Cassandra Michelle   | Nissan\n",
       "Hodge, Devin Jonathan Monroe | Jeep\n",
       "Linden, Andrew Ryan          | Toyota\n",
       "Lynn, Matthew Michael        | Audi\n",
       "Martinez, Carli Sabrina      | Toyota\n",
       "Verrando, Fabienne Esther    | Nissan"
      ]
     },
     "execution_count": 19,
     "metadata": {},
     "output_type": "execute_result"
    }
   ],
   "source": [
    "student_brands = Table().read_table(\"student_brands.csv\")\n",
    "student_brands"
   ]
  },
  {
   "cell_type": "code",
   "execution_count": 20,
   "metadata": {},
   "outputs": [
    {
     "data": {
      "text/html": [
       "<table border=\"1\" class=\"dataframe\">\n",
       "    <thead>\n",
       "        <tr>\n",
       "            <th>Brand</th> <th>Parts</th>\n",
       "        </tr>\n",
       "    </thead>\n",
       "    <tbody>\n",
       "        <tr>\n",
       "            <td>Honda </td> <td>International</td>\n",
       "        </tr>\n",
       "        <tr>\n",
       "            <td>Chevy </td> <td>Domestic     </td>\n",
       "        </tr>\n",
       "        <tr>\n",
       "            <td>Nissan</td> <td>International</td>\n",
       "        </tr>\n",
       "        <tr>\n",
       "            <td>Jeep  </td> <td>Domestic     </td>\n",
       "        </tr>\n",
       "        <tr>\n",
       "            <td>Toyota</td> <td>International</td>\n",
       "        </tr>\n",
       "        <tr>\n",
       "            <td>Audi  </td> <td>International</td>\n",
       "        </tr>\n",
       "    </tbody>\n",
       "</table>"
      ],
      "text/plain": [
       "Brand  | Parts\n",
       "Honda  | International\n",
       "Chevy  | Domestic\n",
       "Nissan | International\n",
       "Jeep   | Domestic\n",
       "Toyota | International\n",
       "Audi   | International"
      ]
     },
     "execution_count": 20,
     "metadata": {},
     "output_type": "execute_result"
    }
   ],
   "source": [
    "brands = Table().read_table(\"brands.csv\")\n",
    "brands"
   ]
  },
  {
   "cell_type": "code",
   "execution_count": 21,
   "metadata": {},
   "outputs": [
    {
     "data": {
      "text/html": [
       "<table border=\"1\" class=\"dataframe\">\n",
       "    <thead>\n",
       "        <tr>\n",
       "            <th>Brand</th> <th>Name</th> <th>Parts</th>\n",
       "        </tr>\n",
       "    </thead>\n",
       "    <tbody>\n",
       "        <tr>\n",
       "            <td>Audi  </td> <td>Lynn, Matthew Michael       </td> <td>International</td>\n",
       "        </tr>\n",
       "        <tr>\n",
       "            <td>Chevy </td> <td>Duerinck, Randy Keith       </td> <td>Domestic     </td>\n",
       "        </tr>\n",
       "        <tr>\n",
       "            <td>Honda </td> <td>Cook, Kylie Nichole         </td> <td>International</td>\n",
       "        </tr>\n",
       "        <tr>\n",
       "            <td>Jeep  </td> <td>Hodge, Devin Jonathan Monroe</td> <td>Domestic     </td>\n",
       "        </tr>\n",
       "        <tr>\n",
       "            <td>Nissan</td> <td>Graham, Cassandra Michelle  </td> <td>International</td>\n",
       "        </tr>\n",
       "        <tr>\n",
       "            <td>Nissan</td> <td>Verrando, Fabienne Esther   </td> <td>International</td>\n",
       "        </tr>\n",
       "        <tr>\n",
       "            <td>Toyota</td> <td>Linden, Andrew Ryan         </td> <td>International</td>\n",
       "        </tr>\n",
       "        <tr>\n",
       "            <td>Toyota</td> <td>Martinez, Carli Sabrina     </td> <td>International</td>\n",
       "        </tr>\n",
       "    </tbody>\n",
       "</table>"
      ],
      "text/plain": [
       "Brand  | Name                         | Parts\n",
       "Audi   | Lynn, Matthew Michael        | International\n",
       "Chevy  | Duerinck, Randy Keith        | Domestic\n",
       "Honda  | Cook, Kylie Nichole          | International\n",
       "Jeep   | Hodge, Devin Jonathan Monroe | Domestic\n",
       "Nissan | Graham, Cassandra Michelle   | International\n",
       "Nissan | Verrando, Fabienne Esther    | International\n",
       "Toyota | Linden, Andrew Ryan          | International\n",
       "Toyota | Martinez, Carli Sabrina      | International"
      ]
     },
     "execution_count": 21,
     "metadata": {},
     "output_type": "execute_result"
    }
   ],
   "source": [
    "joined_table = student_brands.join('Brand', brands, 'Brand')\n",
    "joined_table"
   ]
  },
  {
   "cell_type": "code",
   "execution_count": 22,
   "metadata": {},
   "outputs": [
    {
     "data": {
      "text/html": [
       "<table border=\"1\" class=\"dataframe\">\n",
       "    <thead>\n",
       "        <tr>\n",
       "            <th>Name</th> <th>Team</th> <th>Score</th>\n",
       "        </tr>\n",
       "    </thead>\n",
       "    <tbody>\n",
       "        <tr>\n",
       "            <td>Cook, Kylie Nichole         </td> <td>Blue</td> <td>34   </td>\n",
       "        </tr>\n",
       "        <tr>\n",
       "            <td>Duerinck, Randy Keith       </td> <td>Red </td> <td>64   </td>\n",
       "        </tr>\n",
       "        <tr>\n",
       "            <td>Graham, Cassandra Michelle  </td> <td>Red </td> <td>78   </td>\n",
       "        </tr>\n",
       "        <tr>\n",
       "            <td>Hodge, Devin Jonathan Monroe</td> <td>Blue</td> <td>11   </td>\n",
       "        </tr>\n",
       "        <tr>\n",
       "            <td>Linden, Andrew Ryan         </td> <td>Blue</td> <td>56   </td>\n",
       "        </tr>\n",
       "        <tr>\n",
       "            <td>Lynn, Matthew Michael       </td> <td>Blue</td> <td>58   </td>\n",
       "        </tr>\n",
       "        <tr>\n",
       "            <td>Martinez, Carli Sabrina     </td> <td>Red </td> <td>26   </td>\n",
       "        </tr>\n",
       "        <tr>\n",
       "            <td>Verrando, Fabienne Esther   </td> <td>Red </td> <td>42   </td>\n",
       "        </tr>\n",
       "    </tbody>\n",
       "</table>"
      ],
      "text/plain": [
       "Name                         | Team | Score\n",
       "Cook, Kylie Nichole          | Blue | 34\n",
       "Duerinck, Randy Keith        | Red  | 64\n",
       "Graham, Cassandra Michelle   | Red  | 78\n",
       "Hodge, Devin Jonathan Monroe | Blue | 11\n",
       "Linden, Andrew Ryan          | Blue | 56\n",
       "Lynn, Matthew Michael        | Blue | 58\n",
       "Martinez, Carli Sabrina      | Red  | 26\n",
       "Verrando, Fabienne Esther    | Red  | 42"
      ]
     },
     "execution_count": 22,
     "metadata": {},
     "output_type": "execute_result"
    }
   ],
   "source": [
    "lt_players = Table().read_table(\"lt_players.csv\")\n",
    "lt_players"
   ]
  },
  {
   "cell_type": "code",
   "execution_count": 23,
   "metadata": {},
   "outputs": [
    {
     "data": {
      "text/html": [
       "<table border=\"1\" class=\"dataframe\">\n",
       "    <thead>\n",
       "        <tr>\n",
       "            <th>Team</th> <th>Bonus</th>\n",
       "        </tr>\n",
       "    </thead>\n",
       "    <tbody>\n",
       "        <tr>\n",
       "            <td>Red </td> <td>11   </td>\n",
       "        </tr>\n",
       "        <tr>\n",
       "            <td>Blue</td> <td>22   </td>\n",
       "        </tr>\n",
       "    </tbody>\n",
       "</table>"
      ],
      "text/plain": [
       "Team | Bonus\n",
       "Red  | 11\n",
       "Blue | 22"
      ]
     },
     "execution_count": 23,
     "metadata": {},
     "output_type": "execute_result"
    }
   ],
   "source": [
    "lt_teams = Table().read_table(\"lt_teams.csv\")\n",
    "lt_teams\n"
   ]
  },
  {
   "cell_type": "code",
   "execution_count": 24,
   "metadata": {},
   "outputs": [
    {
     "data": {
      "text/html": [
       "<table border=\"1\" class=\"dataframe\">\n",
       "    <thead>\n",
       "        <tr>\n",
       "            <th>Team</th> <th>Name</th> <th>Score</th> <th>Bonus</th>\n",
       "        </tr>\n",
       "    </thead>\n",
       "    <tbody>\n",
       "        <tr>\n",
       "            <td>Blue</td> <td>Cook, Kylie Nichole         </td> <td>34   </td> <td>22   </td>\n",
       "        </tr>\n",
       "        <tr>\n",
       "            <td>Blue</td> <td>Hodge, Devin Jonathan Monroe</td> <td>11   </td> <td>22   </td>\n",
       "        </tr>\n",
       "        <tr>\n",
       "            <td>Blue</td> <td>Linden, Andrew Ryan         </td> <td>56   </td> <td>22   </td>\n",
       "        </tr>\n",
       "        <tr>\n",
       "            <td>Blue</td> <td>Lynn, Matthew Michael       </td> <td>58   </td> <td>22   </td>\n",
       "        </tr>\n",
       "        <tr>\n",
       "            <td>Red </td> <td>Duerinck, Randy Keith       </td> <td>64   </td> <td>11   </td>\n",
       "        </tr>\n",
       "        <tr>\n",
       "            <td>Red </td> <td>Graham, Cassandra Michelle  </td> <td>78   </td> <td>11   </td>\n",
       "        </tr>\n",
       "        <tr>\n",
       "            <td>Red </td> <td>Martinez, Carli Sabrina     </td> <td>26   </td> <td>11   </td>\n",
       "        </tr>\n",
       "        <tr>\n",
       "            <td>Red </td> <td>Verrando, Fabienne Esther   </td> <td>42   </td> <td>11   </td>\n",
       "        </tr>\n",
       "    </tbody>\n",
       "</table>"
      ],
      "text/plain": [
       "Team | Name                         | Score | Bonus\n",
       "Blue | Cook, Kylie Nichole          | 34    | 22\n",
       "Blue | Hodge, Devin Jonathan Monroe | 11    | 22\n",
       "Blue | Linden, Andrew Ryan          | 56    | 22\n",
       "Blue | Lynn, Matthew Michael        | 58    | 22\n",
       "Red  | Duerinck, Randy Keith        | 64    | 11\n",
       "Red  | Graham, Cassandra Michelle   | 78    | 11\n",
       "Red  | Martinez, Carli Sabrina      | 26    | 11\n",
       "Red  | Verrando, Fabienne Esther    | 42    | 11"
      ]
     },
     "execution_count": 24,
     "metadata": {},
     "output_type": "execute_result"
    }
   ],
   "source": [
    "lt_joined = lt_players.join(\"Team\", lt_teams, \"Team\")\n",
    "lt_joined"
   ]
  },
  {
   "cell_type": "code",
   "execution_count": 25,
   "metadata": {},
   "outputs": [
    {
     "data": {
      "text/plain": [
       "array([56, 33, 78, 80, 75, 89, 37, 53])"
      ]
     },
     "execution_count": 25,
     "metadata": {},
     "output_type": "execute_result"
    }
   ],
   "source": [
    "total_score = lt_joined.column(\"Score\") + lt_joined.column(\"Bonus\")\n",
    "total_score"
   ]
  },
  {
   "cell_type": "code",
   "execution_count": 26,
   "metadata": {},
   "outputs": [
    {
     "data": {
      "text/html": [
       "<table border=\"1\" class=\"dataframe\">\n",
       "    <thead>\n",
       "        <tr>\n",
       "            <th>Team</th> <th>Name</th> <th>Score</th> <th>Bonus</th> <th>Total Score</th>\n",
       "        </tr>\n",
       "    </thead>\n",
       "    <tbody>\n",
       "        <tr>\n",
       "            <td>Blue</td> <td>Cook, Kylie Nichole         </td> <td>34   </td> <td>22   </td> <td>56         </td>\n",
       "        </tr>\n",
       "        <tr>\n",
       "            <td>Blue</td> <td>Hodge, Devin Jonathan Monroe</td> <td>11   </td> <td>22   </td> <td>33         </td>\n",
       "        </tr>\n",
       "        <tr>\n",
       "            <td>Blue</td> <td>Linden, Andrew Ryan         </td> <td>56   </td> <td>22   </td> <td>78         </td>\n",
       "        </tr>\n",
       "        <tr>\n",
       "            <td>Blue</td> <td>Lynn, Matthew Michael       </td> <td>58   </td> <td>22   </td> <td>80         </td>\n",
       "        </tr>\n",
       "        <tr>\n",
       "            <td>Red </td> <td>Duerinck, Randy Keith       </td> <td>64   </td> <td>11   </td> <td>75         </td>\n",
       "        </tr>\n",
       "        <tr>\n",
       "            <td>Red </td> <td>Graham, Cassandra Michelle  </td> <td>78   </td> <td>11   </td> <td>89         </td>\n",
       "        </tr>\n",
       "        <tr>\n",
       "            <td>Red </td> <td>Martinez, Carli Sabrina     </td> <td>26   </td> <td>11   </td> <td>37         </td>\n",
       "        </tr>\n",
       "        <tr>\n",
       "            <td>Red </td> <td>Verrando, Fabienne Esther   </td> <td>42   </td> <td>11   </td> <td>53         </td>\n",
       "        </tr>\n",
       "    </tbody>\n",
       "</table>"
      ],
      "text/plain": [
       "Team | Name                         | Score | Bonus | Total Score\n",
       "Blue | Cook, Kylie Nichole          | 34    | 22    | 56\n",
       "Blue | Hodge, Devin Jonathan Monroe | 11    | 22    | 33\n",
       "Blue | Linden, Andrew Ryan          | 56    | 22    | 78\n",
       "Blue | Lynn, Matthew Michael        | 58    | 22    | 80\n",
       "Red  | Duerinck, Randy Keith        | 64    | 11    | 75\n",
       "Red  | Graham, Cassandra Michelle   | 78    | 11    | 89\n",
       "Red  | Martinez, Carli Sabrina      | 26    | 11    | 37\n",
       "Red  | Verrando, Fabienne Esther    | 42    | 11    | 53"
      ]
     },
     "execution_count": 26,
     "metadata": {},
     "output_type": "execute_result"
    }
   ],
   "source": [
    "lt_joined.with_column(\"Total Score\", total_score)"
   ]
  },
  {
   "cell_type": "code",
   "execution_count": null,
   "metadata": {},
   "outputs": [],
   "source": []
  }
 ],
 "metadata": {
  "kernelspec": {
   "display_name": "Python 3",
   "language": "python",
   "name": "python3"
  },
  "language_info": {
   "codemirror_mode": {
    "name": "ipython",
    "version": 3
   },
   "file_extension": ".py",
   "mimetype": "text/x-python",
   "name": "python",
   "nbconvert_exporter": "python",
   "pygments_lexer": "ipython3",
   "version": "3.6.7"
  }
 },
 "nbformat": 4,
 "nbformat_minor": 2
}
