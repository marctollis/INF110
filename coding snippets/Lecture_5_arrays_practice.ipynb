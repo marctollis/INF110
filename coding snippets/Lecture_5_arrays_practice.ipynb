{
 "cells": [
  {
   "cell_type": "code",
   "execution_count": 1,
   "id": "23e96df4",
   "metadata": {},
   "outputs": [],
   "source": [
    "# don't forget import statements:\n",
    "from datascience import *\n",
    "import numpy as np"
   ]
  },
  {
   "cell_type": "code",
   "execution_count": 5,
   "id": "5a04e125",
   "metadata": {},
   "outputs": [],
   "source": [
    "# let's create an array\n",
    "stooges = make_array(\"larry\",\"moe\",\"curly\",\"shepp\")"
   ]
  },
  {
   "cell_type": "code",
   "execution_count": 6,
   "id": "d3ced7c1",
   "metadata": {},
   "outputs": [
    {
     "data": {
      "text/plain": [
       "'curly'"
      ]
     },
     "execution_count": 6,
     "metadata": {},
     "output_type": "execute_result"
    }
   ],
   "source": [
    "#let's retrieve something from the array using indexing\n",
    "stooges[2]"
   ]
  },
  {
   "cell_type": "code",
   "execution_count": 15,
   "id": "686892dc",
   "metadata": {},
   "outputs": [
    {
     "data": {
      "text/plain": [
       "99"
      ]
     },
     "execution_count": 15,
     "metadata": {},
     "output_type": "execute_result"
    }
   ],
   "source": [
    "# create a range using np.arange()\n",
    "range = np.arange(0,1000,10)\n",
    "np.count_nonzero(range)\n",
    "# how would you get this to return 100 items \n",
    "# (meaning include the 990 to 1000 interval)?\n"
   ]
  }
 ],
 "metadata": {
  "kernelspec": {
   "display_name": "Python 3",
   "language": "python",
   "name": "python3"
  },
  "language_info": {
   "codemirror_mode": {
    "name": "ipython",
    "version": 3
   },
   "file_extension": ".py",
   "mimetype": "text/x-python",
   "name": "python",
   "nbconvert_exporter": "python",
   "pygments_lexer": "ipython3",
   "version": "3.8.8"
  }
 },
 "nbformat": 4,
 "nbformat_minor": 5
}
