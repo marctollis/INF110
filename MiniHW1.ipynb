{
 "cells": [
  {
   "cell_type": "code",
   "execution_count": null,
   "metadata": {},
   "outputs": [],
   "source": [
    "# This is an example of how to set up a function.  It includes the \"def\" keyword, a name, and a \n",
    "#  parameter with a default value.  This function simply prints the parameter in reverse.\n",
    "def example_function(input_value='Hello World!'):\n",
    "    # Syntax for reversing a list\n",
    "    print(input_value[::-1])\n",
    "    \n",
    "# Note that if we don't supply a value for the parameter, the function uses the default value.\n",
    "example_function()\n",
    "\n",
    "# By default, parameters are assigned in the same order that they are specified.\n",
    "example_function(\"This is an example of passing a parameter by position.\")\n",
    "\n",
    "# We can also specify the name of the variable to which we want to assign a value.\n",
    "example_function(input_value=\"This is an example of passing a parameter by name.\")\n",
    "\n",
    "# Note that we don't have to stick with any particular data type here, but the success of our function depends\n",
    "#  on passing an iterable / subscriptable type like a list or a string.\n",
    "example_function([1,2,3,4,5])"
   ]
  },
  {
   "cell_type": "code",
   "execution_count": null,
   "metadata": {},
   "outputs": [],
   "source": [
    "# Unlike the function above, this function uses the \"return\" keyword.  The return keyword\n",
    "#  ends the function by returning a value, and nothing within the same conditional branch can occur\n",
    "#  after a return statement.\n",
    "\n",
    "def function_with_output():\n",
    "    return 42"
   ]
  },
  {
   "cell_type": "code",
   "execution_count": null,
   "metadata": {},
   "outputs": [],
   "source": [
    "#  Calling two functions and assigning the output to variables a and b.\n",
    "a = function_with_output()\n",
    "b = example_function()\n",
    "\n",
    "#  Printing the output of the two functions.  Since the first function has output (has a return statement),\n",
    "#   it is stored in the variable.  The second function doesn't have a return statement, so its return value / output\n",
    "#   is simply \"None.\"\n",
    "print(a)\n",
    "print(b)"
   ]
  },
  {
   "cell_type": "code",
   "execution_count": null,
   "metadata": {},
   "outputs": [],
   "source": [
    "#  We get an error here!  Explain what's going wrong by editing the text cell below.\n",
    "example_function(2)"
   ]
  },
  {
   "cell_type": "markdown",
   "metadata": {},
   "source": [
    "**Question \\#1**\n",
    "\n",
    "Explain why we get an error in the cell above.\n",
    "\n",
    "Your text here "
   ]
  },
  {
   "cell_type": "markdown",
   "metadata": {},
   "source": [
    "**Question \\#2**\n",
    "\n",
    "Defining a function and calling a function are very different actions.  Explain the difference.\n",
    "\n",
    "Your text here"
   ]
  },
  {
   "cell_type": "markdown",
   "metadata": {},
   "source": [
    "**Question \\#3**\n",
    "\n",
    "Complete the function definition below."
   ]
  },
  {
   "cell_type": "code",
   "execution_count": null,
   "metadata": {},
   "outputs": [],
   "source": [
    "def sum_of_two_numbers(num1, num2):\n",
    "    return ...\n",
    "    "
   ]
  },
  {
   "cell_type": "markdown",
   "metadata": {},
   "source": [
    "**Question \\#4**\n",
    "\n",
    "Call the sum_of_two_numbers function that you defined."
   ]
  },
  {
   "cell_type": "code",
   "execution_count": null,
   "metadata": {},
   "outputs": [],
   "source": [
    "# Your code here\n",
    "output = ..."
   ]
  },
  {
   "cell_type": "markdown",
   "metadata": {},
   "source": [
    "**Question \\#5**\n",
    "\n",
    "I'm trying to calculate the product of a list, but I can't seem to get any output from the function!\n",
    "What am I doing wrong?"
   ]
  },
  {
   "cell_type": "code",
   "execution_count": null,
   "metadata": {},
   "outputs": [],
   "source": [
    "def prod(input_list):\n",
    "    output = 1\n",
    "    # This is a loop! It walks through an iterable data type like a list such that \"item\" takes on each value\n",
    "    #  in whatever iterable is provided.  This is shorthand for saying item = input_list[0], performing a calculation,\n",
    "    #  then item = input_list[1], performing a calculation, etc.  Keep in mind that any operation within the indented\n",
    "    #  block will be repeated every time we iterate through the for loop.\n",
    "    for item in input_list:\n",
    "        output = output * item\n",
    "        \n",
    "print(prod([1,2,3,4,5]))"
   ]
  },
  {
   "cell_type": "markdown",
   "metadata": {},
   "source": [
    "Your text here."
   ]
  }
 ],
 "metadata": {
  "kernelspec": {
   "display_name": "Python 3",
   "language": "python",
   "name": "python3"
  },
  "language_info": {
   "codemirror_mode": {
    "name": "ipython",
    "version": 3
   },
   "file_extension": ".py",
   "mimetype": "text/x-python",
   "name": "python",
   "nbconvert_exporter": "python",
   "pygments_lexer": "ipython3",
   "version": "3.6.7"
  }
 },
 "nbformat": 4,
 "nbformat_minor": 2
}
